{
  "nbformat": 4,
  "nbformat_minor": 0,
  "metadata": {
    "colab": {
      "name": "ML.ipynb",
      "provenance": [],
      "collapsed_sections": [
        "MMY5X_-4ttU3",
        "VcliC4LuxH9n"
      ],
      "include_colab_link": true
    },
    "kernelspec": {
      "name": "python3",
      "display_name": "Python 3"
    },
    "language_info": {
      "name": "python"
    }
  },
  "cells": [
    {
      "cell_type": "markdown",
      "metadata": {
        "id": "view-in-github",
        "colab_type": "text"
      },
      "source": [
        "<a href=\"https://colab.research.google.com/github/aianshay/sales-time-series/blob/main/neural_net_svm.ipynb\" target=\"_parent\"><img src=\"https://colab.research.google.com/assets/colab-badge.svg\" alt=\"Open In Colab\"/></a>"
      ]
    },
    {
      "cell_type": "code",
      "source": [
        "!pip install yfinance --upgrade --no-cache-dir"
      ],
      "metadata": {
        "colab": {
          "base_uri": "https://localhost:8080/"
        },
        "id": "HoSe4yP3yVqf",
        "outputId": "dabeaff2-403d-42ef-9682-1fc914332435"
      },
      "execution_count": 3,
      "outputs": [
        {
          "output_type": "stream",
          "name": "stdout",
          "text": [
            "Collecting yfinance\n",
            "  Downloading yfinance-0.1.70-py2.py3-none-any.whl (26 kB)\n",
            "Requirement already satisfied: multitasking>=0.0.7 in /usr/local/lib/python3.7/dist-packages (from yfinance) (0.0.10)\n",
            "Requirement already satisfied: pandas>=0.24.0 in /usr/local/lib/python3.7/dist-packages (from yfinance) (1.3.5)\n",
            "Collecting lxml>=4.5.1\n",
            "  Downloading lxml-4.8.0-cp37-cp37m-manylinux_2_17_x86_64.manylinux2014_x86_64.manylinux_2_24_x86_64.whl (6.4 MB)\n",
            "\u001b[K     |████████████████████████████████| 6.4 MB 5.0 MB/s \n",
            "\u001b[?25hCollecting requests>=2.26\n",
            "  Downloading requests-2.27.1-py2.py3-none-any.whl (63 kB)\n",
            "\u001b[K     |████████████████████████████████| 63 kB 38.8 MB/s \n",
            "\u001b[?25hRequirement already satisfied: numpy>=1.15 in /usr/local/lib/python3.7/dist-packages (from yfinance) (1.21.5)\n",
            "Requirement already satisfied: python-dateutil>=2.7.3 in /usr/local/lib/python3.7/dist-packages (from pandas>=0.24.0->yfinance) (2.8.2)\n",
            "Requirement already satisfied: pytz>=2017.3 in /usr/local/lib/python3.7/dist-packages (from pandas>=0.24.0->yfinance) (2018.9)\n",
            "Requirement already satisfied: six>=1.5 in /usr/local/lib/python3.7/dist-packages (from python-dateutil>=2.7.3->pandas>=0.24.0->yfinance) (1.15.0)\n",
            "Requirement already satisfied: charset-normalizer~=2.0.0 in /usr/local/lib/python3.7/dist-packages (from requests>=2.26->yfinance) (2.0.12)\n",
            "Requirement already satisfied: urllib3<1.27,>=1.21.1 in /usr/local/lib/python3.7/dist-packages (from requests>=2.26->yfinance) (1.24.3)\n",
            "Requirement already satisfied: certifi>=2017.4.17 in /usr/local/lib/python3.7/dist-packages (from requests>=2.26->yfinance) (2021.10.8)\n",
            "Requirement already satisfied: idna<4,>=2.5 in /usr/local/lib/python3.7/dist-packages (from requests>=2.26->yfinance) (2.10)\n",
            "Installing collected packages: requests, lxml, yfinance\n",
            "  Attempting uninstall: requests\n",
            "    Found existing installation: requests 2.23.0\n",
            "    Uninstalling requests-2.23.0:\n",
            "      Successfully uninstalled requests-2.23.0\n",
            "  Attempting uninstall: lxml\n",
            "    Found existing installation: lxml 4.2.6\n",
            "    Uninstalling lxml-4.2.6:\n",
            "      Successfully uninstalled lxml-4.2.6\n",
            "\u001b[31mERROR: pip's dependency resolver does not currently take into account all the packages that are installed. This behaviour is the source of the following dependency conflicts.\n",
            "google-colab 1.0.0 requires requests~=2.23.0, but you have requests 2.27.1 which is incompatible.\n",
            "datascience 0.10.6 requires folium==0.2.1, but you have folium 0.8.3 which is incompatible.\u001b[0m\n",
            "Successfully installed lxml-4.8.0 requests-2.27.1 yfinance-0.1.70\n"
          ]
        }
      ]
    },
    {
      "cell_type": "code",
      "source": [
        "!pip install -U statsmodels"
      ],
      "metadata": {
        "colab": {
          "base_uri": "https://localhost:8080/"
        },
        "id": "9CwJTuSoZCCm",
        "outputId": "4f3a411d-e06b-4d95-cb95-10524d3e7a66"
      },
      "execution_count": 4,
      "outputs": [
        {
          "output_type": "stream",
          "name": "stdout",
          "text": [
            "Requirement already satisfied: statsmodels in /usr/local/lib/python3.7/dist-packages (0.10.2)\n",
            "Collecting statsmodels\n",
            "  Downloading statsmodels-0.13.2-cp37-cp37m-manylinux_2_17_x86_64.manylinux2014_x86_64.whl (9.8 MB)\n",
            "\u001b[K     |████████████████████████████████| 9.8 MB 4.4 MB/s \n",
            "\u001b[?25hRequirement already satisfied: patsy>=0.5.2 in /usr/local/lib/python3.7/dist-packages (from statsmodels) (0.5.2)\n",
            "Requirement already satisfied: pandas>=0.25 in /usr/local/lib/python3.7/dist-packages (from statsmodels) (1.3.5)\n",
            "Requirement already satisfied: scipy>=1.3 in /usr/local/lib/python3.7/dist-packages (from statsmodels) (1.4.1)\n",
            "Requirement already satisfied: packaging>=21.3 in /usr/local/lib/python3.7/dist-packages (from statsmodels) (21.3)\n",
            "Requirement already satisfied: numpy>=1.17 in /usr/local/lib/python3.7/dist-packages (from statsmodels) (1.21.5)\n",
            "Requirement already satisfied: pyparsing!=3.0.5,>=2.0.2 in /usr/local/lib/python3.7/dist-packages (from packaging>=21.3->statsmodels) (3.0.8)\n",
            "Requirement already satisfied: pytz>=2017.3 in /usr/local/lib/python3.7/dist-packages (from pandas>=0.25->statsmodels) (2018.9)\n",
            "Requirement already satisfied: python-dateutil>=2.7.3 in /usr/local/lib/python3.7/dist-packages (from pandas>=0.25->statsmodels) (2.8.2)\n",
            "Requirement already satisfied: six in /usr/local/lib/python3.7/dist-packages (from patsy>=0.5.2->statsmodels) (1.15.0)\n",
            "Installing collected packages: statsmodels\n",
            "  Attempting uninstall: statsmodels\n",
            "    Found existing installation: statsmodels 0.10.2\n",
            "    Uninstalling statsmodels-0.10.2:\n",
            "      Successfully uninstalled statsmodels-0.10.2\n",
            "Successfully installed statsmodels-0.13.2\n"
          ]
        }
      ]
    },
    {
      "cell_type": "markdown",
      "source": [
        "# Imports"
      ],
      "metadata": {
        "id": "NSrMGhR9s_v2"
      }
    },
    {
      "cell_type": "code",
      "source": [
        "import yfinance as yf\n",
        "\n",
        "from google.colab import drive\n",
        "\n",
        "from sklearn.model_selection import cross_val_score, train_test_split, TimeSeriesSplit\n",
        "from sklearn.metrics import mean_absolute_error, mean_squared_error, mean_absolute_percentage_error\n",
        "\n",
        "import statsmodels.api as sm\n",
        "import statsmodels.tsa.api as tsa\n",
        "from statsmodels.graphics.tsaplots import plot_acf, plot_pacf \n",
        "\n",
        "import pandas as pd\n",
        "import numpy as np\n",
        "\n",
        "import matplotlib.pyplot as plt\n",
        "import matplotlib as mpl"
      ],
      "metadata": {
        "id": "Fmmj1pQDuMD2"
      },
      "execution_count": 2,
      "outputs": []
    },
    {
      "cell_type": "code",
      "source": [
        "mpl.rcParams['figure.figsize'] = [10, 5]\n",
        "drive.mount('/content/drive')"
      ],
      "metadata": {
        "id": "_zQCZr1F1g9D",
        "colab": {
          "base_uri": "https://localhost:8080/"
        },
        "outputId": "0b0d3baf-1ac7-482e-b8d0-d8ba1645048d"
      },
      "execution_count": 6,
      "outputs": [
        {
          "output_type": "stream",
          "name": "stdout",
          "text": [
            "Mounted at /content/drive\n"
          ]
        }
      ]
    },
    {
      "cell_type": "markdown",
      "source": [
        "# Loading data"
      ],
      "metadata": {
        "id": "-6635inK7kq0"
      }
    },
    {
      "cell_type": "code",
      "source": [
        "sales = pd.read_csv('/content/drive/MyDrive/data/store-sales/train.csv')\n",
        "sales.head()"
      ],
      "metadata": {
        "id": "Sra7uu3vuloy",
        "colab": {
          "base_uri": "https://localhost:8080/",
          "height": 206
        },
        "outputId": "0d2647f4-3c76-4f1d-c904-66f303850b66"
      },
      "execution_count": 3,
      "outputs": [
        {
          "output_type": "execute_result",
          "data": {
            "text/plain": [
              "   id        date  store_nbr      family  sales  onpromotion\n",
              "0   0  2013-01-01          1  AUTOMOTIVE    0.0            0\n",
              "1   1  2013-01-01          1   BABY CARE    0.0            0\n",
              "2   2  2013-01-01          1      BEAUTY    0.0            0\n",
              "3   3  2013-01-01          1   BEVERAGES    0.0            0\n",
              "4   4  2013-01-01          1       BOOKS    0.0            0"
            ],
            "text/html": [
              "\n",
              "  <div id=\"df-e911245f-7e73-4329-82ce-a2e94e94b3a5\">\n",
              "    <div class=\"colab-df-container\">\n",
              "      <div>\n",
              "<style scoped>\n",
              "    .dataframe tbody tr th:only-of-type {\n",
              "        vertical-align: middle;\n",
              "    }\n",
              "\n",
              "    .dataframe tbody tr th {\n",
              "        vertical-align: top;\n",
              "    }\n",
              "\n",
              "    .dataframe thead th {\n",
              "        text-align: right;\n",
              "    }\n",
              "</style>\n",
              "<table border=\"1\" class=\"dataframe\">\n",
              "  <thead>\n",
              "    <tr style=\"text-align: right;\">\n",
              "      <th></th>\n",
              "      <th>id</th>\n",
              "      <th>date</th>\n",
              "      <th>store_nbr</th>\n",
              "      <th>family</th>\n",
              "      <th>sales</th>\n",
              "      <th>onpromotion</th>\n",
              "    </tr>\n",
              "  </thead>\n",
              "  <tbody>\n",
              "    <tr>\n",
              "      <th>0</th>\n",
              "      <td>0</td>\n",
              "      <td>2013-01-01</td>\n",
              "      <td>1</td>\n",
              "      <td>AUTOMOTIVE</td>\n",
              "      <td>0.0</td>\n",
              "      <td>0</td>\n",
              "    </tr>\n",
              "    <tr>\n",
              "      <th>1</th>\n",
              "      <td>1</td>\n",
              "      <td>2013-01-01</td>\n",
              "      <td>1</td>\n",
              "      <td>BABY CARE</td>\n",
              "      <td>0.0</td>\n",
              "      <td>0</td>\n",
              "    </tr>\n",
              "    <tr>\n",
              "      <th>2</th>\n",
              "      <td>2</td>\n",
              "      <td>2013-01-01</td>\n",
              "      <td>1</td>\n",
              "      <td>BEAUTY</td>\n",
              "      <td>0.0</td>\n",
              "      <td>0</td>\n",
              "    </tr>\n",
              "    <tr>\n",
              "      <th>3</th>\n",
              "      <td>3</td>\n",
              "      <td>2013-01-01</td>\n",
              "      <td>1</td>\n",
              "      <td>BEVERAGES</td>\n",
              "      <td>0.0</td>\n",
              "      <td>0</td>\n",
              "    </tr>\n",
              "    <tr>\n",
              "      <th>4</th>\n",
              "      <td>4</td>\n",
              "      <td>2013-01-01</td>\n",
              "      <td>1</td>\n",
              "      <td>BOOKS</td>\n",
              "      <td>0.0</td>\n",
              "      <td>0</td>\n",
              "    </tr>\n",
              "  </tbody>\n",
              "</table>\n",
              "</div>\n",
              "      <button class=\"colab-df-convert\" onclick=\"convertToInteractive('df-e911245f-7e73-4329-82ce-a2e94e94b3a5')\"\n",
              "              title=\"Convert this dataframe to an interactive table.\"\n",
              "              style=\"display:none;\">\n",
              "        \n",
              "  <svg xmlns=\"http://www.w3.org/2000/svg\" height=\"24px\"viewBox=\"0 0 24 24\"\n",
              "       width=\"24px\">\n",
              "    <path d=\"M0 0h24v24H0V0z\" fill=\"none\"/>\n",
              "    <path d=\"M18.56 5.44l.94 2.06.94-2.06 2.06-.94-2.06-.94-.94-2.06-.94 2.06-2.06.94zm-11 1L8.5 8.5l.94-2.06 2.06-.94-2.06-.94L8.5 2.5l-.94 2.06-2.06.94zm10 10l.94 2.06.94-2.06 2.06-.94-2.06-.94-.94-2.06-.94 2.06-2.06.94z\"/><path d=\"M17.41 7.96l-1.37-1.37c-.4-.4-.92-.59-1.43-.59-.52 0-1.04.2-1.43.59L10.3 9.45l-7.72 7.72c-.78.78-.78 2.05 0 2.83L4 21.41c.39.39.9.59 1.41.59.51 0 1.02-.2 1.41-.59l7.78-7.78 2.81-2.81c.8-.78.8-2.07 0-2.86zM5.41 20L4 18.59l7.72-7.72 1.47 1.35L5.41 20z\"/>\n",
              "  </svg>\n",
              "      </button>\n",
              "      \n",
              "  <style>\n",
              "    .colab-df-container {\n",
              "      display:flex;\n",
              "      flex-wrap:wrap;\n",
              "      gap: 12px;\n",
              "    }\n",
              "\n",
              "    .colab-df-convert {\n",
              "      background-color: #E8F0FE;\n",
              "      border: none;\n",
              "      border-radius: 50%;\n",
              "      cursor: pointer;\n",
              "      display: none;\n",
              "      fill: #1967D2;\n",
              "      height: 32px;\n",
              "      padding: 0 0 0 0;\n",
              "      width: 32px;\n",
              "    }\n",
              "\n",
              "    .colab-df-convert:hover {\n",
              "      background-color: #E2EBFA;\n",
              "      box-shadow: 0px 1px 2px rgba(60, 64, 67, 0.3), 0px 1px 3px 1px rgba(60, 64, 67, 0.15);\n",
              "      fill: #174EA6;\n",
              "    }\n",
              "\n",
              "    [theme=dark] .colab-df-convert {\n",
              "      background-color: #3B4455;\n",
              "      fill: #D2E3FC;\n",
              "    }\n",
              "\n",
              "    [theme=dark] .colab-df-convert:hover {\n",
              "      background-color: #434B5C;\n",
              "      box-shadow: 0px 1px 3px 1px rgba(0, 0, 0, 0.15);\n",
              "      filter: drop-shadow(0px 1px 2px rgba(0, 0, 0, 0.3));\n",
              "      fill: #FFFFFF;\n",
              "    }\n",
              "  </style>\n",
              "\n",
              "      <script>\n",
              "        const buttonEl =\n",
              "          document.querySelector('#df-e911245f-7e73-4329-82ce-a2e94e94b3a5 button.colab-df-convert');\n",
              "        buttonEl.style.display =\n",
              "          google.colab.kernel.accessAllowed ? 'block' : 'none';\n",
              "\n",
              "        async function convertToInteractive(key) {\n",
              "          const element = document.querySelector('#df-e911245f-7e73-4329-82ce-a2e94e94b3a5');\n",
              "          const dataTable =\n",
              "            await google.colab.kernel.invokeFunction('convertToInteractive',\n",
              "                                                     [key], {});\n",
              "          if (!dataTable) return;\n",
              "\n",
              "          const docLinkHtml = 'Like what you see? Visit the ' +\n",
              "            '<a target=\"_blank\" href=https://colab.research.google.com/notebooks/data_table.ipynb>data table notebook</a>'\n",
              "            + ' to learn more about interactive tables.';\n",
              "          element.innerHTML = '';\n",
              "          dataTable['output_type'] = 'display_data';\n",
              "          await google.colab.output.renderOutput(dataTable, element);\n",
              "          const docLink = document.createElement('div');\n",
              "          docLink.innerHTML = docLinkHtml;\n",
              "          element.appendChild(docLink);\n",
              "        }\n",
              "      </script>\n",
              "    </div>\n",
              "  </div>\n",
              "  "
            ]
          },
          "metadata": {},
          "execution_count": 3
        }
      ]
    },
    {
      "cell_type": "code",
      "source": [
        "sales.shape"
      ],
      "metadata": {
        "colab": {
          "base_uri": "https://localhost:8080/"
        },
        "id": "9_CZdF8i9mX4",
        "outputId": "ac4d090c-21ce-4a8b-df6f-f667e63dfe82"
      },
      "execution_count": 4,
      "outputs": [
        {
          "output_type": "execute_result",
          "data": {
            "text/plain": [
              "(3000888, 6)"
            ]
          },
          "metadata": {},
          "execution_count": 4
        }
      ]
    },
    {
      "cell_type": "markdown",
      "source": [
        "# Preprocessing"
      ],
      "metadata": {
        "id": "qegii2BOCEjF"
      }
    },
    {
      "cell_type": "code",
      "source": [
        "ts = sales.query('store_nbr == 1 and family == \"PERSONAL CARE\"')"
      ],
      "metadata": {
        "id": "VyWouHz_vV5j"
      },
      "execution_count": 5,
      "outputs": []
    },
    {
      "cell_type": "code",
      "source": [
        "ts = ts.drop(columns=['id', 'store_nbr', 'family', 'onpromotion'])"
      ],
      "metadata": {
        "id": "cPpC-_TICNHq"
      },
      "execution_count": 6,
      "outputs": []
    },
    {
      "cell_type": "code",
      "source": [
        "ts.shape"
      ],
      "metadata": {
        "id": "nETIEpQW3tQb",
        "outputId": "202cea1d-740e-4d2d-a665-6034ead3b9b5",
        "colab": {
          "base_uri": "https://localhost:8080/"
        }
      },
      "execution_count": 7,
      "outputs": [
        {
          "output_type": "execute_result",
          "data": {
            "text/plain": [
              "(1684, 2)"
            ]
          },
          "metadata": {},
          "execution_count": 7
        }
      ]
    },
    {
      "cell_type": "code",
      "source": [
        "ts.head()"
      ],
      "metadata": {
        "colab": {
          "base_uri": "https://localhost:8080/",
          "height": 206
        },
        "id": "mBVNN0GLCOQ-",
        "outputId": "070ba0db-0bb2-4d5e-e4a4-6e0ffe65eb41"
      },
      "execution_count": 8,
      "outputs": [
        {
          "output_type": "execute_result",
          "data": {
            "text/plain": [
              "            date  sales\n",
              "25    2013-01-01    0.0\n",
              "1807  2013-01-02  194.0\n",
              "3589  2013-01-03  153.0\n",
              "5371  2013-01-04   88.0\n",
              "7153  2013-01-05  141.0"
            ],
            "text/html": [
              "\n",
              "  <div id=\"df-624a38ec-4461-4682-84bd-26d473065279\">\n",
              "    <div class=\"colab-df-container\">\n",
              "      <div>\n",
              "<style scoped>\n",
              "    .dataframe tbody tr th:only-of-type {\n",
              "        vertical-align: middle;\n",
              "    }\n",
              "\n",
              "    .dataframe tbody tr th {\n",
              "        vertical-align: top;\n",
              "    }\n",
              "\n",
              "    .dataframe thead th {\n",
              "        text-align: right;\n",
              "    }\n",
              "</style>\n",
              "<table border=\"1\" class=\"dataframe\">\n",
              "  <thead>\n",
              "    <tr style=\"text-align: right;\">\n",
              "      <th></th>\n",
              "      <th>date</th>\n",
              "      <th>sales</th>\n",
              "    </tr>\n",
              "  </thead>\n",
              "  <tbody>\n",
              "    <tr>\n",
              "      <th>25</th>\n",
              "      <td>2013-01-01</td>\n",
              "      <td>0.0</td>\n",
              "    </tr>\n",
              "    <tr>\n",
              "      <th>1807</th>\n",
              "      <td>2013-01-02</td>\n",
              "      <td>194.0</td>\n",
              "    </tr>\n",
              "    <tr>\n",
              "      <th>3589</th>\n",
              "      <td>2013-01-03</td>\n",
              "      <td>153.0</td>\n",
              "    </tr>\n",
              "    <tr>\n",
              "      <th>5371</th>\n",
              "      <td>2013-01-04</td>\n",
              "      <td>88.0</td>\n",
              "    </tr>\n",
              "    <tr>\n",
              "      <th>7153</th>\n",
              "      <td>2013-01-05</td>\n",
              "      <td>141.0</td>\n",
              "    </tr>\n",
              "  </tbody>\n",
              "</table>\n",
              "</div>\n",
              "      <button class=\"colab-df-convert\" onclick=\"convertToInteractive('df-624a38ec-4461-4682-84bd-26d473065279')\"\n",
              "              title=\"Convert this dataframe to an interactive table.\"\n",
              "              style=\"display:none;\">\n",
              "        \n",
              "  <svg xmlns=\"http://www.w3.org/2000/svg\" height=\"24px\"viewBox=\"0 0 24 24\"\n",
              "       width=\"24px\">\n",
              "    <path d=\"M0 0h24v24H0V0z\" fill=\"none\"/>\n",
              "    <path d=\"M18.56 5.44l.94 2.06.94-2.06 2.06-.94-2.06-.94-.94-2.06-.94 2.06-2.06.94zm-11 1L8.5 8.5l.94-2.06 2.06-.94-2.06-.94L8.5 2.5l-.94 2.06-2.06.94zm10 10l.94 2.06.94-2.06 2.06-.94-2.06-.94-.94-2.06-.94 2.06-2.06.94z\"/><path d=\"M17.41 7.96l-1.37-1.37c-.4-.4-.92-.59-1.43-.59-.52 0-1.04.2-1.43.59L10.3 9.45l-7.72 7.72c-.78.78-.78 2.05 0 2.83L4 21.41c.39.39.9.59 1.41.59.51 0 1.02-.2 1.41-.59l7.78-7.78 2.81-2.81c.8-.78.8-2.07 0-2.86zM5.41 20L4 18.59l7.72-7.72 1.47 1.35L5.41 20z\"/>\n",
              "  </svg>\n",
              "      </button>\n",
              "      \n",
              "  <style>\n",
              "    .colab-df-container {\n",
              "      display:flex;\n",
              "      flex-wrap:wrap;\n",
              "      gap: 12px;\n",
              "    }\n",
              "\n",
              "    .colab-df-convert {\n",
              "      background-color: #E8F0FE;\n",
              "      border: none;\n",
              "      border-radius: 50%;\n",
              "      cursor: pointer;\n",
              "      display: none;\n",
              "      fill: #1967D2;\n",
              "      height: 32px;\n",
              "      padding: 0 0 0 0;\n",
              "      width: 32px;\n",
              "    }\n",
              "\n",
              "    .colab-df-convert:hover {\n",
              "      background-color: #E2EBFA;\n",
              "      box-shadow: 0px 1px 2px rgba(60, 64, 67, 0.3), 0px 1px 3px 1px rgba(60, 64, 67, 0.15);\n",
              "      fill: #174EA6;\n",
              "    }\n",
              "\n",
              "    [theme=dark] .colab-df-convert {\n",
              "      background-color: #3B4455;\n",
              "      fill: #D2E3FC;\n",
              "    }\n",
              "\n",
              "    [theme=dark] .colab-df-convert:hover {\n",
              "      background-color: #434B5C;\n",
              "      box-shadow: 0px 1px 3px 1px rgba(0, 0, 0, 0.15);\n",
              "      filter: drop-shadow(0px 1px 2px rgba(0, 0, 0, 0.3));\n",
              "      fill: #FFFFFF;\n",
              "    }\n",
              "  </style>\n",
              "\n",
              "      <script>\n",
              "        const buttonEl =\n",
              "          document.querySelector('#df-624a38ec-4461-4682-84bd-26d473065279 button.colab-df-convert');\n",
              "        buttonEl.style.display =\n",
              "          google.colab.kernel.accessAllowed ? 'block' : 'none';\n",
              "\n",
              "        async function convertToInteractive(key) {\n",
              "          const element = document.querySelector('#df-624a38ec-4461-4682-84bd-26d473065279');\n",
              "          const dataTable =\n",
              "            await google.colab.kernel.invokeFunction('convertToInteractive',\n",
              "                                                     [key], {});\n",
              "          if (!dataTable) return;\n",
              "\n",
              "          const docLinkHtml = 'Like what you see? Visit the ' +\n",
              "            '<a target=\"_blank\" href=https://colab.research.google.com/notebooks/data_table.ipynb>data table notebook</a>'\n",
              "            + ' to learn more about interactive tables.';\n",
              "          element.innerHTML = '';\n",
              "          dataTable['output_type'] = 'display_data';\n",
              "          await google.colab.output.renderOutput(dataTable, element);\n",
              "          const docLink = document.createElement('div');\n",
              "          docLink.innerHTML = docLinkHtml;\n",
              "          element.appendChild(docLink);\n",
              "        }\n",
              "      </script>\n",
              "    </div>\n",
              "  </div>\n",
              "  "
            ]
          },
          "metadata": {},
          "execution_count": 8
        }
      ]
    },
    {
      "cell_type": "code",
      "source": [
        "ts.index = ts.date\n",
        "ts = ts.drop(columns='date')\n",
        "\n",
        "ts.head()"
      ],
      "metadata": {
        "colab": {
          "base_uri": "https://localhost:8080/",
          "height": 238
        },
        "id": "fypSpJNiF9jQ",
        "outputId": "bd3b0f00-a620-49e1-dce1-a98c17c6039e"
      },
      "execution_count": 9,
      "outputs": [
        {
          "output_type": "execute_result",
          "data": {
            "text/plain": [
              "            sales\n",
              "date             \n",
              "2013-01-01    0.0\n",
              "2013-01-02  194.0\n",
              "2013-01-03  153.0\n",
              "2013-01-04   88.0\n",
              "2013-01-05  141.0"
            ],
            "text/html": [
              "\n",
              "  <div id=\"df-dbda2675-6b0b-46fe-9a0f-d89de1cb0ee8\">\n",
              "    <div class=\"colab-df-container\">\n",
              "      <div>\n",
              "<style scoped>\n",
              "    .dataframe tbody tr th:only-of-type {\n",
              "        vertical-align: middle;\n",
              "    }\n",
              "\n",
              "    .dataframe tbody tr th {\n",
              "        vertical-align: top;\n",
              "    }\n",
              "\n",
              "    .dataframe thead th {\n",
              "        text-align: right;\n",
              "    }\n",
              "</style>\n",
              "<table border=\"1\" class=\"dataframe\">\n",
              "  <thead>\n",
              "    <tr style=\"text-align: right;\">\n",
              "      <th></th>\n",
              "      <th>sales</th>\n",
              "    </tr>\n",
              "    <tr>\n",
              "      <th>date</th>\n",
              "      <th></th>\n",
              "    </tr>\n",
              "  </thead>\n",
              "  <tbody>\n",
              "    <tr>\n",
              "      <th>2013-01-01</th>\n",
              "      <td>0.0</td>\n",
              "    </tr>\n",
              "    <tr>\n",
              "      <th>2013-01-02</th>\n",
              "      <td>194.0</td>\n",
              "    </tr>\n",
              "    <tr>\n",
              "      <th>2013-01-03</th>\n",
              "      <td>153.0</td>\n",
              "    </tr>\n",
              "    <tr>\n",
              "      <th>2013-01-04</th>\n",
              "      <td>88.0</td>\n",
              "    </tr>\n",
              "    <tr>\n",
              "      <th>2013-01-05</th>\n",
              "      <td>141.0</td>\n",
              "    </tr>\n",
              "  </tbody>\n",
              "</table>\n",
              "</div>\n",
              "      <button class=\"colab-df-convert\" onclick=\"convertToInteractive('df-dbda2675-6b0b-46fe-9a0f-d89de1cb0ee8')\"\n",
              "              title=\"Convert this dataframe to an interactive table.\"\n",
              "              style=\"display:none;\">\n",
              "        \n",
              "  <svg xmlns=\"http://www.w3.org/2000/svg\" height=\"24px\"viewBox=\"0 0 24 24\"\n",
              "       width=\"24px\">\n",
              "    <path d=\"M0 0h24v24H0V0z\" fill=\"none\"/>\n",
              "    <path d=\"M18.56 5.44l.94 2.06.94-2.06 2.06-.94-2.06-.94-.94-2.06-.94 2.06-2.06.94zm-11 1L8.5 8.5l.94-2.06 2.06-.94-2.06-.94L8.5 2.5l-.94 2.06-2.06.94zm10 10l.94 2.06.94-2.06 2.06-.94-2.06-.94-.94-2.06-.94 2.06-2.06.94z\"/><path d=\"M17.41 7.96l-1.37-1.37c-.4-.4-.92-.59-1.43-.59-.52 0-1.04.2-1.43.59L10.3 9.45l-7.72 7.72c-.78.78-.78 2.05 0 2.83L4 21.41c.39.39.9.59 1.41.59.51 0 1.02-.2 1.41-.59l7.78-7.78 2.81-2.81c.8-.78.8-2.07 0-2.86zM5.41 20L4 18.59l7.72-7.72 1.47 1.35L5.41 20z\"/>\n",
              "  </svg>\n",
              "      </button>\n",
              "      \n",
              "  <style>\n",
              "    .colab-df-container {\n",
              "      display:flex;\n",
              "      flex-wrap:wrap;\n",
              "      gap: 12px;\n",
              "    }\n",
              "\n",
              "    .colab-df-convert {\n",
              "      background-color: #E8F0FE;\n",
              "      border: none;\n",
              "      border-radius: 50%;\n",
              "      cursor: pointer;\n",
              "      display: none;\n",
              "      fill: #1967D2;\n",
              "      height: 32px;\n",
              "      padding: 0 0 0 0;\n",
              "      width: 32px;\n",
              "    }\n",
              "\n",
              "    .colab-df-convert:hover {\n",
              "      background-color: #E2EBFA;\n",
              "      box-shadow: 0px 1px 2px rgba(60, 64, 67, 0.3), 0px 1px 3px 1px rgba(60, 64, 67, 0.15);\n",
              "      fill: #174EA6;\n",
              "    }\n",
              "\n",
              "    [theme=dark] .colab-df-convert {\n",
              "      background-color: #3B4455;\n",
              "      fill: #D2E3FC;\n",
              "    }\n",
              "\n",
              "    [theme=dark] .colab-df-convert:hover {\n",
              "      background-color: #434B5C;\n",
              "      box-shadow: 0px 1px 3px 1px rgba(0, 0, 0, 0.15);\n",
              "      filter: drop-shadow(0px 1px 2px rgba(0, 0, 0, 0.3));\n",
              "      fill: #FFFFFF;\n",
              "    }\n",
              "  </style>\n",
              "\n",
              "      <script>\n",
              "        const buttonEl =\n",
              "          document.querySelector('#df-dbda2675-6b0b-46fe-9a0f-d89de1cb0ee8 button.colab-df-convert');\n",
              "        buttonEl.style.display =\n",
              "          google.colab.kernel.accessAllowed ? 'block' : 'none';\n",
              "\n",
              "        async function convertToInteractive(key) {\n",
              "          const element = document.querySelector('#df-dbda2675-6b0b-46fe-9a0f-d89de1cb0ee8');\n",
              "          const dataTable =\n",
              "            await google.colab.kernel.invokeFunction('convertToInteractive',\n",
              "                                                     [key], {});\n",
              "          if (!dataTable) return;\n",
              "\n",
              "          const docLinkHtml = 'Like what you see? Visit the ' +\n",
              "            '<a target=\"_blank\" href=https://colab.research.google.com/notebooks/data_table.ipynb>data table notebook</a>'\n",
              "            + ' to learn more about interactive tables.';\n",
              "          element.innerHTML = '';\n",
              "          dataTable['output_type'] = 'display_data';\n",
              "          await google.colab.output.renderOutput(dataTable, element);\n",
              "          const docLink = document.createElement('div');\n",
              "          docLink.innerHTML = docLinkHtml;\n",
              "          element.appendChild(docLink);\n",
              "        }\n",
              "      </script>\n",
              "    </div>\n",
              "  </div>\n",
              "  "
            ]
          },
          "metadata": {},
          "execution_count": 9
        }
      ]
    },
    {
      "cell_type": "code",
      "source": [
        "ts.shape"
      ],
      "metadata": {
        "id": "j1mde0W2vX7r",
        "colab": {
          "base_uri": "https://localhost:8080/"
        },
        "outputId": "11802889-7efa-4009-a4db-c538f5f09404"
      },
      "execution_count": 10,
      "outputs": [
        {
          "output_type": "execute_result",
          "data": {
            "text/plain": [
              "(1684, 1)"
            ]
          },
          "metadata": {},
          "execution_count": 10
        }
      ]
    },
    {
      "cell_type": "code",
      "source": [
        "ts.isna().sum()"
      ],
      "metadata": {
        "id": "ZuM7gr3XvqQ9",
        "colab": {
          "base_uri": "https://localhost:8080/"
        },
        "outputId": "1c3db0be-4855-4174-cc9d-d80b184ece07"
      },
      "execution_count": 11,
      "outputs": [
        {
          "output_type": "execute_result",
          "data": {
            "text/plain": [
              "sales    0\n",
              "dtype: int64"
            ]
          },
          "metadata": {},
          "execution_count": 11
        }
      ]
    },
    {
      "cell_type": "code",
      "source": [
        "ts.plot()"
      ],
      "metadata": {
        "id": "WOeWlc9OwaCe",
        "colab": {
          "base_uri": "https://localhost:8080/",
          "height": 296
        },
        "outputId": "18fe774f-0f7a-4faa-92e7-93f5ed15e32f"
      },
      "execution_count": 12,
      "outputs": [
        {
          "output_type": "execute_result",
          "data": {
            "text/plain": [
              "<matplotlib.axes._subplots.AxesSubplot at 0x7fd94f834b90>"
            ]
          },
          "metadata": {},
          "execution_count": 12
        },
        {
          "output_type": "display_data",
          "data": {
            "text/plain": [
              "<Figure size 432x288 with 1 Axes>"
            ],
            "image/png": "[encoded data removed]"
          },
          "metadata": {
            "needs_background": "light"
          }
        }
      ]
    },
    {
      "cell_type": "code",
      "source": [
        "sales_train, sales_test = train_test_split(ts, test_size=0.5, shuffle=False)\n",
        "sales_test, sales_val = train_test_split(sales_test, test_size=0.5, shuffle=False)"
      ],
      "metadata": {
        "id": "OTj9tUkyFsRi"
      },
      "execution_count": 13,
      "outputs": []
    },
    {
      "cell_type": "code",
      "source": [
        "sales_train"
      ],
      "metadata": {
        "colab": {
          "base_uri": "https://localhost:8080/",
          "height": 455
        },
        "id": "_yHqZDemG6CG",
        "outputId": "3be38a8e-2ec7-4e3e-e96f-274e1702c538"
      },
      "execution_count": 18,
      "outputs": [
        {
          "output_type": "execute_result",
          "data": {
            "text/plain": [
              "            sales\n",
              "date             \n",
              "2013-01-01    0.0\n",
              "2013-01-02  194.0\n",
              "2013-01-03  153.0\n",
              "2013-01-04   88.0\n",
              "2013-01-05  141.0\n",
              "...           ...\n",
              "2015-04-20  151.0\n",
              "2015-04-21  153.0\n",
              "2015-04-22  150.0\n",
              "2015-04-23  123.0\n",
              "2015-04-24  119.0\n",
              "\n",
              "[842 rows x 1 columns]"
            ],
            "text/html": [
              "\n",
              "  <div id=\"df-60b205b8-d0d6-4aca-811d-123da37e14a9\">\n",
              "    <div class=\"colab-df-container\">\n",
              "      <div>\n",
              "<style scoped>\n",
              "    .dataframe tbody tr th:only-of-type {\n",
              "        vertical-align: middle;\n",
              "    }\n",
              "\n",
              "    .dataframe tbody tr th {\n",
              "        vertical-align: top;\n",
              "    }\n",
              "\n",
              "    .dataframe thead th {\n",
              "        text-align: right;\n",
              "    }\n",
              "</style>\n",
              "<table border=\"1\" class=\"dataframe\">\n",
              "  <thead>\n",
              "    <tr style=\"text-align: right;\">\n",
              "      <th></th>\n",
              "      <th>sales</th>\n",
              "    </tr>\n",
              "    <tr>\n",
              "      <th>date</th>\n",
              "      <th></th>\n",
              "    </tr>\n",
              "  </thead>\n",
              "  <tbody>\n",
              "    <tr>\n",
              "      <th>2013-01-01</th>\n",
              "      <td>0.0</td>\n",
              "    </tr>\n",
              "    <tr>\n",
              "      <th>2013-01-02</th>\n",
              "      <td>194.0</td>\n",
              "    </tr>\n",
              "    <tr>\n",
              "      <th>2013-01-03</th>\n",
              "      <td>153.0</td>\n",
              "    </tr>\n",
              "    <tr>\n",
              "      <th>2013-01-04</th>\n",
              "      <td>88.0</td>\n",
              "    </tr>\n",
              "    <tr>\n",
              "      <th>2013-01-05</th>\n",
              "      <td>141.0</td>\n",
              "    </tr>\n",
              "    <tr>\n",
              "      <th>...</th>\n",
              "      <td>...</td>\n",
              "    </tr>\n",
              "    <tr>\n",
              "      <th>2015-04-20</th>\n",
              "      <td>151.0</td>\n",
              "    </tr>\n",
              "    <tr>\n",
              "      <th>2015-04-21</th>\n",
              "      <td>153.0</td>\n",
              "    </tr>\n",
              "    <tr>\n",
              "      <th>2015-04-22</th>\n",
              "      <td>150.0</td>\n",
              "    </tr>\n",
              "    <tr>\n",
              "      <th>2015-04-23</th>\n",
              "      <td>123.0</td>\n",
              "    </tr>\n",
              "    <tr>\n",
              "      <th>2015-04-24</th>\n",
              "      <td>119.0</td>\n",
              "    </tr>\n",
              "  </tbody>\n",
              "</table>\n",
              "<p>842 rows × 1 columns</p>\n",
              "</div>\n",
              "      <button class=\"colab-df-convert\" onclick=\"convertToInteractive('df-60b205b8-d0d6-4aca-811d-123da37e14a9')\"\n",
              "              title=\"Convert this dataframe to an interactive table.\"\n",
              "              style=\"display:none;\">\n",
              "        \n",
              "  <svg xmlns=\"http://www.w3.org/2000/svg\" height=\"24px\"viewBox=\"0 0 24 24\"\n",
              "       width=\"24px\">\n",
              "    <path d=\"M0 0h24v24H0V0z\" fill=\"none\"/>\n",
              "    <path d=\"M18.56 5.44l.94 2.06.94-2.06 2.06-.94-2.06-.94-.94-2.06-.94 2.06-2.06.94zm-11 1L8.5 8.5l.94-2.06 2.06-.94-2.06-.94L8.5 2.5l-.94 2.06-2.06.94zm10 10l.94 2.06.94-2.06 2.06-.94-2.06-.94-.94-2.06-.94 2.06-2.06.94z\"/><path d=\"M17.41 7.96l-1.37-1.37c-.4-.4-.92-.59-1.43-.59-.52 0-1.04.2-1.43.59L10.3 9.45l-7.72 7.72c-.78.78-.78 2.05 0 2.83L4 21.41c.39.39.9.59 1.41.59.51 0 1.02-.2 1.41-.59l7.78-7.78 2.81-2.81c.8-.78.8-2.07 0-2.86zM5.41 20L4 18.59l7.72-7.72 1.47 1.35L5.41 20z\"/>\n",
              "  </svg>\n",
              "      </button>\n",
              "      \n",
              "  <style>\n",
              "    .colab-df-container {\n",
              "      display:flex;\n",
              "      flex-wrap:wrap;\n",
              "      gap: 12px;\n",
              "    }\n",
              "\n",
              "    .colab-df-convert {\n",
              "      background-color: #E8F0FE;\n",
              "      border: none;\n",
              "      border-radius: 50%;\n",
              "      cursor: pointer;\n",
              "      display: none;\n",
              "      fill: #1967D2;\n",
              "      height: 32px;\n",
              "      padding: 0 0 0 0;\n",
              "      width: 32px;\n",
              "    }\n",
              "\n",
              "    .colab-df-convert:hover {\n",
              "      background-color: #E2EBFA;\n",
              "      box-shadow: 0px 1px 2px rgba(60, 64, 67, 0.3), 0px 1px 3px 1px rgba(60, 64, 67, 0.15);\n",
              "      fill: #174EA6;\n",
              "    }\n",
              "\n",
              "    [theme=dark] .colab-df-convert {\n",
              "      background-color: #3B4455;\n",
              "      fill: #D2E3FC;\n",
              "    }\n",
              "\n",
              "    [theme=dark] .colab-df-convert:hover {\n",
              "      background-color: #434B5C;\n",
              "      box-shadow: 0px 1px 3px 1px rgba(0, 0, 0, 0.15);\n",
              "      filter: drop-shadow(0px 1px 2px rgba(0, 0, 0, 0.3));\n",
              "      fill: #FFFFFF;\n",
              "    }\n",
              "  </style>\n",
              "\n",
              "      <script>\n",
              "        const buttonEl =\n",
              "          document.querySelector('#df-60b205b8-d0d6-4aca-811d-123da37e14a9 button.colab-df-convert');\n",
              "        buttonEl.style.display =\n",
              "          google.colab.kernel.accessAllowed ? 'block' : 'none';\n",
              "\n",
              "        async function convertToInteractive(key) {\n",
              "          const element = document.querySelector('#df-60b205b8-d0d6-4aca-811d-123da37e14a9');\n",
              "          const dataTable =\n",
              "            await google.colab.kernel.invokeFunction('convertToInteractive',\n",
              "                                                     [key], {});\n",
              "          if (!dataTable) return;\n",
              "\n",
              "          const docLinkHtml = 'Like what you see? Visit the ' +\n",
              "            '<a target=\"_blank\" href=https://colab.research.google.com/notebooks/data_table.ipynb>data table notebook</a>'\n",
              "            + ' to learn more about interactive tables.';\n",
              "          element.innerHTML = '';\n",
              "          dataTable['output_type'] = 'display_data';\n",
              "          await google.colab.output.renderOutput(dataTable, element);\n",
              "          const docLink = document.createElement('div');\n",
              "          docLink.innerHTML = docLinkHtml;\n",
              "          element.appendChild(docLink);\n",
              "        }\n",
              "      </script>\n",
              "    </div>\n",
              "  </div>\n",
              "  "
            ]
          },
          "metadata": {},
          "execution_count": 18
        }
      ]
    },
    {
      "cell_type": "code",
      "source": [
        "sales_test"
      ],
      "metadata": {
        "id": "odwGQ1quF8nd",
        "outputId": "9049df79-1852-4c4c-f19f-4398cbf55ffb",
        "colab": {
          "base_uri": "https://localhost:8080/",
          "height": 455
        }
      },
      "execution_count": 19,
      "outputs": [
        {
          "output_type": "execute_result",
          "data": {
            "text/plain": [
              "            sales\n",
              "date             \n",
              "2015-04-25  150.0\n",
              "2015-04-26   47.0\n",
              "2015-04-27  124.0\n",
              "2015-04-28  122.0\n",
              "2015-04-29  114.0\n",
              "...           ...\n",
              "2016-06-15  163.0\n",
              "2016-06-16  144.0\n",
              "2016-06-17  121.0\n",
              "2016-06-18  133.0\n",
              "2016-06-19   77.0\n",
              "\n",
              "[421 rows x 1 columns]"
            ],
            "text/html": [
              "\n",
              "  <div id=\"df-09b1fb64-393c-4074-9506-9d8618722dd5\">\n",
              "    <div class=\"colab-df-container\">\n",
              "      <div>\n",
              "<style scoped>\n",
              "    .dataframe tbody tr th:only-of-type {\n",
              "        vertical-align: middle;\n",
              "    }\n",
              "\n",
              "    .dataframe tbody tr th {\n",
              "        vertical-align: top;\n",
              "    }\n",
              "\n",
              "    .dataframe thead th {\n",
              "        text-align: right;\n",
              "    }\n",
              "</style>\n",
              "<table border=\"1\" class=\"dataframe\">\n",
              "  <thead>\n",
              "    <tr style=\"text-align: right;\">\n",
              "      <th></th>\n",
              "      <th>sales</th>\n",
              "    </tr>\n",
              "    <tr>\n",
              "      <th>date</th>\n",
              "      <th></th>\n",
              "    </tr>\n",
              "  </thead>\n",
              "  <tbody>\n",
              "    <tr>\n",
              "      <th>2015-04-25</th>\n",
              "      <td>150.0</td>\n",
              "    </tr>\n",
              "    <tr>\n",
              "      <th>2015-04-26</th>\n",
              "      <td>47.0</td>\n",
              "    </tr>\n",
              "    <tr>\n",
              "      <th>2015-04-27</th>\n",
              "      <td>124.0</td>\n",
              "    </tr>\n",
              "    <tr>\n",
              "      <th>2015-04-28</th>\n",
              "      <td>122.0</td>\n",
              "    </tr>\n",
              "    <tr>\n",
              "      <th>2015-04-29</th>\n",
              "      <td>114.0</td>\n",
              "    </tr>\n",
              "    <tr>\n",
              "      <th>...</th>\n",
              "      <td>...</td>\n",
              "    </tr>\n",
              "    <tr>\n",
              "      <th>2016-06-15</th>\n",
              "      <td>163.0</td>\n",
              "    </tr>\n",
              "    <tr>\n",
              "      <th>2016-06-16</th>\n",
              "      <td>144.0</td>\n",
              "    </tr>\n",
              "    <tr>\n",
              "      <th>2016-06-17</th>\n",
              "      <td>121.0</td>\n",
              "    </tr>\n",
              "    <tr>\n",
              "      <th>2016-06-18</th>\n",
              "      <td>133.0</td>\n",
              "    </tr>\n",
              "    <tr>\n",
              "      <th>2016-06-19</th>\n",
              "      <td>77.0</td>\n",
              "    </tr>\n",
              "  </tbody>\n",
              "</table>\n",
              "<p>421 rows × 1 columns</p>\n",
              "</div>\n",
              "      <button class=\"colab-df-convert\" onclick=\"convertToInteractive('df-09b1fb64-393c-4074-9506-9d8618722dd5')\"\n",
              "              title=\"Convert this dataframe to an interactive table.\"\n",
              "              style=\"display:none;\">\n",
              "        \n",
              "  <svg xmlns=\"http://www.w3.org/2000/svg\" height=\"24px\"viewBox=\"0 0 24 24\"\n",
              "       width=\"24px\">\n",
              "    <path d=\"M0 0h24v24H0V0z\" fill=\"none\"/>\n",
              "    <path d=\"M18.56 5.44l.94 2.06.94-2.06 2.06-.94-2.06-.94-.94-2.06-.94 2.06-2.06.94zm-11 1L8.5 8.5l.94-2.06 2.06-.94-2.06-.94L8.5 2.5l-.94 2.06-2.06.94zm10 10l.94 2.06.94-2.06 2.06-.94-2.06-.94-.94-2.06-.94 2.06-2.06.94z\"/><path d=\"M17.41 7.96l-1.37-1.37c-.4-.4-.92-.59-1.43-.59-.52 0-1.04.2-1.43.59L10.3 9.45l-7.72 7.72c-.78.78-.78 2.05 0 2.83L4 21.41c.39.39.9.59 1.41.59.51 0 1.02-.2 1.41-.59l7.78-7.78 2.81-2.81c.8-.78.8-2.07 0-2.86zM5.41 20L4 18.59l7.72-7.72 1.47 1.35L5.41 20z\"/>\n",
              "  </svg>\n",
              "      </button>\n",
              "      \n",
              "  <style>\n",
              "    .colab-df-container {\n",
              "      display:flex;\n",
              "      flex-wrap:wrap;\n",
              "      gap: 12px;\n",
              "    }\n",
              "\n",
              "    .colab-df-convert {\n",
              "      background-color: #E8F0FE;\n",
              "      border: none;\n",
              "      border-radius: 50%;\n",
              "      cursor: pointer;\n",
              "      display: none;\n",
              "      fill: #1967D2;\n",
              "      height: 32px;\n",
              "      padding: 0 0 0 0;\n",
              "      width: 32px;\n",
              "    }\n",
              "\n",
              "    .colab-df-convert:hover {\n",
              "      background-color: #E2EBFA;\n",
              "      box-shadow: 0px 1px 2px rgba(60, 64, 67, 0.3), 0px 1px 3px 1px rgba(60, 64, 67, 0.15);\n",
              "      fill: #174EA6;\n",
              "    }\n",
              "\n",
              "    [theme=dark] .colab-df-convert {\n",
              "      background-color: #3B4455;\n",
              "      fill: #D2E3FC;\n",
              "    }\n",
              "\n",
              "    [theme=dark] .colab-df-convert:hover {\n",
              "      background-color: #434B5C;\n",
              "      box-shadow: 0px 1px 3px 1px rgba(0, 0, 0, 0.15);\n",
              "      filter: drop-shadow(0px 1px 2px rgba(0, 0, 0, 0.3));\n",
              "      fill: #FFFFFF;\n",
              "    }\n",
              "  </style>\n",
              "\n",
              "      <script>\n",
              "        const buttonEl =\n",
              "          document.querySelector('#df-09b1fb64-393c-4074-9506-9d8618722dd5 button.colab-df-convert');\n",
              "        buttonEl.style.display =\n",
              "          google.colab.kernel.accessAllowed ? 'block' : 'none';\n",
              "\n",
              "        async function convertToInteractive(key) {\n",
              "          const element = document.querySelector('#df-09b1fb64-393c-4074-9506-9d8618722dd5');\n",
              "          const dataTable =\n",
              "            await google.colab.kernel.invokeFunction('convertToInteractive',\n",
              "                                                     [key], {});\n",
              "          if (!dataTable) return;\n",
              "\n",
              "          const docLinkHtml = 'Like what you see? Visit the ' +\n",
              "            '<a target=\"_blank\" href=https://colab.research.google.com/notebooks/data_table.ipynb>data table notebook</a>'\n",
              "            + ' to learn more about interactive tables.';\n",
              "          element.innerHTML = '';\n",
              "          dataTable['output_type'] = 'display_data';\n",
              "          await google.colab.output.renderOutput(dataTable, element);\n",
              "          const docLink = document.createElement('div');\n",
              "          docLink.innerHTML = docLinkHtml;\n",
              "          element.appendChild(docLink);\n",
              "        }\n",
              "      </script>\n",
              "    </div>\n",
              "  </div>\n",
              "  "
            ]
          },
          "metadata": {},
          "execution_count": 19
        }
      ]
    },
    {
      "cell_type": "code",
      "source": [
        "sales_val"
      ],
      "metadata": {
        "id": "sX4YwWfaF-Xs",
        "outputId": "57a441f5-385a-4c83-b801-e4396b13ee59",
        "colab": {
          "base_uri": "https://localhost:8080/",
          "height": 455
        }
      },
      "execution_count": 20,
      "outputs": [
        {
          "output_type": "execute_result",
          "data": {
            "text/plain": [
              "            sales\n",
              "date             \n",
              "2016-06-20  258.0\n",
              "2016-06-21  116.0\n",
              "2016-06-22  153.0\n",
              "2016-06-23  154.0\n",
              "2016-06-24  111.0\n",
              "...           ...\n",
              "2017-08-11   53.0\n",
              "2017-08-12  227.0\n",
              "2017-08-13   45.0\n",
              "2017-08-14  159.0\n",
              "2017-08-15  173.0\n",
              "\n",
              "[421 rows x 1 columns]"
            ],
            "text/html": [
              "\n",
              "  <div id=\"df-b3fd4518-6ce2-4583-b8f0-670239a6b87d\">\n",
              "    <div class=\"colab-df-container\">\n",
              "      <div>\n",
              "<style scoped>\n",
              "    .dataframe tbody tr th:only-of-type {\n",
              "        vertical-align: middle;\n",
              "    }\n",
              "\n",
              "    .dataframe tbody tr th {\n",
              "        vertical-align: top;\n",
              "    }\n",
              "\n",
              "    .dataframe thead th {\n",
              "        text-align: right;\n",
              "    }\n",
              "</style>\n",
              "<table border=\"1\" class=\"dataframe\">\n",
              "  <thead>\n",
              "    <tr style=\"text-align: right;\">\n",
              "      <th></th>\n",
              "      <th>sales</th>\n",
              "    </tr>\n",
              "    <tr>\n",
              "      <th>date</th>\n",
              "      <th></th>\n",
              "    </tr>\n",
              "  </thead>\n",
              "  <tbody>\n",
              "    <tr>\n",
              "      <th>2016-06-20</th>\n",
              "      <td>258.0</td>\n",
              "    </tr>\n",
              "    <tr>\n",
              "      <th>2016-06-21</th>\n",
              "      <td>116.0</td>\n",
              "    </tr>\n",
              "    <tr>\n",
              "      <th>2016-06-22</th>\n",
              "      <td>153.0</td>\n",
              "    </tr>\n",
              "    <tr>\n",
              "      <th>2016-06-23</th>\n",
              "      <td>154.0</td>\n",
              "    </tr>\n",
              "    <tr>\n",
              "      <th>2016-06-24</th>\n",
              "      <td>111.0</td>\n",
              "    </tr>\n",
              "    <tr>\n",
              "      <th>...</th>\n",
              "      <td>...</td>\n",
              "    </tr>\n",
              "    <tr>\n",
              "      <th>2017-08-11</th>\n",
              "      <td>53.0</td>\n",
              "    </tr>\n",
              "    <tr>\n",
              "      <th>2017-08-12</th>\n",
              "      <td>227.0</td>\n",
              "    </tr>\n",
              "    <tr>\n",
              "      <th>2017-08-13</th>\n",
              "      <td>45.0</td>\n",
              "    </tr>\n",
              "    <tr>\n",
              "      <th>2017-08-14</th>\n",
              "      <td>159.0</td>\n",
              "    </tr>\n",
              "    <tr>\n",
              "      <th>2017-08-15</th>\n",
              "      <td>173.0</td>\n",
              "    </tr>\n",
              "  </tbody>\n",
              "</table>\n",
              "<p>421 rows × 1 columns</p>\n",
              "</div>\n",
              "      <button class=\"colab-df-convert\" onclick=\"convertToInteractive('df-b3fd4518-6ce2-4583-b8f0-670239a6b87d')\"\n",
              "              title=\"Convert this dataframe to an interactive table.\"\n",
              "              style=\"display:none;\">\n",
              "        \n",
              "  <svg xmlns=\"http://www.w3.org/2000/svg\" height=\"24px\"viewBox=\"0 0 24 24\"\n",
              "       width=\"24px\">\n",
              "    <path d=\"M0 0h24v24H0V0z\" fill=\"none\"/>\n",
              "    <path d=\"M18.56 5.44l.94 2.06.94-2.06 2.06-.94-2.06-.94-.94-2.06-.94 2.06-2.06.94zm-11 1L8.5 8.5l.94-2.06 2.06-.94-2.06-.94L8.5 2.5l-.94 2.06-2.06.94zm10 10l.94 2.06.94-2.06 2.06-.94-2.06-.94-.94-2.06-.94 2.06-2.06.94z\"/><path d=\"M17.41 7.96l-1.37-1.37c-.4-.4-.92-.59-1.43-.59-.52 0-1.04.2-1.43.59L10.3 9.45l-7.72 7.72c-.78.78-.78 2.05 0 2.83L4 21.41c.39.39.9.59 1.41.59.51 0 1.02-.2 1.41-.59l7.78-7.78 2.81-2.81c.8-.78.8-2.07 0-2.86zM5.41 20L4 18.59l7.72-7.72 1.47 1.35L5.41 20z\"/>\n",
              "  </svg>\n",
              "      </button>\n",
              "      \n",
              "  <style>\n",
              "    .colab-df-container {\n",
              "      display:flex;\n",
              "      flex-wrap:wrap;\n",
              "      gap: 12px;\n",
              "    }\n",
              "\n",
              "    .colab-df-convert {\n",
              "      background-color: #E8F0FE;\n",
              "      border: none;\n",
              "      border-radius: 50%;\n",
              "      cursor: pointer;\n",
              "      display: none;\n",
              "      fill: #1967D2;\n",
              "      height: 32px;\n",
              "      padding: 0 0 0 0;\n",
              "      width: 32px;\n",
              "    }\n",
              "\n",
              "    .colab-df-convert:hover {\n",
              "      background-color: #E2EBFA;\n",
              "      box-shadow: 0px 1px 2px rgba(60, 64, 67, 0.3), 0px 1px 3px 1px rgba(60, 64, 67, 0.15);\n",
              "      fill: #174EA6;\n",
              "    }\n",
              "\n",
              "    [theme=dark] .colab-df-convert {\n",
              "      background-color: #3B4455;\n",
              "      fill: #D2E3FC;\n",
              "    }\n",
              "\n",
              "    [theme=dark] .colab-df-convert:hover {\n",
              "      background-color: #434B5C;\n",
              "      box-shadow: 0px 1px 3px 1px rgba(0, 0, 0, 0.15);\n",
              "      filter: drop-shadow(0px 1px 2px rgba(0, 0, 0, 0.3));\n",
              "      fill: #FFFFFF;\n",
              "    }\n",
              "  </style>\n",
              "\n",
              "      <script>\n",
              "        const buttonEl =\n",
              "          document.querySelector('#df-b3fd4518-6ce2-4583-b8f0-670239a6b87d button.colab-df-convert');\n",
              "        buttonEl.style.display =\n",
              "          google.colab.kernel.accessAllowed ? 'block' : 'none';\n",
              "\n",
              "        async function convertToInteractive(key) {\n",
              "          const element = document.querySelector('#df-b3fd4518-6ce2-4583-b8f0-670239a6b87d');\n",
              "          const dataTable =\n",
              "            await google.colab.kernel.invokeFunction('convertToInteractive',\n",
              "                                                     [key], {});\n",
              "          if (!dataTable) return;\n",
              "\n",
              "          const docLinkHtml = 'Like what you see? Visit the ' +\n",
              "            '<a target=\"_blank\" href=https://colab.research.google.com/notebooks/data_table.ipynb>data table notebook</a>'\n",
              "            + ' to learn more about interactive tables.';\n",
              "          element.innerHTML = '';\n",
              "          dataTable['output_type'] = 'display_data';\n",
              "          await google.colab.output.renderOutput(dataTable, element);\n",
              "          const docLink = document.createElement('div');\n",
              "          docLink.innerHTML = docLinkHtml;\n",
              "          element.appendChild(docLink);\n",
              "        }\n",
              "      </script>\n",
              "    </div>\n",
              "  </div>\n",
              "  "
            ]
          },
          "metadata": {},
          "execution_count": 20
        }
      ]
    },
    {
      "cell_type": "markdown",
      "source": [
        "# Analysis"
      ],
      "metadata": {
        "id": "ptg4dJ_qZfpc"
      }
    },
    {
      "cell_type": "markdown",
      "source": [
        "## Seasonal Decomposing"
      ],
      "metadata": {
        "id": "PkeLpnv7QcKm"
      }
    },
    {
      "cell_type": "code",
      "source": [
        "ts_decomp = tsa.seasonal_decompose(ts, period=365)"
      ],
      "metadata": {
        "id": "rwpoC3Yw0D-k"
      },
      "execution_count": null,
      "outputs": []
    },
    {
      "cell_type": "code",
      "source": [
        "ts_decomp.plot();"
      ],
      "metadata": {
        "colab": {
          "base_uri": "https://localhost:8080/",
          "height": 369
        },
        "id": "RpUoMGjB0czY",
        "outputId": "673ffcbf-0ea7-4b15-8c3f-eb76d8aadf3b"
      },
      "execution_count": null,
      "outputs": [
        {
          "output_type": "display_data",
          "data": {
            "text/plain": [
              "<Figure size 720x360 with 4 Axes>"
            ],
            "image/png": "[encoded data removed]"
          },
          "metadata": {
            "needs_background": "light"
          }
        }
      ]
    },
    {
      "cell_type": "markdown",
      "source": [
        "## Stationarity"
      ],
      "metadata": {
        "id": "mlbNEf0e2GSF"
      }
    },
    {
      "cell_type": "code",
      "source": [
        "ts.rolling(7).mean().plot();"
      ],
      "metadata": {
        "colab": {
          "base_uri": "https://localhost:8080/",
          "height": 334
        },
        "id": "S_3J2HOF2Fhy",
        "outputId": "a5f23e8a-ab22-4650-b7f3-c38612bab57a"
      },
      "execution_count": 21,
      "outputs": [
        {
          "output_type": "display_data",
          "data": {
            "text/plain": [
              "<Figure size 720x360 with 1 Axes>"
            ],
            "image/png": "[encoded data removed]"
          },
          "metadata": {
            "needs_background": "light"
          }
        }
      ]
    },
    {
      "cell_type": "code",
      "source": [
        "ts.plot.hist();"
      ],
      "metadata": {
        "colab": {
          "base_uri": "https://localhost:8080/",
          "height": 320
        },
        "id": "gtWzecfQ21kJ",
        "outputId": "3d44e18d-11c7-4ae8-ee58-79d05cf5f2f5"
      },
      "execution_count": 22,
      "outputs": [
        {
          "output_type": "display_data",
          "data": {
            "text/plain": [
              "<Figure size 720x360 with 1 Axes>"
            ],
            "image/png": "[encoded data removed]"
          },
          "metadata": {
            "needs_background": "light"
          }
        }
      ]
    },
    {
      "cell_type": "markdown",
      "source": [
        "## 1st order difference"
      ],
      "metadata": {
        "id": "tkDpWiQd2ao0"
      }
    },
    {
      "cell_type": "code",
      "source": [
        "ts.diff().plot()"
      ],
      "metadata": {
        "colab": {
          "base_uri": "https://localhost:8080/",
          "height": 351
        },
        "id": "rM8VvSQA2U5d",
        "outputId": "c36b4937-2fb6-467a-c184-6e3d7d501e2c"
      },
      "execution_count": 23,
      "outputs": [
        {
          "output_type": "execute_result",
          "data": {
            "text/plain": [
              "<matplotlib.axes._subplots.AxesSubplot at 0x7fa9f95feb10>"
            ]
          },
          "metadata": {},
          "execution_count": 23
        },
        {
          "output_type": "display_data",
          "data": {
            "text/plain": [
              "<Figure size 720x360 with 1 Axes>"
            ],
            "image/png": "[encoded data removed]"
          },
          "metadata": {
            "needs_background": "light"
          }
        }
      ]
    },
    {
      "cell_type": "code",
      "source": [
        "ts.diff().plot.hist();"
      ],
      "metadata": {
        "colab": {
          "base_uri": "https://localhost:8080/",
          "height": 320
        },
        "id": "TlYluzxD2h2o",
        "outputId": "d3938925-8b8c-4c58-fcc8-8ace79467383"
      },
      "execution_count": 24,
      "outputs": [
        {
          "output_type": "display_data",
          "data": {
            "text/plain": [
              "<Figure size 720x360 with 1 Axes>"
            ],
            "image/png": "[encoded data removed]"
          },
          "metadata": {
            "needs_background": "light"
          }
        }
      ]
    },
    {
      "cell_type": "code",
      "source": [
        "ts_diff = ts.diff().dropna()"
      ],
      "metadata": {
        "id": "lYfD-Ldx4fJb"
      },
      "execution_count": 25,
      "outputs": []
    },
    {
      "cell_type": "markdown",
      "source": [
        "## Autocorrelation"
      ],
      "metadata": {
        "id": "tydR7irR2_rK"
      }
    },
    {
      "cell_type": "markdown",
      "source": [
        "A correlation of a variable with itself at different times\n",
        "is known as autocorrelation or serial correlation."
      ],
      "metadata": {
        "id": "zldEzJTO4r9W"
      }
    },
    {
      "cell_type": "markdown",
      "source": [
        "![image.png](data:image/png;base64,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)"
      ],
      "metadata": {
        "id": "5eJR-z8nORgm"
      }
    },
    {
      "cell_type": "markdown",
      "source": [
        "![image.png](data:image/png;base64,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)"
      ],
      "metadata": {
        "id": "U740gnQYOZ6W"
      }
    },
    {
      "cell_type": "code",
      "source": [
        "ts.shift(-1)"
      ],
      "metadata": {
        "colab": {
          "base_uri": "https://localhost:8080/",
          "height": 455
        },
        "id": "OYHW01KwKGCm",
        "outputId": "4b8fc32a-1a63-4538-ec0e-8ae3e12782eb"
      },
      "execution_count": 26,
      "outputs": [
        {
          "output_type": "execute_result",
          "data": {
            "text/plain": [
              "            sales\n",
              "date             \n",
              "2013-01-01  194.0\n",
              "2013-01-02  153.0\n",
              "2013-01-03   88.0\n",
              "2013-01-04  141.0\n",
              "2013-01-05   49.0\n",
              "...           ...\n",
              "2017-08-11  227.0\n",
              "2017-08-12   45.0\n",
              "2017-08-13  159.0\n",
              "2017-08-14  173.0\n",
              "2017-08-15    NaN\n",
              "\n",
              "[1684 rows x 1 columns]"
            ],
            "text/html": [
              "\n",
              "  <div id=\"df-ea13a140-8ca7-4cc7-8285-c2804913c765\">\n",
              "    <div class=\"colab-df-container\">\n",
              "      <div>\n",
              "<style scoped>\n",
              "    .dataframe tbody tr th:only-of-type {\n",
              "        vertical-align: middle;\n",
              "    }\n",
              "\n",
              "    .dataframe tbody tr th {\n",
              "        vertical-align: top;\n",
              "    }\n",
              "\n",
              "    .dataframe thead th {\n",
              "        text-align: right;\n",
              "    }\n",
              "</style>\n",
              "<table border=\"1\" class=\"dataframe\">\n",
              "  <thead>\n",
              "    <tr style=\"text-align: right;\">\n",
              "      <th></th>\n",
              "      <th>sales</th>\n",
              "    </tr>\n",
              "    <tr>\n",
              "      <th>date</th>\n",
              "      <th></th>\n",
              "    </tr>\n",
              "  </thead>\n",
              "  <tbody>\n",
              "    <tr>\n",
              "      <th>2013-01-01</th>\n",
              "      <td>194.0</td>\n",
              "    </tr>\n",
              "    <tr>\n",
              "      <th>2013-01-02</th>\n",
              "      <td>153.0</td>\n",
              "    </tr>\n",
              "    <tr>\n",
              "      <th>2013-01-03</th>\n",
              "      <td>88.0</td>\n",
              "    </tr>\n",
              "    <tr>\n",
              "      <th>2013-01-04</th>\n",
              "      <td>141.0</td>\n",
              "    </tr>\n",
              "    <tr>\n",
              "      <th>2013-01-05</th>\n",
              "      <td>49.0</td>\n",
              "    </tr>\n",
              "    <tr>\n",
              "      <th>...</th>\n",
              "      <td>...</td>\n",
              "    </tr>\n",
              "    <tr>\n",
              "      <th>2017-08-11</th>\n",
              "      <td>227.0</td>\n",
              "    </tr>\n",
              "    <tr>\n",
              "      <th>2017-08-12</th>\n",
              "      <td>45.0</td>\n",
              "    </tr>\n",
              "    <tr>\n",
              "      <th>2017-08-13</th>\n",
              "      <td>159.0</td>\n",
              "    </tr>\n",
              "    <tr>\n",
              "      <th>2017-08-14</th>\n",
              "      <td>173.0</td>\n",
              "    </tr>\n",
              "    <tr>\n",
              "      <th>2017-08-15</th>\n",
              "      <td>NaN</td>\n",
              "    </tr>\n",
              "  </tbody>\n",
              "</table>\n",
              "<p>1684 rows × 1 columns</p>\n",
              "</div>\n",
              "      <button class=\"colab-df-convert\" onclick=\"convertToInteractive('df-ea13a140-8ca7-4cc7-8285-c2804913c765')\"\n",
              "              title=\"Convert this dataframe to an interactive table.\"\n",
              "              style=\"display:none;\">\n",
              "        \n",
              "  <svg xmlns=\"http://www.w3.org/2000/svg\" height=\"24px\"viewBox=\"0 0 24 24\"\n",
              "       width=\"24px\">\n",
              "    <path d=\"M0 0h24v24H0V0z\" fill=\"none\"/>\n",
              "    <path d=\"M18.56 5.44l.94 2.06.94-2.06 2.06-.94-2.06-.94-.94-2.06-.94 2.06-2.06.94zm-11 1L8.5 8.5l.94-2.06 2.06-.94-2.06-.94L8.5 2.5l-.94 2.06-2.06.94zm10 10l.94 2.06.94-2.06 2.06-.94-2.06-.94-.94-2.06-.94 2.06-2.06.94z\"/><path d=\"M17.41 7.96l-1.37-1.37c-.4-.4-.92-.59-1.43-.59-.52 0-1.04.2-1.43.59L10.3 9.45l-7.72 7.72c-.78.78-.78 2.05 0 2.83L4 21.41c.39.39.9.59 1.41.59.51 0 1.02-.2 1.41-.59l7.78-7.78 2.81-2.81c.8-.78.8-2.07 0-2.86zM5.41 20L4 18.59l7.72-7.72 1.47 1.35L5.41 20z\"/>\n",
              "  </svg>\n",
              "      </button>\n",
              "      \n",
              "  <style>\n",
              "    .colab-df-container {\n",
              "      display:flex;\n",
              "      flex-wrap:wrap;\n",
              "      gap: 12px;\n",
              "    }\n",
              "\n",
              "    .colab-df-convert {\n",
              "      background-color: #E8F0FE;\n",
              "      border: none;\n",
              "      border-radius: 50%;\n",
              "      cursor: pointer;\n",
              "      display: none;\n",
              "      fill: #1967D2;\n",
              "      height: 32px;\n",
              "      padding: 0 0 0 0;\n",
              "      width: 32px;\n",
              "    }\n",
              "\n",
              "    .colab-df-convert:hover {\n",
              "      background-color: #E2EBFA;\n",
              "      box-shadow: 0px 1px 2px rgba(60, 64, 67, 0.3), 0px 1px 3px 1px rgba(60, 64, 67, 0.15);\n",
              "      fill: #174EA6;\n",
              "    }\n",
              "\n",
              "    [theme=dark] .colab-df-convert {\n",
              "      background-color: #3B4455;\n",
              "      fill: #D2E3FC;\n",
              "    }\n",
              "\n",
              "    [theme=dark] .colab-df-convert:hover {\n",
              "      background-color: #434B5C;\n",
              "      box-shadow: 0px 1px 3px 1px rgba(0, 0, 0, 0.15);\n",
              "      filter: drop-shadow(0px 1px 2px rgba(0, 0, 0, 0.3));\n",
              "      fill: #FFFFFF;\n",
              "    }\n",
              "  </style>\n",
              "\n",
              "      <script>\n",
              "        const buttonEl =\n",
              "          document.querySelector('#df-ea13a140-8ca7-4cc7-8285-c2804913c765 button.colab-df-convert');\n",
              "        buttonEl.style.display =\n",
              "          google.colab.kernel.accessAllowed ? 'block' : 'none';\n",
              "\n",
              "        async function convertToInteractive(key) {\n",
              "          const element = document.querySelector('#df-ea13a140-8ca7-4cc7-8285-c2804913c765');\n",
              "          const dataTable =\n",
              "            await google.colab.kernel.invokeFunction('convertToInteractive',\n",
              "                                                     [key], {});\n",
              "          if (!dataTable) return;\n",
              "\n",
              "          const docLinkHtml = 'Like what you see? Visit the ' +\n",
              "            '<a target=\"_blank\" href=https://colab.research.google.com/notebooks/data_table.ipynb>data table notebook</a>'\n",
              "            + ' to learn more about interactive tables.';\n",
              "          element.innerHTML = '';\n",
              "          dataTable['output_type'] = 'display_data';\n",
              "          await google.colab.output.renderOutput(dataTable, element);\n",
              "          const docLink = document.createElement('div');\n",
              "          docLink.innerHTML = docLinkHtml;\n",
              "          element.appendChild(docLink);\n",
              "        }\n",
              "      </script>\n",
              "    </div>\n",
              "  </div>\n",
              "  "
            ]
          },
          "metadata": {},
          "execution_count": 26
        }
      ]
    },
    {
      "cell_type": "code",
      "source": [
        "ts.corrwith(ts.shift(-1))"
      ],
      "metadata": {
        "colab": {
          "base_uri": "https://localhost:8080/"
        },
        "id": "tGvsPw8KJ-Bu",
        "outputId": "02551768-f07f-45fa-b2c3-e479d0f360cd"
      },
      "execution_count": 27,
      "outputs": [
        {
          "output_type": "execute_result",
          "data": {
            "text/plain": [
              "sales    0.278298\n",
              "dtype: float64"
            ]
          },
          "metadata": {},
          "execution_count": 27
        }
      ]
    },
    {
      "cell_type": "code",
      "source": [
        "ts_diff.corrwith(ts_diff.shift(-1))"
      ],
      "metadata": {
        "colab": {
          "base_uri": "https://localhost:8080/"
        },
        "id": "uQxBZjwwKb50",
        "outputId": "100e0c60-eb99-45b8-e7a5-ecda391d9f92"
      },
      "execution_count": 28,
      "outputs": [
        {
          "output_type": "execute_result",
          "data": {
            "text/plain": [
              "sales   -0.507911\n",
              "dtype: float64"
            ]
          },
          "metadata": {},
          "execution_count": 28
        }
      ]
    },
    {
      "cell_type": "code",
      "source": [
        "plot_acf(ts);"
      ],
      "metadata": {
        "colab": {
          "base_uri": "https://localhost:8080/",
          "height": 281
        },
        "id": "uqLkBd7IOuD3",
        "outputId": "2518480c-83ae-4a7d-ad0d-dd77f03454aa"
      },
      "execution_count": 14,
      "outputs": [
        {
          "output_type": "display_data",
          "data": {
            "text/plain": [
              "<Figure size 432x288 with 1 Axes>"
            ],
            "image/png": "[encoded data removed]"
          },
          "metadata": {
            "needs_background": "light"
          }
        }
      ]
    },
    {
      "cell_type": "code",
      "source": [
        "plot_acf(ts_diff);"
      ],
      "metadata": {
        "colab": {
          "base_uri": "https://localhost:8080/",
          "height": 336
        },
        "id": "zMplqQdP4arN",
        "outputId": "9f7e278f-5007-4dcb-8c90-70998d3bf617"
      },
      "execution_count": 30,
      "outputs": [
        {
          "output_type": "display_data",
          "data": {
            "text/plain": [
              "<Figure size 720x360 with 1 Axes>"
            ],
            "image/png": "[encoded data removed]"
          },
          "metadata": {
            "needs_background": "light"
          }
        }
      ]
    },
    {
      "cell_type": "markdown",
      "source": [
        "## Partial Autocorrelation"
      ],
      "metadata": {
        "id": "Knv6ybi_3DWO"
      }
    },
    {
      "cell_type": "markdown",
      "source": [
        "The partial autocorrelation at lag k is the correlation that\n",
        "results after removing the effect of any correlations due to the terms at shorter\n",
        "lags."
      ],
      "metadata": {
        "id": "uSUFZdKv4wqf"
      }
    },
    {
      "cell_type": "code",
      "source": [
        "plot_pacf(ts);"
      ],
      "metadata": {
        "colab": {
          "base_uri": "https://localhost:8080/",
          "height": 390
        },
        "id": "A9CEMy5E4xsw",
        "outputId": "dea44ded-7185-4434-a874-ba33a7b3df37"
      },
      "execution_count": 31,
      "outputs": [
        {
          "output_type": "stream",
          "name": "stderr",
          "text": [
            "/usr/local/lib/python3.7/dist-packages/statsmodels/graphics/tsaplots.py:353: FutureWarning: The default method 'yw' can produce PACF values outside of the [-1,1] interval. After 0.13, the default will change tounadjusted Yule-Walker ('ywm'). You can use this method now by setting method='ywm'.\n",
            "  FutureWarning,\n"
          ]
        },
        {
          "output_type": "display_data",
          "data": {
            "text/plain": [
              "<Figure size 720x360 with 1 Axes>"
            ],
            "image/png": "[encoded data removed]"
          },
          "metadata": {
            "needs_background": "light"
          }
        }
      ]
    },
    {
      "cell_type": "code",
      "source": [
        "plot_pacf(ts_diff);"
      ],
      "metadata": {
        "colab": {
          "base_uri": "https://localhost:8080/",
          "height": 390
        },
        "id": "txFyCkYI4yRQ",
        "outputId": "be95de5b-71ab-441c-ffd4-3e27c41574d8"
      },
      "execution_count": 32,
      "outputs": [
        {
          "output_type": "stream",
          "name": "stderr",
          "text": [
            "/usr/local/lib/python3.7/dist-packages/statsmodels/graphics/tsaplots.py:353: FutureWarning: The default method 'yw' can produce PACF values outside of the [-1,1] interval. After 0.13, the default will change tounadjusted Yule-Walker ('ywm'). You can use this method now by setting method='ywm'.\n",
            "  FutureWarning,\n"
          ]
        },
        {
          "output_type": "display_data",
          "data": {
            "text/plain": [
              "<Figure size 720x360 with 1 Axes>"
            ],
            "image/png": "[encoded data removed]"
          },
          "metadata": {
            "needs_background": "light"
          }
        }
      ]
    },
    {
      "cell_type": "markdown",
      "source": [
        "https://machinelearningmastery.com/gentle-introduction-autocorrelation-partial-autocorrelation/"
      ],
      "metadata": {
        "id": "CvPg9e7AQwic"
      }
    },
    {
      "cell_type": "markdown",
      "source": [
        "# Feature Engineering"
      ],
      "metadata": {
        "id": "pn4RWTaEREls"
      }
    },
    {
      "cell_type": "code",
      "source": [
        "#time travel\n",
        "def get_lags(series, lags):\n",
        "  result = []\n",
        "  if lags > 0:\n",
        "    for lag in range(1, lags+1):\n",
        "    #  print(lag)\n",
        "    #  print(series.shift(lag))\n",
        "      result.append(series.shift(lag).rename({series.columns[0]: series.columns[0]+'-'+str(lag)}, axis=1))\n",
        "    #return result\n",
        "    return pd.concat(result, axis=1, names=list(range(-1,-lags))).dropna()\n",
        "  else:\n",
        "    for lag in range(-1, lags-1,-1):\n",
        "      #print(lag)\n",
        "      #print(series.shift(lag))\n",
        "      result.append(series.shift(lag).rename({series.columns[0]: series.columns[0]+'+'+str(abs(lag))}, axis=1))\n",
        "    #return result\n",
        "    return pd.concat(result, axis=1, names=list(range(+1,-lags))).dropna()"
      ],
      "metadata": {
        "id": "M_czQ_vGZ6bb"
      },
      "execution_count": 15,
      "outputs": []
    },
    {
      "cell_type": "code",
      "source": [
        "get_lags(ts, 3)"
      ],
      "metadata": {
        "colab": {
          "base_uri": "https://localhost:8080/",
          "height": 455
        },
        "id": "MjN7qZ0xaUo4",
        "outputId": "3499a1e4-0f09-45ca-83d8-577406734370"
      },
      "execution_count": 34,
      "outputs": [
        {
          "output_type": "execute_result",
          "data": {
            "text/plain": [
              "            sales-1  sales-2  sales-3\n",
              "date                                 \n",
              "2013-01-04    153.0    194.0      0.0\n",
              "2013-01-05     88.0    153.0    194.0\n",
              "2013-01-06    141.0     88.0    153.0\n",
              "2013-01-07     49.0    141.0     88.0\n",
              "2013-01-08    154.0     49.0    141.0\n",
              "...             ...      ...      ...\n",
              "2017-08-11    183.0    288.0    239.0\n",
              "2017-08-12     53.0    183.0    288.0\n",
              "2017-08-13    227.0     53.0    183.0\n",
              "2017-08-14     45.0    227.0     53.0\n",
              "2017-08-15    159.0     45.0    227.0\n",
              "\n",
              "[1681 rows x 3 columns]"
            ],
            "text/html": [
              "\n",
              "  <div id=\"df-89ad46b6-6e9d-4925-996a-18f9ba0f36b1\">\n",
              "    <div class=\"colab-df-container\">\n",
              "      <div>\n",
              "<style scoped>\n",
              "    .dataframe tbody tr th:only-of-type {\n",
              "        vertical-align: middle;\n",
              "    }\n",
              "\n",
              "    .dataframe tbody tr th {\n",
              "        vertical-align: top;\n",
              "    }\n",
              "\n",
              "    .dataframe thead th {\n",
              "        text-align: right;\n",
              "    }\n",
              "</style>\n",
              "<table border=\"1\" class=\"dataframe\">\n",
              "  <thead>\n",
              "    <tr style=\"text-align: right;\">\n",
              "      <th></th>\n",
              "      <th>sales-1</th>\n",
              "      <th>sales-2</th>\n",
              "      <th>sales-3</th>\n",
              "    </tr>\n",
              "    <tr>\n",
              "      <th>date</th>\n",
              "      <th></th>\n",
              "      <th></th>\n",
              "      <th></th>\n",
              "    </tr>\n",
              "  </thead>\n",
              "  <tbody>\n",
              "    <tr>\n",
              "      <th>2013-01-04</th>\n",
              "      <td>153.0</td>\n",
              "      <td>194.0</td>\n",
              "      <td>0.0</td>\n",
              "    </tr>\n",
              "    <tr>\n",
              "      <th>2013-01-05</th>\n",
              "      <td>88.0</td>\n",
              "      <td>153.0</td>\n",
              "      <td>194.0</td>\n",
              "    </tr>\n",
              "    <tr>\n",
              "      <th>2013-01-06</th>\n",
              "      <td>141.0</td>\n",
              "      <td>88.0</td>\n",
              "      <td>153.0</td>\n",
              "    </tr>\n",
              "    <tr>\n",
              "      <th>2013-01-07</th>\n",
              "      <td>49.0</td>\n",
              "      <td>141.0</td>\n",
              "      <td>88.0</td>\n",
              "    </tr>\n",
              "    <tr>\n",
              "      <th>2013-01-08</th>\n",
              "      <td>154.0</td>\n",
              "      <td>49.0</td>\n",
              "      <td>141.0</td>\n",
              "    </tr>\n",
              "    <tr>\n",
              "      <th>...</th>\n",
              "      <td>...</td>\n",
              "      <td>...</td>\n",
              "      <td>...</td>\n",
              "    </tr>\n",
              "    <tr>\n",
              "      <th>2017-08-11</th>\n",
              "      <td>183.0</td>\n",
              "      <td>288.0</td>\n",
              "      <td>239.0</td>\n",
              "    </tr>\n",
              "    <tr>\n",
              "      <th>2017-08-12</th>\n",
              "      <td>53.0</td>\n",
              "      <td>183.0</td>\n",
              "      <td>288.0</td>\n",
              "    </tr>\n",
              "    <tr>\n",
              "      <th>2017-08-13</th>\n",
              "      <td>227.0</td>\n",
              "      <td>53.0</td>\n",
              "      <td>183.0</td>\n",
              "    </tr>\n",
              "    <tr>\n",
              "      <th>2017-08-14</th>\n",
              "      <td>45.0</td>\n",
              "      <td>227.0</td>\n",
              "      <td>53.0</td>\n",
              "    </tr>\n",
              "    <tr>\n",
              "      <th>2017-08-15</th>\n",
              "      <td>159.0</td>\n",
              "      <td>45.0</td>\n",
              "      <td>227.0</td>\n",
              "    </tr>\n",
              "  </tbody>\n",
              "</table>\n",
              "<p>1681 rows × 3 columns</p>\n",
              "</div>\n",
              "      <button class=\"colab-df-convert\" onclick=\"convertToInteractive('df-89ad46b6-6e9d-4925-996a-18f9ba0f36b1')\"\n",
              "              title=\"Convert this dataframe to an interactive table.\"\n",
              "              style=\"display:none;\">\n",
              "        \n",
              "  <svg xmlns=\"http://www.w3.org/2000/svg\" height=\"24px\"viewBox=\"0 0 24 24\"\n",
              "       width=\"24px\">\n",
              "    <path d=\"M0 0h24v24H0V0z\" fill=\"none\"/>\n",
              "    <path d=\"M18.56 5.44l.94 2.06.94-2.06 2.06-.94-2.06-.94-.94-2.06-.94 2.06-2.06.94zm-11 1L8.5 8.5l.94-2.06 2.06-.94-2.06-.94L8.5 2.5l-.94 2.06-2.06.94zm10 10l.94 2.06.94-2.06 2.06-.94-2.06-.94-.94-2.06-.94 2.06-2.06.94z\"/><path d=\"M17.41 7.96l-1.37-1.37c-.4-.4-.92-.59-1.43-.59-.52 0-1.04.2-1.43.59L10.3 9.45l-7.72 7.72c-.78.78-.78 2.05 0 2.83L4 21.41c.39.39.9.59 1.41.59.51 0 1.02-.2 1.41-.59l7.78-7.78 2.81-2.81c.8-.78.8-2.07 0-2.86zM5.41 20L4 18.59l7.72-7.72 1.47 1.35L5.41 20z\"/>\n",
              "  </svg>\n",
              "      </button>\n",
              "      \n",
              "  <style>\n",
              "    .colab-df-container {\n",
              "      display:flex;\n",
              "      flex-wrap:wrap;\n",
              "      gap: 12px;\n",
              "    }\n",
              "\n",
              "    .colab-df-convert {\n",
              "      background-color: #E8F0FE;\n",
              "      border: none;\n",
              "      border-radius: 50%;\n",
              "      cursor: pointer;\n",
              "      display: none;\n",
              "      fill: #1967D2;\n",
              "      height: 32px;\n",
              "      padding: 0 0 0 0;\n",
              "      width: 32px;\n",
              "    }\n",
              "\n",
              "    .colab-df-convert:hover {\n",
              "      background-color: #E2EBFA;\n",
              "      box-shadow: 0px 1px 2px rgba(60, 64, 67, 0.3), 0px 1px 3px 1px rgba(60, 64, 67, 0.15);\n",
              "      fill: #174EA6;\n",
              "    }\n",
              "\n",
              "    [theme=dark] .colab-df-convert {\n",
              "      background-color: #3B4455;\n",
              "      fill: #D2E3FC;\n",
              "    }\n",
              "\n",
              "    [theme=dark] .colab-df-convert:hover {\n",
              "      background-color: #434B5C;\n",
              "      box-shadow: 0px 1px 3px 1px rgba(0, 0, 0, 0.15);\n",
              "      filter: drop-shadow(0px 1px 2px rgba(0, 0, 0, 0.3));\n",
              "      fill: #FFFFFF;\n",
              "    }\n",
              "  </style>\n",
              "\n",
              "      <script>\n",
              "        const buttonEl =\n",
              "          document.querySelector('#df-89ad46b6-6e9d-4925-996a-18f9ba0f36b1 button.colab-df-convert');\n",
              "        buttonEl.style.display =\n",
              "          google.colab.kernel.accessAllowed ? 'block' : 'none';\n",
              "\n",
              "        async function convertToInteractive(key) {\n",
              "          const element = document.querySelector('#df-89ad46b6-6e9d-4925-996a-18f9ba0f36b1');\n",
              "          const dataTable =\n",
              "            await google.colab.kernel.invokeFunction('convertToInteractive',\n",
              "                                                     [key], {});\n",
              "          if (!dataTable) return;\n",
              "\n",
              "          const docLinkHtml = 'Like what you see? Visit the ' +\n",
              "            '<a target=\"_blank\" href=https://colab.research.google.com/notebooks/data_table.ipynb>data table notebook</a>'\n",
              "            + ' to learn more about interactive tables.';\n",
              "          element.innerHTML = '';\n",
              "          dataTable['output_type'] = 'display_data';\n",
              "          await google.colab.output.renderOutput(dataTable, element);\n",
              "          const docLink = document.createElement('div');\n",
              "          docLink.innerHTML = docLinkHtml;\n",
              "          element.appendChild(docLink);\n",
              "        }\n",
              "      </script>\n",
              "    </div>\n",
              "  </div>\n",
              "  "
            ]
          },
          "metadata": {},
          "execution_count": 34
        }
      ]
    },
    {
      "cell_type": "code",
      "source": [
        "X = get_lags(ts, 7)\n",
        "X.head()"
      ],
      "metadata": {
        "id": "Lf5Bx4ZTZxlr",
        "outputId": "e5d4ded7-30a7-4e76-bf86-2efcf8c74f90",
        "colab": {
          "base_uri": "https://localhost:8080/",
          "height": 238
        }
      },
      "execution_count": 16,
      "outputs": [
        {
          "output_type": "execute_result",
          "data": {
            "text/plain": [
              "            sales-1  sales-2  sales-3  sales-4  sales-5  sales-6  sales-7\n",
              "date                                                                     \n",
              "2013-01-08    154.0     49.0    141.0     88.0    153.0    194.0      0.0\n",
              "2013-01-09    119.0    154.0     49.0    141.0     88.0    153.0    194.0\n",
              "2013-01-10    190.0    119.0    154.0     49.0    141.0     88.0    153.0\n",
              "2013-01-11    110.0    190.0    119.0    154.0     49.0    141.0     88.0\n",
              "2013-01-12     81.0    110.0    190.0    119.0    154.0     49.0    141.0"
            ],
            "text/html": [
              "\n",
              "  <div id=\"df-4d8af595-ea05-42d7-9ab5-309a4d3b1c83\">\n",
              "    <div class=\"colab-df-container\">\n",
              "      <div>\n",
              "<style scoped>\n",
              "    .dataframe tbody tr th:only-of-type {\n",
              "        vertical-align: middle;\n",
              "    }\n",
              "\n",
              "    .dataframe tbody tr th {\n",
              "        vertical-align: top;\n",
              "    }\n",
              "\n",
              "    .dataframe thead th {\n",
              "        text-align: right;\n",
              "    }\n",
              "</style>\n",
              "<table border=\"1\" class=\"dataframe\">\n",
              "  <thead>\n",
              "    <tr style=\"text-align: right;\">\n",
              "      <th></th>\n",
              "      <th>sales-1</th>\n",
              "      <th>sales-2</th>\n",
              "      <th>sales-3</th>\n",
              "      <th>sales-4</th>\n",
              "      <th>sales-5</th>\n",
              "      <th>sales-6</th>\n",
              "      <th>sales-7</th>\n",
              "    </tr>\n",
              "    <tr>\n",
              "      <th>date</th>\n",
              "      <th></th>\n",
              "      <th></th>\n",
              "      <th></th>\n",
              "      <th></th>\n",
              "      <th></th>\n",
              "      <th></th>\n",
              "      <th></th>\n",
              "    </tr>\n",
              "  </thead>\n",
              "  <tbody>\n",
              "    <tr>\n",
              "      <th>2013-01-08</th>\n",
              "      <td>154.0</td>\n",
              "      <td>49.0</td>\n",
              "      <td>141.0</td>\n",
              "      <td>88.0</td>\n",
              "      <td>153.0</td>\n",
              "      <td>194.0</td>\n",
              "      <td>0.0</td>\n",
              "    </tr>\n",
              "    <tr>\n",
              "      <th>2013-01-09</th>\n",
              "      <td>119.0</td>\n",
              "      <td>154.0</td>\n",
              "      <td>49.0</td>\n",
              "      <td>141.0</td>\n",
              "      <td>88.0</td>\n",
              "      <td>153.0</td>\n",
              "      <td>194.0</td>\n",
              "    </tr>\n",
              "    <tr>\n",
              "      <th>2013-01-10</th>\n",
              "      <td>190.0</td>\n",
              "      <td>119.0</td>\n",
              "      <td>154.0</td>\n",
              "      <td>49.0</td>\n",
              "      <td>141.0</td>\n",
              "      <td>88.0</td>\n",
              "      <td>153.0</td>\n",
              "    </tr>\n",
              "    <tr>\n",
              "      <th>2013-01-11</th>\n",
              "      <td>110.0</td>\n",
              "      <td>190.0</td>\n",
              "      <td>119.0</td>\n",
              "      <td>154.0</td>\n",
              "      <td>49.0</td>\n",
              "      <td>141.0</td>\n",
              "      <td>88.0</td>\n",
              "    </tr>\n",
              "    <tr>\n",
              "      <th>2013-01-12</th>\n",
              "      <td>81.0</td>\n",
              "      <td>110.0</td>\n",
              "      <td>190.0</td>\n",
              "      <td>119.0</td>\n",
              "      <td>154.0</td>\n",
              "      <td>49.0</td>\n",
              "      <td>141.0</td>\n",
              "    </tr>\n",
              "  </tbody>\n",
              "</table>\n",
              "</div>\n",
              "      <button class=\"colab-df-convert\" onclick=\"convertToInteractive('df-4d8af595-ea05-42d7-9ab5-309a4d3b1c83')\"\n",
              "              title=\"Convert this dataframe to an interactive table.\"\n",
              "              style=\"display:none;\">\n",
              "        \n",
              "  <svg xmlns=\"http://www.w3.org/2000/svg\" height=\"24px\"viewBox=\"0 0 24 24\"\n",
              "       width=\"24px\">\n",
              "    <path d=\"M0 0h24v24H0V0z\" fill=\"none\"/>\n",
              "    <path d=\"M18.56 5.44l.94 2.06.94-2.06 2.06-.94-2.06-.94-.94-2.06-.94 2.06-2.06.94zm-11 1L8.5 8.5l.94-2.06 2.06-.94-2.06-.94L8.5 2.5l-.94 2.06-2.06.94zm10 10l.94 2.06.94-2.06 2.06-.94-2.06-.94-.94-2.06-.94 2.06-2.06.94z\"/><path d=\"M17.41 7.96l-1.37-1.37c-.4-.4-.92-.59-1.43-.59-.52 0-1.04.2-1.43.59L10.3 9.45l-7.72 7.72c-.78.78-.78 2.05 0 2.83L4 21.41c.39.39.9.59 1.41.59.51 0 1.02-.2 1.41-.59l7.78-7.78 2.81-2.81c.8-.78.8-2.07 0-2.86zM5.41 20L4 18.59l7.72-7.72 1.47 1.35L5.41 20z\"/>\n",
              "  </svg>\n",
              "      </button>\n",
              "      \n",
              "  <style>\n",
              "    .colab-df-container {\n",
              "      display:flex;\n",
              "      flex-wrap:wrap;\n",
              "      gap: 12px;\n",
              "    }\n",
              "\n",
              "    .colab-df-convert {\n",
              "      background-color: #E8F0FE;\n",
              "      border: none;\n",
              "      border-radius: 50%;\n",
              "      cursor: pointer;\n",
              "      display: none;\n",
              "      fill: #1967D2;\n",
              "      height: 32px;\n",
              "      padding: 0 0 0 0;\n",
              "      width: 32px;\n",
              "    }\n",
              "\n",
              "    .colab-df-convert:hover {\n",
              "      background-color: #E2EBFA;\n",
              "      box-shadow: 0px 1px 2px rgba(60, 64, 67, 0.3), 0px 1px 3px 1px rgba(60, 64, 67, 0.15);\n",
              "      fill: #174EA6;\n",
              "    }\n",
              "\n",
              "    [theme=dark] .colab-df-convert {\n",
              "      background-color: #3B4455;\n",
              "      fill: #D2E3FC;\n",
              "    }\n",
              "\n",
              "    [theme=dark] .colab-df-convert:hover {\n",
              "      background-color: #434B5C;\n",
              "      box-shadow: 0px 1px 3px 1px rgba(0, 0, 0, 0.15);\n",
              "      filter: drop-shadow(0px 1px 2px rgba(0, 0, 0, 0.3));\n",
              "      fill: #FFFFFF;\n",
              "    }\n",
              "  </style>\n",
              "\n",
              "      <script>\n",
              "        const buttonEl =\n",
              "          document.querySelector('#df-4d8af595-ea05-42d7-9ab5-309a4d3b1c83 button.colab-df-convert');\n",
              "        buttonEl.style.display =\n",
              "          google.colab.kernel.accessAllowed ? 'block' : 'none';\n",
              "\n",
              "        async function convertToInteractive(key) {\n",
              "          const element = document.querySelector('#df-4d8af595-ea05-42d7-9ab5-309a4d3b1c83');\n",
              "          const dataTable =\n",
              "            await google.colab.kernel.invokeFunction('convertToInteractive',\n",
              "                                                     [key], {});\n",
              "          if (!dataTable) return;\n",
              "\n",
              "          const docLinkHtml = 'Like what you see? Visit the ' +\n",
              "            '<a target=\"_blank\" href=https://colab.research.google.com/notebooks/data_table.ipynb>data table notebook</a>'\n",
              "            + ' to learn more about interactive tables.';\n",
              "          element.innerHTML = '';\n",
              "          dataTable['output_type'] = 'display_data';\n",
              "          await google.colab.output.renderOutput(dataTable, element);\n",
              "          const docLink = document.createElement('div');\n",
              "          docLink.innerHTML = docLinkHtml;\n",
              "          element.appendChild(docLink);\n",
              "        }\n",
              "      </script>\n",
              "    </div>\n",
              "  </div>\n",
              "  "
            ]
          },
          "metadata": {},
          "execution_count": 16
        }
      ]
    },
    {
      "cell_type": "code",
      "source": [
        "X.reset_index(drop=True)"
      ],
      "metadata": {
        "id": "0CKqTCEheWTc",
        "outputId": "24de63d0-7004-4768-cec4-60abe1309e3e",
        "colab": {
          "base_uri": "https://localhost:8080/",
          "height": 423
        }
      },
      "execution_count": 23,
      "outputs": [
        {
          "output_type": "execute_result",
          "data": {
            "text/plain": [
              "      sales-1  sales-2  sales-3  sales-4  sales-5  sales-6  sales-7\n",
              "0       154.0     49.0    141.0     88.0    153.0    194.0      0.0\n",
              "1       119.0    154.0     49.0    141.0     88.0    153.0    194.0\n",
              "2       190.0    119.0    154.0     49.0    141.0     88.0    153.0\n",
              "3       110.0    190.0    119.0    154.0     49.0    141.0     88.0\n",
              "4        81.0    110.0    190.0    119.0    154.0     49.0    141.0\n",
              "...       ...      ...      ...      ...      ...      ...      ...\n",
              "1672    183.0    288.0    239.0    187.0     74.0    154.0    138.0\n",
              "1673     53.0    183.0    288.0    239.0    187.0     74.0    154.0\n",
              "1674    227.0     53.0    183.0    288.0    239.0    187.0     74.0\n",
              "1675     45.0    227.0     53.0    183.0    288.0    239.0    187.0\n",
              "1676    159.0     45.0    227.0     53.0    183.0    288.0    239.0\n",
              "\n",
              "[1677 rows x 7 columns]"
            ],
            "text/html": [
              "\n",
              "  <div id=\"df-e80580c4-79c4-40cd-8d4b-8afcbdb27771\">\n",
              "    <div class=\"colab-df-container\">\n",
              "      <div>\n",
              "<style scoped>\n",
              "    .dataframe tbody tr th:only-of-type {\n",
              "        vertical-align: middle;\n",
              "    }\n",
              "\n",
              "    .dataframe tbody tr th {\n",
              "        vertical-align: top;\n",
              "    }\n",
              "\n",
              "    .dataframe thead th {\n",
              "        text-align: right;\n",
              "    }\n",
              "</style>\n",
              "<table border=\"1\" class=\"dataframe\">\n",
              "  <thead>\n",
              "    <tr style=\"text-align: right;\">\n",
              "      <th></th>\n",
              "      <th>sales-1</th>\n",
              "      <th>sales-2</th>\n",
              "      <th>sales-3</th>\n",
              "      <th>sales-4</th>\n",
              "      <th>sales-5</th>\n",
              "      <th>sales-6</th>\n",
              "      <th>sales-7</th>\n",
              "    </tr>\n",
              "  </thead>\n",
              "  <tbody>\n",
              "    <tr>\n",
              "      <th>0</th>\n",
              "      <td>154.0</td>\n",
              "      <td>49.0</td>\n",
              "      <td>141.0</td>\n",
              "      <td>88.0</td>\n",
              "      <td>153.0</td>\n",
              "      <td>194.0</td>\n",
              "      <td>0.0</td>\n",
              "    </tr>\n",
              "    <tr>\n",
              "      <th>1</th>\n",
              "      <td>119.0</td>\n",
              "      <td>154.0</td>\n",
              "      <td>49.0</td>\n",
              "      <td>141.0</td>\n",
              "      <td>88.0</td>\n",
              "      <td>153.0</td>\n",
              "      <td>194.0</td>\n",
              "    </tr>\n",
              "    <tr>\n",
              "      <th>2</th>\n",
              "      <td>190.0</td>\n",
              "      <td>119.0</td>\n",
              "      <td>154.0</td>\n",
              "      <td>49.0</td>\n",
              "      <td>141.0</td>\n",
              "      <td>88.0</td>\n",
              "      <td>153.0</td>\n",
              "    </tr>\n",
              "    <tr>\n",
              "      <th>3</th>\n",
              "      <td>110.0</td>\n",
              "      <td>190.0</td>\n",
              "      <td>119.0</td>\n",
              "      <td>154.0</td>\n",
              "      <td>49.0</td>\n",
              "      <td>141.0</td>\n",
              "      <td>88.0</td>\n",
              "    </tr>\n",
              "    <tr>\n",
              "      <th>4</th>\n",
              "      <td>81.0</td>\n",
              "      <td>110.0</td>\n",
              "      <td>190.0</td>\n",
              "      <td>119.0</td>\n",
              "      <td>154.0</td>\n",
              "      <td>49.0</td>\n",
              "      <td>141.0</td>\n",
              "    </tr>\n",
              "    <tr>\n",
              "      <th>...</th>\n",
              "      <td>...</td>\n",
              "      <td>...</td>\n",
              "      <td>...</td>\n",
              "      <td>...</td>\n",
              "      <td>...</td>\n",
              "      <td>...</td>\n",
              "      <td>...</td>\n",
              "    </tr>\n",
              "    <tr>\n",
              "      <th>1672</th>\n",
              "      <td>183.0</td>\n",
              "      <td>288.0</td>\n",
              "      <td>239.0</td>\n",
              "      <td>187.0</td>\n",
              "      <td>74.0</td>\n",
              "      <td>154.0</td>\n",
              "      <td>138.0</td>\n",
              "    </tr>\n",
              "    <tr>\n",
              "      <th>1673</th>\n",
              "      <td>53.0</td>\n",
              "      <td>183.0</td>\n",
              "      <td>288.0</td>\n",
              "      <td>239.0</td>\n",
              "      <td>187.0</td>\n",
              "      <td>74.0</td>\n",
              "      <td>154.0</td>\n",
              "    </tr>\n",
              "    <tr>\n",
              "      <th>1674</th>\n",
              "      <td>227.0</td>\n",
              "      <td>53.0</td>\n",
              "      <td>183.0</td>\n",
              "      <td>288.0</td>\n",
              "      <td>239.0</td>\n",
              "      <td>187.0</td>\n",
              "      <td>74.0</td>\n",
              "    </tr>\n",
              "    <tr>\n",
              "      <th>1675</th>\n",
              "      <td>45.0</td>\n",
              "      <td>227.0</td>\n",
              "      <td>53.0</td>\n",
              "      <td>183.0</td>\n",
              "      <td>288.0</td>\n",
              "      <td>239.0</td>\n",
              "      <td>187.0</td>\n",
              "    </tr>\n",
              "    <tr>\n",
              "      <th>1676</th>\n",
              "      <td>159.0</td>\n",
              "      <td>45.0</td>\n",
              "      <td>227.0</td>\n",
              "      <td>53.0</td>\n",
              "      <td>183.0</td>\n",
              "      <td>288.0</td>\n",
              "      <td>239.0</td>\n",
              "    </tr>\n",
              "  </tbody>\n",
              "</table>\n",
              "<p>1677 rows × 7 columns</p>\n",
              "</div>\n",
              "      <button class=\"colab-df-convert\" onclick=\"convertToInteractive('df-e80580c4-79c4-40cd-8d4b-8afcbdb27771')\"\n",
              "              title=\"Convert this dataframe to an interactive table.\"\n",
              "              style=\"display:none;\">\n",
              "        \n",
              "  <svg xmlns=\"http://www.w3.org/2000/svg\" height=\"24px\"viewBox=\"0 0 24 24\"\n",
              "       width=\"24px\">\n",
              "    <path d=\"M0 0h24v24H0V0z\" fill=\"none\"/>\n",
              "    <path d=\"M18.56 5.44l.94 2.06.94-2.06 2.06-.94-2.06-.94-.94-2.06-.94 2.06-2.06.94zm-11 1L8.5 8.5l.94-2.06 2.06-.94-2.06-.94L8.5 2.5l-.94 2.06-2.06.94zm10 10l.94 2.06.94-2.06 2.06-.94-2.06-.94-.94-2.06-.94 2.06-2.06.94z\"/><path d=\"M17.41 7.96l-1.37-1.37c-.4-.4-.92-.59-1.43-.59-.52 0-1.04.2-1.43.59L10.3 9.45l-7.72 7.72c-.78.78-.78 2.05 0 2.83L4 21.41c.39.39.9.59 1.41.59.51 0 1.02-.2 1.41-.59l7.78-7.78 2.81-2.81c.8-.78.8-2.07 0-2.86zM5.41 20L4 18.59l7.72-7.72 1.47 1.35L5.41 20z\"/>\n",
              "  </svg>\n",
              "      </button>\n",
              "      \n",
              "  <style>\n",
              "    .colab-df-container {\n",
              "      display:flex;\n",
              "      flex-wrap:wrap;\n",
              "      gap: 12px;\n",
              "    }\n",
              "\n",
              "    .colab-df-convert {\n",
              "      background-color: #E8F0FE;\n",
              "      border: none;\n",
              "      border-radius: 50%;\n",
              "      cursor: pointer;\n",
              "      display: none;\n",
              "      fill: #1967D2;\n",
              "      height: 32px;\n",
              "      padding: 0 0 0 0;\n",
              "      width: 32px;\n",
              "    }\n",
              "\n",
              "    .colab-df-convert:hover {\n",
              "      background-color: #E2EBFA;\n",
              "      box-shadow: 0px 1px 2px rgba(60, 64, 67, 0.3), 0px 1px 3px 1px rgba(60, 64, 67, 0.15);\n",
              "      fill: #174EA6;\n",
              "    }\n",
              "\n",
              "    [theme=dark] .colab-df-convert {\n",
              "      background-color: #3B4455;\n",
              "      fill: #D2E3FC;\n",
              "    }\n",
              "\n",
              "    [theme=dark] .colab-df-convert:hover {\n",
              "      background-color: #434B5C;\n",
              "      box-shadow: 0px 1px 3px 1px rgba(0, 0, 0, 0.15);\n",
              "      filter: drop-shadow(0px 1px 2px rgba(0, 0, 0, 0.3));\n",
              "      fill: #FFFFFF;\n",
              "    }\n",
              "  </style>\n",
              "\n",
              "      <script>\n",
              "        const buttonEl =\n",
              "          document.querySelector('#df-e80580c4-79c4-40cd-8d4b-8afcbdb27771 button.colab-df-convert');\n",
              "        buttonEl.style.display =\n",
              "          google.colab.kernel.accessAllowed ? 'block' : 'none';\n",
              "\n",
              "        async function convertToInteractive(key) {\n",
              "          const element = document.querySelector('#df-e80580c4-79c4-40cd-8d4b-8afcbdb27771');\n",
              "          const dataTable =\n",
              "            await google.colab.kernel.invokeFunction('convertToInteractive',\n",
              "                                                     [key], {});\n",
              "          if (!dataTable) return;\n",
              "\n",
              "          const docLinkHtml = 'Like what you see? Visit the ' +\n",
              "            '<a target=\"_blank\" href=https://colab.research.google.com/notebooks/data_table.ipynb>data table notebook</a>'\n",
              "            + ' to learn more about interactive tables.';\n",
              "          element.innerHTML = '';\n",
              "          dataTable['output_type'] = 'display_data';\n",
              "          await google.colab.output.renderOutput(dataTable, element);\n",
              "          const docLink = document.createElement('div');\n",
              "          docLink.innerHTML = docLinkHtml;\n",
              "          element.appendChild(docLink);\n",
              "        }\n",
              "      </script>\n",
              "    </div>\n",
              "  </div>\n",
              "  "
            ]
          },
          "metadata": {},
          "execution_count": 23
        }
      ]
    },
    {
      "cell_type": "code",
      "source": [
        "y = ts.reindex(X.index)"
      ],
      "metadata": {
        "id": "LPb4Kub4YNcR"
      },
      "execution_count": 17,
      "outputs": []
    },
    {
      "cell_type": "code",
      "source": [
        "y.head()"
      ],
      "metadata": {
        "colab": {
          "base_uri": "https://localhost:8080/",
          "height": 238
        },
        "id": "qPA_Nw7eZnZM",
        "outputId": "97f3c207-b523-4051-b74f-6d5f40208bd2"
      },
      "execution_count": 18,
      "outputs": [
        {
          "output_type": "execute_result",
          "data": {
            "text/plain": [
              "            sales\n",
              "date             \n",
              "2013-01-08  119.0\n",
              "2013-01-09  190.0\n",
              "2013-01-10  110.0\n",
              "2013-01-11   81.0\n",
              "2013-01-12  103.0"
            ],
            "text/html": [
              "\n",
              "  <div id=\"df-0cc16c26-64d6-40bc-9981-bfac9041dfa6\">\n",
              "    <div class=\"colab-df-container\">\n",
              "      <div>\n",
              "<style scoped>\n",
              "    .dataframe tbody tr th:only-of-type {\n",
              "        vertical-align: middle;\n",
              "    }\n",
              "\n",
              "    .dataframe tbody tr th {\n",
              "        vertical-align: top;\n",
              "    }\n",
              "\n",
              "    .dataframe thead th {\n",
              "        text-align: right;\n",
              "    }\n",
              "</style>\n",
              "<table border=\"1\" class=\"dataframe\">\n",
              "  <thead>\n",
              "    <tr style=\"text-align: right;\">\n",
              "      <th></th>\n",
              "      <th>sales</th>\n",
              "    </tr>\n",
              "    <tr>\n",
              "      <th>date</th>\n",
              "      <th></th>\n",
              "    </tr>\n",
              "  </thead>\n",
              "  <tbody>\n",
              "    <tr>\n",
              "      <th>2013-01-08</th>\n",
              "      <td>119.0</td>\n",
              "    </tr>\n",
              "    <tr>\n",
              "      <th>2013-01-09</th>\n",
              "      <td>190.0</td>\n",
              "    </tr>\n",
              "    <tr>\n",
              "      <th>2013-01-10</th>\n",
              "      <td>110.0</td>\n",
              "    </tr>\n",
              "    <tr>\n",
              "      <th>2013-01-11</th>\n",
              "      <td>81.0</td>\n",
              "    </tr>\n",
              "    <tr>\n",
              "      <th>2013-01-12</th>\n",
              "      <td>103.0</td>\n",
              "    </tr>\n",
              "  </tbody>\n",
              "</table>\n",
              "</div>\n",
              "      <button class=\"colab-df-convert\" onclick=\"convertToInteractive('df-0cc16c26-64d6-40bc-9981-bfac9041dfa6')\"\n",
              "              title=\"Convert this dataframe to an interactive table.\"\n",
              "              style=\"display:none;\">\n",
              "        \n",
              "  <svg xmlns=\"http://www.w3.org/2000/svg\" height=\"24px\"viewBox=\"0 0 24 24\"\n",
              "       width=\"24px\">\n",
              "    <path d=\"M0 0h24v24H0V0z\" fill=\"none\"/>\n",
              "    <path d=\"M18.56 5.44l.94 2.06.94-2.06 2.06-.94-2.06-.94-.94-2.06-.94 2.06-2.06.94zm-11 1L8.5 8.5l.94-2.06 2.06-.94-2.06-.94L8.5 2.5l-.94 2.06-2.06.94zm10 10l.94 2.06.94-2.06 2.06-.94-2.06-.94-.94-2.06-.94 2.06-2.06.94z\"/><path d=\"M17.41 7.96l-1.37-1.37c-.4-.4-.92-.59-1.43-.59-.52 0-1.04.2-1.43.59L10.3 9.45l-7.72 7.72c-.78.78-.78 2.05 0 2.83L4 21.41c.39.39.9.59 1.41.59.51 0 1.02-.2 1.41-.59l7.78-7.78 2.81-2.81c.8-.78.8-2.07 0-2.86zM5.41 20L4 18.59l7.72-7.72 1.47 1.35L5.41 20z\"/>\n",
              "  </svg>\n",
              "      </button>\n",
              "      \n",
              "  <style>\n",
              "    .colab-df-container {\n",
              "      display:flex;\n",
              "      flex-wrap:wrap;\n",
              "      gap: 12px;\n",
              "    }\n",
              "\n",
              "    .colab-df-convert {\n",
              "      background-color: #E8F0FE;\n",
              "      border: none;\n",
              "      border-radius: 50%;\n",
              "      cursor: pointer;\n",
              "      display: none;\n",
              "      fill: #1967D2;\n",
              "      height: 32px;\n",
              "      padding: 0 0 0 0;\n",
              "      width: 32px;\n",
              "    }\n",
              "\n",
              "    .colab-df-convert:hover {\n",
              "      background-color: #E2EBFA;\n",
              "      box-shadow: 0px 1px 2px rgba(60, 64, 67, 0.3), 0px 1px 3px 1px rgba(60, 64, 67, 0.15);\n",
              "      fill: #174EA6;\n",
              "    }\n",
              "\n",
              "    [theme=dark] .colab-df-convert {\n",
              "      background-color: #3B4455;\n",
              "      fill: #D2E3FC;\n",
              "    }\n",
              "\n",
              "    [theme=dark] .colab-df-convert:hover {\n",
              "      background-color: #434B5C;\n",
              "      box-shadow: 0px 1px 3px 1px rgba(0, 0, 0, 0.15);\n",
              "      filter: drop-shadow(0px 1px 2px rgba(0, 0, 0, 0.3));\n",
              "      fill: #FFFFFF;\n",
              "    }\n",
              "  </style>\n",
              "\n",
              "      <script>\n",
              "        const buttonEl =\n",
              "          document.querySelector('#df-0cc16c26-64d6-40bc-9981-bfac9041dfa6 button.colab-df-convert');\n",
              "        buttonEl.style.display =\n",
              "          google.colab.kernel.accessAllowed ? 'block' : 'none';\n",
              "\n",
              "        async function convertToInteractive(key) {\n",
              "          const element = document.querySelector('#df-0cc16c26-64d6-40bc-9981-bfac9041dfa6');\n",
              "          const dataTable =\n",
              "            await google.colab.kernel.invokeFunction('convertToInteractive',\n",
              "                                                     [key], {});\n",
              "          if (!dataTable) return;\n",
              "\n",
              "          const docLinkHtml = 'Like what you see? Visit the ' +\n",
              "            '<a target=\"_blank\" href=https://colab.research.google.com/notebooks/data_table.ipynb>data table notebook</a>'\n",
              "            + ' to learn more about interactive tables.';\n",
              "          element.innerHTML = '';\n",
              "          dataTable['output_type'] = 'display_data';\n",
              "          await google.colab.output.renderOutput(dataTable, element);\n",
              "          const docLink = document.createElement('div');\n",
              "          docLink.innerHTML = docLinkHtml;\n",
              "          element.appendChild(docLink);\n",
              "        }\n",
              "      </script>\n",
              "    </div>\n",
              "  </div>\n",
              "  "
            ]
          },
          "metadata": {},
          "execution_count": 18
        }
      ]
    },
    {
      "cell_type": "code",
      "source": [
        "y['sales']"
      ],
      "metadata": {
        "id": "o1bKvpWpe4QT",
        "outputId": "04588e50-7720-4af6-fdca-c787062f9e11",
        "colab": {
          "base_uri": "https://localhost:8080/"
        }
      },
      "execution_count": 31,
      "outputs": [
        {
          "output_type": "execute_result",
          "data": {
            "text/plain": [
              "date\n",
              "2013-01-08    119.0\n",
              "2013-01-09    190.0\n",
              "2013-01-10    110.0\n",
              "2013-01-11     81.0\n",
              "2013-01-12    103.0\n",
              "              ...  \n",
              "2017-08-11     53.0\n",
              "2017-08-12    227.0\n",
              "2017-08-13     45.0\n",
              "2017-08-14    159.0\n",
              "2017-08-15    173.0\n",
              "Name: sales, Length: 1677, dtype: float64"
            ]
          },
          "metadata": {},
          "execution_count": 31
        }
      ]
    },
    {
      "cell_type": "code",
      "source": [
        "X_train, X_test, y_train, y_test = train_test_split(X, y['sales'], shuffle=False, test_size=.2)\n",
        "\n",
        "print(X_train.shape)\n",
        "print(y_train.shape)\n",
        "print(X_test.shape)\n",
        "print(y_test.shape)"
      ],
      "metadata": {
        "colab": {
          "base_uri": "https://localhost:8080/"
        },
        "id": "_Wb9pR9FhFNP",
        "outputId": "be9d6604-5295-4cf7-dc07-898ee9fbecdf"
      },
      "execution_count": 32,
      "outputs": [
        {
          "output_type": "stream",
          "name": "stdout",
          "text": [
            "(1341, 7)\n",
            "(1341,)\n",
            "(336, 7)\n",
            "(336,)\n"
          ]
        }
      ]
    },
    {
      "cell_type": "markdown",
      "source": [
        "E agora?"
      ],
      "metadata": {
        "id": "7_5RVb5FyNOK"
      }
    },
    {
      "cell_type": "markdown",
      "source": [
        "#SVR"
      ],
      "metadata": {
        "id": "sze3Hk7_ZAr3"
      }
    },
    {
      "cell_type": "code",
      "source": [
        "from sklearn.svm import SVR\n",
        "\n",
        "regr = SVR()\n",
        "regr.fit(X_train, y_train)"
      ],
      "metadata": {
        "id": "q1YGYxs0ZCjq",
        "outputId": "e2e7a6e8-d2d0-47a5-ce24-d9a3e9d51ee2",
        "colab": {
          "base_uri": "https://localhost:8080/"
        }
      },
      "execution_count": 33,
      "outputs": [
        {
          "output_type": "execute_result",
          "data": {
            "text/plain": [
              "SVR()"
            ]
          },
          "metadata": {},
          "execution_count": 33
        }
      ]
    },
    {
      "cell_type": "code",
      "source": [
        "y_pred = regr.predict(X_test)"
      ],
      "metadata": {
        "id": "ko0MhIBOaAeg"
      },
      "execution_count": 34,
      "outputs": []
    },
    {
      "cell_type": "code",
      "source": [
        "fig, ax = plt.subplots()\n",
        "\n",
        "ax.plot(y_pred, label='pred')\n",
        "ax.plot(y_test.reset_index(drop=True), label='true')\n",
        "\n",
        "plt.legend()"
      ],
      "metadata": {
        "id": "VKGXzb4glSQ2",
        "outputId": "9e6e3574-0d8a-4537-c955-ee66368e7875",
        "colab": {
          "base_uri": "https://localhost:8080/",
          "height": 282
        }
      },
      "execution_count": 35,
      "outputs": [
        {
          "output_type": "execute_result",
          "data": {
            "text/plain": [
              "<matplotlib.legend.Legend at 0x7fd94a64f510>"
            ]
          },
          "metadata": {},
          "execution_count": 35
        },
        {
          "output_type": "display_data",
          "data": {
            "text/plain": [
              "<Figure size 432x288 with 1 Axes>"
            ],
            "image/png": "[encoded data removed]"
          },
          "metadata": {
            "needs_background": "light"
          }
        }
      ]
    },
    {
      "cell_type": "code",
      "source": [
        "results = {}\n",
        "results['SVR'] = {'mape': mean_absolute_percentage_error(y_pred, y_test), \n",
        "                  'mse': mean_squared_error(y_pred, y_test), \n",
        "                  'mae': mean_absolute_error(y_pred, y_test)}\n",
        "\n",
        "print('Sales Forecast - SVR Results')\n",
        "print(results)"
      ],
      "metadata": {
        "colab": {
          "base_uri": "https://localhost:8080/"
        },
        "id": "w19tHXCwp1Nf",
        "outputId": "5c07dc41-42e4-4e8f-b4c8-8f035033a8ca"
      },
      "execution_count": 36,
      "outputs": [
        {
          "output_type": "stream",
          "name": "stdout",
          "text": [
            "Sales Forecast - SVR Results\n",
            "{'SVR': {'mape': 0.25458400610483956, 'mse': 3264.011938897812, 'mae': 34.26212521992928}}\n"
          ]
        }
      ]
    },
    {
      "cell_type": "markdown",
      "source": [
        "## Grid Search"
      ],
      "metadata": {
        "id": "X0_UCLBDXzYv"
      }
    },
    {
      "cell_type": "code",
      "source": [
        "from sklearn.model_selection import GridSearchCV, TimeSeriesSplit\n",
        "\n",
        "\n",
        "grid = {\n",
        "    \"kernel\": [\"rbf\", \"poly\"], \n",
        "    \"C\": [1, 10, 100]\n",
        "    }\n",
        "    \n",
        "\n",
        "grid_search = GridSearchCV(SVR(), \n",
        "                           grid, \n",
        "                           cv=TimeSeriesSplit(n_splits=5),\n",
        "                           n_jobs=-1)\n",
        "\n",
        "tuned_svr = grid_search.fit(X_train, y_train)"
      ],
      "metadata": {
        "id": "R3tE0spUXw2O"
      },
      "execution_count": 40,
      "outputs": []
    },
    {
      "cell_type": "code",
      "source": [
        "print(tuned_svr.best_score_)\n",
        "print(tuned_svr.best_params_)\n",
        "\n",
        "print('Grid Search - SVR Results')\n",
        "\n",
        "results['SVR_GS'] = {'mse': mean_squared_error(tuned_svr.predict(X_test), y_test), \n",
        "                    'mae': mean_absolute_error(tuned_svr.predict(X_test), y_test),\n",
        "                    'mape': mean_absolute_percentage_error(tuned_svr.predict(X_test), y_test)}\n",
        "\n",
        "results"
      ],
      "metadata": {
        "id": "GFBs49AAp-n1",
        "outputId": "bf2bd0b3-e440-4352-ae7e-1356b9fc396d",
        "colab": {
          "base_uri": "https://localhost:8080/"
        }
      },
      "execution_count": 41,
      "outputs": [
        {
          "output_type": "stream",
          "name": "stdout",
          "text": [
            "0.24520176407576993\n",
            "{'C': 100, 'kernel': 'rbf'}\n",
            "Grid Search - SVR Results\n"
          ]
        },
        {
          "output_type": "execute_result",
          "data": {
            "text/plain": [
              "{'SVR': {'mae': 34.26212521992928,\n",
              "  'mape': 0.25458400610483956,\n",
              "  'mse': 3264.011938897812},\n",
              " 'SVR_GS': {'mae': 31.270866996894863,\n",
              "  'mape': 0.22567612646330865,\n",
              "  'mse': 3021.6237457300317}}"
            ]
          },
          "metadata": {},
          "execution_count": 41
        }
      ]
    },
    {
      "cell_type": "code",
      "source": [
        "fig, ax = plt.subplots()\n",
        "\n",
        "ax.plot(tuned_svr.predict(X_test), label='pred')\n",
        "ax.plot(y_test.reset_index(drop=True), label='test')\n",
        "\n",
        "plt.title('Sales - SVR GS MODEL')\n",
        "plt.legend()"
      ],
      "metadata": {
        "id": "jud_LDpWY-VA",
        "outputId": "39103592-f195-4cec-d76b-cd69cf42b51c",
        "colab": {
          "base_uri": "https://localhost:8080/",
          "height": 298
        }
      },
      "execution_count": 43,
      "outputs": [
        {
          "output_type": "execute_result",
          "data": {
            "text/plain": [
              "<matplotlib.legend.Legend at 0x7fd94a2f3490>"
            ]
          },
          "metadata": {},
          "execution_count": 43
        },
        {
          "output_type": "display_data",
          "data": {
            "text/plain": [
              "<Figure size 432x288 with 1 Axes>"
            ],
            "image/png": "[encoded data removed]"
          },
          "metadata": {
            "needs_background": "light"
          }
        }
      ]
    },
    {
      "cell_type": "code",
      "source": [
        "y_train_multi = get_lags(pd.DataFrame(y_train), -7)\n",
        "y_test_multi = get_lags(pd.DataFrame(y_test), -7)"
      ],
      "metadata": {
        "id": "P2MbexOxbTGl"
      },
      "execution_count": 29,
      "outputs": []
    },
    {
      "cell_type": "code",
      "source": [
        "X_train_multi, y_train_multi = X_train.align(y_train_multi, join='inner', axis=0) \n",
        "X_test_multi, y_test_multi = X_test.align(y_test_multi, join='inner', axis=0) "
      ],
      "metadata": {
        "id": "vQWoK_Mqnvuh"
      },
      "execution_count": 30,
      "outputs": []
    },
    {
      "cell_type": "code",
      "source": [
        "X_train_multi.index is y_train_multi.index"
      ],
      "metadata": {
        "colab": {
          "base_uri": "https://localhost:8080/"
        },
        "id": "glTXeAIRoE57",
        "outputId": "054ff572-c404-446c-c8d1-26efe27ab5ce"
      },
      "execution_count": 31,
      "outputs": [
        {
          "output_type": "execute_result",
          "data": {
            "text/plain": [
              "True"
            ]
          },
          "metadata": {},
          "execution_count": 31
        }
      ]
    },
    {
      "cell_type": "code",
      "source": [
        "X_test_multi.index is y_test_multi.index"
      ],
      "metadata": {
        "colab": {
          "base_uri": "https://localhost:8080/"
        },
        "id": "dKRiTIXYopF2",
        "outputId": "f02f4735-e220-44fb-84a7-a3cc0cf91d7f"
      },
      "execution_count": 32,
      "outputs": [
        {
          "output_type": "execute_result",
          "data": {
            "text/plain": [
              "True"
            ]
          },
          "metadata": {},
          "execution_count": 32
        }
      ]
    },
    {
      "cell_type": "code",
      "source": [
        "from sklearn.svm import LinearSVR\n",
        "from sklearn.multioutput import MultiOutputRegressor"
      ],
      "metadata": {
        "id": "6c9DnUO0qR8K"
      },
      "execution_count": 33,
      "outputs": []
    },
    {
      "cell_type": "code",
      "source": [
        "regr_multi = MultiOutputRegressor(LinearSVR(C=1.0, epsilon=0.2))"
      ],
      "metadata": {
        "id": "KUCtKebLqyZQ"
      },
      "execution_count": 107,
      "outputs": []
    },
    {
      "cell_type": "code",
      "source": [
        "regr_multi.fit(X_train_multi, y_train_multi)"
      ],
      "metadata": {
        "colab": {
          "base_uri": "https://localhost:8080/"
        },
        "id": "VaW_5wa7aoq3",
        "outputId": "9133f566-6527-4690-fbef-b976799180d0"
      },
      "execution_count": 108,
      "outputs": [
        {
          "output_type": "stream",
          "name": "stderr",
          "text": [
            "/usr/local/lib/python3.7/dist-packages/sklearn/svm/_base.py:1208: ConvergenceWarning: Liblinear failed to converge, increase the number of iterations.\n",
            "  ConvergenceWarning,\n",
            "/usr/local/lib/python3.7/dist-packages/sklearn/svm/_base.py:1208: ConvergenceWarning: Liblinear failed to converge, increase the number of iterations.\n",
            "  ConvergenceWarning,\n",
            "/usr/local/lib/python3.7/dist-packages/sklearn/svm/_base.py:1208: ConvergenceWarning: Liblinear failed to converge, increase the number of iterations.\n",
            "  ConvergenceWarning,\n",
            "/usr/local/lib/python3.7/dist-packages/sklearn/svm/_base.py:1208: ConvergenceWarning: Liblinear failed to converge, increase the number of iterations.\n",
            "  ConvergenceWarning,\n",
            "/usr/local/lib/python3.7/dist-packages/sklearn/svm/_base.py:1208: ConvergenceWarning: Liblinear failed to converge, increase the number of iterations.\n",
            "  ConvergenceWarning,\n",
            "/usr/local/lib/python3.7/dist-packages/sklearn/svm/_base.py:1208: ConvergenceWarning: Liblinear failed to converge, increase the number of iterations.\n",
            "  ConvergenceWarning,\n",
            "/usr/local/lib/python3.7/dist-packages/sklearn/svm/_base.py:1208: ConvergenceWarning: Liblinear failed to converge, increase the number of iterations.\n",
            "  ConvergenceWarning,\n"
          ]
        },
        {
          "output_type": "execute_result",
          "data": {
            "text/plain": [
              "MultiOutputRegressor(estimator=LinearSVR(epsilon=0.2))"
            ]
          },
          "metadata": {},
          "execution_count": 108
        }
      ]
    },
    {
      "cell_type": "code",
      "source": [
        "y_pred_multi = regr_multi.predict(X_test_multi)"
      ],
      "metadata": {
        "id": "u7lKAIQWatgS"
      },
      "execution_count": 109,
      "outputs": []
    },
    {
      "cell_type": "code",
      "source": [
        "regr_multi.predict(X_test_multi).shape"
      ],
      "metadata": {
        "colab": {
          "base_uri": "https://localhost:8080/"
        },
        "id": "HW0_U-ohqwoQ",
        "outputId": "130b32f6-ecc3-415c-db29-30c6c77b0b09"
      },
      "execution_count": 110,
      "outputs": [
        {
          "output_type": "execute_result",
          "data": {
            "text/plain": [
              "(329, 7)"
            ]
          },
          "metadata": {},
          "execution_count": 110
        }
      ]
    },
    {
      "cell_type": "code",
      "source": [
        "fig, ax = plt.subplots()\n",
        "\n",
        "ax.plot(y_pred_multi, label='pred')\n",
        "ax.plot(y_test.reset_index(drop=True), label='true')\n",
        "\n",
        "plt.legend()"
      ],
      "metadata": {
        "id": "1GGzeuqr2IqV",
        "outputId": "3ffc3c79-3829-44b2-c2b8-3402b3a5b1a5",
        "colab": {
          "base_uri": "https://localhost:8080/",
          "height": 338
        }
      },
      "execution_count": 47,
      "outputs": [
        {
          "output_type": "execute_result",
          "data": {
            "text/plain": [
              "<matplotlib.legend.Legend at 0x7f676e61a790>"
            ]
          },
          "metadata": {},
          "execution_count": 47
        },
        {
          "output_type": "display_data",
          "data": {
            "text/plain": [
              "<Figure size 720x360 with 1 Axes>"
            ],
            "image/png": "[encoded data removed]"
          },
          "metadata": {
            "needs_background": "light"
          }
        }
      ]
    },
    {
      "cell_type": "code",
      "source": [
        "results['SVR Multi'] = {'mape': mean_absolute_percentage_error(y_pred_multi, y_test_multi),\n",
        "                        'mse': mean_squared_error(y_pred_multi, y_test_multi), \n",
        "                        'mae': mean_absolute_error(y_pred_multi, y_test_multi)}\n",
        "\n",
        "print('Sales Forecast - SVR Multi Results')\n",
        "results"
      ],
      "metadata": {
        "colab": {
          "base_uri": "https://localhost:8080/"
        },
        "id": "5-UWwp1Tp7Vh",
        "outputId": "324c8d51-4cb1-4048-d095-bb7369ec7017"
      },
      "execution_count": 111,
      "outputs": [
        {
          "output_type": "stream",
          "name": "stdout",
          "text": [
            "Sales Forecast - SVR Multi Results\n"
          ]
        },
        {
          "output_type": "execute_result",
          "data": {
            "text/plain": [
              "{'SVR': {'mae': 41.331126829861226,\n",
              "  'mape': 0.2846051426141686,\n",
              "  'mse': 4022.839105099348},\n",
              " 'SVR Multi': {'mae': 48.061604479413255,\n",
              "  'mape': 0.33327200225833675,\n",
              "  'mse': 5217.498999891684}}"
            ]
          },
          "metadata": {},
          "execution_count": 111
        }
      ]
    },
    {
      "cell_type": "code",
      "source": [
        "for day in np.random.randint(1, 100, 3):\n",
        "  fig, ax = plt.subplots()\n",
        "  pd.Series(y_pred_multi[day]).plot(label='pred')\n",
        "  pd.Series(pd.DataFrame(y_test_multi).reset_index(drop=True).loc[day].values).plot(label='true')\n",
        "  plt.title(day)\n",
        "  plt.legend()"
      ],
      "metadata": {
        "colab": {
          "base_uri": "https://localhost:8080/",
          "height": 974
        },
        "id": "kXQEEr4krOBV",
        "outputId": "994a97ff-1d4e-42fa-97c5-04c645a3652c"
      },
      "execution_count": 40,
      "outputs": [
        {
          "output_type": "display_data",
          "data": {
            "text/plain": [
              "<Figure size 720x360 with 1 Axes>"
            ],
            "image/png": "[encoded data removed]"
          },
          "metadata": {
            "needs_background": "light"
          }
        },
        {
          "output_type": "display_data",
          "data": {
            "text/plain": [
              "<Figure size 720x360 with 1 Axes>"
            ],
            "image/png": "[encoded data removed]"
          },
          "metadata": {
            "needs_background": "light"
          }
        },
        {
          "output_type": "display_data",
          "data": {
            "text/plain": [
              "<Figure size 720x360 with 1 Axes>"
            ],
            "image/png": "[encoded data removed]"
          },
          "metadata": {
            "needs_background": "light"
          }
        }
      ]
    },
    {
      "cell_type": "code",
      "source": [
        "pd.DataFrame(results)"
      ],
      "metadata": {
        "colab": {
          "base_uri": "https://localhost:8080/",
          "height": 143
        },
        "id": "1Nk0LEGvtV1p",
        "outputId": "f9a4e8ae-4a98-4b63-8a11-c81765b14906"
      },
      "execution_count": 112,
      "outputs": [
        {
          "output_type": "execute_result",
          "data": {
            "text/plain": [
              "              SVR    SVR Multi\n",
              "mape     0.284605     0.333272\n",
              "mse   4022.839105  5217.499000\n",
              "mae     41.331127    48.061604"
            ],
            "text/html": [
              "\n",
              "  <div id=\"df-96ec701c-72e4-46d5-8ba8-d558618d67ed\">\n",
              "    <div class=\"colab-df-container\">\n",
              "      <div>\n",
              "<style scoped>\n",
              "    .dataframe tbody tr th:only-of-type {\n",
              "        vertical-align: middle;\n",
              "    }\n",
              "\n",
              "    .dataframe tbody tr th {\n",
              "        vertical-align: top;\n",
              "    }\n",
              "\n",
              "    .dataframe thead th {\n",
              "        text-align: right;\n",
              "    }\n",
              "</style>\n",
              "<table border=\"1\" class=\"dataframe\">\n",
              "  <thead>\n",
              "    <tr style=\"text-align: right;\">\n",
              "      <th></th>\n",
              "      <th>SVR</th>\n",
              "      <th>SVR Multi</th>\n",
              "    </tr>\n",
              "  </thead>\n",
              "  <tbody>\n",
              "    <tr>\n",
              "      <th>mape</th>\n",
              "      <td>0.284605</td>\n",
              "      <td>0.333272</td>\n",
              "    </tr>\n",
              "    <tr>\n",
              "      <th>mse</th>\n",
              "      <td>4022.839105</td>\n",
              "      <td>5217.499000</td>\n",
              "    </tr>\n",
              "    <tr>\n",
              "      <th>mae</th>\n",
              "      <td>41.331127</td>\n",
              "      <td>48.061604</td>\n",
              "    </tr>\n",
              "  </tbody>\n",
              "</table>\n",
              "</div>\n",
              "      <button class=\"colab-df-convert\" onclick=\"convertToInteractive('df-96ec701c-72e4-46d5-8ba8-d558618d67ed')\"\n",
              "              title=\"Convert this dataframe to an interactive table.\"\n",
              "              style=\"display:none;\">\n",
              "        \n",
              "  <svg xmlns=\"http://www.w3.org/2000/svg\" height=\"24px\"viewBox=\"0 0 24 24\"\n",
              "       width=\"24px\">\n",
              "    <path d=\"M0 0h24v24H0V0z\" fill=\"none\"/>\n",
              "    <path d=\"M18.56 5.44l.94 2.06.94-2.06 2.06-.94-2.06-.94-.94-2.06-.94 2.06-2.06.94zm-11 1L8.5 8.5l.94-2.06 2.06-.94-2.06-.94L8.5 2.5l-.94 2.06-2.06.94zm10 10l.94 2.06.94-2.06 2.06-.94-2.06-.94-.94-2.06-.94 2.06-2.06.94z\"/><path d=\"M17.41 7.96l-1.37-1.37c-.4-.4-.92-.59-1.43-.59-.52 0-1.04.2-1.43.59L10.3 9.45l-7.72 7.72c-.78.78-.78 2.05 0 2.83L4 21.41c.39.39.9.59 1.41.59.51 0 1.02-.2 1.41-.59l7.78-7.78 2.81-2.81c.8-.78.8-2.07 0-2.86zM5.41 20L4 18.59l7.72-7.72 1.47 1.35L5.41 20z\"/>\n",
              "  </svg>\n",
              "      </button>\n",
              "      \n",
              "  <style>\n",
              "    .colab-df-container {\n",
              "      display:flex;\n",
              "      flex-wrap:wrap;\n",
              "      gap: 12px;\n",
              "    }\n",
              "\n",
              "    .colab-df-convert {\n",
              "      background-color: #E8F0FE;\n",
              "      border: none;\n",
              "      border-radius: 50%;\n",
              "      cursor: pointer;\n",
              "      display: none;\n",
              "      fill: #1967D2;\n",
              "      height: 32px;\n",
              "      padding: 0 0 0 0;\n",
              "      width: 32px;\n",
              "    }\n",
              "\n",
              "    .colab-df-convert:hover {\n",
              "      background-color: #E2EBFA;\n",
              "      box-shadow: 0px 1px 2px rgba(60, 64, 67, 0.3), 0px 1px 3px 1px rgba(60, 64, 67, 0.15);\n",
              "      fill: #174EA6;\n",
              "    }\n",
              "\n",
              "    [theme=dark] .colab-df-convert {\n",
              "      background-color: #3B4455;\n",
              "      fill: #D2E3FC;\n",
              "    }\n",
              "\n",
              "    [theme=dark] .colab-df-convert:hover {\n",
              "      background-color: #434B5C;\n",
              "      box-shadow: 0px 1px 3px 1px rgba(0, 0, 0, 0.15);\n",
              "      filter: drop-shadow(0px 1px 2px rgba(0, 0, 0, 0.3));\n",
              "      fill: #FFFFFF;\n",
              "    }\n",
              "  </style>\n",
              "\n",
              "      <script>\n",
              "        const buttonEl =\n",
              "          document.querySelector('#df-96ec701c-72e4-46d5-8ba8-d558618d67ed button.colab-df-convert');\n",
              "        buttonEl.style.display =\n",
              "          google.colab.kernel.accessAllowed ? 'block' : 'none';\n",
              "\n",
              "        async function convertToInteractive(key) {\n",
              "          const element = document.querySelector('#df-96ec701c-72e4-46d5-8ba8-d558618d67ed');\n",
              "          const dataTable =\n",
              "            await google.colab.kernel.invokeFunction('convertToInteractive',\n",
              "                                                     [key], {});\n",
              "          if (!dataTable) return;\n",
              "\n",
              "          const docLinkHtml = 'Like what you see? Visit the ' +\n",
              "            '<a target=\"_blank\" href=https://colab.research.google.com/notebooks/data_table.ipynb>data table notebook</a>'\n",
              "            + ' to learn more about interactive tables.';\n",
              "          element.innerHTML = '';\n",
              "          dataTable['output_type'] = 'display_data';\n",
              "          await google.colab.output.renderOutput(dataTable, element);\n",
              "          const docLink = document.createElement('div');\n",
              "          docLink.innerHTML = docLinkHtml;\n",
              "          element.appendChild(docLink);\n",
              "        }\n",
              "      </script>\n",
              "    </div>\n",
              "  </div>\n",
              "  "
            ]
          },
          "metadata": {},
          "execution_count": 112
        }
      ]
    },
    {
      "cell_type": "markdown",
      "source": [
        "# MLP"
      ],
      "metadata": {
        "id": "J6k_exDitgjC"
      }
    },
    {
      "cell_type": "code",
      "source": [
        "import torch\n",
        "from torch import nn\n",
        "from torch.utils.data import DataLoader\n",
        "import torch.optim as optim"
      ],
      "metadata": {
        "id": "JvJPz8WGu9yz"
      },
      "execution_count": 42,
      "outputs": []
    },
    {
      "cell_type": "markdown",
      "source": [
        "https://pytorch.org/tutorials/beginner/basics/intro.html"
      ],
      "metadata": {
        "id": "3YCtbgEA5IuG"
      }
    },
    {
      "cell_type": "markdown",
      "source": [
        "### Graphs"
      ],
      "metadata": {
        "id": "o7TygPVeEXu-"
      }
    },
    {
      "cell_type": "code",
      "source": [
        "!sudo apt-get install graphviz graphviz-dev"
      ],
      "metadata": {
        "colab": {
          "base_uri": "https://localhost:8080/"
        },
        "id": "YgAmRdFt7ocf",
        "outputId": "b3fa24a2-803b-4bf8-9a93-e145f533d4a7"
      },
      "execution_count": 43,
      "outputs": [
        {
          "output_type": "stream",
          "name": "stdout",
          "text": [
            "Reading package lists... Done\n",
            "Building dependency tree       \n",
            "Reading state information... Done\n",
            "Note, selecting 'libgraphviz-dev' instead of 'graphviz-dev'\n",
            "graphviz is already the newest version (2.40.1-2).\n",
            "The following additional packages will be installed:\n",
            "  libgail-common libgail18 libgtk2.0-0 libgtk2.0-bin libgtk2.0-common\n",
            "  libgvc6-plugins-gtk libxdot4\n",
            "Suggested packages:\n",
            "  gvfs\n",
            "The following NEW packages will be installed:\n",
            "  libgail-common libgail18 libgraphviz-dev libgtk2.0-0 libgtk2.0-bin\n",
            "  libgtk2.0-common libgvc6-plugins-gtk libxdot4\n",
            "0 upgraded, 8 newly installed, 0 to remove and 39 not upgraded.\n",
            "Need to get 2,120 kB of archives.\n",
            "After this operation, 7,128 kB of additional disk space will be used.\n",
            "Get:1 http://archive.ubuntu.com/ubuntu bionic/main amd64 libgtk2.0-common all 2.24.32-1ubuntu1 [125 kB]\n",
            "Get:2 http://archive.ubuntu.com/ubuntu bionic/main amd64 libgtk2.0-0 amd64 2.24.32-1ubuntu1 [1,769 kB]\n",
            "Get:3 http://archive.ubuntu.com/ubuntu bionic/main amd64 libgail18 amd64 2.24.32-1ubuntu1 [14.2 kB]\n",
            "Get:4 http://archive.ubuntu.com/ubuntu bionic/main amd64 libgail-common amd64 2.24.32-1ubuntu1 [112 kB]\n",
            "Get:5 http://archive.ubuntu.com/ubuntu bionic/universe amd64 libxdot4 amd64 2.40.1-2 [15.7 kB]\n",
            "Get:6 http://archive.ubuntu.com/ubuntu bionic/universe amd64 libgvc6-plugins-gtk amd64 2.40.1-2 [18.2 kB]\n",
            "Get:7 http://archive.ubuntu.com/ubuntu bionic/universe amd64 libgraphviz-dev amd64 2.40.1-2 [57.3 kB]\n",
            "Get:8 http://archive.ubuntu.com/ubuntu bionic/main amd64 libgtk2.0-bin amd64 2.24.32-1ubuntu1 [7,536 B]\n",
            "Fetched 2,120 kB in 1s (2,531 kB/s)\n",
            "debconf: unable to initialize frontend: Dialog\n",
            "debconf: (No usable dialog-like program is installed, so the dialog based frontend cannot be used. at /usr/share/perl5/Debconf/FrontEnd/Dialog.pm line 76, <> line 8.)\n",
            "debconf: falling back to frontend: Readline\n",
            "debconf: unable to initialize frontend: Readline\n",
            "debconf: (This frontend requires a controlling tty.)\n",
            "debconf: falling back to frontend: Teletype\n",
            "dpkg-preconfigure: unable to re-open stdin: \n",
            "Selecting previously unselected package libgtk2.0-common.\n",
            "(Reading database ... 155455 files and directories currently installed.)\n",
            "Preparing to unpack .../0-libgtk2.0-common_2.24.32-1ubuntu1_all.deb ...\n",
            "Unpacking libgtk2.0-common (2.24.32-1ubuntu1) ...\n",
            "Selecting previously unselected package libgtk2.0-0:amd64.\n",
            "Preparing to unpack .../1-libgtk2.0-0_2.24.32-1ubuntu1_amd64.deb ...\n",
            "Unpacking libgtk2.0-0:amd64 (2.24.32-1ubuntu1) ...\n",
            "Selecting previously unselected package libgail18:amd64.\n",
            "Preparing to unpack .../2-libgail18_2.24.32-1ubuntu1_amd64.deb ...\n",
            "Unpacking libgail18:amd64 (2.24.32-1ubuntu1) ...\n",
            "Selecting previously unselected package libgail-common:amd64.\n",
            "Preparing to unpack .../3-libgail-common_2.24.32-1ubuntu1_amd64.deb ...\n",
            "Unpacking libgail-common:amd64 (2.24.32-1ubuntu1) ...\n",
            "Selecting previously unselected package libxdot4.\n",
            "Preparing to unpack .../4-libxdot4_2.40.1-2_amd64.deb ...\n",
            "Unpacking libxdot4 (2.40.1-2) ...\n",
            "Selecting previously unselected package libgvc6-plugins-gtk.\n",
            "Preparing to unpack .../5-libgvc6-plugins-gtk_2.40.1-2_amd64.deb ...\n",
            "Unpacking libgvc6-plugins-gtk (2.40.1-2) ...\n",
            "Selecting previously unselected package libgraphviz-dev.\n",
            "Preparing to unpack .../6-libgraphviz-dev_2.40.1-2_amd64.deb ...\n",
            "Unpacking libgraphviz-dev (2.40.1-2) ...\n",
            "Selecting previously unselected package libgtk2.0-bin.\n",
            "Preparing to unpack .../7-libgtk2.0-bin_2.24.32-1ubuntu1_amd64.deb ...\n",
            "Unpacking libgtk2.0-bin (2.24.32-1ubuntu1) ...\n",
            "Setting up libgtk2.0-common (2.24.32-1ubuntu1) ...\n",
            "Setting up libxdot4 (2.40.1-2) ...\n",
            "Setting up libgtk2.0-0:amd64 (2.24.32-1ubuntu1) ...\n",
            "Setting up libgail18:amd64 (2.24.32-1ubuntu1) ...\n",
            "Setting up libgail-common:amd64 (2.24.32-1ubuntu1) ...\n",
            "Setting up libgvc6-plugins-gtk (2.40.1-2) ...\n",
            "Setting up libgraphviz-dev (2.40.1-2) ...\n",
            "Setting up libgtk2.0-bin (2.24.32-1ubuntu1) ...\n",
            "Processing triggers for man-db (2.8.3-2ubuntu0.1) ...\n",
            "Processing triggers for libc-bin (2.27-3ubuntu1.3) ...\n",
            "/sbin/ldconfig.real: /usr/local/lib/python3.7/dist-packages/ideep4py/lib/libmkldnn.so.0 is not a symbolic link\n",
            "\n"
          ]
        }
      ]
    },
    {
      "cell_type": "code",
      "source": [
        "pip install pygraphviz"
      ],
      "metadata": {
        "colab": {
          "base_uri": "https://localhost:8080/"
        },
        "id": "PgP2l7kb7qhd",
        "outputId": "817ae04f-3768-4214-9f0a-a623cf3250f3"
      },
      "execution_count": 48,
      "outputs": [
        {
          "output_type": "stream",
          "name": "stdout",
          "text": [
            "Collecting pygraphviz\n",
            "  Downloading pygraphviz-1.7.zip (118 kB)\n",
            "\u001b[?25l\r\u001b[K     |██▊                             | 10 kB 13.3 MB/s eta 0:00:01\r\u001b[K     |█████▌                          | 20 kB 13.3 MB/s eta 0:00:01\r\u001b[K     |████████▎                       | 30 kB 14.9 MB/s eta 0:00:01\r\u001b[K     |███████████                     | 40 kB 16.8 MB/s eta 0:00:01\r\u001b[K     |█████████████▉                  | 51 kB 17.9 MB/s eta 0:00:01\r\u001b[K     |████████████████▋               | 61 kB 19.9 MB/s eta 0:00:01\r\u001b[K     |███████████████████▎            | 71 kB 17.0 MB/s eta 0:00:01\r\u001b[K     |██████████████████████          | 81 kB 16.4 MB/s eta 0:00:01\r\u001b[K     |████████████████████████▉       | 92 kB 17.7 MB/s eta 0:00:01\r\u001b[K     |███████████████████████████▋    | 102 kB 18.7 MB/s eta 0:00:01\r\u001b[K     |██████████████████████████████▍ | 112 kB 18.7 MB/s eta 0:00:01\r\u001b[K     |████████████████████████████████| 118 kB 18.7 MB/s \n",
            "\u001b[?25hBuilding wheels for collected packages: pygraphviz\n",
            "  Building wheel for pygraphviz (setup.py) ... \u001b[?25l\u001b[?25hdone\n",
            "  Created wheel for pygraphviz: filename=pygraphviz-1.7-cp37-cp37m-linux_x86_64.whl size=165755 sha256=5c742146588b1098d6414f4c60c9b8ff06556b297146323039aba73ba2121f14\n",
            "  Stored in directory: /root/.cache/pip/wheels/8c/bc/0c/ac35392b72556e75107ff610cb31b313e8471918a6d280e34c\n",
            "Successfully built pygraphviz\n",
            "Installing collected packages: pygraphviz\n",
            "Successfully installed pygraphviz-1.7\n"
          ]
        }
      ]
    },
    {
      "cell_type": "code",
      "source": [
        "import pygraphviz"
      ],
      "metadata": {
        "id": "mPczctK-7zem"
      },
      "execution_count": 49,
      "outputs": []
    },
    {
      "cell_type": "code",
      "source": [
        "import networkx as nx"
      ],
      "metadata": {
        "id": "9dK33bg74rro"
      },
      "execution_count": 50,
      "outputs": []
    },
    {
      "cell_type": "code",
      "source": [
        "g1 = nx.DiGraph()\n",
        "for i in range(1,6):\n",
        "  g1.add_edge(i,'n1')\n",
        "g1.add_edge('n1','out')\n",
        "A = nx.nx_agraph.to_agraph(g1)\n",
        "A.draw(\"g1.png\", prog=\"dot\", )"
      ],
      "metadata": {
        "id": "GtqYrnrY5TlW"
      },
      "execution_count": 51,
      "outputs": []
    },
    {
      "cell_type": "code",
      "source": [
        "nx.draw_kamada_kawai(g1)"
      ],
      "metadata": {
        "colab": {
          "base_uri": "https://localhost:8080/",
          "height": 391
        },
        "id": "7CfDKo-_Elij",
        "outputId": "0db0d1ab-15d1-4209-a1c7-c8088411ad71"
      },
      "execution_count": 52,
      "outputs": [
        {
          "output_type": "display_data",
          "data": {
            "text/plain": [
              "<Figure size 720x360 with 1 Axes>"
            ],
            "image/png": "[encoded data removed]"
          },
          "metadata": {}
        }
      ]
    },
    {
      "cell_type": "code",
      "source": [
        "camada_entrada = [1,2,3,4]\n",
        "neuronios = [[1,2,3,4],[1,2,3,4],[1,2,3,4]]\n",
        "ativacao = relu(neuronios)\n",
        "output = ativacao\n",
        "\n",
        "erro = grad(neuronios)"
      ],
      "metadata": {
        "id": "WpVxwgmw9k9p",
        "outputId": "a45b6d2a-a523-4ee2-e3c0-6f67a3b94644",
        "colab": {
          "base_uri": "https://localhost:8080/",
          "height": 234
        }
      },
      "execution_count": 56,
      "outputs": [
        {
          "output_type": "error",
          "ename": "NameError",
          "evalue": "ignored",
          "traceback": [
            "\u001b[0;31m---------------------------------------------------------------------------\u001b[0m",
            "\u001b[0;31mNameError\u001b[0m                                 Traceback (most recent call last)",
            "\u001b[0;32m<ipython-input-56-023060a1f906>\u001b[0m in \u001b[0;36m<module>\u001b[0;34m()\u001b[0m\n\u001b[1;32m      1\u001b[0m \u001b[0mcamada_entrada\u001b[0m \u001b[0;34m=\u001b[0m \u001b[0;34m[\u001b[0m\u001b[0;36m1\u001b[0m\u001b[0;34m,\u001b[0m\u001b[0;36m2\u001b[0m\u001b[0;34m,\u001b[0m\u001b[0;36m3\u001b[0m\u001b[0;34m,\u001b[0m\u001b[0;36m4\u001b[0m\u001b[0;34m]\u001b[0m\u001b[0;34m\u001b[0m\u001b[0;34m\u001b[0m\u001b[0m\n\u001b[1;32m      2\u001b[0m \u001b[0mneuronios\u001b[0m \u001b[0;34m=\u001b[0m \u001b[0;34m[\u001b[0m\u001b[0;34m[\u001b[0m\u001b[0;36m1\u001b[0m\u001b[0;34m,\u001b[0m\u001b[0;36m2\u001b[0m\u001b[0;34m,\u001b[0m\u001b[0;36m3\u001b[0m\u001b[0;34m,\u001b[0m\u001b[0;36m4\u001b[0m\u001b[0;34m]\u001b[0m\u001b[0;34m,\u001b[0m\u001b[0;34m[\u001b[0m\u001b[0;36m1\u001b[0m\u001b[0;34m,\u001b[0m\u001b[0;36m2\u001b[0m\u001b[0;34m,\u001b[0m\u001b[0;36m3\u001b[0m\u001b[0;34m,\u001b[0m\u001b[0;36m4\u001b[0m\u001b[0;34m]\u001b[0m\u001b[0;34m,\u001b[0m\u001b[0;34m[\u001b[0m\u001b[0;36m1\u001b[0m\u001b[0;34m,\u001b[0m\u001b[0;36m2\u001b[0m\u001b[0;34m,\u001b[0m\u001b[0;36m3\u001b[0m\u001b[0;34m,\u001b[0m\u001b[0;36m4\u001b[0m\u001b[0;34m]\u001b[0m\u001b[0;34m]\u001b[0m\u001b[0;34m\u001b[0m\u001b[0;34m\u001b[0m\u001b[0m\n\u001b[0;32m----> 3\u001b[0;31m \u001b[0mativacao\u001b[0m \u001b[0;34m=\u001b[0m \u001b[0mrelu\u001b[0m\u001b[0;34m(\u001b[0m\u001b[0mneuronios\u001b[0m\u001b[0;34m)\u001b[0m\u001b[0;34m\u001b[0m\u001b[0;34m\u001b[0m\u001b[0m\n\u001b[0m\u001b[1;32m      4\u001b[0m \u001b[0moutput\u001b[0m \u001b[0;34m=\u001b[0m \u001b[0mativacao\u001b[0m\u001b[0;34m\u001b[0m\u001b[0;34m\u001b[0m\u001b[0m\n\u001b[1;32m      5\u001b[0m \u001b[0;34m\u001b[0m\u001b[0m\n",
            "\u001b[0;31mNameError\u001b[0m: name 'relu' is not defined"
          ]
        }
      ]
    },
    {
      "cell_type": "code",
      "source": [
        "g2 = nx.DiGraph()\n",
        "\"\"\"\n",
        "# X\n",
        "for i in range(1,5):\n",
        "  g2.add_node(i)\n",
        "\n",
        "# y\n",
        "g2.add_node('out')\n",
        "\n",
        "# Neurons\n",
        "for j in ('n1','n2','n3'):\n",
        "  g2.add_node(j)\n",
        "\"\"\"\n",
        "# Conexões\n",
        "for i in range(1,5):\n",
        "  for j in ('n1','n2','n3'):\n",
        "    g2.add_edge(i,j)\n",
        "    g2.add_edge(j,'out')\n",
        "B = nx.nx_agraph.to_agraph(g2)\n",
        "B.draw(\"g2.png\", prog=\"dot\")"
      ],
      "metadata": {
        "id": "NSdsSqAQ-twg"
      },
      "execution_count": 57,
      "outputs": []
    },
    {
      "cell_type": "code",
      "source": [
        "g3 = g2.reverse()\n",
        "C = nx.nx_agraph.to_agraph(g3)\n",
        "C.draw(\"g3.png\", prog=\"dot\")"
      ],
      "metadata": {
        "id": "fP-uowGPAvlI"
      },
      "execution_count": 58,
      "outputs": []
    },
    {
      "cell_type": "code",
      "source": [
        "g4 = nx.DiGraph()\n",
        "# Conexões\n",
        "for i in range(1,5):\n",
        "  for j in ('n11','n12','n13'):\n",
        "    g4.add_edge(i,j)\n",
        "    for k in ('n21','n22','n23', 'n24', 'n25'):\n",
        "      g4.add_edge(j,k)\n",
        "      for l in ('n31','n32','n33', 'n34', 'n35', 'n36', 'n37'):\n",
        "        g4.add_edge(k,l)\n",
        "        g4.add_edge(l,'out')\n",
        "D = nx.nx_agraph.to_agraph(g4)\n",
        "D.draw(\"g4.png\", prog=\"dot\")"
      ],
      "metadata": {
        "id": "Agw3EIymDbJH"
      },
      "execution_count": 59,
      "outputs": []
    },
    {
      "cell_type": "code",
      "source": [
        "X_train_d1 = X_train.diff().dropna()\n",
        "X_test_d1 = X_test.diff().dropna()\n",
        "y_train_d1 = y_train.diff().dropna()\n",
        "y_test_d1 = y_test.diff().dropna()"
      ],
      "metadata": {
        "id": "APDXaDs18Dxt"
      },
      "execution_count": 61,
      "outputs": []
    },
    {
      "cell_type": "markdown",
      "source": [
        "### Normalization"
      ],
      "metadata": {
        "id": "dvxCofbGY1-W"
      }
    },
    {
      "cell_type": "code",
      "source": [
        "X_train_d1_norm = X_train_d1.sub(X_train_d1.mean()).div(X_train_d1.std())\n",
        "X_test_d1_norm = X_test_d1.sub(X_train_d1.mean()).div(X_train_d1.std())"
      ],
      "metadata": {
        "id": "IpDgJrev5Yfd"
      },
      "execution_count": 62,
      "outputs": []
    },
    {
      "cell_type": "code",
      "source": [
        "X_train_d1_norm['sales-1'].plot()"
      ],
      "metadata": {
        "colab": {
          "base_uri": "https://localhost:8080/",
          "height": 351
        },
        "id": "a96rK3G-huyF",
        "outputId": "adb5bbb0-64ae-4842-89b4-46da88ce16d3"
      },
      "execution_count": 65,
      "outputs": [
        {
          "output_type": "execute_result",
          "data": {
            "text/plain": [
              "<matplotlib.axes._subplots.AxesSubplot at 0x7f6767686790>"
            ]
          },
          "metadata": {},
          "execution_count": 65
        },
        {
          "output_type": "display_data",
          "data": {
            "text/plain": [
              "<Figure size 720x360 with 1 Axes>"
            ],
            "image/png": "[encoded data removed]"
          },
          "metadata": {
            "needs_background": "light"
          }
        }
      ]
    },
    {
      "cell_type": "code",
      "source": [
        "X_train_d1_norm['sales-1'].plot.hist(title='train')"
      ],
      "metadata": {
        "colab": {
          "base_uri": "https://localhost:8080/",
          "height": 354
        },
        "id": "iSobsT2Ahg9E",
        "outputId": "62c9cd7a-e69a-42ac-bd2b-d681dd4f23e2"
      },
      "execution_count": 66,
      "outputs": [
        {
          "output_type": "execute_result",
          "data": {
            "text/plain": [
              "<matplotlib.axes._subplots.AxesSubplot at 0x7f67675e41d0>"
            ]
          },
          "metadata": {},
          "execution_count": 66
        },
        {
          "output_type": "display_data",
          "data": {
            "text/plain": [
              "<Figure size 720x360 with 1 Axes>"
            ],
            "image/png": "[encoded data removed]"
          },
          "metadata": {
            "needs_background": "light"
          }
        }
      ]
    },
    {
      "cell_type": "code",
      "source": [
        "X_test_d1_norm['sales-1'].plot.hist(title='test')"
      ],
      "metadata": {
        "colab": {
          "base_uri": "https://localhost:8080/",
          "height": 354
        },
        "id": "Snc-inFhglRC",
        "outputId": "adb29283-0301-4ce5-f967-a3222d623697"
      },
      "execution_count": 67,
      "outputs": [
        {
          "output_type": "execute_result",
          "data": {
            "text/plain": [
              "<matplotlib.axes._subplots.AxesSubplot at 0x7f67675fc350>"
            ]
          },
          "metadata": {},
          "execution_count": 67
        },
        {
          "output_type": "display_data",
          "data": {
            "text/plain": [
              "<Figure size 720x360 with 1 Axes>"
            ],
            "image/png": "[encoded data removed]"
          },
          "metadata": {
            "needs_background": "light"
          }
        }
      ]
    },
    {
      "cell_type": "markdown",
      "source": [
        "### Tensors"
      ],
      "metadata": {
        "id": "3vrXwfcD6RER"
      }
    },
    {
      "cell_type": "markdown",
      "source": [
        "![](https://miro.medium.com/max/654/1*8jdzMrA33Leu3j3F6A8a3w.png)"
      ],
      "metadata": {
        "id": "YlzSPPPD6neN"
      }
    },
    {
      "cell_type": "markdown",
      "source": [
        "#### Batches"
      ],
      "metadata": {
        "id": "bps2f1eTETcT"
      }
    },
    {
      "cell_type": "code",
      "source": [
        "training_data = torch.tensor(pd.concat([X_train_d1_norm, y_train_d1], axis=1).values)\n",
        "testing_data = torch.tensor(pd.concat([X_test_d1_norm, y_test_d1], axis=1).values)"
      ],
      "metadata": {
        "id": "k8qHe3c2UjJ7"
      },
      "execution_count": 68,
      "outputs": []
    },
    {
      "cell_type": "code",
      "source": [
        "train_dataloader = DataLoader(training_data, batch_size=16, shuffle=False)\n",
        "test_dataloader = DataLoader(testing_data, batch_size=16, shuffle=False)"
      ],
      "metadata": {
        "id": "wao3_gWnCNfB"
      },
      "execution_count": 69,
      "outputs": []
    },
    {
      "cell_type": "markdown",
      "source": [
        "### ANN"
      ],
      "metadata": {
        "id": "q0D1W8DZFnxG"
      }
    },
    {
      "cell_type": "code",
      "source": [
        "class OP(nn.Module):\n",
        "  def __init__(self):\n",
        "    super().__init__()\n",
        "    self.fc = nn.Linear(5,1)\n",
        "    \n",
        "  def forward(self, X):\n",
        "    out = torch.relu(self.fc(X))\n",
        "    return out"
      ],
      "metadata": {
        "id": "bhTTU3-bFYqJ"
      },
      "execution_count": 72,
      "outputs": []
    },
    {
      "cell_type": "code",
      "source": [
        "one_neuron = OP()\n",
        "print(one_neuron(torch.tensor(X_train_d1.iloc[0]).float()))\n",
        "print(y_train_d1.iloc[0])"
      ],
      "metadata": {
        "colab": {
          "base_uri": "https://localhost:8080/"
        },
        "id": "hG3njqqEgcyF",
        "outputId": "5e2da42e-d8fd-47f1-d5bc-104443658d1f"
      },
      "execution_count": 73,
      "outputs": [
        {
          "output_type": "stream",
          "name": "stdout",
          "text": [
            "tensor([0.], grad_fn=<ReluBackward0>)\n",
            "sales    105.0\n",
            "Name: 2013-01-07, dtype: float64\n"
          ]
        }
      ]
    },
    {
      "cell_type": "code",
      "source": [
        "one_neuron = OP()\n",
        "epochs = 50\n",
        "loss_fn = nn.MSELoss()\n",
        "optimizer = optim.SGD(one_neuron.parameters(), lr=0.001)"
      ],
      "metadata": {
        "id": "ALXiWZKQIPW0"
      },
      "execution_count": 74,
      "outputs": []
    },
    {
      "cell_type": "code",
      "source": [
        "history = {}\n",
        "for epoch in range(1, epochs+1):\n",
        "  loss_train = 0.0\n",
        "  for train_data in train_dataloader:\n",
        "    x = train_data[:,:5].float()\n",
        "    y = train_data[:,5].float()\n",
        "  \n",
        "    #forward pass\n",
        "    outputs = one_neuron(x)\n",
        "\n",
        "    #loss measure\n",
        "    loss = loss_fn(outputs,y)\n",
        "\n",
        "    #backward pass\n",
        "    optimizer.zero_grad() # pára o autograd\n",
        "    loss.backward() # executa o backpropagation\n",
        "    optimizer.step() # atualiza os pesos\n",
        "\n",
        "    loss_train += loss.item() # soma os erros para obter o erro total\n",
        "\n",
        "  print('Epoch {}, loss {}'.format(epoch, loss_train / len(train_dataloader))) # apresenta o erro médio da época\n",
        "  history[epoch] = loss_train / len(train_dataloader)\n",
        "\n",
        "pd.Series(history).plot()\n",
        "\n"
      ],
      "metadata": {
        "id": "OXbS9bm4G4Vw",
        "colab": {
          "base_uri": "https://localhost:8080/",
          "height": 1000
        },
        "outputId": "9aa7dea7-5726-4761-da22-d370f509af09"
      },
      "execution_count": 76,
      "outputs": [
        {
          "output_type": "stream",
          "name": "stderr",
          "text": [
            "/usr/local/lib/python3.7/dist-packages/torch/nn/modules/loss.py:520: UserWarning: Using a target size (torch.Size([16])) that is different to the input size (torch.Size([16, 1])). This will likely lead to incorrect results due to broadcasting. Please ensure they have the same size.\n",
            "  return F.mse_loss(input, target, reduction=self.reduction)\n",
            "/usr/local/lib/python3.7/dist-packages/torch/nn/modules/loss.py:520: UserWarning: Using a target size (torch.Size([14])) that is different to the input size (torch.Size([14, 1])). This will likely lead to incorrect results due to broadcasting. Please ensure they have the same size.\n",
            "  return F.mse_loss(input, target, reduction=self.reduction)\n"
          ]
        },
        {
          "output_type": "stream",
          "name": "stdout",
          "text": [
            "Epoch 1, loss 3207.2496722993396\n",
            "Epoch 2, loss 3207.194367181687\n",
            "Epoch 3, loss 3207.1541413806735\n",
            "Epoch 4, loss 3207.125558762323\n",
            "Epoch 5, loss 3207.1020224434988\n",
            "Epoch 6, loss 3207.08423941476\n",
            "Epoch 7, loss 3207.070813860212\n",
            "Epoch 8, loss 3207.059095110212\n",
            "Epoch 9, loss 3207.050531296503\n",
            "Epoch 10, loss 3207.0435376848495\n",
            "Epoch 11, loss 3207.0389455159507\n",
            "Epoch 12, loss 3207.0364764985584\n",
            "Epoch 13, loss 3207.0345604306176\n",
            "Epoch 14, loss 3207.0331093924387\n",
            "Epoch 15, loss 3207.0318160284132\n",
            "Epoch 16, loss 3207.030304681687\n",
            "Epoch 17, loss 3207.0291987827845\n",
            "Epoch 18, loss 3207.0284641810827\n",
            "Epoch 19, loss 3207.0274956112817\n",
            "Epoch 20, loss 3207.026838030134\n",
            "Epoch 21, loss 3207.0263235909597\n",
            "Epoch 22, loss 3207.0257611955917\n",
            "Epoch 23, loss 3207.0253622872488\n",
            "Epoch 24, loss 3207.0250854492188\n",
            "Epoch 25, loss 3207.0248216901505\n",
            "Epoch 26, loss 3207.0245986211867\n",
            "Epoch 27, loss 3207.024418422154\n",
            "Epoch 28, loss 3207.0242200578964\n",
            "Epoch 29, loss 3207.0240689232237\n",
            "Epoch 30, loss 3207.023864019485\n",
            "Epoch 31, loss 3207.0237085251583\n",
            "Epoch 32, loss 3207.023441133045\n",
            "Epoch 33, loss 3207.023249308268\n",
            "Epoch 34, loss 3207.0233597528368\n",
            "Epoch 35, loss 3207.0233139764696\n",
            "Epoch 36, loss 3207.023183186849\n",
            "Epoch 37, loss 3207.0227893647693\n",
            "Epoch 38, loss 3207.0223054431735\n",
            "Epoch 39, loss 3207.0220496768043\n",
            "Epoch 40, loss 3207.0218178885325\n",
            "Epoch 41, loss 3207.021474202474\n",
            "Epoch 42, loss 3207.021484375\n",
            "Epoch 43, loss 3207.0213223411924\n",
            "Epoch 44, loss 3207.0214109874905\n",
            "Epoch 45, loss 3207.0213477725074\n",
            "Epoch 46, loss 3207.0213644845144\n",
            "Epoch 47, loss 3207.021335420154\n",
            "Epoch 48, loss 3207.0213768368676\n",
            "Epoch 49, loss 3207.0213470458984\n",
            "Epoch 50, loss 3207.021067301432\n"
          ]
        },
        {
          "output_type": "execute_result",
          "data": {
            "text/plain": [
              "<matplotlib.axes._subplots.AxesSubplot at 0x7f6767435850>"
            ]
          },
          "metadata": {},
          "execution_count": 76
        },
        {
          "output_type": "display_data",
          "data": {
            "text/plain": [
              "<Figure size 720x360 with 1 Axes>"
            ],
            "image/png": "[encoded data removed]"
          },
          "metadata": {
            "needs_background": "light"
          }
        }
      ]
    },
    {
      "cell_type": "code",
      "source": [
        "one_neuron.eval() #desliga o treinamento do modelo\n",
        "results = []\n",
        "for test_data in test_dataloader:\n",
        "    x = test_data[:,:5].float()\n",
        "    y = test_data[:,5].float()\n",
        "    \n",
        "    y_pred = one_neuron(x)\n",
        "    results.extend(y_pred.flatten().detach().numpy())\n",
        "#pd.DataFrame(results).plot()\n",
        "results[:10]"
      ],
      "metadata": {
        "colab": {
          "base_uri": "https://localhost:8080/"
        },
        "id": "TsHG0SSgduts",
        "outputId": "4618397a-a980-4e4e-9b29-541316c2ccdc"
      },
      "execution_count": 77,
      "outputs": [
        {
          "output_type": "execute_result",
          "data": {
            "text/plain": [
              "[0.0809406, 0.0, 0.0, 0.0, 0.0, 0.015164778, 0.0007694885, 0.0, 0.0, 0.0]"
            ]
          },
          "metadata": {},
          "execution_count": 77
        }
      ]
    },
    {
      "cell_type": "code",
      "source": [
        "pd.concat([pd.Series(results, name='pred'), y_test_d1.reset_index(drop=True)],axis=1).plot()"
      ],
      "metadata": {
        "colab": {
          "base_uri": "https://localhost:8080/",
          "height": 338
        },
        "id": "w3Kr55jDd5FD",
        "outputId": "990af9fb-5285-49bc-e919-5dbd85917f6b"
      },
      "execution_count": 78,
      "outputs": [
        {
          "output_type": "execute_result",
          "data": {
            "text/plain": [
              "<matplotlib.axes._subplots.AxesSubplot at 0x7f67673a1a10>"
            ]
          },
          "metadata": {},
          "execution_count": 78
        },
        {
          "output_type": "display_data",
          "data": {
            "text/plain": [
              "<Figure size 720x360 with 1 Axes>"
            ],
            "image/png": "[encoded data removed]"
          },
          "metadata": {
            "needs_background": "light"
          }
        }
      ]
    },
    {
      "cell_type": "code",
      "source": [
        "l"
      ],
      "metadata": {
        "id": "bjLFpNBBAv0i"
      },
      "execution_count": null,
      "outputs": []
    },
    {
      "cell_type": "code",
      "source": [
        "results['NN'] = {'mape': mean_absolute_percentage_error(results, y_test_d1),\n",
        "                  'mse': mean_squared_error(results, y_test_d1), \n",
        "                  'mae': mean_absolute_error(results, y_test_d1)}\n",
        "\n",
        "print('Sales Forecast - NN Results')\n",
        "print(results)"
      ],
      "metadata": {
        "colab": {
          "base_uri": "https://localhost:8080/",
          "height": 380
        },
        "id": "hlks4GPghYAI",
        "outputId": "3043e519-26f2-4ab5-993d-ef90034abe9e"
      },
      "execution_count": 113,
      "outputs": [
        {
          "output_type": "error",
          "ename": "ValueError",
          "evalue": "ignored",
          "traceback": [
            "\u001b[0;31m---------------------------------------------------------------------------\u001b[0m",
            "\u001b[0;31mValueError\u001b[0m                                Traceback (most recent call last)",
            "\u001b[0;32m<ipython-input-113-54d5a27c8b27>\u001b[0m in \u001b[0;36m<module>\u001b[0;34m()\u001b[0m\n\u001b[0;32m----> 1\u001b[0;31m results['NN'] = {'mape': mean_absolute_percentage_error(results, y_test_d1),\n\u001b[0m\u001b[1;32m      2\u001b[0m                   \u001b[0;34m'mse'\u001b[0m\u001b[0;34m:\u001b[0m \u001b[0mmean_squared_error\u001b[0m\u001b[0;34m(\u001b[0m\u001b[0mresults\u001b[0m\u001b[0;34m,\u001b[0m \u001b[0my_test_d1\u001b[0m\u001b[0;34m)\u001b[0m\u001b[0;34m,\u001b[0m\u001b[0;34m\u001b[0m\u001b[0;34m\u001b[0m\u001b[0m\n\u001b[1;32m      3\u001b[0m                   'mae': mean_absolute_error(results, y_test_d1)}\n\u001b[1;32m      4\u001b[0m \u001b[0;34m\u001b[0m\u001b[0m\n\u001b[1;32m      5\u001b[0m \u001b[0mprint\u001b[0m\u001b[0;34m(\u001b[0m\u001b[0;34m'Sales Forecast - NN Results'\u001b[0m\u001b[0;34m)\u001b[0m\u001b[0;34m\u001b[0m\u001b[0;34m\u001b[0m\u001b[0m\n",
            "\u001b[0;32m/usr/local/lib/python3.7/dist-packages/sklearn/utils/validation.py\u001b[0m in \u001b[0;36minner_f\u001b[0;34m(*args, **kwargs)\u001b[0m\n\u001b[1;32m     63\u001b[0m             \u001b[0mextra_args\u001b[0m \u001b[0;34m=\u001b[0m \u001b[0mlen\u001b[0m\u001b[0;34m(\u001b[0m\u001b[0margs\u001b[0m\u001b[0;34m)\u001b[0m \u001b[0;34m-\u001b[0m \u001b[0mlen\u001b[0m\u001b[0;34m(\u001b[0m\u001b[0mall_args\u001b[0m\u001b[0;34m)\u001b[0m\u001b[0;34m\u001b[0m\u001b[0;34m\u001b[0m\u001b[0m\n\u001b[1;32m     64\u001b[0m             \u001b[0;32mif\u001b[0m \u001b[0mextra_args\u001b[0m \u001b[0;34m<=\u001b[0m \u001b[0;36m0\u001b[0m\u001b[0;34m:\u001b[0m\u001b[0;34m\u001b[0m\u001b[0;34m\u001b[0m\u001b[0m\n\u001b[0;32m---> 65\u001b[0;31m                 \u001b[0;32mreturn\u001b[0m \u001b[0mf\u001b[0m\u001b[0;34m(\u001b[0m\u001b[0;34m*\u001b[0m\u001b[0margs\u001b[0m\u001b[0;34m,\u001b[0m \u001b[0;34m**\u001b[0m\u001b[0mkwargs\u001b[0m\u001b[0;34m)\u001b[0m\u001b[0;34m\u001b[0m\u001b[0;34m\u001b[0m\u001b[0m\n\u001b[0m\u001b[1;32m     66\u001b[0m \u001b[0;34m\u001b[0m\u001b[0m\n\u001b[1;32m     67\u001b[0m             \u001b[0;31m# extra_args > 0\u001b[0m\u001b[0;34m\u001b[0m\u001b[0;34m\u001b[0m\u001b[0;34m\u001b[0m\u001b[0m\n",
            "\u001b[0;32m/usr/local/lib/python3.7/dist-packages/sklearn/metrics/_regression.py\u001b[0m in \u001b[0;36mmean_absolute_percentage_error\u001b[0;34m(y_true, y_pred, sample_weight, multioutput)\u001b[0m\n\u001b[1;32m    360\u001b[0m     \"\"\"\n\u001b[1;32m    361\u001b[0m     y_type, y_true, y_pred, multioutput = _check_reg_targets(\n\u001b[0;32m--> 362\u001b[0;31m         \u001b[0my_true\u001b[0m\u001b[0;34m,\u001b[0m \u001b[0my_pred\u001b[0m\u001b[0;34m,\u001b[0m \u001b[0mmultioutput\u001b[0m\u001b[0;34m\u001b[0m\u001b[0;34m\u001b[0m\u001b[0m\n\u001b[0m\u001b[1;32m    363\u001b[0m     )\n\u001b[1;32m    364\u001b[0m     \u001b[0mcheck_consistent_length\u001b[0m\u001b[0;34m(\u001b[0m\u001b[0my_true\u001b[0m\u001b[0;34m,\u001b[0m \u001b[0my_pred\u001b[0m\u001b[0;34m,\u001b[0m \u001b[0msample_weight\u001b[0m\u001b[0;34m)\u001b[0m\u001b[0;34m\u001b[0m\u001b[0;34m\u001b[0m\u001b[0m\n",
            "\u001b[0;32m/usr/local/lib/python3.7/dist-packages/sklearn/metrics/_regression.py\u001b[0m in \u001b[0;36m_check_reg_targets\u001b[0;34m(y_true, y_pred, multioutput, dtype)\u001b[0m\n\u001b[1;32m     92\u001b[0m         \u001b[0mthe\u001b[0m \u001b[0mdtype\u001b[0m \u001b[0margument\u001b[0m \u001b[0mpassed\u001b[0m \u001b[0mto\u001b[0m \u001b[0mcheck_array\u001b[0m\u001b[0;34m.\u001b[0m\u001b[0;34m\u001b[0m\u001b[0;34m\u001b[0m\u001b[0m\n\u001b[1;32m     93\u001b[0m     \"\"\"\n\u001b[0;32m---> 94\u001b[0;31m     \u001b[0mcheck_consistent_length\u001b[0m\u001b[0;34m(\u001b[0m\u001b[0my_true\u001b[0m\u001b[0;34m,\u001b[0m \u001b[0my_pred\u001b[0m\u001b[0;34m)\u001b[0m\u001b[0;34m\u001b[0m\u001b[0;34m\u001b[0m\u001b[0m\n\u001b[0m\u001b[1;32m     95\u001b[0m     \u001b[0my_true\u001b[0m \u001b[0;34m=\u001b[0m \u001b[0mcheck_array\u001b[0m\u001b[0;34m(\u001b[0m\u001b[0my_true\u001b[0m\u001b[0;34m,\u001b[0m \u001b[0mensure_2d\u001b[0m\u001b[0;34m=\u001b[0m\u001b[0;32mFalse\u001b[0m\u001b[0;34m,\u001b[0m \u001b[0mdtype\u001b[0m\u001b[0;34m=\u001b[0m\u001b[0mdtype\u001b[0m\u001b[0;34m)\u001b[0m\u001b[0;34m\u001b[0m\u001b[0;34m\u001b[0m\u001b[0m\n\u001b[1;32m     96\u001b[0m     \u001b[0my_pred\u001b[0m \u001b[0;34m=\u001b[0m \u001b[0mcheck_array\u001b[0m\u001b[0;34m(\u001b[0m\u001b[0my_pred\u001b[0m\u001b[0;34m,\u001b[0m \u001b[0mensure_2d\u001b[0m\u001b[0;34m=\u001b[0m\u001b[0;32mFalse\u001b[0m\u001b[0;34m,\u001b[0m \u001b[0mdtype\u001b[0m\u001b[0;34m=\u001b[0m\u001b[0mdtype\u001b[0m\u001b[0;34m)\u001b[0m\u001b[0;34m\u001b[0m\u001b[0;34m\u001b[0m\u001b[0m\n",
            "\u001b[0;32m/usr/local/lib/python3.7/dist-packages/sklearn/utils/validation.py\u001b[0m in \u001b[0;36mcheck_consistent_length\u001b[0;34m(*arrays)\u001b[0m\n\u001b[1;32m    332\u001b[0m         raise ValueError(\n\u001b[1;32m    333\u001b[0m             \u001b[0;34m\"Found input variables with inconsistent numbers of samples: %r\"\u001b[0m\u001b[0;34m\u001b[0m\u001b[0;34m\u001b[0m\u001b[0m\n\u001b[0;32m--> 334\u001b[0;31m             \u001b[0;34m%\u001b[0m \u001b[0;34m[\u001b[0m\u001b[0mint\u001b[0m\u001b[0;34m(\u001b[0m\u001b[0ml\u001b[0m\u001b[0;34m)\u001b[0m \u001b[0;32mfor\u001b[0m \u001b[0ml\u001b[0m \u001b[0;32min\u001b[0m \u001b[0mlengths\u001b[0m\u001b[0;34m]\u001b[0m\u001b[0;34m\u001b[0m\u001b[0;34m\u001b[0m\u001b[0m\n\u001b[0m\u001b[1;32m    335\u001b[0m         )\n\u001b[1;32m    336\u001b[0m \u001b[0;34m\u001b[0m\u001b[0m\n",
            "\u001b[0;31mValueError\u001b[0m: Found input variables with inconsistent numbers of samples: [2, 335]"
          ]
        }
      ]
    },
    {
      "cell_type": "code",
      "source": [
        "class MLP(nn.Module):\n",
        "  def __init__(self):\n",
        "    super().__init__()\n",
        "    self.fc1 = nn.Linear(5,100)\n",
        "    self.fc3 = nn.Linear(100,1)\n",
        "    #self.drop1 = nn.Dropout(p=0.5)\n",
        "    #self.fc2 = nn.Linear(64,32)\n",
        "    #self.drop2 = nn.Dropout(p=0.5)\n",
        "  \n",
        "  def forward(self, X):\n",
        "    out = torch.tanh(self.fc1(X))\n",
        "    #out = self.drop1(out)\n",
        "    #out = torch.relu(self.fc2(out))\n",
        "    #out = self.drop2(out)\n",
        "    out = self.fc3(out)\n",
        "    return out"
      ],
      "metadata": {
        "id": "g7rHqJeBf4N9"
      },
      "execution_count": 83,
      "outputs": []
    },
    {
      "cell_type": "code",
      "source": [
        "multi_neuron = MLP()\n",
        "print(multi_neuron(torch.tensor(X_train_d1.iloc[0]).float()))\n",
        "print(y_train_d1.iloc[0])"
      ],
      "metadata": {
        "colab": {
          "base_uri": "https://localhost:8080/"
        },
        "id": "x2o6OwnapLYK",
        "outputId": "b67994ad-012b-4614-c0ac-8ac3468082cb"
      },
      "execution_count": 84,
      "outputs": [
        {
          "output_type": "stream",
          "name": "stdout",
          "text": [
            "tensor([-0.5328], grad_fn=<AddBackward0>)\n",
            "sales    105.0\n",
            "Name: 2013-01-07, dtype: float64\n"
          ]
        }
      ]
    },
    {
      "cell_type": "code",
      "source": [
        "multi_neuron = MLP()\n",
        "epochs = 1000\n",
        "loss_fn = nn.MSELoss()\n",
        "#optimizer = optim.RMSprop(multi_neuron.parameters(), lr=0.001)\n",
        "optimizer = optim.SGD(multi_neuron.parameters(), lr=0.01, weight_decay= 0.005)"
      ],
      "metadata": {
        "id": "72dAk-AygJMY"
      },
      "execution_count": 85,
      "outputs": []
    },
    {
      "cell_type": "code",
      "source": [
        "history = {}\n",
        "for epoch in range(1, epochs+1):\n",
        "  loss_train = 0.0\n",
        "  for train_data in train_dataloader:\n",
        "    x = train_data[:,:5].float()\n",
        "    y = train_data[:,5].float()\n",
        "  \n",
        "    #forward pass\n",
        "    outputs = multi_neuron(x)\n",
        "\n",
        "    #loss measure\n",
        "    loss = loss_fn(outputs,y)\n",
        "\n",
        "    #backward pass\n",
        "    optimizer.zero_grad() # pára o autograd\n",
        "    loss.backward() # executa o backpropagation\n",
        "    optimizer.step() # atualiza os pesos\n",
        "\n",
        "    loss_train += loss.item() # soma os erros para obter o erro total\n",
        "\n",
        "  if (epoch % 10 == 0):\n",
        "    print('Epoch{}, loss {}'.format(epoch, loss_train / len(train_dataloader))) # apresenta o erro médio da época\n",
        "  history[epoch] = loss_train / len(train_dataloader)\n",
        "\n",
        "pd.Series(history).plot()"
      ],
      "metadata": {
        "colab": {
          "base_uri": "https://localhost:8080/",
          "height": 1000
        },
        "id": "x3ItCaY3i8Ax",
        "outputId": "c556e6be-e56d-4bfe-fa14-47e1465bcb7a"
      },
      "execution_count": 87,
      "outputs": [
        {
          "output_type": "stream",
          "name": "stderr",
          "text": [
            "/usr/local/lib/python3.7/dist-packages/torch/nn/modules/loss.py:520: UserWarning: Using a target size (torch.Size([16])) that is different to the input size (torch.Size([16, 1])). This will likely lead to incorrect results due to broadcasting. Please ensure they have the same size.\n",
            "  return F.mse_loss(input, target, reduction=self.reduction)\n",
            "/usr/local/lib/python3.7/dist-packages/torch/nn/modules/loss.py:520: UserWarning: Using a target size (torch.Size([14])) that is different to the input size (torch.Size([14, 1])). This will likely lead to incorrect results due to broadcasting. Please ensure they have the same size.\n",
            "  return F.mse_loss(input, target, reduction=self.reduction)\n"
          ]
        },
        {
          "output_type": "stream",
          "name": "stdout",
          "text": [
            "Epoch10, loss 3207.2514452253067\n",
            "Epoch20, loss 3207.1122930617557\n",
            "Epoch30, loss 3207.063983735584\n",
            "Epoch40, loss 3207.0269303094774\n",
            "Epoch50, loss 3206.99120367141\n",
            "Epoch60, loss 3206.9561825706846\n",
            "Epoch70, loss 3206.922101702009\n",
            "Epoch80, loss 3206.8897218250095\n",
            "Epoch90, loss 3206.860256376721\n",
            "Epoch100, loss 3206.8359178815567\n",
            "Epoch110, loss 3206.816423688616\n",
            "Epoch120, loss 3206.8003445579893\n",
            "Epoch130, loss 3206.784701392764\n",
            "Epoch140, loss 3206.7703058151974\n",
            "Epoch150, loss 3206.7600519089474\n",
            "Epoch160, loss 3206.751416160947\n",
            "Epoch170, loss 3206.7435055687315\n",
            "Epoch180, loss 3206.7357170468285\n",
            "Epoch190, loss 3206.7288280668713\n",
            "Epoch200, loss 3206.7228560674757\n",
            "Epoch210, loss 3206.717537289574\n",
            "Epoch220, loss 3206.712615966797\n",
            "Epoch230, loss 3206.70809500558\n",
            "Epoch240, loss 3206.7037491571336\n",
            "Epoch250, loss 3206.699478149414\n",
            "Epoch260, loss 3206.6951722644626\n",
            "Epoch270, loss 3206.6908743722097\n",
            "Epoch280, loss 3206.6865655808224\n",
            "Epoch290, loss 3206.6822466169083\n",
            "Epoch300, loss 3206.6780540829614\n",
            "Epoch310, loss 3206.6739443824404\n",
            "Epoch320, loss 3206.6700294131324\n",
            "Epoch330, loss 3206.666362217494\n",
            "Epoch340, loss 3206.662897019159\n",
            "Epoch350, loss 3206.6595226469494\n",
            "Epoch360, loss 3206.656209309896\n",
            "Epoch370, loss 3206.652818952288\n",
            "Epoch380, loss 3206.6491117931546\n",
            "Epoch390, loss 3206.6450616745724\n",
            "Epoch400, loss 3206.641095842634\n",
            "Epoch410, loss 3206.637286231631\n",
            "Epoch420, loss 3206.6334918794178\n",
            "Epoch430, loss 3206.6296829950243\n",
            "Epoch440, loss 3206.625754220145\n",
            "Epoch450, loss 3206.6216503324963\n",
            "Epoch460, loss 3206.6173088437035\n",
            "Epoch470, loss 3206.6127653576077\n",
            "Epoch480, loss 3206.607735770089\n",
            "Epoch490, loss 3206.6026763916016\n",
            "Epoch500, loss 3206.5975283668154\n",
            "Epoch510, loss 3206.5923963274277\n",
            "Epoch520, loss 3206.587407430013\n",
            "Epoch530, loss 3206.5826132638113\n",
            "Epoch540, loss 3206.5780269077845\n",
            "Epoch550, loss 3206.573707943871\n",
            "Epoch560, loss 3206.5695379348026\n",
            "Epoch570, loss 3206.5655488513767\n",
            "Epoch580, loss 3206.561736333938\n",
            "Epoch590, loss 3206.5579216366723\n",
            "Epoch600, loss 3206.5543292817615\n",
            "Epoch610, loss 3206.5506708054318\n",
            "Epoch620, loss 3206.54707191104\n",
            "Epoch630, loss 3206.5436335972377\n",
            "Epoch640, loss 3206.540252685547\n",
            "Epoch650, loss 3206.5370650518507\n",
            "Epoch660, loss 3206.5341121128627\n",
            "Epoch670, loss 3206.5312928699313\n",
            "Epoch680, loss 3206.52862621489\n",
            "Epoch690, loss 3206.5262487502323\n",
            "Epoch700, loss 3206.52412995838\n",
            "Epoch710, loss 3206.5221259707496\n",
            "Epoch720, loss 3206.520311628069\n",
            "Epoch730, loss 3206.5187181745255\n",
            "Epoch740, loss 3206.517145792643\n",
            "Epoch750, loss 3206.5157579694473\n",
            "Epoch760, loss 3206.5145154680527\n",
            "Epoch770, loss 3206.5133260091147\n",
            "Epoch780, loss 3206.5122818719774\n",
            "Epoch790, loss 3206.511204310826\n",
            "Epoch800, loss 3206.510248819987\n",
            "Epoch810, loss 3206.509326026553\n",
            "Epoch820, loss 3206.5084591820128\n",
            "Epoch830, loss 3206.507599603562\n",
            "Epoch840, loss 3206.506834484282\n",
            "Epoch850, loss 3206.5059858049667\n",
            "Epoch860, loss 3206.505213419596\n",
            "Epoch870, loss 3206.504408336821\n",
            "Epoch880, loss 3206.503649757022\n",
            "Epoch890, loss 3206.5028555733816\n",
            "Epoch900, loss 3206.501934233166\n",
            "Epoch910, loss 3206.5006641206287\n",
            "Epoch920, loss 3206.4988149007163\n",
            "Epoch930, loss 3206.4966823032923\n",
            "Epoch940, loss 3206.4944043840683\n",
            "Epoch950, loss 3206.492198399135\n",
            "Epoch960, loss 3206.4898768833705\n",
            "Epoch970, loss 3206.4874420166016\n",
            "Epoch980, loss 3206.4850529262\n",
            "Epoch990, loss 3206.482660929362\n",
            "Epoch1000, loss 3206.480146135603\n"
          ]
        },
        {
          "output_type": "execute_result",
          "data": {
            "text/plain": [
              "<matplotlib.axes._subplots.AxesSubplot at 0x7f6767303ad0>"
            ]
          },
          "metadata": {},
          "execution_count": 87
        },
        {
          "output_type": "display_data",
          "data": {
            "text/plain": [
              "<Figure size 720x360 with 1 Axes>"
            ],
            "image/png": "[encoded data removed]"
          },
          "metadata": {
            "needs_background": "light"
          }
        }
      ]
    },
    {
      "cell_type": "code",
      "source": [
        "multi_neuron.eval()\n",
        "mlp_preds = []\n",
        "for test_data in test_dataloader:\n",
        "    x = test_data[:,:5].float()\n",
        "    y = test_data[:,:5].float()\n",
        "    \n",
        "    y_pred = multi_neuron(x)\n",
        "    mlp_preds.extend(y_pred.flatten().detach().numpy())\n",
        "#pd.DataFrame(results).plot()\n",
        "mlp_preds[:10]"
      ],
      "metadata": {
        "colab": {
          "base_uri": "https://localhost:8080/"
        },
        "id": "MDDMyDL5mLzJ",
        "outputId": "5893ed97-cafe-4be3-a67b-6db930b227dc"
      },
      "execution_count": 115,
      "outputs": [
        {
          "output_type": "execute_result",
          "data": {
            "text/plain": [
              "[-0.16888647,\n",
              " 0.24765386,\n",
              " -0.12454228,\n",
              " -0.3549779,\n",
              " 1.8049095,\n",
              " 0.154216,\n",
              " -0.23842697,\n",
              " -0.20044975,\n",
              " 0.7967076,\n",
              " 1.064204]"
            ]
          },
          "metadata": {},
          "execution_count": 115
        }
      ]
    },
    {
      "cell_type": "code",
      "source": [
        "pd.concat([pd.Series(mlp_preds, name='pred'), y_test_d1.reset_index(drop=True)],axis=1).plot()"
      ],
      "metadata": {
        "colab": {
          "base_uri": "https://localhost:8080/",
          "height": 338
        },
        "id": "Qom2ivWslYau",
        "outputId": "f3ca05c5-1174-438f-956b-ffc47d0808e8"
      },
      "execution_count": 116,
      "outputs": [
        {
          "output_type": "execute_result",
          "data": {
            "text/plain": [
              "<matplotlib.axes._subplots.AxesSubplot at 0x7f676728b1d0>"
            ]
          },
          "metadata": {},
          "execution_count": 116
        },
        {
          "output_type": "display_data",
          "data": {
            "text/plain": [
              "<Figure size 720x360 with 1 Axes>"
            ],
            "image/png": "[encoded data removed]"
          },
          "metadata": {
            "needs_background": "light"
          }
        }
      ]
    },
    {
      "cell_type": "code",
      "source": [
        "mlp = {}\n",
        "\n",
        "mlp['MLP'] = {'mape': mean_absolute_percentage_error(mlp_preds, y_test_d1),\n",
        "                  'mse': mean_squared_error(mlp_preds, y_test_d1), \n",
        "                  'mae': mean_absolute_error(mlp_preds, y_test_d1)}\n",
        "\n",
        "print('Sales Forecast - MLP Results')\n",
        "print(mlp)"
      ],
      "metadata": {
        "colab": {
          "base_uri": "https://localhost:8080/"
        },
        "id": "uKU4mdPMmXrm",
        "outputId": "7e4216bf-dd00-4bd1-a539-e8ad39ec9d0b"
      },
      "execution_count": 122,
      "outputs": [
        {
          "output_type": "stream",
          "name": "stdout",
          "text": [
            "Sales Forecast - MLP Results\n",
            "{'MLP': {'mape': 578.7460372207993, 'mse': 6801.967028006343, 'mae': 53.74761891800966}}\n"
          ]
        }
      ]
    },
    {
      "cell_type": "code",
      "source": [
        "pd.DataFrame(mlp)"
      ],
      "metadata": {
        "id": "c7xDTAXxCa0W",
        "outputId": "5dacf268-2b88-4ea4-b2f1-8e7838f3e27b",
        "colab": {
          "base_uri": "https://localhost:8080/",
          "height": 143
        }
      },
      "execution_count": 123,
      "outputs": [
        {
          "output_type": "execute_result",
          "data": {
            "text/plain": [
              "              MLP\n",
              "mae     53.747619\n",
              "mape   578.746037\n",
              "mse   6801.967028"
            ],
            "text/html": [
              "\n",
              "  <div id=\"df-72544594-7f33-453e-a4cb-58d156ad80a4\">\n",
              "    <div class=\"colab-df-container\">\n",
              "      <div>\n",
              "<style scoped>\n",
              "    .dataframe tbody tr th:only-of-type {\n",
              "        vertical-align: middle;\n",
              "    }\n",
              "\n",
              "    .dataframe tbody tr th {\n",
              "        vertical-align: top;\n",
              "    }\n",
              "\n",
              "    .dataframe thead th {\n",
              "        text-align: right;\n",
              "    }\n",
              "</style>\n",
              "<table border=\"1\" class=\"dataframe\">\n",
              "  <thead>\n",
              "    <tr style=\"text-align: right;\">\n",
              "      <th></th>\n",
              "      <th>MLP</th>\n",
              "    </tr>\n",
              "  </thead>\n",
              "  <tbody>\n",
              "    <tr>\n",
              "      <th>mae</th>\n",
              "      <td>53.747619</td>\n",
              "    </tr>\n",
              "    <tr>\n",
              "      <th>mape</th>\n",
              "      <td>578.746037</td>\n",
              "    </tr>\n",
              "    <tr>\n",
              "      <th>mse</th>\n",
              "      <td>6801.967028</td>\n",
              "    </tr>\n",
              "  </tbody>\n",
              "</table>\n",
              "</div>\n",
              "      <button class=\"colab-df-convert\" onclick=\"convertToInteractive('df-72544594-7f33-453e-a4cb-58d156ad80a4')\"\n",
              "              title=\"Convert this dataframe to an interactive table.\"\n",
              "              style=\"display:none;\">\n",
              "        \n",
              "  <svg xmlns=\"http://www.w3.org/2000/svg\" height=\"24px\"viewBox=\"0 0 24 24\"\n",
              "       width=\"24px\">\n",
              "    <path d=\"M0 0h24v24H0V0z\" fill=\"none\"/>\n",
              "    <path d=\"M18.56 5.44l.94 2.06.94-2.06 2.06-.94-2.06-.94-.94-2.06-.94 2.06-2.06.94zm-11 1L8.5 8.5l.94-2.06 2.06-.94-2.06-.94L8.5 2.5l-.94 2.06-2.06.94zm10 10l.94 2.06.94-2.06 2.06-.94-2.06-.94-.94-2.06-.94 2.06-2.06.94z\"/><path d=\"M17.41 7.96l-1.37-1.37c-.4-.4-.92-.59-1.43-.59-.52 0-1.04.2-1.43.59L10.3 9.45l-7.72 7.72c-.78.78-.78 2.05 0 2.83L4 21.41c.39.39.9.59 1.41.59.51 0 1.02-.2 1.41-.59l7.78-7.78 2.81-2.81c.8-.78.8-2.07 0-2.86zM5.41 20L4 18.59l7.72-7.72 1.47 1.35L5.41 20z\"/>\n",
              "  </svg>\n",
              "      </button>\n",
              "      \n",
              "  <style>\n",
              "    .colab-df-container {\n",
              "      display:flex;\n",
              "      flex-wrap:wrap;\n",
              "      gap: 12px;\n",
              "    }\n",
              "\n",
              "    .colab-df-convert {\n",
              "      background-color: #E8F0FE;\n",
              "      border: none;\n",
              "      border-radius: 50%;\n",
              "      cursor: pointer;\n",
              "      display: none;\n",
              "      fill: #1967D2;\n",
              "      height: 32px;\n",
              "      padding: 0 0 0 0;\n",
              "      width: 32px;\n",
              "    }\n",
              "\n",
              "    .colab-df-convert:hover {\n",
              "      background-color: #E2EBFA;\n",
              "      box-shadow: 0px 1px 2px rgba(60, 64, 67, 0.3), 0px 1px 3px 1px rgba(60, 64, 67, 0.15);\n",
              "      fill: #174EA6;\n",
              "    }\n",
              "\n",
              "    [theme=dark] .colab-df-convert {\n",
              "      background-color: #3B4455;\n",
              "      fill: #D2E3FC;\n",
              "    }\n",
              "\n",
              "    [theme=dark] .colab-df-convert:hover {\n",
              "      background-color: #434B5C;\n",
              "      box-shadow: 0px 1px 3px 1px rgba(0, 0, 0, 0.15);\n",
              "      filter: drop-shadow(0px 1px 2px rgba(0, 0, 0, 0.3));\n",
              "      fill: #FFFFFF;\n",
              "    }\n",
              "  </style>\n",
              "\n",
              "      <script>\n",
              "        const buttonEl =\n",
              "          document.querySelector('#df-72544594-7f33-453e-a4cb-58d156ad80a4 button.colab-df-convert');\n",
              "        buttonEl.style.display =\n",
              "          google.colab.kernel.accessAllowed ? 'block' : 'none';\n",
              "\n",
              "        async function convertToInteractive(key) {\n",
              "          const element = document.querySelector('#df-72544594-7f33-453e-a4cb-58d156ad80a4');\n",
              "          const dataTable =\n",
              "            await google.colab.kernel.invokeFunction('convertToInteractive',\n",
              "                                                     [key], {});\n",
              "          if (!dataTable) return;\n",
              "\n",
              "          const docLinkHtml = 'Like what you see? Visit the ' +\n",
              "            '<a target=\"_blank\" href=https://colab.research.google.com/notebooks/data_table.ipynb>data table notebook</a>'\n",
              "            + ' to learn more about interactive tables.';\n",
              "          element.innerHTML = '';\n",
              "          dataTable['output_type'] = 'display_data';\n",
              "          await google.colab.output.renderOutput(dataTable, element);\n",
              "          const docLink = document.createElement('div');\n",
              "          docLink.innerHTML = docLinkHtml;\n",
              "          element.appendChild(docLink);\n",
              "        }\n",
              "      </script>\n",
              "    </div>\n",
              "  </div>\n",
              "  "
            ]
          },
          "metadata": {},
          "execution_count": 123
        }
      ]
    },
    {
      "cell_type": "code",
      "source": [
        "pd.DataFrame(results)"
      ],
      "metadata": {
        "colab": {
          "base_uri": "https://localhost:8080/",
          "height": 143
        },
        "id": "83mvEuFXJrrA",
        "outputId": "63877521-d97b-4548-be74-1a6f5cd760a2"
      },
      "execution_count": 119,
      "outputs": [
        {
          "output_type": "execute_result",
          "data": {
            "text/plain": [
              "              SVR    SVR Multi          MLP\n",
              "mape     0.284605     0.333272   578.746037\n",
              "mse   4022.839105  5217.499000  6801.967028\n",
              "mae     41.331127    48.061604    53.747619"
            ],
            "text/html": [
              "\n",
              "  <div id=\"df-b9287aaf-44ec-4bdf-b6e2-6749db4289dc\">\n",
              "    <div class=\"colab-df-container\">\n",
              "      <div>\n",
              "<style scoped>\n",
              "    .dataframe tbody tr th:only-of-type {\n",
              "        vertical-align: middle;\n",
              "    }\n",
              "\n",
              "    .dataframe tbody tr th {\n",
              "        vertical-align: top;\n",
              "    }\n",
              "\n",
              "    .dataframe thead th {\n",
              "        text-align: right;\n",
              "    }\n",
              "</style>\n",
              "<table border=\"1\" class=\"dataframe\">\n",
              "  <thead>\n",
              "    <tr style=\"text-align: right;\">\n",
              "      <th></th>\n",
              "      <th>SVR</th>\n",
              "      <th>SVR Multi</th>\n",
              "      <th>MLP</th>\n",
              "    </tr>\n",
              "  </thead>\n",
              "  <tbody>\n",
              "    <tr>\n",
              "      <th>mape</th>\n",
              "      <td>0.284605</td>\n",
              "      <td>0.333272</td>\n",
              "      <td>578.746037</td>\n",
              "    </tr>\n",
              "    <tr>\n",
              "      <th>mse</th>\n",
              "      <td>4022.839105</td>\n",
              "      <td>5217.499000</td>\n",
              "      <td>6801.967028</td>\n",
              "    </tr>\n",
              "    <tr>\n",
              "      <th>mae</th>\n",
              "      <td>41.331127</td>\n",
              "      <td>48.061604</td>\n",
              "      <td>53.747619</td>\n",
              "    </tr>\n",
              "  </tbody>\n",
              "</table>\n",
              "</div>\n",
              "      <button class=\"colab-df-convert\" onclick=\"convertToInteractive('df-b9287aaf-44ec-4bdf-b6e2-6749db4289dc')\"\n",
              "              title=\"Convert this dataframe to an interactive table.\"\n",
              "              style=\"display:none;\">\n",
              "        \n",
              "  <svg xmlns=\"http://www.w3.org/2000/svg\" height=\"24px\"viewBox=\"0 0 24 24\"\n",
              "       width=\"24px\">\n",
              "    <path d=\"M0 0h24v24H0V0z\" fill=\"none\"/>\n",
              "    <path d=\"M18.56 5.44l.94 2.06.94-2.06 2.06-.94-2.06-.94-.94-2.06-.94 2.06-2.06.94zm-11 1L8.5 8.5l.94-2.06 2.06-.94-2.06-.94L8.5 2.5l-.94 2.06-2.06.94zm10 10l.94 2.06.94-2.06 2.06-.94-2.06-.94-.94-2.06-.94 2.06-2.06.94z\"/><path d=\"M17.41 7.96l-1.37-1.37c-.4-.4-.92-.59-1.43-.59-.52 0-1.04.2-1.43.59L10.3 9.45l-7.72 7.72c-.78.78-.78 2.05 0 2.83L4 21.41c.39.39.9.59 1.41.59.51 0 1.02-.2 1.41-.59l7.78-7.78 2.81-2.81c.8-.78.8-2.07 0-2.86zM5.41 20L4 18.59l7.72-7.72 1.47 1.35L5.41 20z\"/>\n",
              "  </svg>\n",
              "      </button>\n",
              "      \n",
              "  <style>\n",
              "    .colab-df-container {\n",
              "      display:flex;\n",
              "      flex-wrap:wrap;\n",
              "      gap: 12px;\n",
              "    }\n",
              "\n",
              "    .colab-df-convert {\n",
              "      background-color: #E8F0FE;\n",
              "      border: none;\n",
              "      border-radius: 50%;\n",
              "      cursor: pointer;\n",
              "      display: none;\n",
              "      fill: #1967D2;\n",
              "      height: 32px;\n",
              "      padding: 0 0 0 0;\n",
              "      width: 32px;\n",
              "    }\n",
              "\n",
              "    .colab-df-convert:hover {\n",
              "      background-color: #E2EBFA;\n",
              "      box-shadow: 0px 1px 2px rgba(60, 64, 67, 0.3), 0px 1px 3px 1px rgba(60, 64, 67, 0.15);\n",
              "      fill: #174EA6;\n",
              "    }\n",
              "\n",
              "    [theme=dark] .colab-df-convert {\n",
              "      background-color: #3B4455;\n",
              "      fill: #D2E3FC;\n",
              "    }\n",
              "\n",
              "    [theme=dark] .colab-df-convert:hover {\n",
              "      background-color: #434B5C;\n",
              "      box-shadow: 0px 1px 3px 1px rgba(0, 0, 0, 0.15);\n",
              "      filter: drop-shadow(0px 1px 2px rgba(0, 0, 0, 0.3));\n",
              "      fill: #FFFFFF;\n",
              "    }\n",
              "  </style>\n",
              "\n",
              "      <script>\n",
              "        const buttonEl =\n",
              "          document.querySelector('#df-b9287aaf-44ec-4bdf-b6e2-6749db4289dc button.colab-df-convert');\n",
              "        buttonEl.style.display =\n",
              "          google.colab.kernel.accessAllowed ? 'block' : 'none';\n",
              "\n",
              "        async function convertToInteractive(key) {\n",
              "          const element = document.querySelector('#df-b9287aaf-44ec-4bdf-b6e2-6749db4289dc');\n",
              "          const dataTable =\n",
              "            await google.colab.kernel.invokeFunction('convertToInteractive',\n",
              "                                                     [key], {});\n",
              "          if (!dataTable) return;\n",
              "\n",
              "          const docLinkHtml = 'Like what you see? Visit the ' +\n",
              "            '<a target=\"_blank\" href=https://colab.research.google.com/notebooks/data_table.ipynb>data table notebook</a>'\n",
              "            + ' to learn more about interactive tables.';\n",
              "          element.innerHTML = '';\n",
              "          dataTable['output_type'] = 'display_data';\n",
              "          await google.colab.output.renderOutput(dataTable, element);\n",
              "          const docLink = document.createElement('div');\n",
              "          docLink.innerHTML = docLinkHtml;\n",
              "          element.appendChild(docLink);\n",
              "        }\n",
              "      </script>\n",
              "    </div>\n",
              "  </div>\n",
              "  "
            ]
          },
          "metadata": {},
          "execution_count": 119
        }
      ]
    },
    {
      "cell_type": "markdown",
      "source": [
        "Redes recorrentes:\n",
        "* LSTM: https://pytorch.org/docs/stable/generated/torch.nn.LSTM.html#torch.nn.LSTM\n",
        "* GRU: https://pytorch.org/docs/stable/generated/torch.nn.GRU.html#torch.nn.GRU\n"
      ],
      "metadata": {
        "id": "_KEfGmRQmahI"
      }
    }
  ]
}