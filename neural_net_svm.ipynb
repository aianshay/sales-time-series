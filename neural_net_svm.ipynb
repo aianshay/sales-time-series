{
  "nbformat": 4,
  "nbformat_minor": 0,
  "metadata": {
    "colab": {
      "name": "ML.ipynb",
      "provenance": [],
      "collapsed_sections": [
        "MMY5X_-4ttU3",
        "VcliC4LuxH9n"
      ],
      "toc_visible": true,
      "include_colab_link": true
    },
    "kernelspec": {
      "name": "python3",
      "display_name": "Python 3"
    },
    "language_info": {
      "name": "python"
    }
  },
  "cells": [
    {
      "cell_type": "markdown",
      "metadata": {
        "id": "view-in-github",
        "colab_type": "text"
      },
      "source": [
        "<a href=\"https://colab.research.google.com/github/aianshay/sales-time-series/blob/main/neural_net_svm.ipynb\" target=\"_parent\"><img src=\"https://colab.research.google.com/assets/colab-badge.svg\" alt=\"Open In Colab\"/></a>"
      ]
    },
    {
      "cell_type": "code",
      "source": [
        "!pip install yfinance --upgrade --no-cache-dir"
      ],
      "metadata": {
        "colab": {
          "base_uri": "https://localhost:8080/"
        },
        "id": "HoSe4yP3yVqf",
        "outputId": "4c426f2b-9e9a-4b6f-fdc7-45fc97744779"
      },
      "execution_count": 1,
      "outputs": [
        {
          "output_type": "stream",
          "name": "stdout",
          "text": [
            "Collecting yfinance\n",
            "  Downloading yfinance-0.1.70-py2.py3-none-any.whl (26 kB)\n",
            "Requirement already satisfied: multitasking>=0.0.7 in /usr/local/lib/python3.7/dist-packages (from yfinance) (0.0.10)\n",
            "Collecting requests>=2.26\n",
            "  Downloading requests-2.27.1-py2.py3-none-any.whl (63 kB)\n",
            "\u001b[K     |████████████████████████████████| 63 kB 24.4 MB/s \n",
            "\u001b[?25hRequirement already satisfied: pandas>=0.24.0 in /usr/local/lib/python3.7/dist-packages (from yfinance) (1.3.5)\n",
            "Requirement already satisfied: numpy>=1.15 in /usr/local/lib/python3.7/dist-packages (from yfinance) (1.21.5)\n",
            "Collecting lxml>=4.5.1\n",
            "  Downloading lxml-4.8.0-cp37-cp37m-manylinux_2_17_x86_64.manylinux2014_x86_64.manylinux_2_24_x86_64.whl (6.4 MB)\n",
            "\u001b[K     |████████████████████████████████| 6.4 MB 40.3 MB/s \n",
            "\u001b[?25hRequirement already satisfied: pytz>=2017.3 in /usr/local/lib/python3.7/dist-packages (from pandas>=0.24.0->yfinance) (2018.9)\n",
            "Requirement already satisfied: python-dateutil>=2.7.3 in /usr/local/lib/python3.7/dist-packages (from pandas>=0.24.0->yfinance) (2.8.2)\n",
            "Requirement already satisfied: six>=1.5 in /usr/local/lib/python3.7/dist-packages (from python-dateutil>=2.7.3->pandas>=0.24.0->yfinance) (1.15.0)\n",
            "Requirement already satisfied: idna<4,>=2.5 in /usr/local/lib/python3.7/dist-packages (from requests>=2.26->yfinance) (2.10)\n",
            "Requirement already satisfied: certifi>=2017.4.17 in /usr/local/lib/python3.7/dist-packages (from requests>=2.26->yfinance) (2021.10.8)\n",
            "Requirement already satisfied: urllib3<1.27,>=1.21.1 in /usr/local/lib/python3.7/dist-packages (from requests>=2.26->yfinance) (1.24.3)\n",
            "Requirement already satisfied: charset-normalizer~=2.0.0 in /usr/local/lib/python3.7/dist-packages (from requests>=2.26->yfinance) (2.0.12)\n",
            "Installing collected packages: requests, lxml, yfinance\n",
            "  Attempting uninstall: requests\n",
            "    Found existing installation: requests 2.23.0\n",
            "    Uninstalling requests-2.23.0:\n",
            "      Successfully uninstalled requests-2.23.0\n",
            "  Attempting uninstall: lxml\n",
            "    Found existing installation: lxml 4.2.6\n",
            "    Uninstalling lxml-4.2.6:\n",
            "      Successfully uninstalled lxml-4.2.6\n",
            "\u001b[31mERROR: pip's dependency resolver does not currently take into account all the packages that are installed. This behaviour is the source of the following dependency conflicts.\n",
            "google-colab 1.0.0 requires requests~=2.23.0, but you have requests 2.27.1 which is incompatible.\n",
            "datascience 0.10.6 requires folium==0.2.1, but you have folium 0.8.3 which is incompatible.\u001b[0m\n",
            "Successfully installed lxml-4.8.0 requests-2.27.1 yfinance-0.1.70\n"
          ]
        }
      ]
    },
    {
      "cell_type": "code",
      "source": [
        "!pip install -U statsmodels"
      ],
      "metadata": {
        "colab": {
          "base_uri": "https://localhost:8080/"
        },
        "id": "9CwJTuSoZCCm",
        "outputId": "52ac530c-663e-41ee-e5aa-d0c59036fdb2"
      },
      "execution_count": 2,
      "outputs": [
        {
          "output_type": "stream",
          "name": "stdout",
          "text": [
            "Requirement already satisfied: statsmodels in /usr/local/lib/python3.7/dist-packages (0.10.2)\n",
            "Collecting statsmodels\n",
            "  Downloading statsmodels-0.13.2-cp37-cp37m-manylinux_2_17_x86_64.manylinux2014_x86_64.whl (9.8 MB)\n",
            "\u001b[K     |████████████████████████████████| 9.8 MB 25.7 MB/s \n",
            "\u001b[?25hRequirement already satisfied: pandas>=0.25 in /usr/local/lib/python3.7/dist-packages (from statsmodels) (1.3.5)\n",
            "Requirement already satisfied: packaging>=21.3 in /usr/local/lib/python3.7/dist-packages (from statsmodels) (21.3)\n",
            "Requirement already satisfied: numpy>=1.17 in /usr/local/lib/python3.7/dist-packages (from statsmodels) (1.21.5)\n",
            "Requirement already satisfied: patsy>=0.5.2 in /usr/local/lib/python3.7/dist-packages (from statsmodels) (0.5.2)\n",
            "Requirement already satisfied: scipy>=1.3 in /usr/local/lib/python3.7/dist-packages (from statsmodels) (1.4.1)\n",
            "Requirement already satisfied: pyparsing!=3.0.5,>=2.0.2 in /usr/local/lib/python3.7/dist-packages (from packaging>=21.3->statsmodels) (3.0.8)\n",
            "Requirement already satisfied: pytz>=2017.3 in /usr/local/lib/python3.7/dist-packages (from pandas>=0.25->statsmodels) (2018.9)\n",
            "Requirement already satisfied: python-dateutil>=2.7.3 in /usr/local/lib/python3.7/dist-packages (from pandas>=0.25->statsmodels) (2.8.2)\n",
            "Requirement already satisfied: six in /usr/local/lib/python3.7/dist-packages (from patsy>=0.5.2->statsmodels) (1.15.0)\n",
            "Installing collected packages: statsmodels\n",
            "  Attempting uninstall: statsmodels\n",
            "    Found existing installation: statsmodels 0.10.2\n",
            "    Uninstalling statsmodels-0.10.2:\n",
            "      Successfully uninstalled statsmodels-0.10.2\n",
            "Successfully installed statsmodels-0.13.2\n"
          ]
        }
      ]
    },
    {
      "cell_type": "markdown",
      "source": [
        "# Imports"
      ],
      "metadata": {
        "id": "NSrMGhR9s_v2"
      }
    },
    {
      "cell_type": "code",
      "source": [
        "import yfinance as yf\n",
        "\n",
        "from google.colab import drive\n",
        "\n",
        "from sklearn.model_selection import cross_val_score, train_test_split, TimeSeriesSplit\n",
        "from sklearn.metrics import mean_absolute_error, mean_squared_error, r2_score\n",
        "\n",
        "import statsmodels.api as sm\n",
        "import statsmodels.tsa.api as tsa\n",
        "from statsmodels.graphics.tsaplots import plot_acf, plot_pacf \n",
        "\n",
        "import pandas as pd\n",
        "import numpy as np\n",
        "\n",
        "import matplotlib.pyplot as plt\n",
        "import matplotlib as mpl"
      ],
      "metadata": {
        "id": "Fmmj1pQDuMD2"
      },
      "execution_count": 96,
      "outputs": []
    },
    {
      "cell_type": "code",
      "source": [
        "mpl.rcParams['figure.figsize'] = [10, 5]\n",
        "drive.mount('/content/drive')"
      ],
      "metadata": {
        "id": "_zQCZr1F1g9D",
        "colab": {
          "base_uri": "https://localhost:8080/"
        },
        "outputId": "4e21dd50-135a-49ba-f701-8ad0a75bdac7"
      },
      "execution_count": 4,
      "outputs": [
        {
          "output_type": "stream",
          "name": "stdout",
          "text": [
            "Mounted at /content/drive\n"
          ]
        }
      ]
    },
    {
      "cell_type": "markdown",
      "source": [
        "# Loading data"
      ],
      "metadata": {
        "id": "-6635inK7kq0"
      }
    },
    {
      "cell_type": "code",
      "source": [
        "sales = pd.read_csv('/content/drive/MyDrive/data/store-sales/train.csv')\n",
        "sales.head()"
      ],
      "metadata": {
        "id": "Sra7uu3vuloy",
        "colab": {
          "base_uri": "https://localhost:8080/",
          "height": 206
        },
        "outputId": "920709ac-1d73-4148-d092-84512548c944"
      },
      "execution_count": 5,
      "outputs": [
        {
          "output_type": "execute_result",
          "data": {
            "text/plain": [
              "   id        date  store_nbr      family  sales  onpromotion\n",
              "0   0  2013-01-01          1  AUTOMOTIVE    0.0            0\n",
              "1   1  2013-01-01          1   BABY CARE    0.0            0\n",
              "2   2  2013-01-01          1      BEAUTY    0.0            0\n",
              "3   3  2013-01-01          1   BEVERAGES    0.0            0\n",
              "4   4  2013-01-01          1       BOOKS    0.0            0"
            ],
            "text/html": [
              "\n",
              "  <div id=\"df-f34e7445-982e-4664-86d0-16ab0bab07bb\">\n",
              "    <div class=\"colab-df-container\">\n",
              "      <div>\n",
              "<style scoped>\n",
              "    .dataframe tbody tr th:only-of-type {\n",
              "        vertical-align: middle;\n",
              "    }\n",
              "\n",
              "    .dataframe tbody tr th {\n",
              "        vertical-align: top;\n",
              "    }\n",
              "\n",
              "    .dataframe thead th {\n",
              "        text-align: right;\n",
              "    }\n",
              "</style>\n",
              "<table border=\"1\" class=\"dataframe\">\n",
              "  <thead>\n",
              "    <tr style=\"text-align: right;\">\n",
              "      <th></th>\n",
              "      <th>id</th>\n",
              "      <th>date</th>\n",
              "      <th>store_nbr</th>\n",
              "      <th>family</th>\n",
              "      <th>sales</th>\n",
              "      <th>onpromotion</th>\n",
              "    </tr>\n",
              "  </thead>\n",
              "  <tbody>\n",
              "    <tr>\n",
              "      <th>0</th>\n",
              "      <td>0</td>\n",
              "      <td>2013-01-01</td>\n",
              "      <td>1</td>\n",
              "      <td>AUTOMOTIVE</td>\n",
              "      <td>0.0</td>\n",
              "      <td>0</td>\n",
              "    </tr>\n",
              "    <tr>\n",
              "      <th>1</th>\n",
              "      <td>1</td>\n",
              "      <td>2013-01-01</td>\n",
              "      <td>1</td>\n",
              "      <td>BABY CARE</td>\n",
              "      <td>0.0</td>\n",
              "      <td>0</td>\n",
              "    </tr>\n",
              "    <tr>\n",
              "      <th>2</th>\n",
              "      <td>2</td>\n",
              "      <td>2013-01-01</td>\n",
              "      <td>1</td>\n",
              "      <td>BEAUTY</td>\n",
              "      <td>0.0</td>\n",
              "      <td>0</td>\n",
              "    </tr>\n",
              "    <tr>\n",
              "      <th>3</th>\n",
              "      <td>3</td>\n",
              "      <td>2013-01-01</td>\n",
              "      <td>1</td>\n",
              "      <td>BEVERAGES</td>\n",
              "      <td>0.0</td>\n",
              "      <td>0</td>\n",
              "    </tr>\n",
              "    <tr>\n",
              "      <th>4</th>\n",
              "      <td>4</td>\n",
              "      <td>2013-01-01</td>\n",
              "      <td>1</td>\n",
              "      <td>BOOKS</td>\n",
              "      <td>0.0</td>\n",
              "      <td>0</td>\n",
              "    </tr>\n",
              "  </tbody>\n",
              "</table>\n",
              "</div>\n",
              "      <button class=\"colab-df-convert\" onclick=\"convertToInteractive('df-f34e7445-982e-4664-86d0-16ab0bab07bb')\"\n",
              "              title=\"Convert this dataframe to an interactive table.\"\n",
              "              style=\"display:none;\">\n",
              "        \n",
              "  <svg xmlns=\"http://www.w3.org/2000/svg\" height=\"24px\"viewBox=\"0 0 24 24\"\n",
              "       width=\"24px\">\n",
              "    <path d=\"M0 0h24v24H0V0z\" fill=\"none\"/>\n",
              "    <path d=\"M18.56 5.44l.94 2.06.94-2.06 2.06-.94-2.06-.94-.94-2.06-.94 2.06-2.06.94zm-11 1L8.5 8.5l.94-2.06 2.06-.94-2.06-.94L8.5 2.5l-.94 2.06-2.06.94zm10 10l.94 2.06.94-2.06 2.06-.94-2.06-.94-.94-2.06-.94 2.06-2.06.94z\"/><path d=\"M17.41 7.96l-1.37-1.37c-.4-.4-.92-.59-1.43-.59-.52 0-1.04.2-1.43.59L10.3 9.45l-7.72 7.72c-.78.78-.78 2.05 0 2.83L4 21.41c.39.39.9.59 1.41.59.51 0 1.02-.2 1.41-.59l7.78-7.78 2.81-2.81c.8-.78.8-2.07 0-2.86zM5.41 20L4 18.59l7.72-7.72 1.47 1.35L5.41 20z\"/>\n",
              "  </svg>\n",
              "      </button>\n",
              "      \n",
              "  <style>\n",
              "    .colab-df-container {\n",
              "      display:flex;\n",
              "      flex-wrap:wrap;\n",
              "      gap: 12px;\n",
              "    }\n",
              "\n",
              "    .colab-df-convert {\n",
              "      background-color: #E8F0FE;\n",
              "      border: none;\n",
              "      border-radius: 50%;\n",
              "      cursor: pointer;\n",
              "      display: none;\n",
              "      fill: #1967D2;\n",
              "      height: 32px;\n",
              "      padding: 0 0 0 0;\n",
              "      width: 32px;\n",
              "    }\n",
              "\n",
              "    .colab-df-convert:hover {\n",
              "      background-color: #E2EBFA;\n",
              "      box-shadow: 0px 1px 2px rgba(60, 64, 67, 0.3), 0px 1px 3px 1px rgba(60, 64, 67, 0.15);\n",
              "      fill: #174EA6;\n",
              "    }\n",
              "\n",
              "    [theme=dark] .colab-df-convert {\n",
              "      background-color: #3B4455;\n",
              "      fill: #D2E3FC;\n",
              "    }\n",
              "\n",
              "    [theme=dark] .colab-df-convert:hover {\n",
              "      background-color: #434B5C;\n",
              "      box-shadow: 0px 1px 3px 1px rgba(0, 0, 0, 0.15);\n",
              "      filter: drop-shadow(0px 1px 2px rgba(0, 0, 0, 0.3));\n",
              "      fill: #FFFFFF;\n",
              "    }\n",
              "  </style>\n",
              "\n",
              "      <script>\n",
              "        const buttonEl =\n",
              "          document.querySelector('#df-f34e7445-982e-4664-86d0-16ab0bab07bb button.colab-df-convert');\n",
              "        buttonEl.style.display =\n",
              "          google.colab.kernel.accessAllowed ? 'block' : 'none';\n",
              "\n",
              "        async function convertToInteractive(key) {\n",
              "          const element = document.querySelector('#df-f34e7445-982e-4664-86d0-16ab0bab07bb');\n",
              "          const dataTable =\n",
              "            await google.colab.kernel.invokeFunction('convertToInteractive',\n",
              "                                                     [key], {});\n",
              "          if (!dataTable) return;\n",
              "\n",
              "          const docLinkHtml = 'Like what you see? Visit the ' +\n",
              "            '<a target=\"_blank\" href=https://colab.research.google.com/notebooks/data_table.ipynb>data table notebook</a>'\n",
              "            + ' to learn more about interactive tables.';\n",
              "          element.innerHTML = '';\n",
              "          dataTable['output_type'] = 'display_data';\n",
              "          await google.colab.output.renderOutput(dataTable, element);\n",
              "          const docLink = document.createElement('div');\n",
              "          docLink.innerHTML = docLinkHtml;\n",
              "          element.appendChild(docLink);\n",
              "        }\n",
              "      </script>\n",
              "    </div>\n",
              "  </div>\n",
              "  "
            ]
          },
          "metadata": {},
          "execution_count": 5
        }
      ]
    },
    {
      "cell_type": "code",
      "source": [
        "sales.shape"
      ],
      "metadata": {
        "colab": {
          "base_uri": "https://localhost:8080/"
        },
        "id": "9_CZdF8i9mX4",
        "outputId": "8645c6fd-541d-4d92-938c-afd8ef6584a0"
      },
      "execution_count": 6,
      "outputs": [
        {
          "output_type": "execute_result",
          "data": {
            "text/plain": [
              "(3000888, 6)"
            ]
          },
          "metadata": {},
          "execution_count": 6
        }
      ]
    },
    {
      "cell_type": "markdown",
      "source": [
        "# Preprocessing"
      ],
      "metadata": {
        "id": "qegii2BOCEjF"
      }
    },
    {
      "cell_type": "code",
      "source": [
        "ts = sales.query('store_nbr == 1 and family == \"PERSONAL CARE\"')"
      ],
      "metadata": {
        "id": "VyWouHz_vV5j"
      },
      "execution_count": 7,
      "outputs": []
    },
    {
      "cell_type": "code",
      "source": [
        "ts = ts.drop(columns=['id', 'store_nbr', 'family', 'onpromotion'])"
      ],
      "metadata": {
        "id": "cPpC-_TICNHq"
      },
      "execution_count": 8,
      "outputs": []
    },
    {
      "cell_type": "code",
      "source": [
        "ts.head()"
      ],
      "metadata": {
        "colab": {
          "base_uri": "https://localhost:8080/",
          "height": 206
        },
        "id": "mBVNN0GLCOQ-",
        "outputId": "1f7159f4-7565-462a-bb11-7392e4e3faf0"
      },
      "execution_count": 9,
      "outputs": [
        {
          "output_type": "execute_result",
          "data": {
            "text/plain": [
              "            date  sales\n",
              "25    2013-01-01    0.0\n",
              "1807  2013-01-02  194.0\n",
              "3589  2013-01-03  153.0\n",
              "5371  2013-01-04   88.0\n",
              "7153  2013-01-05  141.0"
            ],
            "text/html": [
              "\n",
              "  <div id=\"df-157f960f-30c0-4af8-9019-a2300f608f93\">\n",
              "    <div class=\"colab-df-container\">\n",
              "      <div>\n",
              "<style scoped>\n",
              "    .dataframe tbody tr th:only-of-type {\n",
              "        vertical-align: middle;\n",
              "    }\n",
              "\n",
              "    .dataframe tbody tr th {\n",
              "        vertical-align: top;\n",
              "    }\n",
              "\n",
              "    .dataframe thead th {\n",
              "        text-align: right;\n",
              "    }\n",
              "</style>\n",
              "<table border=\"1\" class=\"dataframe\">\n",
              "  <thead>\n",
              "    <tr style=\"text-align: right;\">\n",
              "      <th></th>\n",
              "      <th>date</th>\n",
              "      <th>sales</th>\n",
              "    </tr>\n",
              "  </thead>\n",
              "  <tbody>\n",
              "    <tr>\n",
              "      <th>25</th>\n",
              "      <td>2013-01-01</td>\n",
              "      <td>0.0</td>\n",
              "    </tr>\n",
              "    <tr>\n",
              "      <th>1807</th>\n",
              "      <td>2013-01-02</td>\n",
              "      <td>194.0</td>\n",
              "    </tr>\n",
              "    <tr>\n",
              "      <th>3589</th>\n",
              "      <td>2013-01-03</td>\n",
              "      <td>153.0</td>\n",
              "    </tr>\n",
              "    <tr>\n",
              "      <th>5371</th>\n",
              "      <td>2013-01-04</td>\n",
              "      <td>88.0</td>\n",
              "    </tr>\n",
              "    <tr>\n",
              "      <th>7153</th>\n",
              "      <td>2013-01-05</td>\n",
              "      <td>141.0</td>\n",
              "    </tr>\n",
              "  </tbody>\n",
              "</table>\n",
              "</div>\n",
              "      <button class=\"colab-df-convert\" onclick=\"convertToInteractive('df-157f960f-30c0-4af8-9019-a2300f608f93')\"\n",
              "              title=\"Convert this dataframe to an interactive table.\"\n",
              "              style=\"display:none;\">\n",
              "        \n",
              "  <svg xmlns=\"http://www.w3.org/2000/svg\" height=\"24px\"viewBox=\"0 0 24 24\"\n",
              "       width=\"24px\">\n",
              "    <path d=\"M0 0h24v24H0V0z\" fill=\"none\"/>\n",
              "    <path d=\"M18.56 5.44l.94 2.06.94-2.06 2.06-.94-2.06-.94-.94-2.06-.94 2.06-2.06.94zm-11 1L8.5 8.5l.94-2.06 2.06-.94-2.06-.94L8.5 2.5l-.94 2.06-2.06.94zm10 10l.94 2.06.94-2.06 2.06-.94-2.06-.94-.94-2.06-.94 2.06-2.06.94z\"/><path d=\"M17.41 7.96l-1.37-1.37c-.4-.4-.92-.59-1.43-.59-.52 0-1.04.2-1.43.59L10.3 9.45l-7.72 7.72c-.78.78-.78 2.05 0 2.83L4 21.41c.39.39.9.59 1.41.59.51 0 1.02-.2 1.41-.59l7.78-7.78 2.81-2.81c.8-.78.8-2.07 0-2.86zM5.41 20L4 18.59l7.72-7.72 1.47 1.35L5.41 20z\"/>\n",
              "  </svg>\n",
              "      </button>\n",
              "      \n",
              "  <style>\n",
              "    .colab-df-container {\n",
              "      display:flex;\n",
              "      flex-wrap:wrap;\n",
              "      gap: 12px;\n",
              "    }\n",
              "\n",
              "    .colab-df-convert {\n",
              "      background-color: #E8F0FE;\n",
              "      border: none;\n",
              "      border-radius: 50%;\n",
              "      cursor: pointer;\n",
              "      display: none;\n",
              "      fill: #1967D2;\n",
              "      height: 32px;\n",
              "      padding: 0 0 0 0;\n",
              "      width: 32px;\n",
              "    }\n",
              "\n",
              "    .colab-df-convert:hover {\n",
              "      background-color: #E2EBFA;\n",
              "      box-shadow: 0px 1px 2px rgba(60, 64, 67, 0.3), 0px 1px 3px 1px rgba(60, 64, 67, 0.15);\n",
              "      fill: #174EA6;\n",
              "    }\n",
              "\n",
              "    [theme=dark] .colab-df-convert {\n",
              "      background-color: #3B4455;\n",
              "      fill: #D2E3FC;\n",
              "    }\n",
              "\n",
              "    [theme=dark] .colab-df-convert:hover {\n",
              "      background-color: #434B5C;\n",
              "      box-shadow: 0px 1px 3px 1px rgba(0, 0, 0, 0.15);\n",
              "      filter: drop-shadow(0px 1px 2px rgba(0, 0, 0, 0.3));\n",
              "      fill: #FFFFFF;\n",
              "    }\n",
              "  </style>\n",
              "\n",
              "      <script>\n",
              "        const buttonEl =\n",
              "          document.querySelector('#df-157f960f-30c0-4af8-9019-a2300f608f93 button.colab-df-convert');\n",
              "        buttonEl.style.display =\n",
              "          google.colab.kernel.accessAllowed ? 'block' : 'none';\n",
              "\n",
              "        async function convertToInteractive(key) {\n",
              "          const element = document.querySelector('#df-157f960f-30c0-4af8-9019-a2300f608f93');\n",
              "          const dataTable =\n",
              "            await google.colab.kernel.invokeFunction('convertToInteractive',\n",
              "                                                     [key], {});\n",
              "          if (!dataTable) return;\n",
              "\n",
              "          const docLinkHtml = 'Like what you see? Visit the ' +\n",
              "            '<a target=\"_blank\" href=https://colab.research.google.com/notebooks/data_table.ipynb>data table notebook</a>'\n",
              "            + ' to learn more about interactive tables.';\n",
              "          element.innerHTML = '';\n",
              "          dataTable['output_type'] = 'display_data';\n",
              "          await google.colab.output.renderOutput(dataTable, element);\n",
              "          const docLink = document.createElement('div');\n",
              "          docLink.innerHTML = docLinkHtml;\n",
              "          element.appendChild(docLink);\n",
              "        }\n",
              "      </script>\n",
              "    </div>\n",
              "  </div>\n",
              "  "
            ]
          },
          "metadata": {},
          "execution_count": 9
        }
      ]
    },
    {
      "cell_type": "code",
      "source": [
        "ts.index = ts.date\n",
        "ts = ts.drop(columns='date')\n",
        "\n",
        "ts.head()"
      ],
      "metadata": {
        "colab": {
          "base_uri": "https://localhost:8080/",
          "height": 238
        },
        "id": "fypSpJNiF9jQ",
        "outputId": "5e71bdeb-0ab4-4237-aa4b-e2069bdf8b98"
      },
      "execution_count": 10,
      "outputs": [
        {
          "output_type": "execute_result",
          "data": {
            "text/plain": [
              "            sales\n",
              "date             \n",
              "2013-01-01    0.0\n",
              "2013-01-02  194.0\n",
              "2013-01-03  153.0\n",
              "2013-01-04   88.0\n",
              "2013-01-05  141.0"
            ],
            "text/html": [
              "\n",
              "  <div id=\"df-507492cf-aa04-4679-8e77-883697e36944\">\n",
              "    <div class=\"colab-df-container\">\n",
              "      <div>\n",
              "<style scoped>\n",
              "    .dataframe tbody tr th:only-of-type {\n",
              "        vertical-align: middle;\n",
              "    }\n",
              "\n",
              "    .dataframe tbody tr th {\n",
              "        vertical-align: top;\n",
              "    }\n",
              "\n",
              "    .dataframe thead th {\n",
              "        text-align: right;\n",
              "    }\n",
              "</style>\n",
              "<table border=\"1\" class=\"dataframe\">\n",
              "  <thead>\n",
              "    <tr style=\"text-align: right;\">\n",
              "      <th></th>\n",
              "      <th>sales</th>\n",
              "    </tr>\n",
              "    <tr>\n",
              "      <th>date</th>\n",
              "      <th></th>\n",
              "    </tr>\n",
              "  </thead>\n",
              "  <tbody>\n",
              "    <tr>\n",
              "      <th>2013-01-01</th>\n",
              "      <td>0.0</td>\n",
              "    </tr>\n",
              "    <tr>\n",
              "      <th>2013-01-02</th>\n",
              "      <td>194.0</td>\n",
              "    </tr>\n",
              "    <tr>\n",
              "      <th>2013-01-03</th>\n",
              "      <td>153.0</td>\n",
              "    </tr>\n",
              "    <tr>\n",
              "      <th>2013-01-04</th>\n",
              "      <td>88.0</td>\n",
              "    </tr>\n",
              "    <tr>\n",
              "      <th>2013-01-05</th>\n",
              "      <td>141.0</td>\n",
              "    </tr>\n",
              "  </tbody>\n",
              "</table>\n",
              "</div>\n",
              "      <button class=\"colab-df-convert\" onclick=\"convertToInteractive('df-507492cf-aa04-4679-8e77-883697e36944')\"\n",
              "              title=\"Convert this dataframe to an interactive table.\"\n",
              "              style=\"display:none;\">\n",
              "        \n",
              "  <svg xmlns=\"http://www.w3.org/2000/svg\" height=\"24px\"viewBox=\"0 0 24 24\"\n",
              "       width=\"24px\">\n",
              "    <path d=\"M0 0h24v24H0V0z\" fill=\"none\"/>\n",
              "    <path d=\"M18.56 5.44l.94 2.06.94-2.06 2.06-.94-2.06-.94-.94-2.06-.94 2.06-2.06.94zm-11 1L8.5 8.5l.94-2.06 2.06-.94-2.06-.94L8.5 2.5l-.94 2.06-2.06.94zm10 10l.94 2.06.94-2.06 2.06-.94-2.06-.94-.94-2.06-.94 2.06-2.06.94z\"/><path d=\"M17.41 7.96l-1.37-1.37c-.4-.4-.92-.59-1.43-.59-.52 0-1.04.2-1.43.59L10.3 9.45l-7.72 7.72c-.78.78-.78 2.05 0 2.83L4 21.41c.39.39.9.59 1.41.59.51 0 1.02-.2 1.41-.59l7.78-7.78 2.81-2.81c.8-.78.8-2.07 0-2.86zM5.41 20L4 18.59l7.72-7.72 1.47 1.35L5.41 20z\"/>\n",
              "  </svg>\n",
              "      </button>\n",
              "      \n",
              "  <style>\n",
              "    .colab-df-container {\n",
              "      display:flex;\n",
              "      flex-wrap:wrap;\n",
              "      gap: 12px;\n",
              "    }\n",
              "\n",
              "    .colab-df-convert {\n",
              "      background-color: #E8F0FE;\n",
              "      border: none;\n",
              "      border-radius: 50%;\n",
              "      cursor: pointer;\n",
              "      display: none;\n",
              "      fill: #1967D2;\n",
              "      height: 32px;\n",
              "      padding: 0 0 0 0;\n",
              "      width: 32px;\n",
              "    }\n",
              "\n",
              "    .colab-df-convert:hover {\n",
              "      background-color: #E2EBFA;\n",
              "      box-shadow: 0px 1px 2px rgba(60, 64, 67, 0.3), 0px 1px 3px 1px rgba(60, 64, 67, 0.15);\n",
              "      fill: #174EA6;\n",
              "    }\n",
              "\n",
              "    [theme=dark] .colab-df-convert {\n",
              "      background-color: #3B4455;\n",
              "      fill: #D2E3FC;\n",
              "    }\n",
              "\n",
              "    [theme=dark] .colab-df-convert:hover {\n",
              "      background-color: #434B5C;\n",
              "      box-shadow: 0px 1px 3px 1px rgba(0, 0, 0, 0.15);\n",
              "      filter: drop-shadow(0px 1px 2px rgba(0, 0, 0, 0.3));\n",
              "      fill: #FFFFFF;\n",
              "    }\n",
              "  </style>\n",
              "\n",
              "      <script>\n",
              "        const buttonEl =\n",
              "          document.querySelector('#df-507492cf-aa04-4679-8e77-883697e36944 button.colab-df-convert');\n",
              "        buttonEl.style.display =\n",
              "          google.colab.kernel.accessAllowed ? 'block' : 'none';\n",
              "\n",
              "        async function convertToInteractive(key) {\n",
              "          const element = document.querySelector('#df-507492cf-aa04-4679-8e77-883697e36944');\n",
              "          const dataTable =\n",
              "            await google.colab.kernel.invokeFunction('convertToInteractive',\n",
              "                                                     [key], {});\n",
              "          if (!dataTable) return;\n",
              "\n",
              "          const docLinkHtml = 'Like what you see? Visit the ' +\n",
              "            '<a target=\"_blank\" href=https://colab.research.google.com/notebooks/data_table.ipynb>data table notebook</a>'\n",
              "            + ' to learn more about interactive tables.';\n",
              "          element.innerHTML = '';\n",
              "          dataTable['output_type'] = 'display_data';\n",
              "          await google.colab.output.renderOutput(dataTable, element);\n",
              "          const docLink = document.createElement('div');\n",
              "          docLink.innerHTML = docLinkHtml;\n",
              "          element.appendChild(docLink);\n",
              "        }\n",
              "      </script>\n",
              "    </div>\n",
              "  </div>\n",
              "  "
            ]
          },
          "metadata": {},
          "execution_count": 10
        }
      ]
    },
    {
      "cell_type": "code",
      "source": [
        "ts.shape"
      ],
      "metadata": {
        "id": "j1mde0W2vX7r",
        "colab": {
          "base_uri": "https://localhost:8080/"
        },
        "outputId": "9c678c78-0e84-42b8-98ed-27154718652e"
      },
      "execution_count": 11,
      "outputs": [
        {
          "output_type": "execute_result",
          "data": {
            "text/plain": [
              "(1684, 1)"
            ]
          },
          "metadata": {},
          "execution_count": 11
        }
      ]
    },
    {
      "cell_type": "code",
      "source": [
        "ts.isna().sum()"
      ],
      "metadata": {
        "id": "ZuM7gr3XvqQ9",
        "colab": {
          "base_uri": "https://localhost:8080/"
        },
        "outputId": "2347913e-9ade-4008-fdd1-a0752c26c875"
      },
      "execution_count": 12,
      "outputs": [
        {
          "output_type": "execute_result",
          "data": {
            "text/plain": [
              "sales    0\n",
              "dtype: int64"
            ]
          },
          "metadata": {},
          "execution_count": 12
        }
      ]
    },
    {
      "cell_type": "code",
      "source": [
        "ts.plot()"
      ],
      "metadata": {
        "id": "WOeWlc9OwaCe",
        "colab": {
          "base_uri": "https://localhost:8080/",
          "height": 351
        },
        "outputId": "2ce40a47-ff05-420a-a252-1bd60e9449cd"
      },
      "execution_count": 13,
      "outputs": [
        {
          "output_type": "execute_result",
          "data": {
            "text/plain": [
              "<matplotlib.axes._subplots.AxesSubplot at 0x7fd261236dd0>"
            ]
          },
          "metadata": {},
          "execution_count": 13
        },
        {
          "output_type": "display_data",
          "data": {
            "text/plain": [
              "<Figure size 720x360 with 1 Axes>"
            ],
            "image/png": "[encoded data removed]"
          },
          "metadata": {
            "needs_background": "light"
          }
        }
      ]
    },
    {
      "cell_type": "code",
      "source": [
        "sales_train, sales_test = train_test_split(ts, test_size=0.5, shuffle=False)\n",
        "sales_test, sales_val = train_test_split(sales_test, test_size=0.5, shuffle=False)"
      ],
      "metadata": {
        "id": "OTj9tUkyFsRi"
      },
      "execution_count": 21,
      "outputs": []
    },
    {
      "cell_type": "code",
      "source": [
        "sales_train"
      ],
      "metadata": {
        "colab": {
          "base_uri": "https://localhost:8080/",
          "height": 455
        },
        "id": "_yHqZDemG6CG",
        "outputId": "0ac5b579-e1d2-40c3-8c2d-26b3b563e563"
      },
      "execution_count": 22,
      "outputs": [
        {
          "output_type": "execute_result",
          "data": {
            "text/plain": [
              "            sales\n",
              "date             \n",
              "2013-01-01    0.0\n",
              "2013-01-02  194.0\n",
              "2013-01-03  153.0\n",
              "2013-01-04   88.0\n",
              "2013-01-05  141.0\n",
              "...           ...\n",
              "2015-04-20  151.0\n",
              "2015-04-21  153.0\n",
              "2015-04-22  150.0\n",
              "2015-04-23  123.0\n",
              "2015-04-24  119.0\n",
              "\n",
              "[842 rows x 1 columns]"
            ],
            "text/html": [
              "\n",
              "  <div id=\"df-b706b220-36a3-4e28-83d2-ba55e6b7ccb2\">\n",
              "    <div class=\"colab-df-container\">\n",
              "      <div>\n",
              "<style scoped>\n",
              "    .dataframe tbody tr th:only-of-type {\n",
              "        vertical-align: middle;\n",
              "    }\n",
              "\n",
              "    .dataframe tbody tr th {\n",
              "        vertical-align: top;\n",
              "    }\n",
              "\n",
              "    .dataframe thead th {\n",
              "        text-align: right;\n",
              "    }\n",
              "</style>\n",
              "<table border=\"1\" class=\"dataframe\">\n",
              "  <thead>\n",
              "    <tr style=\"text-align: right;\">\n",
              "      <th></th>\n",
              "      <th>sales</th>\n",
              "    </tr>\n",
              "    <tr>\n",
              "      <th>date</th>\n",
              "      <th></th>\n",
              "    </tr>\n",
              "  </thead>\n",
              "  <tbody>\n",
              "    <tr>\n",
              "      <th>2013-01-01</th>\n",
              "      <td>0.0</td>\n",
              "    </tr>\n",
              "    <tr>\n",
              "      <th>2013-01-02</th>\n",
              "      <td>194.0</td>\n",
              "    </tr>\n",
              "    <tr>\n",
              "      <th>2013-01-03</th>\n",
              "      <td>153.0</td>\n",
              "    </tr>\n",
              "    <tr>\n",
              "      <th>2013-01-04</th>\n",
              "      <td>88.0</td>\n",
              "    </tr>\n",
              "    <tr>\n",
              "      <th>2013-01-05</th>\n",
              "      <td>141.0</td>\n",
              "    </tr>\n",
              "    <tr>\n",
              "      <th>...</th>\n",
              "      <td>...</td>\n",
              "    </tr>\n",
              "    <tr>\n",
              "      <th>2015-04-20</th>\n",
              "      <td>151.0</td>\n",
              "    </tr>\n",
              "    <tr>\n",
              "      <th>2015-04-21</th>\n",
              "      <td>153.0</td>\n",
              "    </tr>\n",
              "    <tr>\n",
              "      <th>2015-04-22</th>\n",
              "      <td>150.0</td>\n",
              "    </tr>\n",
              "    <tr>\n",
              "      <th>2015-04-23</th>\n",
              "      <td>123.0</td>\n",
              "    </tr>\n",
              "    <tr>\n",
              "      <th>2015-04-24</th>\n",
              "      <td>119.0</td>\n",
              "    </tr>\n",
              "  </tbody>\n",
              "</table>\n",
              "<p>842 rows × 1 columns</p>\n",
              "</div>\n",
              "      <button class=\"colab-df-convert\" onclick=\"convertToInteractive('df-b706b220-36a3-4e28-83d2-ba55e6b7ccb2')\"\n",
              "              title=\"Convert this dataframe to an interactive table.\"\n",
              "              style=\"display:none;\">\n",
              "        \n",
              "  <svg xmlns=\"http://www.w3.org/2000/svg\" height=\"24px\"viewBox=\"0 0 24 24\"\n",
              "       width=\"24px\">\n",
              "    <path d=\"M0 0h24v24H0V0z\" fill=\"none\"/>\n",
              "    <path d=\"M18.56 5.44l.94 2.06.94-2.06 2.06-.94-2.06-.94-.94-2.06-.94 2.06-2.06.94zm-11 1L8.5 8.5l.94-2.06 2.06-.94-2.06-.94L8.5 2.5l-.94 2.06-2.06.94zm10 10l.94 2.06.94-2.06 2.06-.94-2.06-.94-.94-2.06-.94 2.06-2.06.94z\"/><path d=\"M17.41 7.96l-1.37-1.37c-.4-.4-.92-.59-1.43-.59-.52 0-1.04.2-1.43.59L10.3 9.45l-7.72 7.72c-.78.78-.78 2.05 0 2.83L4 21.41c.39.39.9.59 1.41.59.51 0 1.02-.2 1.41-.59l7.78-7.78 2.81-2.81c.8-.78.8-2.07 0-2.86zM5.41 20L4 18.59l7.72-7.72 1.47 1.35L5.41 20z\"/>\n",
              "  </svg>\n",
              "      </button>\n",
              "      \n",
              "  <style>\n",
              "    .colab-df-container {\n",
              "      display:flex;\n",
              "      flex-wrap:wrap;\n",
              "      gap: 12px;\n",
              "    }\n",
              "\n",
              "    .colab-df-convert {\n",
              "      background-color: #E8F0FE;\n",
              "      border: none;\n",
              "      border-radius: 50%;\n",
              "      cursor: pointer;\n",
              "      display: none;\n",
              "      fill: #1967D2;\n",
              "      height: 32px;\n",
              "      padding: 0 0 0 0;\n",
              "      width: 32px;\n",
              "    }\n",
              "\n",
              "    .colab-df-convert:hover {\n",
              "      background-color: #E2EBFA;\n",
              "      box-shadow: 0px 1px 2px rgba(60, 64, 67, 0.3), 0px 1px 3px 1px rgba(60, 64, 67, 0.15);\n",
              "      fill: #174EA6;\n",
              "    }\n",
              "\n",
              "    [theme=dark] .colab-df-convert {\n",
              "      background-color: #3B4455;\n",
              "      fill: #D2E3FC;\n",
              "    }\n",
              "\n",
              "    [theme=dark] .colab-df-convert:hover {\n",
              "      background-color: #434B5C;\n",
              "      box-shadow: 0px 1px 3px 1px rgba(0, 0, 0, 0.15);\n",
              "      filter: drop-shadow(0px 1px 2px rgba(0, 0, 0, 0.3));\n",
              "      fill: #FFFFFF;\n",
              "    }\n",
              "  </style>\n",
              "\n",
              "      <script>\n",
              "        const buttonEl =\n",
              "          document.querySelector('#df-b706b220-36a3-4e28-83d2-ba55e6b7ccb2 button.colab-df-convert');\n",
              "        buttonEl.style.display =\n",
              "          google.colab.kernel.accessAllowed ? 'block' : 'none';\n",
              "\n",
              "        async function convertToInteractive(key) {\n",
              "          const element = document.querySelector('#df-b706b220-36a3-4e28-83d2-ba55e6b7ccb2');\n",
              "          const dataTable =\n",
              "            await google.colab.kernel.invokeFunction('convertToInteractive',\n",
              "                                                     [key], {});\n",
              "          if (!dataTable) return;\n",
              "\n",
              "          const docLinkHtml = 'Like what you see? Visit the ' +\n",
              "            '<a target=\"_blank\" href=https://colab.research.google.com/notebooks/data_table.ipynb>data table notebook</a>'\n",
              "            + ' to learn more about interactive tables.';\n",
              "          element.innerHTML = '';\n",
              "          dataTable['output_type'] = 'display_data';\n",
              "          await google.colab.output.renderOutput(dataTable, element);\n",
              "          const docLink = document.createElement('div');\n",
              "          docLink.innerHTML = docLinkHtml;\n",
              "          element.appendChild(docLink);\n",
              "        }\n",
              "      </script>\n",
              "    </div>\n",
              "  </div>\n",
              "  "
            ]
          },
          "metadata": {},
          "execution_count": 22
        }
      ]
    },
    {
      "cell_type": "code",
      "source": [
        "sales_test"
      ],
      "metadata": {
        "id": "odwGQ1quF8nd",
        "outputId": "dde46700-4a62-4ca9-8d6f-d2152525fa9b",
        "colab": {
          "base_uri": "https://localhost:8080/",
          "height": 455
        }
      },
      "execution_count": 23,
      "outputs": [
        {
          "output_type": "execute_result",
          "data": {
            "text/plain": [
              "            sales\n",
              "date             \n",
              "2015-04-25  150.0\n",
              "2015-04-26   47.0\n",
              "2015-04-27  124.0\n",
              "2015-04-28  122.0\n",
              "2015-04-29  114.0\n",
              "...           ...\n",
              "2016-06-15  163.0\n",
              "2016-06-16  144.0\n",
              "2016-06-17  121.0\n",
              "2016-06-18  133.0\n",
              "2016-06-19   77.0\n",
              "\n",
              "[421 rows x 1 columns]"
            ],
            "text/html": [
              "\n",
              "  <div id=\"df-953f8513-dfbf-451f-8220-3e761c2ff33b\">\n",
              "    <div class=\"colab-df-container\">\n",
              "      <div>\n",
              "<style scoped>\n",
              "    .dataframe tbody tr th:only-of-type {\n",
              "        vertical-align: middle;\n",
              "    }\n",
              "\n",
              "    .dataframe tbody tr th {\n",
              "        vertical-align: top;\n",
              "    }\n",
              "\n",
              "    .dataframe thead th {\n",
              "        text-align: right;\n",
              "    }\n",
              "</style>\n",
              "<table border=\"1\" class=\"dataframe\">\n",
              "  <thead>\n",
              "    <tr style=\"text-align: right;\">\n",
              "      <th></th>\n",
              "      <th>sales</th>\n",
              "    </tr>\n",
              "    <tr>\n",
              "      <th>date</th>\n",
              "      <th></th>\n",
              "    </tr>\n",
              "  </thead>\n",
              "  <tbody>\n",
              "    <tr>\n",
              "      <th>2015-04-25</th>\n",
              "      <td>150.0</td>\n",
              "    </tr>\n",
              "    <tr>\n",
              "      <th>2015-04-26</th>\n",
              "      <td>47.0</td>\n",
              "    </tr>\n",
              "    <tr>\n",
              "      <th>2015-04-27</th>\n",
              "      <td>124.0</td>\n",
              "    </tr>\n",
              "    <tr>\n",
              "      <th>2015-04-28</th>\n",
              "      <td>122.0</td>\n",
              "    </tr>\n",
              "    <tr>\n",
              "      <th>2015-04-29</th>\n",
              "      <td>114.0</td>\n",
              "    </tr>\n",
              "    <tr>\n",
              "      <th>...</th>\n",
              "      <td>...</td>\n",
              "    </tr>\n",
              "    <tr>\n",
              "      <th>2016-06-15</th>\n",
              "      <td>163.0</td>\n",
              "    </tr>\n",
              "    <tr>\n",
              "      <th>2016-06-16</th>\n",
              "      <td>144.0</td>\n",
              "    </tr>\n",
              "    <tr>\n",
              "      <th>2016-06-17</th>\n",
              "      <td>121.0</td>\n",
              "    </tr>\n",
              "    <tr>\n",
              "      <th>2016-06-18</th>\n",
              "      <td>133.0</td>\n",
              "    </tr>\n",
              "    <tr>\n",
              "      <th>2016-06-19</th>\n",
              "      <td>77.0</td>\n",
              "    </tr>\n",
              "  </tbody>\n",
              "</table>\n",
              "<p>421 rows × 1 columns</p>\n",
              "</div>\n",
              "      <button class=\"colab-df-convert\" onclick=\"convertToInteractive('df-953f8513-dfbf-451f-8220-3e761c2ff33b')\"\n",
              "              title=\"Convert this dataframe to an interactive table.\"\n",
              "              style=\"display:none;\">\n",
              "        \n",
              "  <svg xmlns=\"http://www.w3.org/2000/svg\" height=\"24px\"viewBox=\"0 0 24 24\"\n",
              "       width=\"24px\">\n",
              "    <path d=\"M0 0h24v24H0V0z\" fill=\"none\"/>\n",
              "    <path d=\"M18.56 5.44l.94 2.06.94-2.06 2.06-.94-2.06-.94-.94-2.06-.94 2.06-2.06.94zm-11 1L8.5 8.5l.94-2.06 2.06-.94-2.06-.94L8.5 2.5l-.94 2.06-2.06.94zm10 10l.94 2.06.94-2.06 2.06-.94-2.06-.94-.94-2.06-.94 2.06-2.06.94z\"/><path d=\"M17.41 7.96l-1.37-1.37c-.4-.4-.92-.59-1.43-.59-.52 0-1.04.2-1.43.59L10.3 9.45l-7.72 7.72c-.78.78-.78 2.05 0 2.83L4 21.41c.39.39.9.59 1.41.59.51 0 1.02-.2 1.41-.59l7.78-7.78 2.81-2.81c.8-.78.8-2.07 0-2.86zM5.41 20L4 18.59l7.72-7.72 1.47 1.35L5.41 20z\"/>\n",
              "  </svg>\n",
              "      </button>\n",
              "      \n",
              "  <style>\n",
              "    .colab-df-container {\n",
              "      display:flex;\n",
              "      flex-wrap:wrap;\n",
              "      gap: 12px;\n",
              "    }\n",
              "\n",
              "    .colab-df-convert {\n",
              "      background-color: #E8F0FE;\n",
              "      border: none;\n",
              "      border-radius: 50%;\n",
              "      cursor: pointer;\n",
              "      display: none;\n",
              "      fill: #1967D2;\n",
              "      height: 32px;\n",
              "      padding: 0 0 0 0;\n",
              "      width: 32px;\n",
              "    }\n",
              "\n",
              "    .colab-df-convert:hover {\n",
              "      background-color: #E2EBFA;\n",
              "      box-shadow: 0px 1px 2px rgba(60, 64, 67, 0.3), 0px 1px 3px 1px rgba(60, 64, 67, 0.15);\n",
              "      fill: #174EA6;\n",
              "    }\n",
              "\n",
              "    [theme=dark] .colab-df-convert {\n",
              "      background-color: #3B4455;\n",
              "      fill: #D2E3FC;\n",
              "    }\n",
              "\n",
              "    [theme=dark] .colab-df-convert:hover {\n",
              "      background-color: #434B5C;\n",
              "      box-shadow: 0px 1px 3px 1px rgba(0, 0, 0, 0.15);\n",
              "      filter: drop-shadow(0px 1px 2px rgba(0, 0, 0, 0.3));\n",
              "      fill: #FFFFFF;\n",
              "    }\n",
              "  </style>\n",
              "\n",
              "      <script>\n",
              "        const buttonEl =\n",
              "          document.querySelector('#df-953f8513-dfbf-451f-8220-3e761c2ff33b button.colab-df-convert');\n",
              "        buttonEl.style.display =\n",
              "          google.colab.kernel.accessAllowed ? 'block' : 'none';\n",
              "\n",
              "        async function convertToInteractive(key) {\n",
              "          const element = document.querySelector('#df-953f8513-dfbf-451f-8220-3e761c2ff33b');\n",
              "          const dataTable =\n",
              "            await google.colab.kernel.invokeFunction('convertToInteractive',\n",
              "                                                     [key], {});\n",
              "          if (!dataTable) return;\n",
              "\n",
              "          const docLinkHtml = 'Like what you see? Visit the ' +\n",
              "            '<a target=\"_blank\" href=https://colab.research.google.com/notebooks/data_table.ipynb>data table notebook</a>'\n",
              "            + ' to learn more about interactive tables.';\n",
              "          element.innerHTML = '';\n",
              "          dataTable['output_type'] = 'display_data';\n",
              "          await google.colab.output.renderOutput(dataTable, element);\n",
              "          const docLink = document.createElement('div');\n",
              "          docLink.innerHTML = docLinkHtml;\n",
              "          element.appendChild(docLink);\n",
              "        }\n",
              "      </script>\n",
              "    </div>\n",
              "  </div>\n",
              "  "
            ]
          },
          "metadata": {},
          "execution_count": 23
        }
      ]
    },
    {
      "cell_type": "code",
      "source": [
        "sales_val"
      ],
      "metadata": {
        "id": "sX4YwWfaF-Xs",
        "outputId": "b46c0363-e9c3-46a1-ed5b-2efdecd859c5",
        "colab": {
          "base_uri": "https://localhost:8080/",
          "height": 455
        }
      },
      "execution_count": 24,
      "outputs": [
        {
          "output_type": "execute_result",
          "data": {
            "text/plain": [
              "            sales\n",
              "date             \n",
              "2016-06-20  258.0\n",
              "2016-06-21  116.0\n",
              "2016-06-22  153.0\n",
              "2016-06-23  154.0\n",
              "2016-06-24  111.0\n",
              "...           ...\n",
              "2017-08-11   53.0\n",
              "2017-08-12  227.0\n",
              "2017-08-13   45.0\n",
              "2017-08-14  159.0\n",
              "2017-08-15  173.0\n",
              "\n",
              "[421 rows x 1 columns]"
            ],
            "text/html": [
              "\n",
              "  <div id=\"df-637828a3-9f76-44a4-abe7-6caff89e0587\">\n",
              "    <div class=\"colab-df-container\">\n",
              "      <div>\n",
              "<style scoped>\n",
              "    .dataframe tbody tr th:only-of-type {\n",
              "        vertical-align: middle;\n",
              "    }\n",
              "\n",
              "    .dataframe tbody tr th {\n",
              "        vertical-align: top;\n",
              "    }\n",
              "\n",
              "    .dataframe thead th {\n",
              "        text-align: right;\n",
              "    }\n",
              "</style>\n",
              "<table border=\"1\" class=\"dataframe\">\n",
              "  <thead>\n",
              "    <tr style=\"text-align: right;\">\n",
              "      <th></th>\n",
              "      <th>sales</th>\n",
              "    </tr>\n",
              "    <tr>\n",
              "      <th>date</th>\n",
              "      <th></th>\n",
              "    </tr>\n",
              "  </thead>\n",
              "  <tbody>\n",
              "    <tr>\n",
              "      <th>2016-06-20</th>\n",
              "      <td>258.0</td>\n",
              "    </tr>\n",
              "    <tr>\n",
              "      <th>2016-06-21</th>\n",
              "      <td>116.0</td>\n",
              "    </tr>\n",
              "    <tr>\n",
              "      <th>2016-06-22</th>\n",
              "      <td>153.0</td>\n",
              "    </tr>\n",
              "    <tr>\n",
              "      <th>2016-06-23</th>\n",
              "      <td>154.0</td>\n",
              "    </tr>\n",
              "    <tr>\n",
              "      <th>2016-06-24</th>\n",
              "      <td>111.0</td>\n",
              "    </tr>\n",
              "    <tr>\n",
              "      <th>...</th>\n",
              "      <td>...</td>\n",
              "    </tr>\n",
              "    <tr>\n",
              "      <th>2017-08-11</th>\n",
              "      <td>53.0</td>\n",
              "    </tr>\n",
              "    <tr>\n",
              "      <th>2017-08-12</th>\n",
              "      <td>227.0</td>\n",
              "    </tr>\n",
              "    <tr>\n",
              "      <th>2017-08-13</th>\n",
              "      <td>45.0</td>\n",
              "    </tr>\n",
              "    <tr>\n",
              "      <th>2017-08-14</th>\n",
              "      <td>159.0</td>\n",
              "    </tr>\n",
              "    <tr>\n",
              "      <th>2017-08-15</th>\n",
              "      <td>173.0</td>\n",
              "    </tr>\n",
              "  </tbody>\n",
              "</table>\n",
              "<p>421 rows × 1 columns</p>\n",
              "</div>\n",
              "      <button class=\"colab-df-convert\" onclick=\"convertToInteractive('df-637828a3-9f76-44a4-abe7-6caff89e0587')\"\n",
              "              title=\"Convert this dataframe to an interactive table.\"\n",
              "              style=\"display:none;\">\n",
              "        \n",
              "  <svg xmlns=\"http://www.w3.org/2000/svg\" height=\"24px\"viewBox=\"0 0 24 24\"\n",
              "       width=\"24px\">\n",
              "    <path d=\"M0 0h24v24H0V0z\" fill=\"none\"/>\n",
              "    <path d=\"M18.56 5.44l.94 2.06.94-2.06 2.06-.94-2.06-.94-.94-2.06-.94 2.06-2.06.94zm-11 1L8.5 8.5l.94-2.06 2.06-.94-2.06-.94L8.5 2.5l-.94 2.06-2.06.94zm10 10l.94 2.06.94-2.06 2.06-.94-2.06-.94-.94-2.06-.94 2.06-2.06.94z\"/><path d=\"M17.41 7.96l-1.37-1.37c-.4-.4-.92-.59-1.43-.59-.52 0-1.04.2-1.43.59L10.3 9.45l-7.72 7.72c-.78.78-.78 2.05 0 2.83L4 21.41c.39.39.9.59 1.41.59.51 0 1.02-.2 1.41-.59l7.78-7.78 2.81-2.81c.8-.78.8-2.07 0-2.86zM5.41 20L4 18.59l7.72-7.72 1.47 1.35L5.41 20z\"/>\n",
              "  </svg>\n",
              "      </button>\n",
              "      \n",
              "  <style>\n",
              "    .colab-df-container {\n",
              "      display:flex;\n",
              "      flex-wrap:wrap;\n",
              "      gap: 12px;\n",
              "    }\n",
              "\n",
              "    .colab-df-convert {\n",
              "      background-color: #E8F0FE;\n",
              "      border: none;\n",
              "      border-radius: 50%;\n",
              "      cursor: pointer;\n",
              "      display: none;\n",
              "      fill: #1967D2;\n",
              "      height: 32px;\n",
              "      padding: 0 0 0 0;\n",
              "      width: 32px;\n",
              "    }\n",
              "\n",
              "    .colab-df-convert:hover {\n",
              "      background-color: #E2EBFA;\n",
              "      box-shadow: 0px 1px 2px rgba(60, 64, 67, 0.3), 0px 1px 3px 1px rgba(60, 64, 67, 0.15);\n",
              "      fill: #174EA6;\n",
              "    }\n",
              "\n",
              "    [theme=dark] .colab-df-convert {\n",
              "      background-color: #3B4455;\n",
              "      fill: #D2E3FC;\n",
              "    }\n",
              "\n",
              "    [theme=dark] .colab-df-convert:hover {\n",
              "      background-color: #434B5C;\n",
              "      box-shadow: 0px 1px 3px 1px rgba(0, 0, 0, 0.15);\n",
              "      filter: drop-shadow(0px 1px 2px rgba(0, 0, 0, 0.3));\n",
              "      fill: #FFFFFF;\n",
              "    }\n",
              "  </style>\n",
              "\n",
              "      <script>\n",
              "        const buttonEl =\n",
              "          document.querySelector('#df-637828a3-9f76-44a4-abe7-6caff89e0587 button.colab-df-convert');\n",
              "        buttonEl.style.display =\n",
              "          google.colab.kernel.accessAllowed ? 'block' : 'none';\n",
              "\n",
              "        async function convertToInteractive(key) {\n",
              "          const element = document.querySelector('#df-637828a3-9f76-44a4-abe7-6caff89e0587');\n",
              "          const dataTable =\n",
              "            await google.colab.kernel.invokeFunction('convertToInteractive',\n",
              "                                                     [key], {});\n",
              "          if (!dataTable) return;\n",
              "\n",
              "          const docLinkHtml = 'Like what you see? Visit the ' +\n",
              "            '<a target=\"_blank\" href=https://colab.research.google.com/notebooks/data_table.ipynb>data table notebook</a>'\n",
              "            + ' to learn more about interactive tables.';\n",
              "          element.innerHTML = '';\n",
              "          dataTable['output_type'] = 'display_data';\n",
              "          await google.colab.output.renderOutput(dataTable, element);\n",
              "          const docLink = document.createElement('div');\n",
              "          docLink.innerHTML = docLinkHtml;\n",
              "          element.appendChild(docLink);\n",
              "        }\n",
              "      </script>\n",
              "    </div>\n",
              "  </div>\n",
              "  "
            ]
          },
          "metadata": {},
          "execution_count": 24
        }
      ]
    },
    {
      "cell_type": "markdown",
      "source": [
        "**Será que modelos de machine learning poderiam descobrir relações e padrões não lineares, que os modelos clássicos lineares não conseguem?** 🤔:"
      ],
      "metadata": {
        "id": "fjigGDmUP30y"
      }
    },
    {
      "cell_type": "markdown",
      "source": [
        "# Analysis"
      ],
      "metadata": {
        "id": "ptg4dJ_qZfpc"
      }
    },
    {
      "cell_type": "markdown",
      "source": [
        "## Seasonal Decomposing"
      ],
      "metadata": {
        "id": "PkeLpnv7QcKm"
      }
    },
    {
      "cell_type": "code",
      "source": [
        "ts_decomp = tsa.seasonal_decompose(ts, period=365)"
      ],
      "metadata": {
        "id": "rwpoC3Yw0D-k"
      },
      "execution_count": 29,
      "outputs": []
    },
    {
      "cell_type": "code",
      "source": [
        "ts_decomp.plot();"
      ],
      "metadata": {
        "colab": {
          "base_uri": "https://localhost:8080/",
          "height": 369
        },
        "id": "RpUoMGjB0czY",
        "outputId": "673ffcbf-0ea7-4b15-8c3f-eb76d8aadf3b"
      },
      "execution_count": 30,
      "outputs": [
        {
          "output_type": "display_data",
          "data": {
            "text/plain": [
              "<Figure size 720x360 with 4 Axes>"
            ],
            "image/png": "[encoded data removed]"
          },
          "metadata": {
            "needs_background": "light"
          }
        }
      ]
    },
    {
      "cell_type": "markdown",
      "source": [
        "## Stationarity"
      ],
      "metadata": {
        "id": "mlbNEf0e2GSF"
      }
    },
    {
      "cell_type": "code",
      "source": [
        "ts.rolling(7).mean().plot();"
      ],
      "metadata": {
        "colab": {
          "base_uri": "https://localhost:8080/",
          "height": 334
        },
        "id": "S_3J2HOF2Fhy",
        "outputId": "20b8e43e-f9e4-40a5-ec8f-17c697a33d97"
      },
      "execution_count": 31,
      "outputs": [
        {
          "output_type": "display_data",
          "data": {
            "text/plain": [
              "<Figure size 720x360 with 1 Axes>"
            ],
            "image/png": "[encoded data removed]"
          },
          "metadata": {
            "needs_background": "light"
          }
        }
      ]
    },
    {
      "cell_type": "code",
      "source": [
        "ts.plot.hist();"
      ],
      "metadata": {
        "colab": {
          "base_uri": "https://localhost:8080/",
          "height": 320
        },
        "id": "gtWzecfQ21kJ",
        "outputId": "bc828af4-22cd-4491-b5a1-d327780f7868"
      },
      "execution_count": 33,
      "outputs": [
        {
          "output_type": "display_data",
          "data": {
            "text/plain": [
              "<Figure size 720x360 with 1 Axes>"
            ],
            "image/png": "[encoded data removed]"
          },
          "metadata": {
            "needs_background": "light"
          }
        }
      ]
    },
    {
      "cell_type": "markdown",
      "source": [
        "## 1st order difference"
      ],
      "metadata": {
        "id": "tkDpWiQd2ao0"
      }
    },
    {
      "cell_type": "code",
      "source": [
        "ts.diff().plot()"
      ],
      "metadata": {
        "colab": {
          "base_uri": "https://localhost:8080/",
          "height": 351
        },
        "id": "rM8VvSQA2U5d",
        "outputId": "7a63ef43-a3c6-4551-b0b8-0c2312898657"
      },
      "execution_count": 34,
      "outputs": [
        {
          "output_type": "execute_result",
          "data": {
            "text/plain": [
              "<matplotlib.axes._subplots.AxesSubplot at 0x7fd25addaad0>"
            ]
          },
          "metadata": {},
          "execution_count": 34
        },
        {
          "output_type": "display_data",
          "data": {
            "text/plain": [
              "<Figure size 720x360 with 1 Axes>"
            ],
            "image/png": "[encoded data removed]"
          },
          "metadata": {
            "needs_background": "light"
          }
        }
      ]
    },
    {
      "cell_type": "code",
      "source": [
        "ts.diff().plot.hist();"
      ],
      "metadata": {
        "colab": {
          "base_uri": "https://localhost:8080/",
          "height": 320
        },
        "id": "TlYluzxD2h2o",
        "outputId": "4e8f8399-2078-4ae2-dad9-a3401d4ee938"
      },
      "execution_count": 36,
      "outputs": [
        {
          "output_type": "display_data",
          "data": {
            "text/plain": [
              "<Figure size 720x360 with 1 Axes>"
            ],
            "image/png": "[encoded data removed]"
          },
          "metadata": {
            "needs_background": "light"
          }
        }
      ]
    },
    {
      "cell_type": "code",
      "source": [
        "ts_diff = ts.diff().dropna()"
      ],
      "metadata": {
        "id": "lYfD-Ldx4fJb"
      },
      "execution_count": 44,
      "outputs": []
    },
    {
      "cell_type": "markdown",
      "source": [
        "## Autocorrelation"
      ],
      "metadata": {
        "id": "tydR7irR2_rK"
      }
    },
    {
      "cell_type": "markdown",
      "source": [
        "A correlation of a variable with itself at different times\n",
        "is known as autocorrelation or serial correlation."
      ],
      "metadata": {
        "id": "zldEzJTO4r9W"
      }
    },
    {
      "cell_type": "markdown",
      "source": [
        "![image.png](data:image/png;base64,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)"
      ],
      "metadata": {
        "id": "5eJR-z8nORgm"
      }
    },
    {
      "cell_type": "markdown",
      "source": [
        "![image.png](data:image/png;base64,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)"
      ],
      "metadata": {
        "id": "U740gnQYOZ6W"
      }
    },
    {
      "cell_type": "code",
      "source": [
        "ts.shift(-1)"
      ],
      "metadata": {
        "colab": {
          "base_uri": "https://localhost:8080/",
          "height": 455
        },
        "id": "OYHW01KwKGCm",
        "outputId": "056859c2-5f8e-4ca8-907c-dacc845a2dfa"
      },
      "execution_count": 37,
      "outputs": [
        {
          "output_type": "execute_result",
          "data": {
            "text/plain": [
              "            sales\n",
              "date             \n",
              "2013-01-01  194.0\n",
              "2013-01-02  153.0\n",
              "2013-01-03   88.0\n",
              "2013-01-04  141.0\n",
              "2013-01-05   49.0\n",
              "...           ...\n",
              "2017-08-11  227.0\n",
              "2017-08-12   45.0\n",
              "2017-08-13  159.0\n",
              "2017-08-14  173.0\n",
              "2017-08-15    NaN\n",
              "\n",
              "[1684 rows x 1 columns]"
            ],
            "text/html": [
              "\n",
              "  <div id=\"df-135e744a-5a6e-438b-9655-c8cb21f0d51f\">\n",
              "    <div class=\"colab-df-container\">\n",
              "      <div>\n",
              "<style scoped>\n",
              "    .dataframe tbody tr th:only-of-type {\n",
              "        vertical-align: middle;\n",
              "    }\n",
              "\n",
              "    .dataframe tbody tr th {\n",
              "        vertical-align: top;\n",
              "    }\n",
              "\n",
              "    .dataframe thead th {\n",
              "        text-align: right;\n",
              "    }\n",
              "</style>\n",
              "<table border=\"1\" class=\"dataframe\">\n",
              "  <thead>\n",
              "    <tr style=\"text-align: right;\">\n",
              "      <th></th>\n",
              "      <th>sales</th>\n",
              "    </tr>\n",
              "    <tr>\n",
              "      <th>date</th>\n",
              "      <th></th>\n",
              "    </tr>\n",
              "  </thead>\n",
              "  <tbody>\n",
              "    <tr>\n",
              "      <th>2013-01-01</th>\n",
              "      <td>194.0</td>\n",
              "    </tr>\n",
              "    <tr>\n",
              "      <th>2013-01-02</th>\n",
              "      <td>153.0</td>\n",
              "    </tr>\n",
              "    <tr>\n",
              "      <th>2013-01-03</th>\n",
              "      <td>88.0</td>\n",
              "    </tr>\n",
              "    <tr>\n",
              "      <th>2013-01-04</th>\n",
              "      <td>141.0</td>\n",
              "    </tr>\n",
              "    <tr>\n",
              "      <th>2013-01-05</th>\n",
              "      <td>49.0</td>\n",
              "    </tr>\n",
              "    <tr>\n",
              "      <th>...</th>\n",
              "      <td>...</td>\n",
              "    </tr>\n",
              "    <tr>\n",
              "      <th>2017-08-11</th>\n",
              "      <td>227.0</td>\n",
              "    </tr>\n",
              "    <tr>\n",
              "      <th>2017-08-12</th>\n",
              "      <td>45.0</td>\n",
              "    </tr>\n",
              "    <tr>\n",
              "      <th>2017-08-13</th>\n",
              "      <td>159.0</td>\n",
              "    </tr>\n",
              "    <tr>\n",
              "      <th>2017-08-14</th>\n",
              "      <td>173.0</td>\n",
              "    </tr>\n",
              "    <tr>\n",
              "      <th>2017-08-15</th>\n",
              "      <td>NaN</td>\n",
              "    </tr>\n",
              "  </tbody>\n",
              "</table>\n",
              "<p>1684 rows × 1 columns</p>\n",
              "</div>\n",
              "      <button class=\"colab-df-convert\" onclick=\"convertToInteractive('df-135e744a-5a6e-438b-9655-c8cb21f0d51f')\"\n",
              "              title=\"Convert this dataframe to an interactive table.\"\n",
              "              style=\"display:none;\">\n",
              "        \n",
              "  <svg xmlns=\"http://www.w3.org/2000/svg\" height=\"24px\"viewBox=\"0 0 24 24\"\n",
              "       width=\"24px\">\n",
              "    <path d=\"M0 0h24v24H0V0z\" fill=\"none\"/>\n",
              "    <path d=\"M18.56 5.44l.94 2.06.94-2.06 2.06-.94-2.06-.94-.94-2.06-.94 2.06-2.06.94zm-11 1L8.5 8.5l.94-2.06 2.06-.94-2.06-.94L8.5 2.5l-.94 2.06-2.06.94zm10 10l.94 2.06.94-2.06 2.06-.94-2.06-.94-.94-2.06-.94 2.06-2.06.94z\"/><path d=\"M17.41 7.96l-1.37-1.37c-.4-.4-.92-.59-1.43-.59-.52 0-1.04.2-1.43.59L10.3 9.45l-7.72 7.72c-.78.78-.78 2.05 0 2.83L4 21.41c.39.39.9.59 1.41.59.51 0 1.02-.2 1.41-.59l7.78-7.78 2.81-2.81c.8-.78.8-2.07 0-2.86zM5.41 20L4 18.59l7.72-7.72 1.47 1.35L5.41 20z\"/>\n",
              "  </svg>\n",
              "      </button>\n",
              "      \n",
              "  <style>\n",
              "    .colab-df-container {\n",
              "      display:flex;\n",
              "      flex-wrap:wrap;\n",
              "      gap: 12px;\n",
              "    }\n",
              "\n",
              "    .colab-df-convert {\n",
              "      background-color: #E8F0FE;\n",
              "      border: none;\n",
              "      border-radius: 50%;\n",
              "      cursor: pointer;\n",
              "      display: none;\n",
              "      fill: #1967D2;\n",
              "      height: 32px;\n",
              "      padding: 0 0 0 0;\n",
              "      width: 32px;\n",
              "    }\n",
              "\n",
              "    .colab-df-convert:hover {\n",
              "      background-color: #E2EBFA;\n",
              "      box-shadow: 0px 1px 2px rgba(60, 64, 67, 0.3), 0px 1px 3px 1px rgba(60, 64, 67, 0.15);\n",
              "      fill: #174EA6;\n",
              "    }\n",
              "\n",
              "    [theme=dark] .colab-df-convert {\n",
              "      background-color: #3B4455;\n",
              "      fill: #D2E3FC;\n",
              "    }\n",
              "\n",
              "    [theme=dark] .colab-df-convert:hover {\n",
              "      background-color: #434B5C;\n",
              "      box-shadow: 0px 1px 3px 1px rgba(0, 0, 0, 0.15);\n",
              "      filter: drop-shadow(0px 1px 2px rgba(0, 0, 0, 0.3));\n",
              "      fill: #FFFFFF;\n",
              "    }\n",
              "  </style>\n",
              "\n",
              "      <script>\n",
              "        const buttonEl =\n",
              "          document.querySelector('#df-135e744a-5a6e-438b-9655-c8cb21f0d51f button.colab-df-convert');\n",
              "        buttonEl.style.display =\n",
              "          google.colab.kernel.accessAllowed ? 'block' : 'none';\n",
              "\n",
              "        async function convertToInteractive(key) {\n",
              "          const element = document.querySelector('#df-135e744a-5a6e-438b-9655-c8cb21f0d51f');\n",
              "          const dataTable =\n",
              "            await google.colab.kernel.invokeFunction('convertToInteractive',\n",
              "                                                     [key], {});\n",
              "          if (!dataTable) return;\n",
              "\n",
              "          const docLinkHtml = 'Like what you see? Visit the ' +\n",
              "            '<a target=\"_blank\" href=https://colab.research.google.com/notebooks/data_table.ipynb>data table notebook</a>'\n",
              "            + ' to learn more about interactive tables.';\n",
              "          element.innerHTML = '';\n",
              "          dataTable['output_type'] = 'display_data';\n",
              "          await google.colab.output.renderOutput(dataTable, element);\n",
              "          const docLink = document.createElement('div');\n",
              "          docLink.innerHTML = docLinkHtml;\n",
              "          element.appendChild(docLink);\n",
              "        }\n",
              "      </script>\n",
              "    </div>\n",
              "  </div>\n",
              "  "
            ]
          },
          "metadata": {},
          "execution_count": 37
        }
      ]
    },
    {
      "cell_type": "code",
      "source": [
        "ts.corrwith(ts.shift(-1))"
      ],
      "metadata": {
        "colab": {
          "base_uri": "https://localhost:8080/"
        },
        "id": "tGvsPw8KJ-Bu",
        "outputId": "eb3c72b7-37d8-4e90-de03-dab0e64c61e7"
      },
      "execution_count": 38,
      "outputs": [
        {
          "output_type": "execute_result",
          "data": {
            "text/plain": [
              "sales    0.278298\n",
              "dtype: float64"
            ]
          },
          "metadata": {},
          "execution_count": 38
        }
      ]
    },
    {
      "cell_type": "code",
      "source": [
        "ts_diff.corrwith(ts_diff.shift(-1))"
      ],
      "metadata": {
        "colab": {
          "base_uri": "https://localhost:8080/"
        },
        "id": "uQxBZjwwKb50",
        "outputId": "a5f2143d-32ce-4cc9-de23-e529f50937fc"
      },
      "execution_count": 46,
      "outputs": [
        {
          "output_type": "execute_result",
          "data": {
            "text/plain": [
              "sales   -0.507911\n",
              "dtype: float64"
            ]
          },
          "metadata": {},
          "execution_count": 46
        }
      ]
    },
    {
      "cell_type": "code",
      "source": [
        "plot_acf(ts);"
      ],
      "metadata": {
        "colab": {
          "base_uri": "https://localhost:8080/",
          "height": 336
        },
        "id": "uqLkBd7IOuD3",
        "outputId": "4535ff3d-fcc0-426a-a083-4876577c06a9"
      },
      "execution_count": 42,
      "outputs": [
        {
          "output_type": "display_data",
          "data": {
            "text/plain": [
              "<Figure size 720x360 with 1 Axes>"
            ],
            "image/png": "[encoded data removed]"
          },
          "metadata": {
            "needs_background": "light"
          }
        }
      ]
    },
    {
      "cell_type": "code",
      "source": [
        "plot_acf(ts_diff);"
      ],
      "metadata": {
        "colab": {
          "base_uri": "https://localhost:8080/",
          "height": 336
        },
        "id": "zMplqQdP4arN",
        "outputId": "7eaf7cda-d200-4dda-8f42-3d588f52118f"
      },
      "execution_count": 45,
      "outputs": [
        {
          "output_type": "display_data",
          "data": {
            "text/plain": [
              "<Figure size 720x360 with 1 Axes>"
            ],
            "image/png": "[encoded data removed]"
          },
          "metadata": {
            "needs_background": "light"
          }
        }
      ]
    },
    {
      "cell_type": "markdown",
      "source": [
        "## Partial Autocorrelation"
      ],
      "metadata": {
        "id": "Knv6ybi_3DWO"
      }
    },
    {
      "cell_type": "markdown",
      "source": [
        "The partial autocorrelation at lag k is the correlation that\n",
        "results after removing the effect of any correlations due to the terms at shorter\n",
        "lags."
      ],
      "metadata": {
        "id": "uSUFZdKv4wqf"
      }
    },
    {
      "cell_type": "code",
      "source": [
        "plot_pacf(ts);"
      ],
      "metadata": {
        "colab": {
          "base_uri": "https://localhost:8080/",
          "height": 390
        },
        "id": "A9CEMy5E4xsw",
        "outputId": "dfc165b6-0037-47fb-be1b-0a9c55878270"
      },
      "execution_count": 43,
      "outputs": [
        {
          "output_type": "stream",
          "name": "stderr",
          "text": [
            "/usr/local/lib/python3.7/dist-packages/statsmodels/graphics/tsaplots.py:353: FutureWarning: The default method 'yw' can produce PACF values outside of the [-1,1] interval. After 0.13, the default will change tounadjusted Yule-Walker ('ywm'). You can use this method now by setting method='ywm'.\n",
            "  FutureWarning,\n"
          ]
        },
        {
          "output_type": "display_data",
          "data": {
            "text/plain": [
              "<Figure size 720x360 with 1 Axes>"
            ],
            "image/png": "[encoded data removed]"
          },
          "metadata": {
            "needs_background": "light"
          }
        }
      ]
    },
    {
      "cell_type": "code",
      "source": [
        "plot_pacf(ts_diff);"
      ],
      "metadata": {
        "colab": {
          "base_uri": "https://localhost:8080/",
          "height": 390
        },
        "id": "txFyCkYI4yRQ",
        "outputId": "eec27afe-5530-4434-8716-121c0e129853"
      },
      "execution_count": 48,
      "outputs": [
        {
          "output_type": "stream",
          "name": "stderr",
          "text": [
            "/usr/local/lib/python3.7/dist-packages/statsmodels/graphics/tsaplots.py:353: FutureWarning: The default method 'yw' can produce PACF values outside of the [-1,1] interval. After 0.13, the default will change tounadjusted Yule-Walker ('ywm'). You can use this method now by setting method='ywm'.\n",
            "  FutureWarning,\n"
          ]
        },
        {
          "output_type": "display_data",
          "data": {
            "text/plain": [
              "<Figure size 720x360 with 1 Axes>"
            ],
            "image/png": "[encoded data removed]"
          },
          "metadata": {
            "needs_background": "light"
          }
        }
      ]
    },
    {
      "cell_type": "markdown",
      "source": [
        "https://machinelearningmastery.com/gentle-introduction-autocorrelation-partial-autocorrelation/"
      ],
      "metadata": {
        "id": "CvPg9e7AQwic"
      }
    },
    {
      "cell_type": "markdown",
      "source": [
        "# Feature Engineering"
      ],
      "metadata": {
        "id": "pn4RWTaEREls"
      }
    },
    {
      "cell_type": "code",
      "source": [
        "#time travel\n",
        "def get_lags(series, lags):\n",
        "  result = []\n",
        "  if lags > 0:\n",
        "    for lag in range(1, lags+1):\n",
        "    #  print(lag)\n",
        "    #  print(series.shift(lag))\n",
        "      result.append(series.shift(lag).rename({series.columns[0]: series.columns[0]+'-'+str(lag)}, axis=1))\n",
        "    #return result\n",
        "    return pd.concat(result, axis=1, names=list(range(-1,-lags))).dropna()\n",
        "  else:\n",
        "    for lag in range(-1, lags-1,-1):\n",
        "      #print(lag)\n",
        "      #print(series.shift(lag))\n",
        "      result.append(series.shift(lag).rename({series.columns[0]: series.columns[0]+'+'+str(abs(lag))}, axis=1))\n",
        "    #return result\n",
        "    return pd.concat(result, axis=1, names=list(range(+1,-lags))).dropna()"
      ],
      "metadata": {
        "id": "M_czQ_vGZ6bb"
      },
      "execution_count": 49,
      "outputs": []
    },
    {
      "cell_type": "code",
      "source": [
        "get_lags(ts, 3)"
      ],
      "metadata": {
        "colab": {
          "base_uri": "https://localhost:8080/",
          "height": 455
        },
        "id": "MjN7qZ0xaUo4",
        "outputId": "e5fcc885-3756-467b-f48f-9635679f58fe"
      },
      "execution_count": 50,
      "outputs": [
        {
          "output_type": "execute_result",
          "data": {
            "text/plain": [
              "            sales-1  sales-2  sales-3\n",
              "date                                 \n",
              "2013-01-04    153.0    194.0      0.0\n",
              "2013-01-05     88.0    153.0    194.0\n",
              "2013-01-06    141.0     88.0    153.0\n",
              "2013-01-07     49.0    141.0     88.0\n",
              "2013-01-08    154.0     49.0    141.0\n",
              "...             ...      ...      ...\n",
              "2017-08-11    183.0    288.0    239.0\n",
              "2017-08-12     53.0    183.0    288.0\n",
              "2017-08-13    227.0     53.0    183.0\n",
              "2017-08-14     45.0    227.0     53.0\n",
              "2017-08-15    159.0     45.0    227.0\n",
              "\n",
              "[1681 rows x 3 columns]"
            ],
            "text/html": [
              "\n",
              "  <div id=\"df-9050f142-1750-46b9-850c-2f3414e17e89\">\n",
              "    <div class=\"colab-df-container\">\n",
              "      <div>\n",
              "<style scoped>\n",
              "    .dataframe tbody tr th:only-of-type {\n",
              "        vertical-align: middle;\n",
              "    }\n",
              "\n",
              "    .dataframe tbody tr th {\n",
              "        vertical-align: top;\n",
              "    }\n",
              "\n",
              "    .dataframe thead th {\n",
              "        text-align: right;\n",
              "    }\n",
              "</style>\n",
              "<table border=\"1\" class=\"dataframe\">\n",
              "  <thead>\n",
              "    <tr style=\"text-align: right;\">\n",
              "      <th></th>\n",
              "      <th>sales-1</th>\n",
              "      <th>sales-2</th>\n",
              "      <th>sales-3</th>\n",
              "    </tr>\n",
              "    <tr>\n",
              "      <th>date</th>\n",
              "      <th></th>\n",
              "      <th></th>\n",
              "      <th></th>\n",
              "    </tr>\n",
              "  </thead>\n",
              "  <tbody>\n",
              "    <tr>\n",
              "      <th>2013-01-04</th>\n",
              "      <td>153.0</td>\n",
              "      <td>194.0</td>\n",
              "      <td>0.0</td>\n",
              "    </tr>\n",
              "    <tr>\n",
              "      <th>2013-01-05</th>\n",
              "      <td>88.0</td>\n",
              "      <td>153.0</td>\n",
              "      <td>194.0</td>\n",
              "    </tr>\n",
              "    <tr>\n",
              "      <th>2013-01-06</th>\n",
              "      <td>141.0</td>\n",
              "      <td>88.0</td>\n",
              "      <td>153.0</td>\n",
              "    </tr>\n",
              "    <tr>\n",
              "      <th>2013-01-07</th>\n",
              "      <td>49.0</td>\n",
              "      <td>141.0</td>\n",
              "      <td>88.0</td>\n",
              "    </tr>\n",
              "    <tr>\n",
              "      <th>2013-01-08</th>\n",
              "      <td>154.0</td>\n",
              "      <td>49.0</td>\n",
              "      <td>141.0</td>\n",
              "    </tr>\n",
              "    <tr>\n",
              "      <th>...</th>\n",
              "      <td>...</td>\n",
              "      <td>...</td>\n",
              "      <td>...</td>\n",
              "    </tr>\n",
              "    <tr>\n",
              "      <th>2017-08-11</th>\n",
              "      <td>183.0</td>\n",
              "      <td>288.0</td>\n",
              "      <td>239.0</td>\n",
              "    </tr>\n",
              "    <tr>\n",
              "      <th>2017-08-12</th>\n",
              "      <td>53.0</td>\n",
              "      <td>183.0</td>\n",
              "      <td>288.0</td>\n",
              "    </tr>\n",
              "    <tr>\n",
              "      <th>2017-08-13</th>\n",
              "      <td>227.0</td>\n",
              "      <td>53.0</td>\n",
              "      <td>183.0</td>\n",
              "    </tr>\n",
              "    <tr>\n",
              "      <th>2017-08-14</th>\n",
              "      <td>45.0</td>\n",
              "      <td>227.0</td>\n",
              "      <td>53.0</td>\n",
              "    </tr>\n",
              "    <tr>\n",
              "      <th>2017-08-15</th>\n",
              "      <td>159.0</td>\n",
              "      <td>45.0</td>\n",
              "      <td>227.0</td>\n",
              "    </tr>\n",
              "  </tbody>\n",
              "</table>\n",
              "<p>1681 rows × 3 columns</p>\n",
              "</div>\n",
              "      <button class=\"colab-df-convert\" onclick=\"convertToInteractive('df-9050f142-1750-46b9-850c-2f3414e17e89')\"\n",
              "              title=\"Convert this dataframe to an interactive table.\"\n",
              "              style=\"display:none;\">\n",
              "        \n",
              "  <svg xmlns=\"http://www.w3.org/2000/svg\" height=\"24px\"viewBox=\"0 0 24 24\"\n",
              "       width=\"24px\">\n",
              "    <path d=\"M0 0h24v24H0V0z\" fill=\"none\"/>\n",
              "    <path d=\"M18.56 5.44l.94 2.06.94-2.06 2.06-.94-2.06-.94-.94-2.06-.94 2.06-2.06.94zm-11 1L8.5 8.5l.94-2.06 2.06-.94-2.06-.94L8.5 2.5l-.94 2.06-2.06.94zm10 10l.94 2.06.94-2.06 2.06-.94-2.06-.94-.94-2.06-.94 2.06-2.06.94z\"/><path d=\"M17.41 7.96l-1.37-1.37c-.4-.4-.92-.59-1.43-.59-.52 0-1.04.2-1.43.59L10.3 9.45l-7.72 7.72c-.78.78-.78 2.05 0 2.83L4 21.41c.39.39.9.59 1.41.59.51 0 1.02-.2 1.41-.59l7.78-7.78 2.81-2.81c.8-.78.8-2.07 0-2.86zM5.41 20L4 18.59l7.72-7.72 1.47 1.35L5.41 20z\"/>\n",
              "  </svg>\n",
              "      </button>\n",
              "      \n",
              "  <style>\n",
              "    .colab-df-container {\n",
              "      display:flex;\n",
              "      flex-wrap:wrap;\n",
              "      gap: 12px;\n",
              "    }\n",
              "\n",
              "    .colab-df-convert {\n",
              "      background-color: #E8F0FE;\n",
              "      border: none;\n",
              "      border-radius: 50%;\n",
              "      cursor: pointer;\n",
              "      display: none;\n",
              "      fill: #1967D2;\n",
              "      height: 32px;\n",
              "      padding: 0 0 0 0;\n",
              "      width: 32px;\n",
              "    }\n",
              "\n",
              "    .colab-df-convert:hover {\n",
              "      background-color: #E2EBFA;\n",
              "      box-shadow: 0px 1px 2px rgba(60, 64, 67, 0.3), 0px 1px 3px 1px rgba(60, 64, 67, 0.15);\n",
              "      fill: #174EA6;\n",
              "    }\n",
              "\n",
              "    [theme=dark] .colab-df-convert {\n",
              "      background-color: #3B4455;\n",
              "      fill: #D2E3FC;\n",
              "    }\n",
              "\n",
              "    [theme=dark] .colab-df-convert:hover {\n",
              "      background-color: #434B5C;\n",
              "      box-shadow: 0px 1px 3px 1px rgba(0, 0, 0, 0.15);\n",
              "      filter: drop-shadow(0px 1px 2px rgba(0, 0, 0, 0.3));\n",
              "      fill: #FFFFFF;\n",
              "    }\n",
              "  </style>\n",
              "\n",
              "      <script>\n",
              "        const buttonEl =\n",
              "          document.querySelector('#df-9050f142-1750-46b9-850c-2f3414e17e89 button.colab-df-convert');\n",
              "        buttonEl.style.display =\n",
              "          google.colab.kernel.accessAllowed ? 'block' : 'none';\n",
              "\n",
              "        async function convertToInteractive(key) {\n",
              "          const element = document.querySelector('#df-9050f142-1750-46b9-850c-2f3414e17e89');\n",
              "          const dataTable =\n",
              "            await google.colab.kernel.invokeFunction('convertToInteractive',\n",
              "                                                     [key], {});\n",
              "          if (!dataTable) return;\n",
              "\n",
              "          const docLinkHtml = 'Like what you see? Visit the ' +\n",
              "            '<a target=\"_blank\" href=https://colab.research.google.com/notebooks/data_table.ipynb>data table notebook</a>'\n",
              "            + ' to learn more about interactive tables.';\n",
              "          element.innerHTML = '';\n",
              "          dataTable['output_type'] = 'display_data';\n",
              "          await google.colab.output.renderOutput(dataTable, element);\n",
              "          const docLink = document.createElement('div');\n",
              "          docLink.innerHTML = docLinkHtml;\n",
              "          element.appendChild(docLink);\n",
              "        }\n",
              "      </script>\n",
              "    </div>\n",
              "  </div>\n",
              "  "
            ]
          },
          "metadata": {},
          "execution_count": 50
        }
      ]
    },
    {
      "cell_type": "code",
      "source": [
        "X = get_lags(ts, 5)"
      ],
      "metadata": {
        "id": "Lf5Bx4ZTZxlr"
      },
      "execution_count": 51,
      "outputs": []
    },
    {
      "cell_type": "code",
      "source": [
        "X.head()"
      ],
      "metadata": {
        "colab": {
          "base_uri": "https://localhost:8080/",
          "height": 238
        },
        "id": "Na3hjO7sdKpz",
        "outputId": "f09a5e1f-5aa8-4a34-d7c9-1ab9201de44a"
      },
      "execution_count": 52,
      "outputs": [
        {
          "output_type": "execute_result",
          "data": {
            "text/plain": [
              "            sales-1  sales-2  sales-3  sales-4  sales-5\n",
              "date                                                   \n",
              "2013-01-06    141.0     88.0    153.0    194.0      0.0\n",
              "2013-01-07     49.0    141.0     88.0    153.0    194.0\n",
              "2013-01-08    154.0     49.0    141.0     88.0    153.0\n",
              "2013-01-09    119.0    154.0     49.0    141.0     88.0\n",
              "2013-01-10    190.0    119.0    154.0     49.0    141.0"
            ],
            "text/html": [
              "\n",
              "  <div id=\"df-e9dcd1d6-dd49-41d0-8c5f-c0cf3979647b\">\n",
              "    <div class=\"colab-df-container\">\n",
              "      <div>\n",
              "<style scoped>\n",
              "    .dataframe tbody tr th:only-of-type {\n",
              "        vertical-align: middle;\n",
              "    }\n",
              "\n",
              "    .dataframe tbody tr th {\n",
              "        vertical-align: top;\n",
              "    }\n",
              "\n",
              "    .dataframe thead th {\n",
              "        text-align: right;\n",
              "    }\n",
              "</style>\n",
              "<table border=\"1\" class=\"dataframe\">\n",
              "  <thead>\n",
              "    <tr style=\"text-align: right;\">\n",
              "      <th></th>\n",
              "      <th>sales-1</th>\n",
              "      <th>sales-2</th>\n",
              "      <th>sales-3</th>\n",
              "      <th>sales-4</th>\n",
              "      <th>sales-5</th>\n",
              "    </tr>\n",
              "    <tr>\n",
              "      <th>date</th>\n",
              "      <th></th>\n",
              "      <th></th>\n",
              "      <th></th>\n",
              "      <th></th>\n",
              "      <th></th>\n",
              "    </tr>\n",
              "  </thead>\n",
              "  <tbody>\n",
              "    <tr>\n",
              "      <th>2013-01-06</th>\n",
              "      <td>141.0</td>\n",
              "      <td>88.0</td>\n",
              "      <td>153.0</td>\n",
              "      <td>194.0</td>\n",
              "      <td>0.0</td>\n",
              "    </tr>\n",
              "    <tr>\n",
              "      <th>2013-01-07</th>\n",
              "      <td>49.0</td>\n",
              "      <td>141.0</td>\n",
              "      <td>88.0</td>\n",
              "      <td>153.0</td>\n",
              "      <td>194.0</td>\n",
              "    </tr>\n",
              "    <tr>\n",
              "      <th>2013-01-08</th>\n",
              "      <td>154.0</td>\n",
              "      <td>49.0</td>\n",
              "      <td>141.0</td>\n",
              "      <td>88.0</td>\n",
              "      <td>153.0</td>\n",
              "    </tr>\n",
              "    <tr>\n",
              "      <th>2013-01-09</th>\n",
              "      <td>119.0</td>\n",
              "      <td>154.0</td>\n",
              "      <td>49.0</td>\n",
              "      <td>141.0</td>\n",
              "      <td>88.0</td>\n",
              "    </tr>\n",
              "    <tr>\n",
              "      <th>2013-01-10</th>\n",
              "      <td>190.0</td>\n",
              "      <td>119.0</td>\n",
              "      <td>154.0</td>\n",
              "      <td>49.0</td>\n",
              "      <td>141.0</td>\n",
              "    </tr>\n",
              "  </tbody>\n",
              "</table>\n",
              "</div>\n",
              "      <button class=\"colab-df-convert\" onclick=\"convertToInteractive('df-e9dcd1d6-dd49-41d0-8c5f-c0cf3979647b')\"\n",
              "              title=\"Convert this dataframe to an interactive table.\"\n",
              "              style=\"display:none;\">\n",
              "        \n",
              "  <svg xmlns=\"http://www.w3.org/2000/svg\" height=\"24px\"viewBox=\"0 0 24 24\"\n",
              "       width=\"24px\">\n",
              "    <path d=\"M0 0h24v24H0V0z\" fill=\"none\"/>\n",
              "    <path d=\"M18.56 5.44l.94 2.06.94-2.06 2.06-.94-2.06-.94-.94-2.06-.94 2.06-2.06.94zm-11 1L8.5 8.5l.94-2.06 2.06-.94-2.06-.94L8.5 2.5l-.94 2.06-2.06.94zm10 10l.94 2.06.94-2.06 2.06-.94-2.06-.94-.94-2.06-.94 2.06-2.06.94z\"/><path d=\"M17.41 7.96l-1.37-1.37c-.4-.4-.92-.59-1.43-.59-.52 0-1.04.2-1.43.59L10.3 9.45l-7.72 7.72c-.78.78-.78 2.05 0 2.83L4 21.41c.39.39.9.59 1.41.59.51 0 1.02-.2 1.41-.59l7.78-7.78 2.81-2.81c.8-.78.8-2.07 0-2.86zM5.41 20L4 18.59l7.72-7.72 1.47 1.35L5.41 20z\"/>\n",
              "  </svg>\n",
              "      </button>\n",
              "      \n",
              "  <style>\n",
              "    .colab-df-container {\n",
              "      display:flex;\n",
              "      flex-wrap:wrap;\n",
              "      gap: 12px;\n",
              "    }\n",
              "\n",
              "    .colab-df-convert {\n",
              "      background-color: #E8F0FE;\n",
              "      border: none;\n",
              "      border-radius: 50%;\n",
              "      cursor: pointer;\n",
              "      display: none;\n",
              "      fill: #1967D2;\n",
              "      height: 32px;\n",
              "      padding: 0 0 0 0;\n",
              "      width: 32px;\n",
              "    }\n",
              "\n",
              "    .colab-df-convert:hover {\n",
              "      background-color: #E2EBFA;\n",
              "      box-shadow: 0px 1px 2px rgba(60, 64, 67, 0.3), 0px 1px 3px 1px rgba(60, 64, 67, 0.15);\n",
              "      fill: #174EA6;\n",
              "    }\n",
              "\n",
              "    [theme=dark] .colab-df-convert {\n",
              "      background-color: #3B4455;\n",
              "      fill: #D2E3FC;\n",
              "    }\n",
              "\n",
              "    [theme=dark] .colab-df-convert:hover {\n",
              "      background-color: #434B5C;\n",
              "      box-shadow: 0px 1px 3px 1px rgba(0, 0, 0, 0.15);\n",
              "      filter: drop-shadow(0px 1px 2px rgba(0, 0, 0, 0.3));\n",
              "      fill: #FFFFFF;\n",
              "    }\n",
              "  </style>\n",
              "\n",
              "      <script>\n",
              "        const buttonEl =\n",
              "          document.querySelector('#df-e9dcd1d6-dd49-41d0-8c5f-c0cf3979647b button.colab-df-convert');\n",
              "        buttonEl.style.display =\n",
              "          google.colab.kernel.accessAllowed ? 'block' : 'none';\n",
              "\n",
              "        async function convertToInteractive(key) {\n",
              "          const element = document.querySelector('#df-e9dcd1d6-dd49-41d0-8c5f-c0cf3979647b');\n",
              "          const dataTable =\n",
              "            await google.colab.kernel.invokeFunction('convertToInteractive',\n",
              "                                                     [key], {});\n",
              "          if (!dataTable) return;\n",
              "\n",
              "          const docLinkHtml = 'Like what you see? Visit the ' +\n",
              "            '<a target=\"_blank\" href=https://colab.research.google.com/notebooks/data_table.ipynb>data table notebook</a>'\n",
              "            + ' to learn more about interactive tables.';\n",
              "          element.innerHTML = '';\n",
              "          dataTable['output_type'] = 'display_data';\n",
              "          await google.colab.output.renderOutput(dataTable, element);\n",
              "          const docLink = document.createElement('div');\n",
              "          docLink.innerHTML = docLinkHtml;\n",
              "          element.appendChild(docLink);\n",
              "        }\n",
              "      </script>\n",
              "    </div>\n",
              "  </div>\n",
              "  "
            ]
          },
          "metadata": {},
          "execution_count": 52
        }
      ]
    },
    {
      "cell_type": "code",
      "source": [
        "y = ts.reindex(X.index)"
      ],
      "metadata": {
        "id": "LPb4Kub4YNcR"
      },
      "execution_count": 53,
      "outputs": []
    },
    {
      "cell_type": "code",
      "source": [
        "y.head()"
      ],
      "metadata": {
        "colab": {
          "base_uri": "https://localhost:8080/",
          "height": 238
        },
        "id": "qPA_Nw7eZnZM",
        "outputId": "ed9e0231-b835-43f1-a842-07e1bd67afc5"
      },
      "execution_count": 54,
      "outputs": [
        {
          "output_type": "execute_result",
          "data": {
            "text/plain": [
              "            sales\n",
              "date             \n",
              "2013-01-06   49.0\n",
              "2013-01-07  154.0\n",
              "2013-01-08  119.0\n",
              "2013-01-09  190.0\n",
              "2013-01-10  110.0"
            ],
            "text/html": [
              "\n",
              "  <div id=\"df-febe2f1d-d07e-4c79-a322-fcfe7a801350\">\n",
              "    <div class=\"colab-df-container\">\n",
              "      <div>\n",
              "<style scoped>\n",
              "    .dataframe tbody tr th:only-of-type {\n",
              "        vertical-align: middle;\n",
              "    }\n",
              "\n",
              "    .dataframe tbody tr th {\n",
              "        vertical-align: top;\n",
              "    }\n",
              "\n",
              "    .dataframe thead th {\n",
              "        text-align: right;\n",
              "    }\n",
              "</style>\n",
              "<table border=\"1\" class=\"dataframe\">\n",
              "  <thead>\n",
              "    <tr style=\"text-align: right;\">\n",
              "      <th></th>\n",
              "      <th>sales</th>\n",
              "    </tr>\n",
              "    <tr>\n",
              "      <th>date</th>\n",
              "      <th></th>\n",
              "    </tr>\n",
              "  </thead>\n",
              "  <tbody>\n",
              "    <tr>\n",
              "      <th>2013-01-06</th>\n",
              "      <td>49.0</td>\n",
              "    </tr>\n",
              "    <tr>\n",
              "      <th>2013-01-07</th>\n",
              "      <td>154.0</td>\n",
              "    </tr>\n",
              "    <tr>\n",
              "      <th>2013-01-08</th>\n",
              "      <td>119.0</td>\n",
              "    </tr>\n",
              "    <tr>\n",
              "      <th>2013-01-09</th>\n",
              "      <td>190.0</td>\n",
              "    </tr>\n",
              "    <tr>\n",
              "      <th>2013-01-10</th>\n",
              "      <td>110.0</td>\n",
              "    </tr>\n",
              "  </tbody>\n",
              "</table>\n",
              "</div>\n",
              "      <button class=\"colab-df-convert\" onclick=\"convertToInteractive('df-febe2f1d-d07e-4c79-a322-fcfe7a801350')\"\n",
              "              title=\"Convert this dataframe to an interactive table.\"\n",
              "              style=\"display:none;\">\n",
              "        \n",
              "  <svg xmlns=\"http://www.w3.org/2000/svg\" height=\"24px\"viewBox=\"0 0 24 24\"\n",
              "       width=\"24px\">\n",
              "    <path d=\"M0 0h24v24H0V0z\" fill=\"none\"/>\n",
              "    <path d=\"M18.56 5.44l.94 2.06.94-2.06 2.06-.94-2.06-.94-.94-2.06-.94 2.06-2.06.94zm-11 1L8.5 8.5l.94-2.06 2.06-.94-2.06-.94L8.5 2.5l-.94 2.06-2.06.94zm10 10l.94 2.06.94-2.06 2.06-.94-2.06-.94-.94-2.06-.94 2.06-2.06.94z\"/><path d=\"M17.41 7.96l-1.37-1.37c-.4-.4-.92-.59-1.43-.59-.52 0-1.04.2-1.43.59L10.3 9.45l-7.72 7.72c-.78.78-.78 2.05 0 2.83L4 21.41c.39.39.9.59 1.41.59.51 0 1.02-.2 1.41-.59l7.78-7.78 2.81-2.81c.8-.78.8-2.07 0-2.86zM5.41 20L4 18.59l7.72-7.72 1.47 1.35L5.41 20z\"/>\n",
              "  </svg>\n",
              "      </button>\n",
              "      \n",
              "  <style>\n",
              "    .colab-df-container {\n",
              "      display:flex;\n",
              "      flex-wrap:wrap;\n",
              "      gap: 12px;\n",
              "    }\n",
              "\n",
              "    .colab-df-convert {\n",
              "      background-color: #E8F0FE;\n",
              "      border: none;\n",
              "      border-radius: 50%;\n",
              "      cursor: pointer;\n",
              "      display: none;\n",
              "      fill: #1967D2;\n",
              "      height: 32px;\n",
              "      padding: 0 0 0 0;\n",
              "      width: 32px;\n",
              "    }\n",
              "\n",
              "    .colab-df-convert:hover {\n",
              "      background-color: #E2EBFA;\n",
              "      box-shadow: 0px 1px 2px rgba(60, 64, 67, 0.3), 0px 1px 3px 1px rgba(60, 64, 67, 0.15);\n",
              "      fill: #174EA6;\n",
              "    }\n",
              "\n",
              "    [theme=dark] .colab-df-convert {\n",
              "      background-color: #3B4455;\n",
              "      fill: #D2E3FC;\n",
              "    }\n",
              "\n",
              "    [theme=dark] .colab-df-convert:hover {\n",
              "      background-color: #434B5C;\n",
              "      box-shadow: 0px 1px 3px 1px rgba(0, 0, 0, 0.15);\n",
              "      filter: drop-shadow(0px 1px 2px rgba(0, 0, 0, 0.3));\n",
              "      fill: #FFFFFF;\n",
              "    }\n",
              "  </style>\n",
              "\n",
              "      <script>\n",
              "        const buttonEl =\n",
              "          document.querySelector('#df-febe2f1d-d07e-4c79-a322-fcfe7a801350 button.colab-df-convert');\n",
              "        buttonEl.style.display =\n",
              "          google.colab.kernel.accessAllowed ? 'block' : 'none';\n",
              "\n",
              "        async function convertToInteractive(key) {\n",
              "          const element = document.querySelector('#df-febe2f1d-d07e-4c79-a322-fcfe7a801350');\n",
              "          const dataTable =\n",
              "            await google.colab.kernel.invokeFunction('convertToInteractive',\n",
              "                                                     [key], {});\n",
              "          if (!dataTable) return;\n",
              "\n",
              "          const docLinkHtml = 'Like what you see? Visit the ' +\n",
              "            '<a target=\"_blank\" href=https://colab.research.google.com/notebooks/data_table.ipynb>data table notebook</a>'\n",
              "            + ' to learn more about interactive tables.';\n",
              "          element.innerHTML = '';\n",
              "          dataTable['output_type'] = 'display_data';\n",
              "          await google.colab.output.renderOutput(dataTable, element);\n",
              "          const docLink = document.createElement('div');\n",
              "          docLink.innerHTML = docLinkHtml;\n",
              "          element.appendChild(docLink);\n",
              "        }\n",
              "      </script>\n",
              "    </div>\n",
              "  </div>\n",
              "  "
            ]
          },
          "metadata": {},
          "execution_count": 54
        }
      ]
    },
    {
      "cell_type": "code",
      "source": [
        "X_train, X_test, y_train, y_test = train_test_split(X, y, shuffle=False, test_size=.2)\n",
        "\n",
        "print(X_train.shape)\n",
        "print(y_train.shape)\n",
        "print(X_test.shape)\n",
        "print(y_test.shape)"
      ],
      "metadata": {
        "colab": {
          "base_uri": "https://localhost:8080/"
        },
        "id": "_Wb9pR9FhFNP",
        "outputId": "c9359f9e-dcef-4c10-d813-56ce8f3df636"
      },
      "execution_count": 55,
      "outputs": [
        {
          "output_type": "stream",
          "name": "stdout",
          "text": [
            "(1343, 5)\n",
            "(1343, 1)\n",
            "(336, 5)\n",
            "(336, 1)\n"
          ]
        }
      ]
    },
    {
      "cell_type": "markdown",
      "source": [
        "# KNN"
      ],
      "metadata": {
        "id": "EhmUKaoP5aHF"
      }
    },
    {
      "cell_type": "markdown",
      "source": [
        "![](https://scikit-learn.org/stable/_images/sphx_glr_plot_nca_illustration_001.png)"
      ],
      "metadata": {
        "id": "Fnihq70W1rrX"
      }
    },
    {
      "cell_type": "markdown",
      "source": [
        "![KNN](https://scikit-learn.org/stable/_images/sphx_glr_plot_regression_001.png)"
      ],
      "metadata": {
        "id": "ehdRSs9fXzIx"
      }
    },
    {
      "cell_type": "markdown",
      "source": [
        "https://scikit-learn.org/stable/modules/generated/sklearn.neighbors.KNeighborsRegressor.html#sklearn.neighbors.KNeighborsRegressor"
      ],
      "metadata": {
        "id": "Dq4Yx0jVMiBC"
      }
    },
    {
      "cell_type": "markdown",
      "source": [
        "Hyperparameters:\n",
        "\n",
        "* K \n",
        "* weights\n",
        "* distance"
      ],
      "metadata": {
        "id": "T0afwr15Mns1"
      }
    },
    {
      "cell_type": "code",
      "source": [
        "from sklearn.neighbors import KNeighborsRegressor"
      ],
      "metadata": {
        "id": "4Wn-7zjxXSyG"
      },
      "execution_count": 56,
      "outputs": []
    },
    {
      "cell_type": "code",
      "source": [
        "neigh = KNeighborsRegressor(n_neighbors=2, weights='distance')\n",
        "neigh.fit(X_train, y_train)"
      ],
      "metadata": {
        "colab": {
          "base_uri": "https://localhost:8080/"
        },
        "id": "AyiRpjxcXWI7",
        "outputId": "48a86321-5a19-4572-c6ae-d7186ceaaacb"
      },
      "execution_count": 57,
      "outputs": [
        {
          "output_type": "execute_result",
          "data": {
            "text/plain": [
              "KNeighborsRegressor(n_neighbors=2, weights='distance')"
            ]
          },
          "metadata": {},
          "execution_count": 57
        }
      ]
    },
    {
      "cell_type": "code",
      "source": [
        "preds = neigh.predict(X_test)"
      ],
      "metadata": {
        "id": "7W3Tgtzou56j"
      },
      "execution_count": 64,
      "outputs": []
    },
    {
      "cell_type": "code",
      "source": [
        "pd.Series(preds.flatten()).plot();"
      ],
      "metadata": {
        "colab": {
          "base_uri": "https://localhost:8080/",
          "height": 320
        },
        "id": "NFP2G6IcvrRe",
        "outputId": "634b7cd6-9886-4c47-82b5-362942a5059d"
      },
      "execution_count": 66,
      "outputs": [
        {
          "output_type": "display_data",
          "data": {
            "text/plain": [
              "<Figure size 720x360 with 1 Axes>"
            ],
            "image/png": "[encoded data removed]"
          },
          "metadata": {
            "needs_background": "light"
          }
        }
      ]
    },
    {
      "cell_type": "code",
      "source": [
        "results = {}\n",
        "results['KNN'] = {'r2': r2_score(preds, y_test), \n",
        "                  'mse': mean_squared_error(preds, y_test), \n",
        "                  'mae': mean_absolute_error(preds, y_test)}\n",
        "print('Sales Forecast - KNN Results')\n",
        "print(results)"
      ],
      "metadata": {
        "colab": {
          "base_uri": "https://localhost:8080/"
        },
        "id": "WJNybKgzjuHj",
        "outputId": "caa54a4b-92e9-493f-d79c-347a2cc0a4f0"
      },
      "execution_count": 72,
      "outputs": [
        {
          "output_type": "stream",
          "name": "stdout",
          "text": [
            "Sales Forecast - KNN Results\n",
            "{'KNN': {'r2': -1.2394385379486592, 'mse': 4634.026099637032, 'mae': 41.61584293503442}}\n"
          ]
        }
      ]
    },
    {
      "cell_type": "code",
      "source": [
        "fig, ax = plt.subplots()\n",
        "ax.plot(preds.flatten(), label='pred')\n",
        "ax.plot(y_test.reset_index(drop=True), label='true')\n",
        "\n",
        "plt.legend()"
      ],
      "metadata": {
        "colab": {
          "base_uri": "https://localhost:8080/",
          "height": 338
        },
        "id": "NDbdi4wF9nPN",
        "outputId": "ea95b7d2-9868-496f-eecf-90d980349d6a"
      },
      "execution_count": 75,
      "outputs": [
        {
          "output_type": "execute_result",
          "data": {
            "text/plain": [
              "<matplotlib.legend.Legend at 0x7fd258fde890>"
            ]
          },
          "metadata": {},
          "execution_count": 75
        },
        {
          "output_type": "display_data",
          "data": {
            "text/plain": [
              "<Figure size 720x360 with 1 Axes>"
            ],
            "image/png": "[encoded data removed]"
          },
          "metadata": {
            "needs_background": "light"
          }
        }
      ]
    },
    {
      "cell_type": "markdown",
      "source": [
        "E agora?"
      ],
      "metadata": {
        "id": "7_5RVb5FyNOK"
      }
    },
    {
      "cell_type": "markdown",
      "source": [
        "#SVR"
      ],
      "metadata": {
        "id": "sze3Hk7_ZAr3"
      }
    },
    {
      "cell_type": "code",
      "source": [
        "from sklearn.svm import SVR\n",
        "\n",
        "regr = SVR(C=1.0, epsilon=0.2, kernel='linear')"
      ],
      "metadata": {
        "id": "q1YGYxs0ZCjq"
      },
      "execution_count": 77,
      "outputs": []
    },
    {
      "cell_type": "code",
      "source": [
        "regr.fit(X_train, y_train)"
      ],
      "metadata": {
        "colab": {
          "base_uri": "https://localhost:8080/"
        },
        "id": "t2Z8hj8LZuaj",
        "outputId": "cbb81d9a-73b3-421c-edb8-6cf909a15f35"
      },
      "execution_count": 78,
      "outputs": [
        {
          "output_type": "stream",
          "name": "stderr",
          "text": [
            "/usr/local/lib/python3.7/dist-packages/sklearn/utils/validation.py:993: DataConversionWarning: A column-vector y was passed when a 1d array was expected. Please change the shape of y to (n_samples, ), for example using ravel().\n",
            "  y = column_or_1d(y, warn=True)\n"
          ]
        },
        {
          "output_type": "execute_result",
          "data": {
            "text/plain": [
              "SVR(epsilon=0.2, kernel='linear')"
            ]
          },
          "metadata": {},
          "execution_count": 78
        }
      ]
    },
    {
      "cell_type": "code",
      "source": [
        "y_pred = regr.predict(X_test)"
      ],
      "metadata": {
        "id": "ko0MhIBOaAeg"
      },
      "execution_count": 79,
      "outputs": []
    },
    {
      "cell_type": "code",
      "source": [
        "fig, ax = plt.subplots()\n",
        "\n",
        "ax.plot(y_pred, label='pred')\n",
        "ax.plot(y_test.reset_index(drop=True), label='true')\n",
        "\n",
        "plt.legend()"
      ],
      "metadata": {
        "id": "VKGXzb4glSQ2",
        "outputId": "cfd60d49-0531-4193-adca-58ca57717903",
        "colab": {
          "base_uri": "https://localhost:8080/",
          "height": 338
        }
      },
      "execution_count": 81,
      "outputs": [
        {
          "output_type": "execute_result",
          "data": {
            "text/plain": [
              "<matplotlib.legend.Legend at 0x7fd258c80c90>"
            ]
          },
          "metadata": {},
          "execution_count": 81
        },
        {
          "output_type": "display_data",
          "data": {
            "text/plain": [
              "<Figure size 720x360 with 1 Axes>"
            ],
            "image/png": "[encoded data removed]"
          },
          "metadata": {
            "needs_background": "light"
          }
        }
      ]
    },
    {
      "cell_type": "code",
      "source": [
        "results['SVR'] = {'r2':r2_score(y_pred, y_test), \n",
        "                  'mse': mean_squared_error(y_pred, y_test), \n",
        "                  'mae': mean_absolute_error(y_pred, y_test)}\n",
        "\n",
        "print('Sales Forecast - SVR Results')\n",
        "print(results)"
      ],
      "metadata": {
        "colab": {
          "base_uri": "https://localhost:8080/"
        },
        "id": "w19tHXCwp1Nf",
        "outputId": "98652f04-dfbc-4224-a608-1ccae7438a11"
      },
      "execution_count": 82,
      "outputs": [
        {
          "output_type": "stream",
          "name": "stdout",
          "text": [
            "Sales Forecast - SVR Results\n",
            "{'KNN': {'r2': -1.2394385379486592, 'mse': 4634.026099637032, 'mae': 41.61584293503442}, 'SVR': {'r2': -6.388991153366971, 'mse': 4022.839105099348, 'mae': 41.331126829861226}}\n"
          ]
        }
      ]
    },
    {
      "cell_type": "markdown",
      "source": [
        "Fiquei rico? \n",
        "\n",
        "Negociar ações é mais complicado do que fazer previsão de um passo a frente. \n",
        "\n",
        "O retorno geralmente ocorre a longo prazo, por isso um dos desafios é prever vários passos a frente."
      ],
      "metadata": {
        "id": "Q7MwDJrhacCk"
      }
    },
    {
      "cell_type": "code",
      "source": [
        "X_train"
      ],
      "metadata": {
        "colab": {
          "base_uri": "https://localhost:8080/",
          "height": 455
        },
        "id": "fFXUhlyVnbjn",
        "outputId": "bc90dcdb-7e77-43a3-eeda-e7f6f8996ca9"
      },
      "execution_count": 83,
      "outputs": [
        {
          "output_type": "execute_result",
          "data": {
            "text/plain": [
              "            sales-1  sales-2  sales-3  sales-4  sales-5\n",
              "date                                                   \n",
              "2013-01-06    141.0     88.0    153.0    194.0      0.0\n",
              "2013-01-07     49.0    141.0     88.0    153.0    194.0\n",
              "2013-01-08    154.0     49.0    141.0     88.0    153.0\n",
              "2013-01-09    119.0    154.0     49.0    141.0     88.0\n",
              "2013-01-10    190.0    119.0    154.0     49.0    141.0\n",
              "...             ...      ...      ...      ...      ...\n",
              "2016-09-08    145.0    203.0    184.0     92.0    197.0\n",
              "2016-09-09    226.0    145.0    203.0    184.0     92.0\n",
              "2016-09-10    180.0    226.0    145.0    203.0    184.0\n",
              "2016-09-11    204.0    180.0    226.0    145.0    203.0\n",
              "2016-09-12     74.0    204.0    180.0    226.0    145.0\n",
              "\n",
              "[1343 rows x 5 columns]"
            ],
            "text/html": [
              "\n",
              "  <div id=\"df-1461249b-91c9-4d0f-9c17-9f1a16df8997\">\n",
              "    <div class=\"colab-df-container\">\n",
              "      <div>\n",
              "<style scoped>\n",
              "    .dataframe tbody tr th:only-of-type {\n",
              "        vertical-align: middle;\n",
              "    }\n",
              "\n",
              "    .dataframe tbody tr th {\n",
              "        vertical-align: top;\n",
              "    }\n",
              "\n",
              "    .dataframe thead th {\n",
              "        text-align: right;\n",
              "    }\n",
              "</style>\n",
              "<table border=\"1\" class=\"dataframe\">\n",
              "  <thead>\n",
              "    <tr style=\"text-align: right;\">\n",
              "      <th></th>\n",
              "      <th>sales-1</th>\n",
              "      <th>sales-2</th>\n",
              "      <th>sales-3</th>\n",
              "      <th>sales-4</th>\n",
              "      <th>sales-5</th>\n",
              "    </tr>\n",
              "    <tr>\n",
              "      <th>date</th>\n",
              "      <th></th>\n",
              "      <th></th>\n",
              "      <th></th>\n",
              "      <th></th>\n",
              "      <th></th>\n",
              "    </tr>\n",
              "  </thead>\n",
              "  <tbody>\n",
              "    <tr>\n",
              "      <th>2013-01-06</th>\n",
              "      <td>141.0</td>\n",
              "      <td>88.0</td>\n",
              "      <td>153.0</td>\n",
              "      <td>194.0</td>\n",
              "      <td>0.0</td>\n",
              "    </tr>\n",
              "    <tr>\n",
              "      <th>2013-01-07</th>\n",
              "      <td>49.0</td>\n",
              "      <td>141.0</td>\n",
              "      <td>88.0</td>\n",
              "      <td>153.0</td>\n",
              "      <td>194.0</td>\n",
              "    </tr>\n",
              "    <tr>\n",
              "      <th>2013-01-08</th>\n",
              "      <td>154.0</td>\n",
              "      <td>49.0</td>\n",
              "      <td>141.0</td>\n",
              "      <td>88.0</td>\n",
              "      <td>153.0</td>\n",
              "    </tr>\n",
              "    <tr>\n",
              "      <th>2013-01-09</th>\n",
              "      <td>119.0</td>\n",
              "      <td>154.0</td>\n",
              "      <td>49.0</td>\n",
              "      <td>141.0</td>\n",
              "      <td>88.0</td>\n",
              "    </tr>\n",
              "    <tr>\n",
              "      <th>2013-01-10</th>\n",
              "      <td>190.0</td>\n",
              "      <td>119.0</td>\n",
              "      <td>154.0</td>\n",
              "      <td>49.0</td>\n",
              "      <td>141.0</td>\n",
              "    </tr>\n",
              "    <tr>\n",
              "      <th>...</th>\n",
              "      <td>...</td>\n",
              "      <td>...</td>\n",
              "      <td>...</td>\n",
              "      <td>...</td>\n",
              "      <td>...</td>\n",
              "    </tr>\n",
              "    <tr>\n",
              "      <th>2016-09-08</th>\n",
              "      <td>145.0</td>\n",
              "      <td>203.0</td>\n",
              "      <td>184.0</td>\n",
              "      <td>92.0</td>\n",
              "      <td>197.0</td>\n",
              "    </tr>\n",
              "    <tr>\n",
              "      <th>2016-09-09</th>\n",
              "      <td>226.0</td>\n",
              "      <td>145.0</td>\n",
              "      <td>203.0</td>\n",
              "      <td>184.0</td>\n",
              "      <td>92.0</td>\n",
              "    </tr>\n",
              "    <tr>\n",
              "      <th>2016-09-10</th>\n",
              "      <td>180.0</td>\n",
              "      <td>226.0</td>\n",
              "      <td>145.0</td>\n",
              "      <td>203.0</td>\n",
              "      <td>184.0</td>\n",
              "    </tr>\n",
              "    <tr>\n",
              "      <th>2016-09-11</th>\n",
              "      <td>204.0</td>\n",
              "      <td>180.0</td>\n",
              "      <td>226.0</td>\n",
              "      <td>145.0</td>\n",
              "      <td>203.0</td>\n",
              "    </tr>\n",
              "    <tr>\n",
              "      <th>2016-09-12</th>\n",
              "      <td>74.0</td>\n",
              "      <td>204.0</td>\n",
              "      <td>180.0</td>\n",
              "      <td>226.0</td>\n",
              "      <td>145.0</td>\n",
              "    </tr>\n",
              "  </tbody>\n",
              "</table>\n",
              "<p>1343 rows × 5 columns</p>\n",
              "</div>\n",
              "      <button class=\"colab-df-convert\" onclick=\"convertToInteractive('df-1461249b-91c9-4d0f-9c17-9f1a16df8997')\"\n",
              "              title=\"Convert this dataframe to an interactive table.\"\n",
              "              style=\"display:none;\">\n",
              "        \n",
              "  <svg xmlns=\"http://www.w3.org/2000/svg\" height=\"24px\"viewBox=\"0 0 24 24\"\n",
              "       width=\"24px\">\n",
              "    <path d=\"M0 0h24v24H0V0z\" fill=\"none\"/>\n",
              "    <path d=\"M18.56 5.44l.94 2.06.94-2.06 2.06-.94-2.06-.94-.94-2.06-.94 2.06-2.06.94zm-11 1L8.5 8.5l.94-2.06 2.06-.94-2.06-.94L8.5 2.5l-.94 2.06-2.06.94zm10 10l.94 2.06.94-2.06 2.06-.94-2.06-.94-.94-2.06-.94 2.06-2.06.94z\"/><path d=\"M17.41 7.96l-1.37-1.37c-.4-.4-.92-.59-1.43-.59-.52 0-1.04.2-1.43.59L10.3 9.45l-7.72 7.72c-.78.78-.78 2.05 0 2.83L4 21.41c.39.39.9.59 1.41.59.51 0 1.02-.2 1.41-.59l7.78-7.78 2.81-2.81c.8-.78.8-2.07 0-2.86zM5.41 20L4 18.59l7.72-7.72 1.47 1.35L5.41 20z\"/>\n",
              "  </svg>\n",
              "      </button>\n",
              "      \n",
              "  <style>\n",
              "    .colab-df-container {\n",
              "      display:flex;\n",
              "      flex-wrap:wrap;\n",
              "      gap: 12px;\n",
              "    }\n",
              "\n",
              "    .colab-df-convert {\n",
              "      background-color: #E8F0FE;\n",
              "      border: none;\n",
              "      border-radius: 50%;\n",
              "      cursor: pointer;\n",
              "      display: none;\n",
              "      fill: #1967D2;\n",
              "      height: 32px;\n",
              "      padding: 0 0 0 0;\n",
              "      width: 32px;\n",
              "    }\n",
              "\n",
              "    .colab-df-convert:hover {\n",
              "      background-color: #E2EBFA;\n",
              "      box-shadow: 0px 1px 2px rgba(60, 64, 67, 0.3), 0px 1px 3px 1px rgba(60, 64, 67, 0.15);\n",
              "      fill: #174EA6;\n",
              "    }\n",
              "\n",
              "    [theme=dark] .colab-df-convert {\n",
              "      background-color: #3B4455;\n",
              "      fill: #D2E3FC;\n",
              "    }\n",
              "\n",
              "    [theme=dark] .colab-df-convert:hover {\n",
              "      background-color: #434B5C;\n",
              "      box-shadow: 0px 1px 3px 1px rgba(0, 0, 0, 0.15);\n",
              "      filter: drop-shadow(0px 1px 2px rgba(0, 0, 0, 0.3));\n",
              "      fill: #FFFFFF;\n",
              "    }\n",
              "  </style>\n",
              "\n",
              "      <script>\n",
              "        const buttonEl =\n",
              "          document.querySelector('#df-1461249b-91c9-4d0f-9c17-9f1a16df8997 button.colab-df-convert');\n",
              "        buttonEl.style.display =\n",
              "          google.colab.kernel.accessAllowed ? 'block' : 'none';\n",
              "\n",
              "        async function convertToInteractive(key) {\n",
              "          const element = document.querySelector('#df-1461249b-91c9-4d0f-9c17-9f1a16df8997');\n",
              "          const dataTable =\n",
              "            await google.colab.kernel.invokeFunction('convertToInteractive',\n",
              "                                                     [key], {});\n",
              "          if (!dataTable) return;\n",
              "\n",
              "          const docLinkHtml = 'Like what you see? Visit the ' +\n",
              "            '<a target=\"_blank\" href=https://colab.research.google.com/notebooks/data_table.ipynb>data table notebook</a>'\n",
              "            + ' to learn more about interactive tables.';\n",
              "          element.innerHTML = '';\n",
              "          dataTable['output_type'] = 'display_data';\n",
              "          await google.colab.output.renderOutput(dataTable, element);\n",
              "          const docLink = document.createElement('div');\n",
              "          docLink.innerHTML = docLinkHtml;\n",
              "          element.appendChild(docLink);\n",
              "        }\n",
              "      </script>\n",
              "    </div>\n",
              "  </div>\n",
              "  "
            ]
          },
          "metadata": {},
          "execution_count": 83
        }
      ]
    },
    {
      "cell_type": "code",
      "source": [
        "get_lags(pd.DataFrame(ts), -7)"
      ],
      "metadata": {
        "colab": {
          "base_uri": "https://localhost:8080/",
          "height": 455
        },
        "id": "uE41ff5Ae3MF",
        "outputId": "0201011f-d4c3-4c41-c65c-282eef5a206f"
      },
      "execution_count": 84,
      "outputs": [
        {
          "output_type": "execute_result",
          "data": {
            "text/plain": [
              "            sales+1  sales+2  sales+3  sales+4  sales+5  sales+6  sales+7\n",
              "date                                                                     \n",
              "2013-01-01    194.0    153.0     88.0    141.0     49.0    154.0    119.0\n",
              "2013-01-02    153.0     88.0    141.0     49.0    154.0    119.0    190.0\n",
              "2013-01-03     88.0    141.0     49.0    154.0    119.0    190.0    110.0\n",
              "2013-01-04    141.0     49.0    154.0    119.0    190.0    110.0     81.0\n",
              "2013-01-05     49.0    154.0    119.0    190.0    110.0     81.0    103.0\n",
              "...             ...      ...      ...      ...      ...      ...      ...\n",
              "2017-08-04    154.0     74.0    187.0    239.0    288.0    183.0     53.0\n",
              "2017-08-05     74.0    187.0    239.0    288.0    183.0     53.0    227.0\n",
              "2017-08-06    187.0    239.0    288.0    183.0     53.0    227.0     45.0\n",
              "2017-08-07    239.0    288.0    183.0     53.0    227.0     45.0    159.0\n",
              "2017-08-08    288.0    183.0     53.0    227.0     45.0    159.0    173.0\n",
              "\n",
              "[1677 rows x 7 columns]"
            ],
            "text/html": [
              "\n",
              "  <div id=\"df-f80ca8a4-d941-4b24-b1ca-cd06cb76923f\">\n",
              "    <div class=\"colab-df-container\">\n",
              "      <div>\n",
              "<style scoped>\n",
              "    .dataframe tbody tr th:only-of-type {\n",
              "        vertical-align: middle;\n",
              "    }\n",
              "\n",
              "    .dataframe tbody tr th {\n",
              "        vertical-align: top;\n",
              "    }\n",
              "\n",
              "    .dataframe thead th {\n",
              "        text-align: right;\n",
              "    }\n",
              "</style>\n",
              "<table border=\"1\" class=\"dataframe\">\n",
              "  <thead>\n",
              "    <tr style=\"text-align: right;\">\n",
              "      <th></th>\n",
              "      <th>sales+1</th>\n",
              "      <th>sales+2</th>\n",
              "      <th>sales+3</th>\n",
              "      <th>sales+4</th>\n",
              "      <th>sales+5</th>\n",
              "      <th>sales+6</th>\n",
              "      <th>sales+7</th>\n",
              "    </tr>\n",
              "    <tr>\n",
              "      <th>date</th>\n",
              "      <th></th>\n",
              "      <th></th>\n",
              "      <th></th>\n",
              "      <th></th>\n",
              "      <th></th>\n",
              "      <th></th>\n",
              "      <th></th>\n",
              "    </tr>\n",
              "  </thead>\n",
              "  <tbody>\n",
              "    <tr>\n",
              "      <th>2013-01-01</th>\n",
              "      <td>194.0</td>\n",
              "      <td>153.0</td>\n",
              "      <td>88.0</td>\n",
              "      <td>141.0</td>\n",
              "      <td>49.0</td>\n",
              "      <td>154.0</td>\n",
              "      <td>119.0</td>\n",
              "    </tr>\n",
              "    <tr>\n",
              "      <th>2013-01-02</th>\n",
              "      <td>153.0</td>\n",
              "      <td>88.0</td>\n",
              "      <td>141.0</td>\n",
              "      <td>49.0</td>\n",
              "      <td>154.0</td>\n",
              "      <td>119.0</td>\n",
              "      <td>190.0</td>\n",
              "    </tr>\n",
              "    <tr>\n",
              "      <th>2013-01-03</th>\n",
              "      <td>88.0</td>\n",
              "      <td>141.0</td>\n",
              "      <td>49.0</td>\n",
              "      <td>154.0</td>\n",
              "      <td>119.0</td>\n",
              "      <td>190.0</td>\n",
              "      <td>110.0</td>\n",
              "    </tr>\n",
              "    <tr>\n",
              "      <th>2013-01-04</th>\n",
              "      <td>141.0</td>\n",
              "      <td>49.0</td>\n",
              "      <td>154.0</td>\n",
              "      <td>119.0</td>\n",
              "      <td>190.0</td>\n",
              "      <td>110.0</td>\n",
              "      <td>81.0</td>\n",
              "    </tr>\n",
              "    <tr>\n",
              "      <th>2013-01-05</th>\n",
              "      <td>49.0</td>\n",
              "      <td>154.0</td>\n",
              "      <td>119.0</td>\n",
              "      <td>190.0</td>\n",
              "      <td>110.0</td>\n",
              "      <td>81.0</td>\n",
              "      <td>103.0</td>\n",
              "    </tr>\n",
              "    <tr>\n",
              "      <th>...</th>\n",
              "      <td>...</td>\n",
              "      <td>...</td>\n",
              "      <td>...</td>\n",
              "      <td>...</td>\n",
              "      <td>...</td>\n",
              "      <td>...</td>\n",
              "      <td>...</td>\n",
              "    </tr>\n",
              "    <tr>\n",
              "      <th>2017-08-04</th>\n",
              "      <td>154.0</td>\n",
              "      <td>74.0</td>\n",
              "      <td>187.0</td>\n",
              "      <td>239.0</td>\n",
              "      <td>288.0</td>\n",
              "      <td>183.0</td>\n",
              "      <td>53.0</td>\n",
              "    </tr>\n",
              "    <tr>\n",
              "      <th>2017-08-05</th>\n",
              "      <td>74.0</td>\n",
              "      <td>187.0</td>\n",
              "      <td>239.0</td>\n",
              "      <td>288.0</td>\n",
              "      <td>183.0</td>\n",
              "      <td>53.0</td>\n",
              "      <td>227.0</td>\n",
              "    </tr>\n",
              "    <tr>\n",
              "      <th>2017-08-06</th>\n",
              "      <td>187.0</td>\n",
              "      <td>239.0</td>\n",
              "      <td>288.0</td>\n",
              "      <td>183.0</td>\n",
              "      <td>53.0</td>\n",
              "      <td>227.0</td>\n",
              "      <td>45.0</td>\n",
              "    </tr>\n",
              "    <tr>\n",
              "      <th>2017-08-07</th>\n",
              "      <td>239.0</td>\n",
              "      <td>288.0</td>\n",
              "      <td>183.0</td>\n",
              "      <td>53.0</td>\n",
              "      <td>227.0</td>\n",
              "      <td>45.0</td>\n",
              "      <td>159.0</td>\n",
              "    </tr>\n",
              "    <tr>\n",
              "      <th>2017-08-08</th>\n",
              "      <td>288.0</td>\n",
              "      <td>183.0</td>\n",
              "      <td>53.0</td>\n",
              "      <td>227.0</td>\n",
              "      <td>45.0</td>\n",
              "      <td>159.0</td>\n",
              "      <td>173.0</td>\n",
              "    </tr>\n",
              "  </tbody>\n",
              "</table>\n",
              "<p>1677 rows × 7 columns</p>\n",
              "</div>\n",
              "      <button class=\"colab-df-convert\" onclick=\"convertToInteractive('df-f80ca8a4-d941-4b24-b1ca-cd06cb76923f')\"\n",
              "              title=\"Convert this dataframe to an interactive table.\"\n",
              "              style=\"display:none;\">\n",
              "        \n",
              "  <svg xmlns=\"http://www.w3.org/2000/svg\" height=\"24px\"viewBox=\"0 0 24 24\"\n",
              "       width=\"24px\">\n",
              "    <path d=\"M0 0h24v24H0V0z\" fill=\"none\"/>\n",
              "    <path d=\"M18.56 5.44l.94 2.06.94-2.06 2.06-.94-2.06-.94-.94-2.06-.94 2.06-2.06.94zm-11 1L8.5 8.5l.94-2.06 2.06-.94-2.06-.94L8.5 2.5l-.94 2.06-2.06.94zm10 10l.94 2.06.94-2.06 2.06-.94-2.06-.94-.94-2.06-.94 2.06-2.06.94z\"/><path d=\"M17.41 7.96l-1.37-1.37c-.4-.4-.92-.59-1.43-.59-.52 0-1.04.2-1.43.59L10.3 9.45l-7.72 7.72c-.78.78-.78 2.05 0 2.83L4 21.41c.39.39.9.59 1.41.59.51 0 1.02-.2 1.41-.59l7.78-7.78 2.81-2.81c.8-.78.8-2.07 0-2.86zM5.41 20L4 18.59l7.72-7.72 1.47 1.35L5.41 20z\"/>\n",
              "  </svg>\n",
              "      </button>\n",
              "      \n",
              "  <style>\n",
              "    .colab-df-container {\n",
              "      display:flex;\n",
              "      flex-wrap:wrap;\n",
              "      gap: 12px;\n",
              "    }\n",
              "\n",
              "    .colab-df-convert {\n",
              "      background-color: #E8F0FE;\n",
              "      border: none;\n",
              "      border-radius: 50%;\n",
              "      cursor: pointer;\n",
              "      display: none;\n",
              "      fill: #1967D2;\n",
              "      height: 32px;\n",
              "      padding: 0 0 0 0;\n",
              "      width: 32px;\n",
              "    }\n",
              "\n",
              "    .colab-df-convert:hover {\n",
              "      background-color: #E2EBFA;\n",
              "      box-shadow: 0px 1px 2px rgba(60, 64, 67, 0.3), 0px 1px 3px 1px rgba(60, 64, 67, 0.15);\n",
              "      fill: #174EA6;\n",
              "    }\n",
              "\n",
              "    [theme=dark] .colab-df-convert {\n",
              "      background-color: #3B4455;\n",
              "      fill: #D2E3FC;\n",
              "    }\n",
              "\n",
              "    [theme=dark] .colab-df-convert:hover {\n",
              "      background-color: #434B5C;\n",
              "      box-shadow: 0px 1px 3px 1px rgba(0, 0, 0, 0.15);\n",
              "      filter: drop-shadow(0px 1px 2px rgba(0, 0, 0, 0.3));\n",
              "      fill: #FFFFFF;\n",
              "    }\n",
              "  </style>\n",
              "\n",
              "      <script>\n",
              "        const buttonEl =\n",
              "          document.querySelector('#df-f80ca8a4-d941-4b24-b1ca-cd06cb76923f button.colab-df-convert');\n",
              "        buttonEl.style.display =\n",
              "          google.colab.kernel.accessAllowed ? 'block' : 'none';\n",
              "\n",
              "        async function convertToInteractive(key) {\n",
              "          const element = document.querySelector('#df-f80ca8a4-d941-4b24-b1ca-cd06cb76923f');\n",
              "          const dataTable =\n",
              "            await google.colab.kernel.invokeFunction('convertToInteractive',\n",
              "                                                     [key], {});\n",
              "          if (!dataTable) return;\n",
              "\n",
              "          const docLinkHtml = 'Like what you see? Visit the ' +\n",
              "            '<a target=\"_blank\" href=https://colab.research.google.com/notebooks/data_table.ipynb>data table notebook</a>'\n",
              "            + ' to learn more about interactive tables.';\n",
              "          element.innerHTML = '';\n",
              "          dataTable['output_type'] = 'display_data';\n",
              "          await google.colab.output.renderOutput(dataTable, element);\n",
              "          const docLink = document.createElement('div');\n",
              "          docLink.innerHTML = docLinkHtml;\n",
              "          element.appendChild(docLink);\n",
              "        }\n",
              "      </script>\n",
              "    </div>\n",
              "  </div>\n",
              "  "
            ]
          },
          "metadata": {},
          "execution_count": 84
        }
      ]
    },
    {
      "cell_type": "code",
      "source": [
        "y_train_multi = get_lags(pd.DataFrame(y_train), -7)\n",
        "y_test_multi = get_lags(pd.DataFrame(y_test), -7)"
      ],
      "metadata": {
        "id": "P2MbexOxbTGl"
      },
      "execution_count": 85,
      "outputs": []
    },
    {
      "cell_type": "code",
      "source": [
        "X_train_multi, y_train_multi = X_train.align(y_train_multi, join='inner', axis=0) \n",
        "X_test_multi, y_test_multi = X_test.align(y_test_multi, join='inner', axis=0) "
      ],
      "metadata": {
        "id": "vQWoK_Mqnvuh"
      },
      "execution_count": 86,
      "outputs": []
    },
    {
      "cell_type": "code",
      "source": [
        "X_train_multi.index is y_train_multi.index"
      ],
      "metadata": {
        "colab": {
          "base_uri": "https://localhost:8080/"
        },
        "id": "glTXeAIRoE57",
        "outputId": "9d8ba69a-b64f-4ed7-bce9-453ea4bd6299"
      },
      "execution_count": 87,
      "outputs": [
        {
          "output_type": "execute_result",
          "data": {
            "text/plain": [
              "True"
            ]
          },
          "metadata": {},
          "execution_count": 87
        }
      ]
    },
    {
      "cell_type": "code",
      "source": [
        "X_test_multi.index is y_test_multi.index"
      ],
      "metadata": {
        "colab": {
          "base_uri": "https://localhost:8080/"
        },
        "id": "dKRiTIXYopF2",
        "outputId": "24f342c3-8475-4b13-e029-83f920d44582"
      },
      "execution_count": 88,
      "outputs": [
        {
          "output_type": "execute_result",
          "data": {
            "text/plain": [
              "True"
            ]
          },
          "metadata": {},
          "execution_count": 88
        }
      ]
    },
    {
      "cell_type": "code",
      "source": [
        "from sklearn.svm import LinearSVR\n",
        "from sklearn.multioutput import MultiOutputRegressor"
      ],
      "metadata": {
        "id": "6c9DnUO0qR8K"
      },
      "execution_count": 89,
      "outputs": []
    },
    {
      "cell_type": "code",
      "source": [
        "regr_multi = MultiOutputRegressor(LinearSVR(C=1.0, epsilon=0.2))"
      ],
      "metadata": {
        "id": "KUCtKebLqyZQ"
      },
      "execution_count": 90,
      "outputs": []
    },
    {
      "cell_type": "code",
      "source": [
        "regr_multi.fit(X_train_multi, y_train_multi)"
      ],
      "metadata": {
        "colab": {
          "base_uri": "https://localhost:8080/"
        },
        "id": "VaW_5wa7aoq3",
        "outputId": "dbd431df-5f0c-4cdb-d788-6de8f93a2516"
      },
      "execution_count": 91,
      "outputs": [
        {
          "output_type": "stream",
          "name": "stderr",
          "text": [
            "/usr/local/lib/python3.7/dist-packages/sklearn/svm/_base.py:1208: ConvergenceWarning: Liblinear failed to converge, increase the number of iterations.\n",
            "  ConvergenceWarning,\n",
            "/usr/local/lib/python3.7/dist-packages/sklearn/svm/_base.py:1208: ConvergenceWarning: Liblinear failed to converge, increase the number of iterations.\n",
            "  ConvergenceWarning,\n",
            "/usr/local/lib/python3.7/dist-packages/sklearn/svm/_base.py:1208: ConvergenceWarning: Liblinear failed to converge, increase the number of iterations.\n",
            "  ConvergenceWarning,\n",
            "/usr/local/lib/python3.7/dist-packages/sklearn/svm/_base.py:1208: ConvergenceWarning: Liblinear failed to converge, increase the number of iterations.\n",
            "  ConvergenceWarning,\n",
            "/usr/local/lib/python3.7/dist-packages/sklearn/svm/_base.py:1208: ConvergenceWarning: Liblinear failed to converge, increase the number of iterations.\n",
            "  ConvergenceWarning,\n",
            "/usr/local/lib/python3.7/dist-packages/sklearn/svm/_base.py:1208: ConvergenceWarning: Liblinear failed to converge, increase the number of iterations.\n",
            "  ConvergenceWarning,\n",
            "/usr/local/lib/python3.7/dist-packages/sklearn/svm/_base.py:1208: ConvergenceWarning: Liblinear failed to converge, increase the number of iterations.\n",
            "  ConvergenceWarning,\n"
          ]
        },
        {
          "output_type": "execute_result",
          "data": {
            "text/plain": [
              "MultiOutputRegressor(estimator=LinearSVR(epsilon=0.2))"
            ]
          },
          "metadata": {},
          "execution_count": 91
        }
      ]
    },
    {
      "cell_type": "code",
      "source": [
        "y_pred_multi = regr_multi.predict(X_test_multi)"
      ],
      "metadata": {
        "id": "u7lKAIQWatgS"
      },
      "execution_count": 92,
      "outputs": []
    },
    {
      "cell_type": "code",
      "source": [
        "regr_multi.predict(X_test_multi).shape"
      ],
      "metadata": {
        "colab": {
          "base_uri": "https://localhost:8080/"
        },
        "id": "HW0_U-ohqwoQ",
        "outputId": "69f25358-2c82-4f26-ad2f-581faac31980"
      },
      "execution_count": 93,
      "outputs": [
        {
          "output_type": "execute_result",
          "data": {
            "text/plain": [
              "(329, 7)"
            ]
          },
          "metadata": {},
          "execution_count": 93
        }
      ]
    },
    {
      "cell_type": "code",
      "source": [
        "results['SVR multi'] = {'r2':r2_score(y_pred_multi, y_test_multi), \\\n",
        "                        'mse': mean_squared_error(y_pred_multi, y_test_multi), \n",
        "                        'mae': mean_absolute_error(y_pred_multi, y_test_multi)}\n",
        "\n",
        "print('Prices - SVR Multi Results')\n",
        "results"
      ],
      "metadata": {
        "colab": {
          "base_uri": "https://localhost:8080/"
        },
        "id": "5-UWwp1Tp7Vh",
        "outputId": "b7dd2b77-c757-4bc2-e052-089e49b91878"
      },
      "execution_count": 94,
      "outputs": [
        {
          "output_type": "stream",
          "name": "stdout",
          "text": [
            "Prices - SVR Multi Results\n"
          ]
        },
        {
          "output_type": "execute_result",
          "data": {
            "text/plain": [
              "{'KNN': {'mae': 41.61584293503442,\n",
              "  'mse': 4634.026099637032,\n",
              "  'r2': -1.2394385379486592},\n",
              " 'SVR': {'mae': 41.331126829861226,\n",
              "  'mse': 4022.839105099348,\n",
              "  'r2': -6.388991153366971},\n",
              " 'SVR multi': {'mae': 46.47277327991145,\n",
              "  'mse': 5171.873146209151,\n",
              "  'r2': -2.512108425690895}}"
            ]
          },
          "metadata": {},
          "execution_count": 94
        }
      ]
    },
    {
      "cell_type": "code",
      "source": [
        "for day in np.random.randint(1,100,3):\n",
        "  fig, ax = plt.subplots()\n",
        "  pd.Series(y_pred_multi[day]).plot(label='pred')\n",
        "  pd.Series(pd.DataFrame(y_test_multi).reset_index(drop=True).loc[day].values).plot(label='true')\n",
        "  plt.title(day)\n",
        "  plt.legend()"
      ],
      "metadata": {
        "colab": {
          "base_uri": "https://localhost:8080/",
          "height": 974
        },
        "id": "kXQEEr4krOBV",
        "outputId": "fe55bde9-68ee-4b34-b4c2-bc6d47ecabe2"
      },
      "execution_count": 97,
      "outputs": [
        {
          "output_type": "display_data",
          "data": {
            "text/plain": [
              "<Figure size 720x360 with 1 Axes>"
            ],
            "image/png": "[encoded data removed]"
          },
          "metadata": {
            "needs_background": "light"
          }
        },
        {
          "output_type": "display_data",
          "data": {
            "text/plain": [
              "<Figure size 720x360 with 1 Axes>"
            ],
            "image/png": "[encoded data removed]"
          },
          "metadata": {
            "needs_background": "light"
          }
        },
        {
          "output_type": "display_data",
          "data": {
            "text/plain": [
              "<Figure size 720x360 with 1 Axes>"
            ],
            "image/png": "[encoded data removed]"
          },
          "metadata": {
            "needs_background": "light"
          }
        }
      ]
    },
    {
      "cell_type": "code",
      "source": [
        "pd.DataFrame(results)"
      ],
      "metadata": {
        "colab": {
          "base_uri": "https://localhost:8080/",
          "height": 143
        },
        "id": "1Nk0LEGvtV1p",
        "outputId": "d31d9cc2-699a-48c6-f337-f0a482327682"
      },
      "execution_count": 98,
      "outputs": [
        {
          "output_type": "execute_result",
          "data": {
            "text/plain": [
              "             KNN          SVR    SVR multi\n",
              "r2     -1.239439    -6.388991    -2.512108\n",
              "mse  4634.026100  4022.839105  5171.873146\n",
              "mae    41.615843    41.331127    46.472773"
            ],
            "text/html": [
              "\n",
              "  <div id=\"df-6bbae0a3-d009-46fc-9c4e-639c3d598398\">\n",
              "    <div class=\"colab-df-container\">\n",
              "      <div>\n",
              "<style scoped>\n",
              "    .dataframe tbody tr th:only-of-type {\n",
              "        vertical-align: middle;\n",
              "    }\n",
              "\n",
              "    .dataframe tbody tr th {\n",
              "        vertical-align: top;\n",
              "    }\n",
              "\n",
              "    .dataframe thead th {\n",
              "        text-align: right;\n",
              "    }\n",
              "</style>\n",
              "<table border=\"1\" class=\"dataframe\">\n",
              "  <thead>\n",
              "    <tr style=\"text-align: right;\">\n",
              "      <th></th>\n",
              "      <th>KNN</th>\n",
              "      <th>SVR</th>\n",
              "      <th>SVR multi</th>\n",
              "    </tr>\n",
              "  </thead>\n",
              "  <tbody>\n",
              "    <tr>\n",
              "      <th>r2</th>\n",
              "      <td>-1.239439</td>\n",
              "      <td>-6.388991</td>\n",
              "      <td>-2.512108</td>\n",
              "    </tr>\n",
              "    <tr>\n",
              "      <th>mse</th>\n",
              "      <td>4634.026100</td>\n",
              "      <td>4022.839105</td>\n",
              "      <td>5171.873146</td>\n",
              "    </tr>\n",
              "    <tr>\n",
              "      <th>mae</th>\n",
              "      <td>41.615843</td>\n",
              "      <td>41.331127</td>\n",
              "      <td>46.472773</td>\n",
              "    </tr>\n",
              "  </tbody>\n",
              "</table>\n",
              "</div>\n",
              "      <button class=\"colab-df-convert\" onclick=\"convertToInteractive('df-6bbae0a3-d009-46fc-9c4e-639c3d598398')\"\n",
              "              title=\"Convert this dataframe to an interactive table.\"\n",
              "              style=\"display:none;\">\n",
              "        \n",
              "  <svg xmlns=\"http://www.w3.org/2000/svg\" height=\"24px\"viewBox=\"0 0 24 24\"\n",
              "       width=\"24px\">\n",
              "    <path d=\"M0 0h24v24H0V0z\" fill=\"none\"/>\n",
              "    <path d=\"M18.56 5.44l.94 2.06.94-2.06 2.06-.94-2.06-.94-.94-2.06-.94 2.06-2.06.94zm-11 1L8.5 8.5l.94-2.06 2.06-.94-2.06-.94L8.5 2.5l-.94 2.06-2.06.94zm10 10l.94 2.06.94-2.06 2.06-.94-2.06-.94-.94-2.06-.94 2.06-2.06.94z\"/><path d=\"M17.41 7.96l-1.37-1.37c-.4-.4-.92-.59-1.43-.59-.52 0-1.04.2-1.43.59L10.3 9.45l-7.72 7.72c-.78.78-.78 2.05 0 2.83L4 21.41c.39.39.9.59 1.41.59.51 0 1.02-.2 1.41-.59l7.78-7.78 2.81-2.81c.8-.78.8-2.07 0-2.86zM5.41 20L4 18.59l7.72-7.72 1.47 1.35L5.41 20z\"/>\n",
              "  </svg>\n",
              "      </button>\n",
              "      \n",
              "  <style>\n",
              "    .colab-df-container {\n",
              "      display:flex;\n",
              "      flex-wrap:wrap;\n",
              "      gap: 12px;\n",
              "    }\n",
              "\n",
              "    .colab-df-convert {\n",
              "      background-color: #E8F0FE;\n",
              "      border: none;\n",
              "      border-radius: 50%;\n",
              "      cursor: pointer;\n",
              "      display: none;\n",
              "      fill: #1967D2;\n",
              "      height: 32px;\n",
              "      padding: 0 0 0 0;\n",
              "      width: 32px;\n",
              "    }\n",
              "\n",
              "    .colab-df-convert:hover {\n",
              "      background-color: #E2EBFA;\n",
              "      box-shadow: 0px 1px 2px rgba(60, 64, 67, 0.3), 0px 1px 3px 1px rgba(60, 64, 67, 0.15);\n",
              "      fill: #174EA6;\n",
              "    }\n",
              "\n",
              "    [theme=dark] .colab-df-convert {\n",
              "      background-color: #3B4455;\n",
              "      fill: #D2E3FC;\n",
              "    }\n",
              "\n",
              "    [theme=dark] .colab-df-convert:hover {\n",
              "      background-color: #434B5C;\n",
              "      box-shadow: 0px 1px 3px 1px rgba(0, 0, 0, 0.15);\n",
              "      filter: drop-shadow(0px 1px 2px rgba(0, 0, 0, 0.3));\n",
              "      fill: #FFFFFF;\n",
              "    }\n",
              "  </style>\n",
              "\n",
              "      <script>\n",
              "        const buttonEl =\n",
              "          document.querySelector('#df-6bbae0a3-d009-46fc-9c4e-639c3d598398 button.colab-df-convert');\n",
              "        buttonEl.style.display =\n",
              "          google.colab.kernel.accessAllowed ? 'block' : 'none';\n",
              "\n",
              "        async function convertToInteractive(key) {\n",
              "          const element = document.querySelector('#df-6bbae0a3-d009-46fc-9c4e-639c3d598398');\n",
              "          const dataTable =\n",
              "            await google.colab.kernel.invokeFunction('convertToInteractive',\n",
              "                                                     [key], {});\n",
              "          if (!dataTable) return;\n",
              "\n",
              "          const docLinkHtml = 'Like what you see? Visit the ' +\n",
              "            '<a target=\"_blank\" href=https://colab.research.google.com/notebooks/data_table.ipynb>data table notebook</a>'\n",
              "            + ' to learn more about interactive tables.';\n",
              "          element.innerHTML = '';\n",
              "          dataTable['output_type'] = 'display_data';\n",
              "          await google.colab.output.renderOutput(dataTable, element);\n",
              "          const docLink = document.createElement('div');\n",
              "          docLink.innerHTML = docLinkHtml;\n",
              "          element.appendChild(docLink);\n",
              "        }\n",
              "      </script>\n",
              "    </div>\n",
              "  </div>\n",
              "  "
            ]
          },
          "metadata": {},
          "execution_count": 98
        }
      ]
    },
    {
      "cell_type": "markdown",
      "source": [
        "# MLP"
      ],
      "metadata": {
        "id": "J6k_exDitgjC"
      }
    },
    {
      "cell_type": "code",
      "source": [
        "import torch\n",
        "from torch import nn\n",
        "from torch.utils.data import DataLoader\n",
        "import torch.optim as optim"
      ],
      "metadata": {
        "id": "JvJPz8WGu9yz"
      },
      "execution_count": null,
      "outputs": []
    },
    {
      "cell_type": "markdown",
      "source": [
        "https://pytorch.org/tutorials/beginner/basics/intro.html"
      ],
      "metadata": {
        "id": "3YCtbgEA5IuG"
      }
    },
    {
      "cell_type": "markdown",
      "source": [
        "### Graphs"
      ],
      "metadata": {
        "id": "o7TygPVeEXu-"
      }
    },
    {
      "cell_type": "code",
      "source": [
        "!sudo apt-get install graphviz graphviz-dev"
      ],
      "metadata": {
        "colab": {
          "base_uri": "https://localhost:8080/"
        },
        "id": "YgAmRdFt7ocf",
        "outputId": "ce3df7fc-9c71-447c-9592-d463721442b6"
      },
      "execution_count": null,
      "outputs": [
        {
          "output_type": "stream",
          "name": "stdout",
          "text": [
            "Reading package lists... Done\n",
            "Building dependency tree       \n",
            "Reading state information... Done\n",
            "Note, selecting 'libgraphviz-dev' instead of 'graphviz-dev'\n",
            "graphviz is already the newest version (2.40.1-2).\n",
            "The following additional packages will be installed:\n",
            "  libgail-common libgail18 libgtk2.0-0 libgtk2.0-bin libgtk2.0-common\n",
            "  libgvc6-plugins-gtk libxdot4\n",
            "Suggested packages:\n",
            "  gvfs\n",
            "The following NEW packages will be installed:\n",
            "  libgail-common libgail18 libgraphviz-dev libgtk2.0-0 libgtk2.0-bin\n",
            "  libgtk2.0-common libgvc6-plugins-gtk libxdot4\n",
            "0 upgraded, 8 newly installed, 0 to remove and 39 not upgraded.\n",
            "Need to get 2,120 kB of archives.\n",
            "After this operation, 7,128 kB of additional disk space will be used.\n",
            "Get:1 http://archive.ubuntu.com/ubuntu bionic/main amd64 libgtk2.0-common all 2.24.32-1ubuntu1 [125 kB]\n",
            "Get:2 http://archive.ubuntu.com/ubuntu bionic/main amd64 libgtk2.0-0 amd64 2.24.32-1ubuntu1 [1,769 kB]\n",
            "Get:3 http://archive.ubuntu.com/ubuntu bionic/main amd64 libgail18 amd64 2.24.32-1ubuntu1 [14.2 kB]\n",
            "Get:4 http://archive.ubuntu.com/ubuntu bionic/main amd64 libgail-common amd64 2.24.32-1ubuntu1 [112 kB]\n",
            "Get:5 http://archive.ubuntu.com/ubuntu bionic/universe amd64 libxdot4 amd64 2.40.1-2 [15.7 kB]\n",
            "Get:6 http://archive.ubuntu.com/ubuntu bionic/universe amd64 libgvc6-plugins-gtk amd64 2.40.1-2 [18.2 kB]\n",
            "Get:7 http://archive.ubuntu.com/ubuntu bionic/universe amd64 libgraphviz-dev amd64 2.40.1-2 [57.3 kB]\n",
            "Get:8 http://archive.ubuntu.com/ubuntu bionic/main amd64 libgtk2.0-bin amd64 2.24.32-1ubuntu1 [7,536 B]\n",
            "Fetched 2,120 kB in 0s (6,194 kB/s)\n",
            "debconf: unable to initialize frontend: Dialog\n",
            "debconf: (No usable dialog-like program is installed, so the dialog based frontend cannot be used. at /usr/share/perl5/Debconf/FrontEnd/Dialog.pm line 76, <> line 8.)\n",
            "debconf: falling back to frontend: Readline\n",
            "debconf: unable to initialize frontend: Readline\n",
            "debconf: (This frontend requires a controlling tty.)\n",
            "debconf: falling back to frontend: Teletype\n",
            "dpkg-preconfigure: unable to re-open stdin: \n",
            "Selecting previously unselected package libgtk2.0-common.\n",
            "(Reading database ... 155455 files and directories currently installed.)\n",
            "Preparing to unpack .../0-libgtk2.0-common_2.24.32-1ubuntu1_all.deb ...\n",
            "Unpacking libgtk2.0-common (2.24.32-1ubuntu1) ...\n",
            "Selecting previously unselected package libgtk2.0-0:amd64.\n",
            "Preparing to unpack .../1-libgtk2.0-0_2.24.32-1ubuntu1_amd64.deb ...\n",
            "Unpacking libgtk2.0-0:amd64 (2.24.32-1ubuntu1) ...\n",
            "Selecting previously unselected package libgail18:amd64.\n",
            "Preparing to unpack .../2-libgail18_2.24.32-1ubuntu1_amd64.deb ...\n",
            "Unpacking libgail18:amd64 (2.24.32-1ubuntu1) ...\n",
            "Selecting previously unselected package libgail-common:amd64.\n",
            "Preparing to unpack .../3-libgail-common_2.24.32-1ubuntu1_amd64.deb ...\n",
            "Unpacking libgail-common:amd64 (2.24.32-1ubuntu1) ...\n",
            "Selecting previously unselected package libxdot4.\n",
            "Preparing to unpack .../4-libxdot4_2.40.1-2_amd64.deb ...\n",
            "Unpacking libxdot4 (2.40.1-2) ...\n",
            "Selecting previously unselected package libgvc6-plugins-gtk.\n",
            "Preparing to unpack .../5-libgvc6-plugins-gtk_2.40.1-2_amd64.deb ...\n",
            "Unpacking libgvc6-plugins-gtk (2.40.1-2) ...\n",
            "Selecting previously unselected package libgraphviz-dev.\n",
            "Preparing to unpack .../6-libgraphviz-dev_2.40.1-2_amd64.deb ...\n",
            "Unpacking libgraphviz-dev (2.40.1-2) ...\n",
            "Selecting previously unselected package libgtk2.0-bin.\n",
            "Preparing to unpack .../7-libgtk2.0-bin_2.24.32-1ubuntu1_amd64.deb ...\n",
            "Unpacking libgtk2.0-bin (2.24.32-1ubuntu1) ...\n",
            "Setting up libgtk2.0-common (2.24.32-1ubuntu1) ...\n",
            "Setting up libxdot4 (2.40.1-2) ...\n",
            "Setting up libgtk2.0-0:amd64 (2.24.32-1ubuntu1) ...\n",
            "Setting up libgail18:amd64 (2.24.32-1ubuntu1) ...\n",
            "Setting up libgail-common:amd64 (2.24.32-1ubuntu1) ...\n",
            "Setting up libgvc6-plugins-gtk (2.40.1-2) ...\n",
            "Setting up libgraphviz-dev (2.40.1-2) ...\n",
            "Setting up libgtk2.0-bin (2.24.32-1ubuntu1) ...\n",
            "Processing triggers for man-db (2.8.3-2ubuntu0.1) ...\n",
            "Processing triggers for libc-bin (2.27-3ubuntu1.3) ...\n",
            "/sbin/ldconfig.real: /usr/local/lib/python3.7/dist-packages/ideep4py/lib/libmkldnn.so.0 is not a symbolic link\n",
            "\n"
          ]
        }
      ]
    },
    {
      "cell_type": "code",
      "source": [
        "pip install pygraphviz"
      ],
      "metadata": {
        "colab": {
          "base_uri": "https://localhost:8080/"
        },
        "id": "PgP2l7kb7qhd",
        "outputId": "5042c4fa-0a94-49e1-b9cd-2f7afd49b24b"
      },
      "execution_count": null,
      "outputs": [
        {
          "output_type": "stream",
          "name": "stdout",
          "text": [
            "Collecting pygraphviz\n",
            "  Downloading pygraphviz-1.7.zip (118 kB)\n",
            "\u001b[?25l\r\u001b[K     |██▊                             | 10 kB 17.4 MB/s eta 0:00:01\r\u001b[K     |█████▌                          | 20 kB 13.4 MB/s eta 0:00:01\r\u001b[K     |████████▎                       | 30 kB 10.1 MB/s eta 0:00:01\r\u001b[K     |███████████                     | 40 kB 8.6 MB/s eta 0:00:01\r\u001b[K     |█████████████▉                  | 51 kB 4.3 MB/s eta 0:00:01\r\u001b[K     |████████████████▋               | 61 kB 5.0 MB/s eta 0:00:01\r\u001b[K     |███████████████████▎            | 71 kB 5.3 MB/s eta 0:00:01\r\u001b[K     |██████████████████████          | 81 kB 5.6 MB/s eta 0:00:01\r\u001b[K     |████████████████████████▉       | 92 kB 6.2 MB/s eta 0:00:01\r\u001b[K     |███████████████████████████▋    | 102 kB 5.2 MB/s eta 0:00:01\r\u001b[K     |██████████████████████████████▍ | 112 kB 5.2 MB/s eta 0:00:01\r\u001b[K     |████████████████████████████████| 118 kB 5.2 MB/s \n",
            "\u001b[?25hBuilding wheels for collected packages: pygraphviz\n",
            "  Building wheel for pygraphviz (setup.py) ... \u001b[?25l\u001b[?25hdone\n",
            "  Created wheel for pygraphviz: filename=pygraphviz-1.7-cp37-cp37m-linux_x86_64.whl size=165752 sha256=8e322f4f928f86ed84946dfaa7ff2b60b0d19e836a696d46e41361cef7630d80\n",
            "  Stored in directory: /root/.cache/pip/wheels/8c/bc/0c/ac35392b72556e75107ff610cb31b313e8471918a6d280e34c\n",
            "Successfully built pygraphviz\n",
            "Installing collected packages: pygraphviz\n",
            "Successfully installed pygraphviz-1.7\n"
          ]
        }
      ]
    },
    {
      "cell_type": "code",
      "source": [
        "import pygraphviz"
      ],
      "metadata": {
        "id": "mPczctK-7zem"
      },
      "execution_count": null,
      "outputs": []
    },
    {
      "cell_type": "code",
      "source": [
        "import networkx as nx"
      ],
      "metadata": {
        "id": "9dK33bg74rro"
      },
      "execution_count": null,
      "outputs": []
    },
    {
      "cell_type": "code",
      "source": [
        "g1 = nx.DiGraph()\n",
        "for i in range(1,6):\n",
        "  g1.add_edge(i,'n1')\n",
        "g1.add_edge('n1','out')\n",
        "A = nx.nx_agraph.to_agraph(g1)\n",
        "A.draw(\"g1.png\", prog=\"dot\", )"
      ],
      "metadata": {
        "id": "GtqYrnrY5TlW"
      },
      "execution_count": null,
      "outputs": []
    },
    {
      "cell_type": "code",
      "source": [
        "nx.draw_kamada_kawai(g1)"
      ],
      "metadata": {
        "colab": {
          "base_uri": "https://localhost:8080/",
          "height": 391
        },
        "id": "7CfDKo-_Elij",
        "outputId": "beebbf65-c661-4875-acba-b4522ea69f98"
      },
      "execution_count": null,
      "outputs": [
        {
          "output_type": "display_data",
          "data": {
            "text/plain": [
              "<Figure size 720x360 with 1 Axes>"
            ],
            "image/png": "[encoded data removed]"
          },
          "metadata": {}
        }
      ]
    },
    {
      "cell_type": "code",
      "source": [
        "camada entrada = [1,2,3,4]\n",
        "neuronios = [1,2,3,4][1,2,3,4][1,2,3,4]\n",
        "ativacao = relu(neuronios)\n",
        "output = ativacao\n",
        "\n",
        "erro = grad(neuronios)\n"
      ],
      "metadata": {
        "id": "WpVxwgmw9k9p"
      },
      "execution_count": null,
      "outputs": []
    },
    {
      "cell_type": "code",
      "source": [
        "g2 = nx.DiGraph()\n",
        "\"\"\"\n",
        "# X\n",
        "for i in range(1,5):\n",
        "  g2.add_node(i)\n",
        "\n",
        "# y\n",
        "g2.add_node('out')\n",
        "\n",
        "# Neurons\n",
        "for j in ('n1','n2','n3'):\n",
        "  g2.add_node(j)\n",
        "\"\"\"\n",
        "# Conexões\n",
        "for i in range(1,5):\n",
        "  for j in ('n1','n2','n3'):\n",
        "    g2.add_edge(i,j)\n",
        "    g2.add_edge(j,'out')\n",
        "B = nx.nx_agraph.to_agraph(g2)\n",
        "B.draw(\"g2.png\", prog=\"dot\")"
      ],
      "metadata": {
        "id": "NSdsSqAQ-twg"
      },
      "execution_count": null,
      "outputs": []
    },
    {
      "cell_type": "code",
      "source": [
        "g3 = g2.reverse()\n",
        "C = nx.nx_agraph.to_agraph(g3)\n",
        "C.draw(\"g3.png\", prog=\"dot\")"
      ],
      "metadata": {
        "id": "fP-uowGPAvlI"
      },
      "execution_count": null,
      "outputs": []
    },
    {
      "cell_type": "code",
      "source": [
        "g4 = nx.DiGraph()\n",
        "# Conexões\n",
        "for i in range(1,5):\n",
        "  for j in ('n11','n12','n13'):\n",
        "    g4.add_edge(i,j)\n",
        "    for k in ('n21','n22','n23', 'n24', 'n25'):\n",
        "      g4.add_edge(j,k)\n",
        "      for l in ('n31','n32','n33', 'n34', 'n35', 'n36', 'n37'):\n",
        "        g4.add_edge(k,l)\n",
        "        g4.add_edge(l,'out')\n",
        "D = nx.nx_agraph.to_agraph(g4)\n",
        "D.draw(\"g4.png\", prog=\"dot\")"
      ],
      "metadata": {
        "id": "Agw3EIymDbJH"
      },
      "execution_count": null,
      "outputs": []
    },
    {
      "cell_type": "markdown",
      "source": [
        "### Normalization"
      ],
      "metadata": {
        "id": "dvxCofbGY1-W"
      }
    },
    {
      "cell_type": "code",
      "source": [
        "X_train_d1_norm = X_train_d1.sub(X_train_d1.mean()).div(X_train_d1.std())\n",
        "X_test_d1_norm = X_test_d1.sub(X_train_d1.mean()).div(X_train_d1.std())"
      ],
      "metadata": {
        "id": "IpDgJrev5Yfd"
      },
      "execution_count": null,
      "outputs": []
    },
    {
      "cell_type": "code",
      "source": [
        "X_train_d1_norm['Adj Close-1'].plot()"
      ],
      "metadata": {
        "colab": {
          "base_uri": "https://localhost:8080/",
          "height": 343
        },
        "id": "a96rK3G-huyF",
        "outputId": "b42f2e38-084f-47e9-f1ef-e6920847ef0d"
      },
      "execution_count": null,
      "outputs": [
        {
          "output_type": "execute_result",
          "data": {
            "text/plain": [
              "<matplotlib.axes._subplots.AxesSubplot at 0x7f80051ad610>"
            ]
          },
          "metadata": {},
          "execution_count": 170
        },
        {
          "output_type": "display_data",
          "data": {
            "text/plain": [
              "<Figure size 720x360 with 1 Axes>"
            ],
            "image/png": "[encoded data removed]"
          },
          "metadata": {
            "needs_background": "light"
          }
        }
      ]
    },
    {
      "cell_type": "code",
      "source": [
        "X_train_d1_norm['Adj Close-1'].plot.hist(title='train')"
      ],
      "metadata": {
        "colab": {
          "base_uri": "https://localhost:8080/",
          "height": 354
        },
        "id": "iSobsT2Ahg9E",
        "outputId": "16ebfa51-974f-4530-f0d1-b354c1b15dfa"
      },
      "execution_count": null,
      "outputs": [
        {
          "output_type": "execute_result",
          "data": {
            "text/plain": [
              "<matplotlib.axes._subplots.AxesSubplot at 0x7f7f0617a550>"
            ]
          },
          "metadata": {},
          "execution_count": 171
        },
        {
          "output_type": "display_data",
          "data": {
            "text/plain": [
              "<Figure size 720x360 with 1 Axes>"
            ],
            "image/png": "[encoded data removed]"
          },
          "metadata": {
            "needs_background": "light"
          }
        }
      ]
    },
    {
      "cell_type": "code",
      "source": [
        "X_test_d1_norm['Adj Close-1'].plot.hist(title='test')"
      ],
      "metadata": {
        "colab": {
          "base_uri": "https://localhost:8080/",
          "height": 354
        },
        "id": "Snc-inFhglRC",
        "outputId": "39809a2b-df30-4b94-e74f-facb5e7ae103"
      },
      "execution_count": null,
      "outputs": [
        {
          "output_type": "execute_result",
          "data": {
            "text/plain": [
              "<matplotlib.axes._subplots.AxesSubplot at 0x7f8005003250>"
            ]
          },
          "metadata": {},
          "execution_count": 172
        },
        {
          "output_type": "display_data",
          "data": {
            "text/plain": [
              "<Figure size 720x360 with 1 Axes>"
            ],
            "image/png": "[encoded data removed]"
          },
          "metadata": {
            "needs_background": "light"
          }
        }
      ]
    },
    {
      "cell_type": "markdown",
      "source": [
        "### Tensors"
      ],
      "metadata": {
        "id": "3vrXwfcD6RER"
      }
    },
    {
      "cell_type": "markdown",
      "source": [
        "![](https://miro.medium.com/max/654/1*8jdzMrA33Leu3j3F6A8a3w.png)"
      ],
      "metadata": {
        "id": "YlzSPPPD6neN"
      }
    },
    {
      "cell_type": "markdown",
      "source": [
        "#### Batches"
      ],
      "metadata": {
        "id": "bps2f1eTETcT"
      }
    },
    {
      "cell_type": "code",
      "source": [
        "training_data = torch.tensor(pd.concat([X_train_d1_norm, y_train_d1], axis=1).values)\n",
        "testing_data = torch.tensor(pd.concat([X_test_d1_norm, y_test_d1], axis=1).values)"
      ],
      "metadata": {
        "id": "k8qHe3c2UjJ7"
      },
      "execution_count": null,
      "outputs": []
    },
    {
      "cell_type": "code",
      "source": [
        "train_dataloader = DataLoader(training_data, batch_size=16, shuffle=False)\n",
        "test_dataloader = DataLoader(testing_data, batch_size=16, shuffle=False)"
      ],
      "metadata": {
        "id": "wao3_gWnCNfB"
      },
      "execution_count": null,
      "outputs": []
    },
    {
      "cell_type": "markdown",
      "source": [
        "### ANN"
      ],
      "metadata": {
        "id": "q0D1W8DZFnxG"
      }
    },
    {
      "cell_type": "code",
      "source": [
        "class OP(nn.Module):\n",
        "  def __init__(self):\n",
        "    super().__init__()\n",
        "    self.fc = nn.Linear(7,1)\n",
        "    \n",
        "  def forward(self, X):\n",
        "    out = torch.relu(self.fc(X))\n",
        "    return out"
      ],
      "metadata": {
        "id": "bhTTU3-bFYqJ"
      },
      "execution_count": null,
      "outputs": []
    },
    {
      "cell_type": "code",
      "source": [
        "one_neuron = OP()\n",
        "print(one_neuron(torch.tensor(X_train_d1.iloc[0]).float()))\n",
        "print(y_train_d1.iloc[0])"
      ],
      "metadata": {
        "colab": {
          "base_uri": "https://localhost:8080/"
        },
        "id": "hG3njqqEgcyF",
        "outputId": "72819184-1f8e-4d5a-8312-61e15690b853"
      },
      "execution_count": null,
      "outputs": [
        {
          "output_type": "stream",
          "name": "stdout",
          "text": [
            "tensor([0.], grad_fn=<ReluBackward0>)\n",
            "27.1572265625\n"
          ]
        }
      ]
    },
    {
      "cell_type": "code",
      "source": [
        "one_neuron = OP()\n",
        "epochs = 50\n",
        "loss_fn = nn.MSELoss()\n",
        "optimizer = optim.SGD(one_neuron.parameters(), lr=0.001)"
      ],
      "metadata": {
        "id": "ALXiWZKQIPW0"
      },
      "execution_count": null,
      "outputs": []
    },
    {
      "cell_type": "code",
      "source": [
        "history = {}\n",
        "for epoch in range(1, epochs+1):\n",
        "  loss_train = 0.0\n",
        "  for train_data in train_dataloader:\n",
        "    x = train_data[:,:7].float()\n",
        "    y = train_data[:,7].float()\n",
        "  \n",
        "    #forward pass\n",
        "    outputs = one_neuron(x)\n",
        "\n",
        "    #loss measure\n",
        "    loss = loss_fn(outputs,y)\n",
        "\n",
        "    #backward pass\n",
        "    optimizer.zero_grad() # pára o autograd\n",
        "    loss.backward() # executa o backpropagation\n",
        "    optimizer.step() # atualiza os pesos\n",
        "\n",
        "    loss_train += loss.item() # soma os erros para obter o erro total\n",
        "\n",
        "  print('Epoch {}, loss {}'.format(epoch, loss_train / len(train_dataloader))) # apresenta o erro médio da época\n",
        "  history[epoch] = loss_train / len(train_dataloader)\n",
        "\n",
        "pd.Series(history).plot()\n",
        "\n"
      ],
      "metadata": {
        "id": "OXbS9bm4G4Vw",
        "colab": {
          "base_uri": "https://localhost:8080/",
          "height": 1000
        },
        "outputId": "f45ccce2-2713-4804-9a40-68f0d74287d6"
      },
      "execution_count": null,
      "outputs": [
        {
          "output_type": "stream",
          "name": "stderr",
          "text": [
            "/usr/local/lib/python3.7/dist-packages/torch/nn/modules/loss.py:520: UserWarning: Using a target size (torch.Size([16])) that is different to the input size (torch.Size([16, 1])). This will likely lead to incorrect results due to broadcasting. Please ensure they have the same size.\n",
            "  return F.mse_loss(input, target, reduction=self.reduction)\n",
            "/usr/local/lib/python3.7/dist-packages/torch/nn/modules/loss.py:520: UserWarning: Using a target size (torch.Size([13])) that is different to the input size (torch.Size([13, 1])). This will likely lead to incorrect results due to broadcasting. Please ensure they have the same size.\n",
            "  return F.mse_loss(input, target, reduction=self.reduction)\n"
          ]
        },
        {
          "output_type": "stream",
          "name": "stdout",
          "text": [
            "Epoch1, loss 481.0567878844246\n",
            "Epoch2, loss 479.70575362916975\n",
            "Epoch3, loss 478.24449412027997\n",
            "Epoch4, loss 477.13922542995874\n",
            "Epoch5, loss 476.2566898890904\n",
            "Epoch6, loss 475.54496232290114\n",
            "Epoch7, loss 474.969111487979\n",
            "Epoch8, loss 474.5033505152142\n",
            "Epoch9, loss 474.1263041420588\n",
            "Epoch10, loss 473.8192308213976\n",
            "Epoch11, loss 473.56562671964133\n",
            "Epoch12, loss 473.35308135501924\n",
            "Epoch13, loss 473.1743895515563\n",
            "Epoch14, loss 473.02565402076357\n",
            "Epoch15, loss 472.89960128541975\n",
            "Epoch16, loss 472.7925800141834\n",
            "Epoch17, loss 472.7019750201513\n",
            "Epoch18, loss 472.6235789949932\n",
            "Epoch19, loss 472.55550977918836\n",
            "Epoch20, loss 472.49633050343346\n",
            "Epoch21, loss 472.4452331785172\n",
            "Epoch22, loss 472.4000984070793\n",
            "Epoch23, loss 472.3603751772926\n",
            "Epoch24, loss 472.32577732631137\n",
            "Epoch25, loss 472.296009729779\n",
            "Epoch26, loss 472.2694876534598\n",
            "Epoch27, loss 472.24459693545384\n",
            "Epoch28, loss 472.2228824676029\n",
            "Epoch29, loss 472.20210907951235\n",
            "Epoch30, loss 472.18195669991627\n",
            "Epoch31, loss 472.16216932024275\n",
            "Epoch32, loss 472.1444357009161\n",
            "Epoch33, loss 472.1274015638563\n",
            "Epoch34, loss 472.1086141192724\n",
            "Epoch35, loss 472.09015885610427\n",
            "Epoch36, loss 472.0726616269066\n",
            "Epoch37, loss 472.0567415025499\n",
            "Epoch38, loss 472.04102325439453\n",
            "Epoch39, loss 472.0257004026383\n",
            "Epoch40, loss 472.01114739312067\n",
            "Epoch41, loss 471.99713267977273\n",
            "Epoch42, loss 471.98325614323693\n",
            "Epoch43, loss 471.9699977087596\n",
            "Epoch44, loss 471.9579548911443\n",
            "Epoch45, loss 471.9470394073971\n",
            "Epoch46, loss 471.93670944940476\n",
            "Epoch47, loss 471.92689925905256\n",
            "Epoch48, loss 471.9173074147058\n",
            "Epoch49, loss 471.907966977074\n",
            "Epoch50, loss 471.8990447029235\n"
          ]
        },
        {
          "output_type": "execute_result",
          "data": {
            "text/plain": [
              "<matplotlib.axes._subplots.AxesSubplot at 0x7f7f0609c410>"
            ]
          },
          "metadata": {},
          "execution_count": 179
        },
        {
          "output_type": "display_data",
          "data": {
            "text/plain": [
              "<Figure size 720x360 with 1 Axes>"
            ],
            "image/png": "[encoded data removed]"
          },
          "metadata": {
            "needs_background": "light"
          }
        }
      ]
    },
    {
      "cell_type": "code",
      "source": [
        "one_neuron.eval() #desliga o treinamento do modelo\n",
        "results = []\n",
        "for test_data in test_dataloader:\n",
        "    x = test_data[:,:7].float()\n",
        "    y = test_data[:,7].float()\n",
        "    \n",
        "    y_pred = one_neuron(x)\n",
        "    results.extend(y_pred.flatten().detach().numpy())\n",
        "#pd.DataFrame(results).plot()\n",
        "results[:10]"
      ],
      "metadata": {
        "colab": {
          "base_uri": "https://localhost:8080/"
        },
        "id": "TsHG0SSgduts",
        "outputId": "72b6215a-fdaa-4158-913d-2eeacbd57673"
      },
      "execution_count": null,
      "outputs": [
        {
          "output_type": "execute_result",
          "data": {
            "text/plain": [
              "[0.0, 0.0, 0.0, 0.006098807, 0.0, 0.0, 0.0, 1.4480712, 0.0, 1.3532414]"
            ]
          },
          "metadata": {},
          "execution_count": 180
        }
      ]
    },
    {
      "cell_type": "code",
      "source": [
        "pd.concat([pd.Series(results, name='pred'), y_test_d1.reset_index(drop=True)],axis=1).plot()"
      ],
      "metadata": {
        "colab": {
          "base_uri": "https://localhost:8080/",
          "height": 338
        },
        "id": "w3Kr55jDd5FD",
        "outputId": "2b401ad9-9636-43d5-a32c-c230b6a8e71b"
      },
      "execution_count": null,
      "outputs": [
        {
          "output_type": "execute_result",
          "data": {
            "text/plain": [
              "<matplotlib.axes._subplots.AxesSubplot at 0x7f7f05fa2a90>"
            ]
          },
          "metadata": {},
          "execution_count": 181
        },
        {
          "output_type": "display_data",
          "data": {
            "text/plain": [
              "<Figure size 720x360 with 1 Axes>"
            ],
            "image/png": "[encoded data removed]"
          },
          "metadata": {
            "needs_background": "light"
          }
        }
      ]
    },
    {
      "cell_type": "code",
      "source": [
        "print('Prices - OP Results')\n",
        "print('r2' ,r2_score(results, y_test_d1))\n",
        "print('mse' ,mean_squared_error(results, y_test_d1))\n",
        "print('mae', mean_absolute_error(results, y_test_d1))\n",
        "resultsprices['OP'] = {'r2':r2_score(results, y_test_d1), \\\n",
        "                 'mse': mean_squared_error(results, y_test_d1), \n",
        "                 'mae': mean_absolute_error(results, y_test_d1)}"
      ],
      "metadata": {
        "colab": {
          "base_uri": "https://localhost:8080/"
        },
        "id": "hlks4GPghYAI",
        "outputId": "d58dfb24-bcf6-4628-e545-9cbb41966a9e"
      },
      "execution_count": null,
      "outputs": [
        {
          "output_type": "stream",
          "name": "stdout",
          "text": [
            "Prices - OP Results\n",
            "r2 -187.2816446022491\n",
            "mse 628.265283711631\n",
            "mae 19.57882738707075\n"
          ]
        }
      ]
    },
    {
      "cell_type": "code",
      "source": [
        "class MLP(nn.Module):\n",
        "  def __init__(self):\n",
        "    super().__init__()\n",
        "    self.fc1 = nn.Linear(7,100)\n",
        "    self.fc3 = nn.Linear(100,1)\n",
        "    #self.drop1 = nn.Dropout(p=0.5)\n",
        "    #self.fc2 = nn.Linear(64,32)\n",
        "    #self.drop2 = nn.Dropout(p=0.5)\n",
        "  \n",
        "  def forward(self, X):\n",
        "    out = torch.tanh(self.fc1(X))\n",
        "    #out = self.drop1(out)\n",
        "    #out = torch.relu(self.fc2(out))\n",
        "    #out = self.drop2(out)\n",
        "    out = self.fc3(out)\n",
        "    return out"
      ],
      "metadata": {
        "id": "g7rHqJeBf4N9"
      },
      "execution_count": null,
      "outputs": []
    },
    {
      "cell_type": "code",
      "source": [
        "multi_neuron = MLP()\n",
        "print(multi_neuron(torch.tensor(X_train_d1.iloc[0]).float()))\n",
        "print(y_train_d1.iloc[0])"
      ],
      "metadata": {
        "colab": {
          "base_uri": "https://localhost:8080/"
        },
        "id": "x2o6OwnapLYK",
        "outputId": "f1dff034-87d4-422c-e763-6d896f94f062"
      },
      "execution_count": null,
      "outputs": [
        {
          "output_type": "stream",
          "name": "stdout",
          "text": [
            "tensor([-0.6459], grad_fn=<AddBackward0>)\n",
            "27.1572265625\n"
          ]
        }
      ]
    },
    {
      "cell_type": "code",
      "source": [
        "multi_neuron = MLP()\n",
        "epochs = 1000\n",
        "loss_fn = nn.MSELoss()\n",
        "#optimizer = optim.RMSprop(multi_neuron.parameters(), lr=0.001)\n",
        "optimizer = optim.SGD(multi_neuron.parameters(), lr=0.01, weight_decay= 0.005)"
      ],
      "metadata": {
        "id": "72dAk-AygJMY"
      },
      "execution_count": null,
      "outputs": []
    },
    {
      "cell_type": "code",
      "source": [
        "history = {}\n",
        "for epoch in range(1, epochs+1):\n",
        "  loss_train = 0.0\n",
        "  for train_data in train_dataloader:\n",
        "    x = train_data[:,:7].float()\n",
        "    y = train_data[:,7].float()\n",
        "  \n",
        "    #forward pass\n",
        "    outputs = multi_neuron(x)\n",
        "\n",
        "    #loss measure\n",
        "    loss = loss_fn(outputs,y)\n",
        "\n",
        "    #backward pass\n",
        "    optimizer.zero_grad() # pára o autograd\n",
        "    loss.backward() # executa o backpropagation\n",
        "    optimizer.step() # atualiza os pesos\n",
        "\n",
        "    loss_train += loss.item() # soma os erros para obter o erro total\n",
        "\n",
        "  if (epoch % 10 == 0):\n",
        "    print('Epoch{}, loss {}'.format(epoch, loss_train / len(train_dataloader))) # apresenta o erro médio da época\n",
        "  history[epoch] = loss_train / len(train_dataloader)\n",
        "\n",
        "pd.Series(history).plot()\n",
        "\n"
      ],
      "metadata": {
        "colab": {
          "base_uri": "https://localhost:8080/",
          "height": 1000
        },
        "id": "x3ItCaY3i8Ax",
        "outputId": "73ec3e2c-0a8d-41b3-b4b1-f07999d833f9"
      },
      "execution_count": null,
      "outputs": [
        {
          "output_type": "stream",
          "name": "stderr",
          "text": [
            "/usr/local/lib/python3.7/dist-packages/torch/nn/modules/loss.py:520: UserWarning: Using a target size (torch.Size([16])) that is different to the input size (torch.Size([16, 1])). This will likely lead to incorrect results due to broadcasting. Please ensure they have the same size.\n",
            "  return F.mse_loss(input, target, reduction=self.reduction)\n",
            "/usr/local/lib/python3.7/dist-packages/torch/nn/modules/loss.py:520: UserWarning: Using a target size (torch.Size([13])) that is different to the input size (torch.Size([13, 1])). This will likely lead to incorrect results due to broadcasting. Please ensure they have the same size.\n",
            "  return F.mse_loss(input, target, reduction=self.reduction)\n"
          ]
        },
        {
          "output_type": "stream",
          "name": "stdout",
          "text": [
            "Epoch10, loss 472.1953005109514\n",
            "Epoch20, loss 469.98317173549106\n",
            "Epoch30, loss 468.27874380444723\n",
            "Epoch40, loss 467.10897391183033\n",
            "Epoch50, loss 466.0652768574064\n",
            "Epoch60, loss 464.9838499038938\n",
            "Epoch70, loss 464.10504671127075\n",
            "Epoch80, loss 463.339724465022\n",
            "Epoch90, loss 462.66132100423175\n",
            "Epoch100, loss 461.9160196213495\n",
            "Epoch110, loss 461.268919081915\n",
            "Epoch120, loss 460.6972982013036\n",
            "Epoch130, loss 460.1857552906824\n",
            "Epoch140, loss 459.80941724020335\n",
            "Epoch150, loss 459.4679807632688\n",
            "Epoch160, loss 459.08869122701975\n",
            "Epoch170, loss 458.7442687503875\n",
            "Epoch180, loss 458.4001179044209\n",
            "Epoch190, loss 458.0741125439841\n",
            "Epoch200, loss 457.79850320967415\n",
            "Epoch210, loss 457.5490692380875\n",
            "Epoch220, loss 457.2989738101051\n",
            "Epoch230, loss 457.08313920762805\n",
            "Epoch240, loss 456.88528018527563\n",
            "Epoch250, loss 456.6995571075924\n",
            "Epoch260, loss 456.47628723628935\n",
            "Epoch270, loss 456.2558312794519\n",
            "Epoch280, loss 456.08224087669737\n",
            "Epoch290, loss 455.90626646980405\n",
            "Epoch300, loss 455.7371903676835\n",
            "Epoch310, loss 455.57090916709296\n",
            "Epoch320, loss 455.41121491931733\n",
            "Epoch330, loss 455.25939408559645\n",
            "Epoch340, loss 455.1079320756216\n",
            "Epoch350, loss 454.97818429129467\n",
            "Epoch360, loss 454.8668768746512\n",
            "Epoch370, loss 454.77211022755455\n",
            "Epoch380, loss 454.68743412078373\n",
            "Epoch390, loss 454.61238364567834\n",
            "Epoch400, loss 454.54396178230405\n",
            "Epoch410, loss 454.47796328105625\n",
            "Epoch420, loss 454.4117666577536\n",
            "Epoch430, loss 454.3451936509874\n",
            "Epoch440, loss 454.280275375124\n",
            "Epoch450, loss 454.21917034330824\n",
            "Epoch460, loss 454.16174267965647\n",
            "Epoch470, loss 454.10961078462145\n",
            "Epoch480, loss 454.0642609369187\n",
            "Epoch490, loss 454.02385590568423\n",
            "Epoch500, loss 453.9866465008448\n",
            "Epoch510, loss 453.9515468052455\n",
            "Epoch520, loss 453.917593698653\n",
            "Epoch530, loss 453.88330514090404\n",
            "Epoch540, loss 453.84876517644005\n",
            "Epoch550, loss 453.8155038016183\n",
            "Epoch560, loss 453.78474668472535\n",
            "Epoch570, loss 453.7563129001194\n",
            "Epoch580, loss 453.724236019074\n",
            "Epoch590, loss 453.6849824209062\n",
            "Epoch600, loss 453.62462022569446\n",
            "Epoch610, loss 453.5865884205652\n",
            "Epoch620, loss 453.5572370498899\n",
            "Epoch630, loss 453.5270172603547\n",
            "Epoch640, loss 453.49276539636037\n",
            "Epoch650, loss 453.45532759409105\n",
            "Epoch660, loss 453.4204357086666\n",
            "Epoch670, loss 453.3871050637866\n",
            "Epoch680, loss 453.34408327132934\n",
            "Epoch690, loss 453.3032977391803\n",
            "Epoch700, loss 453.2643039037311\n",
            "Epoch710, loss 453.22093382335845\n",
            "Epoch720, loss 453.16955021449496\n",
            "Epoch730, loss 453.12350185333736\n",
            "Epoch740, loss 453.0846154349191\n",
            "Epoch750, loss 453.05257379441036\n",
            "Epoch760, loss 453.0248052203466\n",
            "Epoch770, loss 452.9980703686911\n",
            "Epoch780, loss 452.97014678470674\n",
            "Epoch790, loss 452.94156731499567\n",
            "Epoch800, loss 452.91537039620533\n",
            "Epoch810, loss 452.8912382579985\n",
            "Epoch820, loss 452.8682433839828\n",
            "Epoch830, loss 452.8465046958318\n",
            "Epoch840, loss 452.8267800467355\n",
            "Epoch850, loss 452.80874791221015\n",
            "Epoch860, loss 452.7902821132115\n",
            "Epoch870, loss 452.7678965008448\n",
            "Epoch880, loss 452.73805357917905\n",
            "Epoch890, loss 452.70597379169766\n",
            "Epoch900, loss 452.6805847410172\n",
            "Epoch910, loss 452.6599624875992\n",
            "Epoch920, loss 452.6422713748992\n",
            "Epoch930, loss 452.62681167844744\n",
            "Epoch940, loss 452.6131293887184\n",
            "Epoch950, loss 452.60094076489645\n",
            "Epoch960, loss 452.5899670313275\n",
            "Epoch970, loss 452.57972911047557\n",
            "Epoch980, loss 452.56986357673765\n",
            "Epoch990, loss 452.56017024933345\n",
            "Epoch1000, loss 452.5506562732515\n"
          ]
        },
        {
          "output_type": "execute_result",
          "data": {
            "text/plain": [
              "<matplotlib.axes._subplots.AxesSubplot at 0x7f7f05e7d610>"
            ]
          },
          "metadata": {},
          "execution_count": 191
        },
        {
          "output_type": "display_data",
          "data": {
            "text/plain": [
              "<Figure size 720x360 with 1 Axes>"
            ],
            "image/png": "[encoded data removed]"
          },
          "metadata": {
            "needs_background": "light"
          }
        }
      ]
    },
    {
      "cell_type": "code",
      "source": [
        "multi_neuron.eval()\n",
        "results = []\n",
        "for test_data in test_dataloader:\n",
        "    x = test_data[:,:7].float()\n",
        "    y = test_data[:,7].float()\n",
        "    \n",
        "    y_pred = multi_neuron(x)\n",
        "    results.extend(y_pred.flatten().detach().numpy())\n",
        "#pd.DataFrame(results).plot()\n",
        "results[:10]"
      ],
      "metadata": {
        "colab": {
          "base_uri": "https://localhost:8080/"
        },
        "id": "MDDMyDL5mLzJ",
        "outputId": "a733c2ee-8828-480e-eaf2-ebec7f894f78"
      },
      "execution_count": null,
      "outputs": [
        {
          "output_type": "execute_result",
          "data": {
            "text/plain": [
              "[1.2869357,\n",
              " -0.5590868,\n",
              " 3.8070354,\n",
              " 3.2451992,\n",
              " 1.5999026,\n",
              " 7.0172415,\n",
              " -0.019789696,\n",
              " -1.6551976,\n",
              " -0.81843805,\n",
              " 1.5772028]"
            ]
          },
          "metadata": {},
          "execution_count": 192
        }
      ]
    },
    {
      "cell_type": "code",
      "source": [
        "pd.concat([pd.Series(results, name='pred'), y_test_d1.reset_index(drop=True)],axis=1).plot()"
      ],
      "metadata": {
        "colab": {
          "base_uri": "https://localhost:8080/",
          "height": 338
        },
        "id": "Qom2ivWslYau",
        "outputId": "1e434870-d10c-44fc-a85b-a52d0045ddda"
      },
      "execution_count": null,
      "outputs": [
        {
          "output_type": "execute_result",
          "data": {
            "text/plain": [
              "<matplotlib.axes._subplots.AxesSubplot at 0x7f7f05eb2950>"
            ]
          },
          "metadata": {},
          "execution_count": 193
        },
        {
          "output_type": "display_data",
          "data": {
            "text/plain": [
              "<Figure size 720x360 with 1 Axes>"
            ],
            "image/png": "[encoded data removed]"
          },
          "metadata": {
            "needs_background": "light"
          }
        }
      ]
    },
    {
      "cell_type": "code",
      "source": [
        "print('Prices - MLP Results')\n",
        "print('r2' ,r2_score(results, y_test_d1))\n",
        "print('mse' ,mean_squared_error(results, y_test_d1))\n",
        "print('mae', mean_absolute_error(results, y_test_d1))\n",
        "resultsprices['MLP'] = {'r2':r2_score(results, y_test_d1), \\\n",
        "                 'mse': mean_squared_error(results, y_test_d1), \n",
        "                 'mae': mean_absolute_error(results, y_test_d1)}"
      ],
      "metadata": {
        "colab": {
          "base_uri": "https://localhost:8080/"
        },
        "id": "uKU4mdPMmXrm",
        "outputId": "b569e648-37ff-407f-b8ea-5e43f4b7ecc1"
      },
      "execution_count": null,
      "outputs": [
        {
          "output_type": "stream",
          "name": "stdout",
          "text": [
            "Prices - MLP Results\n",
            "r2 -18.380914172545666\n",
            "mse 646.2218204617874\n",
            "mae 19.993785931294656\n"
          ]
        }
      ]
    },
    {
      "cell_type": "code",
      "source": [
        "pd.DataFrame(resultsprices)"
      ],
      "metadata": {
        "colab": {
          "base_uri": "https://localhost:8080/",
          "height": 143
        },
        "id": "83mvEuFXJrrA",
        "outputId": "ec67960f-4cde-4de3-93fb-afca35f77867"
      },
      "execution_count": null,
      "outputs": [
        {
          "output_type": "execute_result",
          "data": {
            "text/plain": [
              "             KNN  KNN D1 ONE         SVR    SVR multi          OP         MLP\n",
              "r2      0.709601    0.949576    0.963272     0.362795 -187.281645  -18.380914\n",
              "mse  4210.650043  854.755165  613.071919  9065.061797  628.265284  646.221820\n",
              "mae    52.807032   22.534679   19.234204    77.197644   19.578827   19.993786"
            ],
            "text/html": [
              "\n",
              "  <div id=\"df-5686659e-6327-4add-9cdb-56750c26ef1f\">\n",
              "    <div class=\"colab-df-container\">\n",
              "      <div>\n",
              "<style scoped>\n",
              "    .dataframe tbody tr th:only-of-type {\n",
              "        vertical-align: middle;\n",
              "    }\n",
              "\n",
              "    .dataframe tbody tr th {\n",
              "        vertical-align: top;\n",
              "    }\n",
              "\n",
              "    .dataframe thead th {\n",
              "        text-align: right;\n",
              "    }\n",
              "</style>\n",
              "<table border=\"1\" class=\"dataframe\">\n",
              "  <thead>\n",
              "    <tr style=\"text-align: right;\">\n",
              "      <th></th>\n",
              "      <th>KNN</th>\n",
              "      <th>KNN D1 ONE</th>\n",
              "      <th>SVR</th>\n",
              "      <th>SVR multi</th>\n",
              "      <th>OP</th>\n",
              "      <th>MLP</th>\n",
              "    </tr>\n",
              "  </thead>\n",
              "  <tbody>\n",
              "    <tr>\n",
              "      <th>r2</th>\n",
              "      <td>0.709601</td>\n",
              "      <td>0.949576</td>\n",
              "      <td>0.963272</td>\n",
              "      <td>0.362795</td>\n",
              "      <td>-187.281645</td>\n",
              "      <td>-18.380914</td>\n",
              "    </tr>\n",
              "    <tr>\n",
              "      <th>mse</th>\n",
              "      <td>4210.650043</td>\n",
              "      <td>854.755165</td>\n",
              "      <td>613.071919</td>\n",
              "      <td>9065.061797</td>\n",
              "      <td>628.265284</td>\n",
              "      <td>646.221820</td>\n",
              "    </tr>\n",
              "    <tr>\n",
              "      <th>mae</th>\n",
              "      <td>52.807032</td>\n",
              "      <td>22.534679</td>\n",
              "      <td>19.234204</td>\n",
              "      <td>77.197644</td>\n",
              "      <td>19.578827</td>\n",
              "      <td>19.993786</td>\n",
              "    </tr>\n",
              "  </tbody>\n",
              "</table>\n",
              "</div>\n",
              "      <button class=\"colab-df-convert\" onclick=\"convertToInteractive('df-5686659e-6327-4add-9cdb-56750c26ef1f')\"\n",
              "              title=\"Convert this dataframe to an interactive table.\"\n",
              "              style=\"display:none;\">\n",
              "        \n",
              "  <svg xmlns=\"http://www.w3.org/2000/svg\" height=\"24px\"viewBox=\"0 0 24 24\"\n",
              "       width=\"24px\">\n",
              "    <path d=\"M0 0h24v24H0V0z\" fill=\"none\"/>\n",
              "    <path d=\"M18.56 5.44l.94 2.06.94-2.06 2.06-.94-2.06-.94-.94-2.06-.94 2.06-2.06.94zm-11 1L8.5 8.5l.94-2.06 2.06-.94-2.06-.94L8.5 2.5l-.94 2.06-2.06.94zm10 10l.94 2.06.94-2.06 2.06-.94-2.06-.94-.94-2.06-.94 2.06-2.06.94z\"/><path d=\"M17.41 7.96l-1.37-1.37c-.4-.4-.92-.59-1.43-.59-.52 0-1.04.2-1.43.59L10.3 9.45l-7.72 7.72c-.78.78-.78 2.05 0 2.83L4 21.41c.39.39.9.59 1.41.59.51 0 1.02-.2 1.41-.59l7.78-7.78 2.81-2.81c.8-.78.8-2.07 0-2.86zM5.41 20L4 18.59l7.72-7.72 1.47 1.35L5.41 20z\"/>\n",
              "  </svg>\n",
              "      </button>\n",
              "      \n",
              "  <style>\n",
              "    .colab-df-container {\n",
              "      display:flex;\n",
              "      flex-wrap:wrap;\n",
              "      gap: 12px;\n",
              "    }\n",
              "\n",
              "    .colab-df-convert {\n",
              "      background-color: #E8F0FE;\n",
              "      border: none;\n",
              "      border-radius: 50%;\n",
              "      cursor: pointer;\n",
              "      display: none;\n",
              "      fill: #1967D2;\n",
              "      height: 32px;\n",
              "      padding: 0 0 0 0;\n",
              "      width: 32px;\n",
              "    }\n",
              "\n",
              "    .colab-df-convert:hover {\n",
              "      background-color: #E2EBFA;\n",
              "      box-shadow: 0px 1px 2px rgba(60, 64, 67, 0.3), 0px 1px 3px 1px rgba(60, 64, 67, 0.15);\n",
              "      fill: #174EA6;\n",
              "    }\n",
              "\n",
              "    [theme=dark] .colab-df-convert {\n",
              "      background-color: #3B4455;\n",
              "      fill: #D2E3FC;\n",
              "    }\n",
              "\n",
              "    [theme=dark] .colab-df-convert:hover {\n",
              "      background-color: #434B5C;\n",
              "      box-shadow: 0px 1px 3px 1px rgba(0, 0, 0, 0.15);\n",
              "      filter: drop-shadow(0px 1px 2px rgba(0, 0, 0, 0.3));\n",
              "      fill: #FFFFFF;\n",
              "    }\n",
              "  </style>\n",
              "\n",
              "      <script>\n",
              "        const buttonEl =\n",
              "          document.querySelector('#df-5686659e-6327-4add-9cdb-56750c26ef1f button.colab-df-convert');\n",
              "        buttonEl.style.display =\n",
              "          google.colab.kernel.accessAllowed ? 'block' : 'none';\n",
              "\n",
              "        async function convertToInteractive(key) {\n",
              "          const element = document.querySelector('#df-5686659e-6327-4add-9cdb-56750c26ef1f');\n",
              "          const dataTable =\n",
              "            await google.colab.kernel.invokeFunction('convertToInteractive',\n",
              "                                                     [key], {});\n",
              "          if (!dataTable) return;\n",
              "\n",
              "          const docLinkHtml = 'Like what you see? Visit the ' +\n",
              "            '<a target=\"_blank\" href=https://colab.research.google.com/notebooks/data_table.ipynb>data table notebook</a>'\n",
              "            + ' to learn more about interactive tables.';\n",
              "          element.innerHTML = '';\n",
              "          dataTable['output_type'] = 'display_data';\n",
              "          await google.colab.output.renderOutput(dataTable, element);\n",
              "          const docLink = document.createElement('div');\n",
              "          docLink.innerHTML = docLinkHtml;\n",
              "          element.appendChild(docLink);\n",
              "        }\n",
              "      </script>\n",
              "    </div>\n",
              "  </div>\n",
              "  "
            ]
          },
          "metadata": {},
          "execution_count": 195
        }
      ]
    },
    {
      "cell_type": "markdown",
      "source": [
        "Redes recorrentes:\n",
        "* LSTM: https://pytorch.org/docs/stable/generated/torch.nn.LSTM.html#torch.nn.LSTM\n",
        "* GRU: https://pytorch.org/docs/stable/generated/torch.nn.GRU.html#torch.nn.GRU\n"
      ],
      "metadata": {
        "id": "_KEfGmRQmahI"
      }
    }
  ]
}